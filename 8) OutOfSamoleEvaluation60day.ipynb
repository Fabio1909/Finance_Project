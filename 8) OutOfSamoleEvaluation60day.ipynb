{
 "cells": [
  {
   "cell_type": "code",
   "execution_count": 1,
   "id": "e9ff9731-222e-4ccd-8d3e-1b8aa1720c9f",
   "metadata": {},
   "outputs": [],
   "source": [
    "import os\n",
    "import sys\n",
    "import cv2\n",
    "import numpy as np\n",
    "import matplotlib.pyplot as plt\n",
    "import pandas as pd\n",
    "from tqdm import tqdm\n",
    "from tabulate import tabulate"
   ]
  },
  {
   "cell_type": "markdown",
   "id": "f97f2cbe-6daa-4c17-a0d6-a8d4230e80d5",
   "metadata": {},
   "source": [
    "# CNN Methodology"
   ]
  },
  {
   "cell_type": "markdown",
   "id": "3221abae-7d29-4735-b039-78aefb63ce11",
   "metadata": {},
   "source": [
    "## Loading in data"
   ]
  },
  {
   "cell_type": "code",
   "execution_count": 2,
   "id": "552d848c-be72-46b0-9633-cb1a75d9de90",
   "metadata": {},
   "outputs": [],
   "source": [
    "csv_folder_dir = \"data/csv/out_of_sample/\"\n",
    "csv_list = [x for x in os.listdir(csv_folder_dir) if not x.startswith(\".\")]\n",
    "\n",
    "prices_df = None\n",
    "\n",
    "for csv_name in csv_list:\n",
    "    csv_dir = os.path.join(csv_folder_dir, csv_name)\n",
    "    current_df = pd.read_csv(csv_dir, \n",
    "                             usecols=['Date', 'Close'],\n",
    "                             parse_dates=['Date'])\n",
    "    current_df.rename(columns={'Close': f\"{csv_name[:-4]}\"}, inplace=True)\n",
    "    \n",
    "    # Merge the current DataFrame with the final DataFrame\n",
    "    if prices_df is None:\n",
    "        prices_df = current_df  # Initialize with the first DataFrame\n",
    "    else:\n",
    "        prices_df = pd.merge(prices_df, current_df, on='Date', how='outer')  # Merge on 'Date'    "
   ]
  },
  {
   "cell_type": "code",
   "execution_count": 3,
   "id": "c353f879-81c0-47e9-958e-2b073c41430f",
   "metadata": {},
   "outputs": [
    {
     "data": {
      "text/html": [
       "<div>\n",
       "<style scoped>\n",
       "    .dataframe tbody tr th:only-of-type {\n",
       "        vertical-align: middle;\n",
       "    }\n",
       "\n",
       "    .dataframe tbody tr th {\n",
       "        vertical-align: top;\n",
       "    }\n",
       "\n",
       "    .dataframe thead th {\n",
       "        text-align: right;\n",
       "    }\n",
       "</style>\n",
       "<table border=\"1\" class=\"dataframe\">\n",
       "  <thead>\n",
       "    <tr style=\"text-align: right;\">\n",
       "      <th></th>\n",
       "      <th>Date</th>\n",
       "      <th>CSCO</th>\n",
       "      <th>UAL</th>\n",
       "      <th>TROW</th>\n",
       "      <th>ISRG</th>\n",
       "      <th>NVR</th>\n",
       "      <th>TPR</th>\n",
       "      <th>DVN</th>\n",
       "      <th>CE</th>\n",
       "      <th>MRO</th>\n",
       "      <th>...</th>\n",
       "      <th>WM</th>\n",
       "      <th>DOV</th>\n",
       "      <th>CRM</th>\n",
       "      <th>PGR</th>\n",
       "      <th>WAT</th>\n",
       "      <th>IEX</th>\n",
       "      <th>BWA</th>\n",
       "      <th>LRCX</th>\n",
       "      <th>BLK</th>\n",
       "      <th>PPL</th>\n",
       "    </tr>\n",
       "  </thead>\n",
       "  <tbody>\n",
       "    <tr>\n",
       "      <th>0</th>\n",
       "      <td>2021-01-04</td>\n",
       "      <td>43.959999</td>\n",
       "      <td>41.630001</td>\n",
       "      <td>147.690002</td>\n",
       "      <td>266.666656</td>\n",
       "      <td>4040.649902</td>\n",
       "      <td>32.709999</td>\n",
       "      <td>16.129999</td>\n",
       "      <td>125.930000</td>\n",
       "      <td>6.83</td>\n",
       "      <td>...</td>\n",
       "      <td>114.830002</td>\n",
       "      <td>123.339996</td>\n",
       "      <td>220.309998</td>\n",
       "      <td>97.129997</td>\n",
       "      <td>250.149994</td>\n",
       "      <td>195.309998</td>\n",
       "      <td>33.503521</td>\n",
       "      <td>47.801998</td>\n",
       "      <td>710.820007</td>\n",
       "      <td>27.580000</td>\n",
       "    </tr>\n",
       "    <tr>\n",
       "      <th>1</th>\n",
       "      <td>2021-01-05</td>\n",
       "      <td>43.980000</td>\n",
       "      <td>43.400002</td>\n",
       "      <td>149.089996</td>\n",
       "      <td>268.350006</td>\n",
       "      <td>4008.909912</td>\n",
       "      <td>32.520000</td>\n",
       "      <td>17.360001</td>\n",
       "      <td>131.600006</td>\n",
       "      <td>7.45</td>\n",
       "      <td>...</td>\n",
       "      <td>115.209999</td>\n",
       "      <td>124.059998</td>\n",
       "      <td>221.520004</td>\n",
       "      <td>96.949997</td>\n",
       "      <td>255.429993</td>\n",
       "      <td>194.929993</td>\n",
       "      <td>34.295776</td>\n",
       "      <td>49.455002</td>\n",
       "      <td>714.580017</td>\n",
       "      <td>27.610001</td>\n",
       "    </tr>\n",
       "    <tr>\n",
       "      <th>2</th>\n",
       "      <td>2021-01-06</td>\n",
       "      <td>44.400002</td>\n",
       "      <td>43.540001</td>\n",
       "      <td>151.529999</td>\n",
       "      <td>264.263336</td>\n",
       "      <td>3966.489990</td>\n",
       "      <td>34.320000</td>\n",
       "      <td>18.320000</td>\n",
       "      <td>136.550003</td>\n",
       "      <td>7.50</td>\n",
       "      <td>...</td>\n",
       "      <td>117.760002</td>\n",
       "      <td>127.559998</td>\n",
       "      <td>216.149994</td>\n",
       "      <td>98.790001</td>\n",
       "      <td>262.470001</td>\n",
       "      <td>202.179993</td>\n",
       "      <td>35.360916</td>\n",
       "      <td>49.648998</td>\n",
       "      <td>734.960022</td>\n",
       "      <td>28.110001</td>\n",
       "    </tr>\n",
       "  </tbody>\n",
       "</table>\n",
       "<p>3 rows × 502 columns</p>\n",
       "</div>"
      ],
      "text/plain": [
       "        Date       CSCO        UAL        TROW        ISRG          NVR  \\\n",
       "0 2021-01-04  43.959999  41.630001  147.690002  266.666656  4040.649902   \n",
       "1 2021-01-05  43.980000  43.400002  149.089996  268.350006  4008.909912   \n",
       "2 2021-01-06  44.400002  43.540001  151.529999  264.263336  3966.489990   \n",
       "\n",
       "         TPR        DVN          CE   MRO  ...          WM         DOV  \\\n",
       "0  32.709999  16.129999  125.930000  6.83  ...  114.830002  123.339996   \n",
       "1  32.520000  17.360001  131.600006  7.45  ...  115.209999  124.059998   \n",
       "2  34.320000  18.320000  136.550003  7.50  ...  117.760002  127.559998   \n",
       "\n",
       "          CRM        PGR         WAT         IEX        BWA       LRCX  \\\n",
       "0  220.309998  97.129997  250.149994  195.309998  33.503521  47.801998   \n",
       "1  221.520004  96.949997  255.429993  194.929993  34.295776  49.455002   \n",
       "2  216.149994  98.790001  262.470001  202.179993  35.360916  49.648998   \n",
       "\n",
       "          BLK        PPL  \n",
       "0  710.820007  27.580000  \n",
       "1  714.580017  27.610001  \n",
       "2  734.960022  28.110001  \n",
       "\n",
       "[3 rows x 502 columns]"
      ]
     },
     "execution_count": 3,
     "metadata": {},
     "output_type": "execute_result"
    }
   ],
   "source": [
    "prices_df.head(3)"
   ]
  },
  {
   "cell_type": "markdown",
   "id": "1293c048-9373-4d2f-a03c-f2794dc89d89",
   "metadata": {},
   "source": [
    "## Use model to infer on out of sample images"
   ]
  },
  {
   "cell_type": "code",
   "execution_count": 4,
   "id": "32ecd7ed-aeef-44d3-895e-8222d896d8e5",
   "metadata": {},
   "outputs": [
    {
     "name": "stderr",
     "output_type": "stream",
     "text": [
      "2024-12-02 23:17:55.924315: I metal_plugin/src/device/metal_device.cc:1154] Metal device set to: Apple M1 Pro\n",
      "2024-12-02 23:17:55.924339: I metal_plugin/src/device/metal_device.cc:296] systemMemory: 16.00 GB\n",
      "2024-12-02 23:17:55.924344: I metal_plugin/src/device/metal_device.cc:313] maxCacheSize: 5.33 GB\n",
      "2024-12-02 23:17:55.924379: I tensorflow/core/common_runtime/pluggable_device/pluggable_device_factory.cc:305] Could not identify NUMA node of platform GPU ID 0, defaulting to 0. Your kernel may not have been built with NUMA support.\n",
      "2024-12-02 23:17:55.924391: I tensorflow/core/common_runtime/pluggable_device/pluggable_device_factory.cc:271] Created TensorFlow device (/job:localhost/replica:0/task:0/device:GPU:0 with 0 MB memory) -> physical PluggableDevice (device: 0, name: METAL, pci bus id: <undefined>)\n"
     ]
    },
    {
     "data": {
      "text/html": [
       "<pre style=\"white-space:pre;overflow-x:auto;line-height:normal;font-family:Menlo,'DejaVu Sans Mono',consolas,'Courier New',monospace\"><span style=\"font-weight: bold\">Model: \"sequential\"</span>\n",
       "</pre>\n"
      ],
      "text/plain": [
       "\u001b[1mModel: \"sequential\"\u001b[0m\n"
      ]
     },
     "metadata": {},
     "output_type": "display_data"
    },
    {
     "data": {
      "text/html": [
       "<pre style=\"white-space:pre;overflow-x:auto;line-height:normal;font-family:Menlo,'DejaVu Sans Mono',consolas,'Courier New',monospace\">┏━━━━━━━━━━━━━━━━━━━━━━━━━━━━━━━━━┳━━━━━━━━━━━━━━━━━━━━━━━━┳━━━━━━━━━━━━━━━┓\n",
       "┃<span style=\"font-weight: bold\"> Layer (type)                    </span>┃<span style=\"font-weight: bold\"> Output Shape           </span>┃<span style=\"font-weight: bold\">       Param # </span>┃\n",
       "┡━━━━━━━━━━━━━━━━━━━━━━━━━━━━━━━━━╇━━━━━━━━━━━━━━━━━━━━━━━━╇━━━━━━━━━━━━━━━┩\n",
       "│ conv2d (<span style=\"color: #0087ff; text-decoration-color: #0087ff\">Conv2D</span>)                 │ (<span style=\"color: #00d7ff; text-decoration-color: #00d7ff\">None</span>, <span style=\"color: #00af00; text-decoration-color: #00af00\">96</span>, <span style=\"color: #00af00; text-decoration-color: #00af00\">180</span>, <span style=\"color: #00af00; text-decoration-color: #00af00\">64</span>)    │         <span style=\"color: #00af00; text-decoration-color: #00af00\">1,024</span> │\n",
       "├─────────────────────────────────┼────────────────────────┼───────────────┤\n",
       "│ batch_normalization             │ (<span style=\"color: #00d7ff; text-decoration-color: #00d7ff\">None</span>, <span style=\"color: #00af00; text-decoration-color: #00af00\">96</span>, <span style=\"color: #00af00; text-decoration-color: #00af00\">180</span>, <span style=\"color: #00af00; text-decoration-color: #00af00\">64</span>)    │           <span style=\"color: #00af00; text-decoration-color: #00af00\">256</span> │\n",
       "│ (<span style=\"color: #0087ff; text-decoration-color: #0087ff\">BatchNormalization</span>)            │                        │               │\n",
       "├─────────────────────────────────┼────────────────────────┼───────────────┤\n",
       "│ leaky_re_lu (<span style=\"color: #0087ff; text-decoration-color: #0087ff\">LeakyReLU</span>)         │ (<span style=\"color: #00d7ff; text-decoration-color: #00d7ff\">None</span>, <span style=\"color: #00af00; text-decoration-color: #00af00\">96</span>, <span style=\"color: #00af00; text-decoration-color: #00af00\">180</span>, <span style=\"color: #00af00; text-decoration-color: #00af00\">64</span>)    │             <span style=\"color: #00af00; text-decoration-color: #00af00\">0</span> │\n",
       "├─────────────────────────────────┼────────────────────────┼───────────────┤\n",
       "│ max_pooling2d (<span style=\"color: #0087ff; text-decoration-color: #0087ff\">MaxPooling2D</span>)    │ (<span style=\"color: #00d7ff; text-decoration-color: #00d7ff\">None</span>, <span style=\"color: #00af00; text-decoration-color: #00af00\">32</span>, <span style=\"color: #00af00; text-decoration-color: #00af00\">180</span>, <span style=\"color: #00af00; text-decoration-color: #00af00\">64</span>)    │             <span style=\"color: #00af00; text-decoration-color: #00af00\">0</span> │\n",
       "├─────────────────────────────────┼────────────────────────┼───────────────┤\n",
       "│ conv2d_1 (<span style=\"color: #0087ff; text-decoration-color: #0087ff\">Conv2D</span>)               │ (<span style=\"color: #00d7ff; text-decoration-color: #00d7ff\">None</span>, <span style=\"color: #00af00; text-decoration-color: #00af00\">32</span>, <span style=\"color: #00af00; text-decoration-color: #00af00\">180</span>, <span style=\"color: #00af00; text-decoration-color: #00af00\">128</span>)   │       <span style=\"color: #00af00; text-decoration-color: #00af00\">123,008</span> │\n",
       "├─────────────────────────────────┼────────────────────────┼───────────────┤\n",
       "│ batch_normalization_1           │ (<span style=\"color: #00d7ff; text-decoration-color: #00d7ff\">None</span>, <span style=\"color: #00af00; text-decoration-color: #00af00\">32</span>, <span style=\"color: #00af00; text-decoration-color: #00af00\">180</span>, <span style=\"color: #00af00; text-decoration-color: #00af00\">128</span>)   │           <span style=\"color: #00af00; text-decoration-color: #00af00\">512</span> │\n",
       "│ (<span style=\"color: #0087ff; text-decoration-color: #0087ff\">BatchNormalization</span>)            │                        │               │\n",
       "├─────────────────────────────────┼────────────────────────┼───────────────┤\n",
       "│ leaky_re_lu_1 (<span style=\"color: #0087ff; text-decoration-color: #0087ff\">LeakyReLU</span>)       │ (<span style=\"color: #00d7ff; text-decoration-color: #00d7ff\">None</span>, <span style=\"color: #00af00; text-decoration-color: #00af00\">32</span>, <span style=\"color: #00af00; text-decoration-color: #00af00\">180</span>, <span style=\"color: #00af00; text-decoration-color: #00af00\">128</span>)   │             <span style=\"color: #00af00; text-decoration-color: #00af00\">0</span> │\n",
       "├─────────────────────────────────┼────────────────────────┼───────────────┤\n",
       "│ max_pooling2d_1 (<span style=\"color: #0087ff; text-decoration-color: #0087ff\">MaxPooling2D</span>)  │ (<span style=\"color: #00d7ff; text-decoration-color: #00d7ff\">None</span>, <span style=\"color: #00af00; text-decoration-color: #00af00\">16</span>, <span style=\"color: #00af00; text-decoration-color: #00af00\">180</span>, <span style=\"color: #00af00; text-decoration-color: #00af00\">128</span>)   │             <span style=\"color: #00af00; text-decoration-color: #00af00\">0</span> │\n",
       "├─────────────────────────────────┼────────────────────────┼───────────────┤\n",
       "│ conv2d_2 (<span style=\"color: #0087ff; text-decoration-color: #0087ff\">Conv2D</span>)               │ (<span style=\"color: #00d7ff; text-decoration-color: #00d7ff\">None</span>, <span style=\"color: #00af00; text-decoration-color: #00af00\">16</span>, <span style=\"color: #00af00; text-decoration-color: #00af00\">180</span>, <span style=\"color: #00af00; text-decoration-color: #00af00\">256</span>)   │       <span style=\"color: #00af00; text-decoration-color: #00af00\">491,776</span> │\n",
       "├─────────────────────────────────┼────────────────────────┼───────────────┤\n",
       "│ batch_normalization_2           │ (<span style=\"color: #00d7ff; text-decoration-color: #00d7ff\">None</span>, <span style=\"color: #00af00; text-decoration-color: #00af00\">16</span>, <span style=\"color: #00af00; text-decoration-color: #00af00\">180</span>, <span style=\"color: #00af00; text-decoration-color: #00af00\">256</span>)   │         <span style=\"color: #00af00; text-decoration-color: #00af00\">1,024</span> │\n",
       "│ (<span style=\"color: #0087ff; text-decoration-color: #0087ff\">BatchNormalization</span>)            │                        │               │\n",
       "├─────────────────────────────────┼────────────────────────┼───────────────┤\n",
       "│ leaky_re_lu_2 (<span style=\"color: #0087ff; text-decoration-color: #0087ff\">LeakyReLU</span>)       │ (<span style=\"color: #00d7ff; text-decoration-color: #00d7ff\">None</span>, <span style=\"color: #00af00; text-decoration-color: #00af00\">16</span>, <span style=\"color: #00af00; text-decoration-color: #00af00\">180</span>, <span style=\"color: #00af00; text-decoration-color: #00af00\">256</span>)   │             <span style=\"color: #00af00; text-decoration-color: #00af00\">0</span> │\n",
       "├─────────────────────────────────┼────────────────────────┼───────────────┤\n",
       "│ max_pooling2d_2 (<span style=\"color: #0087ff; text-decoration-color: #0087ff\">MaxPooling2D</span>)  │ (<span style=\"color: #00d7ff; text-decoration-color: #00d7ff\">None</span>, <span style=\"color: #00af00; text-decoration-color: #00af00\">8</span>, <span style=\"color: #00af00; text-decoration-color: #00af00\">180</span>, <span style=\"color: #00af00; text-decoration-color: #00af00\">256</span>)    │             <span style=\"color: #00af00; text-decoration-color: #00af00\">0</span> │\n",
       "├─────────────────────────────────┼────────────────────────┼───────────────┤\n",
       "│ conv2d_3 (<span style=\"color: #0087ff; text-decoration-color: #0087ff\">Conv2D</span>)               │ (<span style=\"color: #00d7ff; text-decoration-color: #00d7ff\">None</span>, <span style=\"color: #00af00; text-decoration-color: #00af00\">8</span>, <span style=\"color: #00af00; text-decoration-color: #00af00\">180</span>, <span style=\"color: #00af00; text-decoration-color: #00af00\">512</span>)    │     <span style=\"color: #00af00; text-decoration-color: #00af00\">1,966,592</span> │\n",
       "├─────────────────────────────────┼────────────────────────┼───────────────┤\n",
       "│ batch_normalization_3           │ (<span style=\"color: #00d7ff; text-decoration-color: #00d7ff\">None</span>, <span style=\"color: #00af00; text-decoration-color: #00af00\">8</span>, <span style=\"color: #00af00; text-decoration-color: #00af00\">180</span>, <span style=\"color: #00af00; text-decoration-color: #00af00\">512</span>)    │         <span style=\"color: #00af00; text-decoration-color: #00af00\">2,048</span> │\n",
       "│ (<span style=\"color: #0087ff; text-decoration-color: #0087ff\">BatchNormalization</span>)            │                        │               │\n",
       "├─────────────────────────────────┼────────────────────────┼───────────────┤\n",
       "│ leaky_re_lu_3 (<span style=\"color: #0087ff; text-decoration-color: #0087ff\">LeakyReLU</span>)       │ (<span style=\"color: #00d7ff; text-decoration-color: #00d7ff\">None</span>, <span style=\"color: #00af00; text-decoration-color: #00af00\">8</span>, <span style=\"color: #00af00; text-decoration-color: #00af00\">180</span>, <span style=\"color: #00af00; text-decoration-color: #00af00\">512</span>)    │             <span style=\"color: #00af00; text-decoration-color: #00af00\">0</span> │\n",
       "├─────────────────────────────────┼────────────────────────┼───────────────┤\n",
       "│ max_pooling2d_3 (<span style=\"color: #0087ff; text-decoration-color: #0087ff\">MaxPooling2D</span>)  │ (<span style=\"color: #00d7ff; text-decoration-color: #00d7ff\">None</span>, <span style=\"color: #00af00; text-decoration-color: #00af00\">4</span>, <span style=\"color: #00af00; text-decoration-color: #00af00\">180</span>, <span style=\"color: #00af00; text-decoration-color: #00af00\">512</span>)    │             <span style=\"color: #00af00; text-decoration-color: #00af00\">0</span> │\n",
       "├─────────────────────────────────┼────────────────────────┼───────────────┤\n",
       "│ flatten (<span style=\"color: #0087ff; text-decoration-color: #0087ff\">Flatten</span>)               │ (<span style=\"color: #00d7ff; text-decoration-color: #00d7ff\">None</span>, <span style=\"color: #00af00; text-decoration-color: #00af00\">368640</span>)         │             <span style=\"color: #00af00; text-decoration-color: #00af00\">0</span> │\n",
       "├─────────────────────────────────┼────────────────────────┼───────────────┤\n",
       "│ dense (<span style=\"color: #0087ff; text-decoration-color: #0087ff\">Dense</span>)                   │ (<span style=\"color: #00d7ff; text-decoration-color: #00d7ff\">None</span>, <span style=\"color: #00af00; text-decoration-color: #00af00\">1</span>)              │       <span style=\"color: #00af00; text-decoration-color: #00af00\">368,641</span> │\n",
       "├─────────────────────────────────┼────────────────────────┼───────────────┤\n",
       "│ dropout (<span style=\"color: #0087ff; text-decoration-color: #0087ff\">Dropout</span>)               │ (<span style=\"color: #00d7ff; text-decoration-color: #00d7ff\">None</span>, <span style=\"color: #00af00; text-decoration-color: #00af00\">1</span>)              │             <span style=\"color: #00af00; text-decoration-color: #00af00\">0</span> │\n",
       "├─────────────────────────────────┼────────────────────────┼───────────────┤\n",
       "│ activation (<span style=\"color: #0087ff; text-decoration-color: #0087ff\">Activation</span>)         │ (<span style=\"color: #00d7ff; text-decoration-color: #00d7ff\">None</span>, <span style=\"color: #00af00; text-decoration-color: #00af00\">1</span>)              │             <span style=\"color: #00af00; text-decoration-color: #00af00\">0</span> │\n",
       "└─────────────────────────────────┴────────────────────────┴───────────────┘\n",
       "</pre>\n"
      ],
      "text/plain": [
       "┏━━━━━━━━━━━━━━━━━━━━━━━━━━━━━━━━━┳━━━━━━━━━━━━━━━━━━━━━━━━┳━━━━━━━━━━━━━━━┓\n",
       "┃\u001b[1m \u001b[0m\u001b[1mLayer (type)                   \u001b[0m\u001b[1m \u001b[0m┃\u001b[1m \u001b[0m\u001b[1mOutput Shape          \u001b[0m\u001b[1m \u001b[0m┃\u001b[1m \u001b[0m\u001b[1m      Param #\u001b[0m\u001b[1m \u001b[0m┃\n",
       "┡━━━━━━━━━━━━━━━━━━━━━━━━━━━━━━━━━╇━━━━━━━━━━━━━━━━━━━━━━━━╇━━━━━━━━━━━━━━━┩\n",
       "│ conv2d (\u001b[38;5;33mConv2D\u001b[0m)                 │ (\u001b[38;5;45mNone\u001b[0m, \u001b[38;5;34m96\u001b[0m, \u001b[38;5;34m180\u001b[0m, \u001b[38;5;34m64\u001b[0m)    │         \u001b[38;5;34m1,024\u001b[0m │\n",
       "├─────────────────────────────────┼────────────────────────┼───────────────┤\n",
       "│ batch_normalization             │ (\u001b[38;5;45mNone\u001b[0m, \u001b[38;5;34m96\u001b[0m, \u001b[38;5;34m180\u001b[0m, \u001b[38;5;34m64\u001b[0m)    │           \u001b[38;5;34m256\u001b[0m │\n",
       "│ (\u001b[38;5;33mBatchNormalization\u001b[0m)            │                        │               │\n",
       "├─────────────────────────────────┼────────────────────────┼───────────────┤\n",
       "│ leaky_re_lu (\u001b[38;5;33mLeakyReLU\u001b[0m)         │ (\u001b[38;5;45mNone\u001b[0m, \u001b[38;5;34m96\u001b[0m, \u001b[38;5;34m180\u001b[0m, \u001b[38;5;34m64\u001b[0m)    │             \u001b[38;5;34m0\u001b[0m │\n",
       "├─────────────────────────────────┼────────────────────────┼───────────────┤\n",
       "│ max_pooling2d (\u001b[38;5;33mMaxPooling2D\u001b[0m)    │ (\u001b[38;5;45mNone\u001b[0m, \u001b[38;5;34m32\u001b[0m, \u001b[38;5;34m180\u001b[0m, \u001b[38;5;34m64\u001b[0m)    │             \u001b[38;5;34m0\u001b[0m │\n",
       "├─────────────────────────────────┼────────────────────────┼───────────────┤\n",
       "│ conv2d_1 (\u001b[38;5;33mConv2D\u001b[0m)               │ (\u001b[38;5;45mNone\u001b[0m, \u001b[38;5;34m32\u001b[0m, \u001b[38;5;34m180\u001b[0m, \u001b[38;5;34m128\u001b[0m)   │       \u001b[38;5;34m123,008\u001b[0m │\n",
       "├─────────────────────────────────┼────────────────────────┼───────────────┤\n",
       "│ batch_normalization_1           │ (\u001b[38;5;45mNone\u001b[0m, \u001b[38;5;34m32\u001b[0m, \u001b[38;5;34m180\u001b[0m, \u001b[38;5;34m128\u001b[0m)   │           \u001b[38;5;34m512\u001b[0m │\n",
       "│ (\u001b[38;5;33mBatchNormalization\u001b[0m)            │                        │               │\n",
       "├─────────────────────────────────┼────────────────────────┼───────────────┤\n",
       "│ leaky_re_lu_1 (\u001b[38;5;33mLeakyReLU\u001b[0m)       │ (\u001b[38;5;45mNone\u001b[0m, \u001b[38;5;34m32\u001b[0m, \u001b[38;5;34m180\u001b[0m, \u001b[38;5;34m128\u001b[0m)   │             \u001b[38;5;34m0\u001b[0m │\n",
       "├─────────────────────────────────┼────────────────────────┼───────────────┤\n",
       "│ max_pooling2d_1 (\u001b[38;5;33mMaxPooling2D\u001b[0m)  │ (\u001b[38;5;45mNone\u001b[0m, \u001b[38;5;34m16\u001b[0m, \u001b[38;5;34m180\u001b[0m, \u001b[38;5;34m128\u001b[0m)   │             \u001b[38;5;34m0\u001b[0m │\n",
       "├─────────────────────────────────┼────────────────────────┼───────────────┤\n",
       "│ conv2d_2 (\u001b[38;5;33mConv2D\u001b[0m)               │ (\u001b[38;5;45mNone\u001b[0m, \u001b[38;5;34m16\u001b[0m, \u001b[38;5;34m180\u001b[0m, \u001b[38;5;34m256\u001b[0m)   │       \u001b[38;5;34m491,776\u001b[0m │\n",
       "├─────────────────────────────────┼────────────────────────┼───────────────┤\n",
       "│ batch_normalization_2           │ (\u001b[38;5;45mNone\u001b[0m, \u001b[38;5;34m16\u001b[0m, \u001b[38;5;34m180\u001b[0m, \u001b[38;5;34m256\u001b[0m)   │         \u001b[38;5;34m1,024\u001b[0m │\n",
       "│ (\u001b[38;5;33mBatchNormalization\u001b[0m)            │                        │               │\n",
       "├─────────────────────────────────┼────────────────────────┼───────────────┤\n",
       "│ leaky_re_lu_2 (\u001b[38;5;33mLeakyReLU\u001b[0m)       │ (\u001b[38;5;45mNone\u001b[0m, \u001b[38;5;34m16\u001b[0m, \u001b[38;5;34m180\u001b[0m, \u001b[38;5;34m256\u001b[0m)   │             \u001b[38;5;34m0\u001b[0m │\n",
       "├─────────────────────────────────┼────────────────────────┼───────────────┤\n",
       "│ max_pooling2d_2 (\u001b[38;5;33mMaxPooling2D\u001b[0m)  │ (\u001b[38;5;45mNone\u001b[0m, \u001b[38;5;34m8\u001b[0m, \u001b[38;5;34m180\u001b[0m, \u001b[38;5;34m256\u001b[0m)    │             \u001b[38;5;34m0\u001b[0m │\n",
       "├─────────────────────────────────┼────────────────────────┼───────────────┤\n",
       "│ conv2d_3 (\u001b[38;5;33mConv2D\u001b[0m)               │ (\u001b[38;5;45mNone\u001b[0m, \u001b[38;5;34m8\u001b[0m, \u001b[38;5;34m180\u001b[0m, \u001b[38;5;34m512\u001b[0m)    │     \u001b[38;5;34m1,966,592\u001b[0m │\n",
       "├─────────────────────────────────┼────────────────────────┼───────────────┤\n",
       "│ batch_normalization_3           │ (\u001b[38;5;45mNone\u001b[0m, \u001b[38;5;34m8\u001b[0m, \u001b[38;5;34m180\u001b[0m, \u001b[38;5;34m512\u001b[0m)    │         \u001b[38;5;34m2,048\u001b[0m │\n",
       "│ (\u001b[38;5;33mBatchNormalization\u001b[0m)            │                        │               │\n",
       "├─────────────────────────────────┼────────────────────────┼───────────────┤\n",
       "│ leaky_re_lu_3 (\u001b[38;5;33mLeakyReLU\u001b[0m)       │ (\u001b[38;5;45mNone\u001b[0m, \u001b[38;5;34m8\u001b[0m, \u001b[38;5;34m180\u001b[0m, \u001b[38;5;34m512\u001b[0m)    │             \u001b[38;5;34m0\u001b[0m │\n",
       "├─────────────────────────────────┼────────────────────────┼───────────────┤\n",
       "│ max_pooling2d_3 (\u001b[38;5;33mMaxPooling2D\u001b[0m)  │ (\u001b[38;5;45mNone\u001b[0m, \u001b[38;5;34m4\u001b[0m, \u001b[38;5;34m180\u001b[0m, \u001b[38;5;34m512\u001b[0m)    │             \u001b[38;5;34m0\u001b[0m │\n",
       "├─────────────────────────────────┼────────────────────────┼───────────────┤\n",
       "│ flatten (\u001b[38;5;33mFlatten\u001b[0m)               │ (\u001b[38;5;45mNone\u001b[0m, \u001b[38;5;34m368640\u001b[0m)         │             \u001b[38;5;34m0\u001b[0m │\n",
       "├─────────────────────────────────┼────────────────────────┼───────────────┤\n",
       "│ dense (\u001b[38;5;33mDense\u001b[0m)                   │ (\u001b[38;5;45mNone\u001b[0m, \u001b[38;5;34m1\u001b[0m)              │       \u001b[38;5;34m368,641\u001b[0m │\n",
       "├─────────────────────────────────┼────────────────────────┼───────────────┤\n",
       "│ dropout (\u001b[38;5;33mDropout\u001b[0m)               │ (\u001b[38;5;45mNone\u001b[0m, \u001b[38;5;34m1\u001b[0m)              │             \u001b[38;5;34m0\u001b[0m │\n",
       "├─────────────────────────────────┼────────────────────────┼───────────────┤\n",
       "│ activation (\u001b[38;5;33mActivation\u001b[0m)         │ (\u001b[38;5;45mNone\u001b[0m, \u001b[38;5;34m1\u001b[0m)              │             \u001b[38;5;34m0\u001b[0m │\n",
       "└─────────────────────────────────┴────────────────────────┴───────────────┘\n"
      ]
     },
     "metadata": {},
     "output_type": "display_data"
    },
    {
     "data": {
      "text/html": [
       "<pre style=\"white-space:pre;overflow-x:auto;line-height:normal;font-family:Menlo,'DejaVu Sans Mono',consolas,'Courier New',monospace\"><span style=\"font-weight: bold\"> Total params: </span><span style=\"color: #00af00; text-decoration-color: #00af00\">8,860,805</span> (33.80 MB)\n",
       "</pre>\n"
      ],
      "text/plain": [
       "\u001b[1m Total params: \u001b[0m\u001b[38;5;34m8,860,805\u001b[0m (33.80 MB)\n"
      ]
     },
     "metadata": {},
     "output_type": "display_data"
    },
    {
     "data": {
      "text/html": [
       "<pre style=\"white-space:pre;overflow-x:auto;line-height:normal;font-family:Menlo,'DejaVu Sans Mono',consolas,'Courier New',monospace\"><span style=\"font-weight: bold\"> Trainable params: </span><span style=\"color: #00af00; text-decoration-color: #00af00\">2,952,961</span> (11.26 MB)\n",
       "</pre>\n"
      ],
      "text/plain": [
       "\u001b[1m Trainable params: \u001b[0m\u001b[38;5;34m2,952,961\u001b[0m (11.26 MB)\n"
      ]
     },
     "metadata": {},
     "output_type": "display_data"
    },
    {
     "data": {
      "text/html": [
       "<pre style=\"white-space:pre;overflow-x:auto;line-height:normal;font-family:Menlo,'DejaVu Sans Mono',consolas,'Courier New',monospace\"><span style=\"font-weight: bold\"> Non-trainable params: </span><span style=\"color: #00af00; text-decoration-color: #00af00\">1,920</span> (7.50 KB)\n",
       "</pre>\n"
      ],
      "text/plain": [
       "\u001b[1m Non-trainable params: \u001b[0m\u001b[38;5;34m1,920\u001b[0m (7.50 KB)\n"
      ]
     },
     "metadata": {},
     "output_type": "display_data"
    },
    {
     "data": {
      "text/html": [
       "<pre style=\"white-space:pre;overflow-x:auto;line-height:normal;font-family:Menlo,'DejaVu Sans Mono',consolas,'Courier New',monospace\"><span style=\"font-weight: bold\"> Optimizer params: </span><span style=\"color: #00af00; text-decoration-color: #00af00\">5,905,924</span> (22.53 MB)\n",
       "</pre>\n"
      ],
      "text/plain": [
       "\u001b[1m Optimizer params: \u001b[0m\u001b[38;5;34m5,905,924\u001b[0m (22.53 MB)\n"
      ]
     },
     "metadata": {},
     "output_type": "display_data"
    }
   ],
   "source": [
    "from tensorflow.keras.models import load_model\n",
    "\n",
    "model = load_model(\"models/60-day.keras\")\n",
    "model.summary()"
   ]
  },
  {
   "cell_type": "code",
   "execution_count": 5,
   "id": "43ccaa26-df27-46db-a720-7b4aec1c4222",
   "metadata": {},
   "outputs": [
    {
     "name": "stderr",
     "output_type": "stream",
     "text": [
      "  0%|                                                                                                       | 0/489 [00:00<?, ?it/s]2024-12-02 23:17:56.537237: I tensorflow/core/grappler/optimizers/custom_graph_optimizer_registry.cc:117] Plugin optimizer for device_type GPU is enabled.\n",
      "100%|█████████████████████████████████████████████████████████████████████████████████████████████| 489/489 [00:44<00:00, 10.98it/s]"
     ]
    },
    {
     "name": "stdout",
     "output_type": "stream",
     "text": [
      "CPU times: user 14.7 s, sys: 8.21 s, total: 22.9 s\n",
      "Wall time: 44.6 s\n"
     ]
    },
    {
     "name": "stderr",
     "output_type": "stream",
     "text": [
      "\n"
     ]
    }
   ],
   "source": [
    "%%time\n",
    "image_dir = \"data/images_small/out_of_sample/60-day/\"\n",
    "dirist = [x for x in os.listdir(image_dir) if not x.startswith(\".\")]\n",
    "predictions_dict = {}\n",
    "for folder_name in tqdm(dirist):\n",
    "    folder_dir = os.path.join(image_dir, folder_name)\n",
    "    current_images = []\n",
    "    # load images\n",
    "    for file_name in os.listdir(folder_dir):\n",
    "        file_dir = os.path.join(folder_dir, file_name)\n",
    "        img = cv2.imread(file_dir, cv2.IMREAD_GRAYSCALE)\n",
    "        current_images.append(img)\n",
    "    # get model prediction\n",
    "    current_images = np.array(current_images)\n",
    "    current_predictions = model.predict(current_images, verbose=0).flatten()\n",
    "    predictions_dict[folder_name] = current_predictions\n",
    "\n",
    "#-------------\n",
    "predictions_df = pd.DataFrame(predictions_dict)\n",
    "\n",
    "del model"
   ]
  },
  {
   "cell_type": "code",
   "execution_count": 6,
   "id": "5a324034-200e-4062-b9df-6a2589459760",
   "metadata": {},
   "outputs": [
    {
     "data": {
      "text/html": [
       "<div>\n",
       "<style scoped>\n",
       "    .dataframe tbody tr th:only-of-type {\n",
       "        vertical-align: middle;\n",
       "    }\n",
       "\n",
       "    .dataframe tbody tr th {\n",
       "        vertical-align: top;\n",
       "    }\n",
       "\n",
       "    .dataframe thead th {\n",
       "        text-align: right;\n",
       "    }\n",
       "</style>\n",
       "<table border=\"1\" class=\"dataframe\">\n",
       "  <thead>\n",
       "    <tr style=\"text-align: right;\">\n",
       "      <th></th>\n",
       "      <th>CTAS</th>\n",
       "      <th>WELL</th>\n",
       "      <th>VZ</th>\n",
       "      <th>AMZN</th>\n",
       "      <th>CNP</th>\n",
       "      <th>RCL</th>\n",
       "      <th>CAT</th>\n",
       "      <th>TFC</th>\n",
       "      <th>AAPL</th>\n",
       "      <th>PANW</th>\n",
       "      <th>...</th>\n",
       "      <th>EXPE</th>\n",
       "      <th>HUM</th>\n",
       "      <th>HST</th>\n",
       "      <th>NVR</th>\n",
       "      <th>STT</th>\n",
       "      <th>CCI</th>\n",
       "      <th>SCHW</th>\n",
       "      <th>STZ</th>\n",
       "      <th>MSCI</th>\n",
       "      <th>GLW</th>\n",
       "    </tr>\n",
       "  </thead>\n",
       "  <tbody>\n",
       "    <tr>\n",
       "      <th>60</th>\n",
       "      <td>0.689468</td>\n",
       "      <td>0.395064</td>\n",
       "      <td>0.103303</td>\n",
       "      <td>0.498411</td>\n",
       "      <td>0.548489</td>\n",
       "      <td>0.460255</td>\n",
       "      <td>0.380563</td>\n",
       "      <td>0.448737</td>\n",
       "      <td>0.720263</td>\n",
       "      <td>0.741212</td>\n",
       "      <td>...</td>\n",
       "      <td>0.482520</td>\n",
       "      <td>0.635263</td>\n",
       "      <td>0.661687</td>\n",
       "      <td>0.439215</td>\n",
       "      <td>0.468722</td>\n",
       "      <td>0.556208</td>\n",
       "      <td>0.426316</td>\n",
       "      <td>0.376236</td>\n",
       "      <td>0.369940</td>\n",
       "      <td>0.398744</td>\n",
       "    </tr>\n",
       "    <tr>\n",
       "      <th>120</th>\n",
       "      <td>0.390582</td>\n",
       "      <td>0.310491</td>\n",
       "      <td>0.396847</td>\n",
       "      <td>0.507335</td>\n",
       "      <td>0.052511</td>\n",
       "      <td>0.594494</td>\n",
       "      <td>0.517154</td>\n",
       "      <td>0.565652</td>\n",
       "      <td>0.606552</td>\n",
       "      <td>0.174914</td>\n",
       "      <td>...</td>\n",
       "      <td>0.567587</td>\n",
       "      <td>0.364417</td>\n",
       "      <td>0.579999</td>\n",
       "      <td>0.558804</td>\n",
       "      <td>0.478388</td>\n",
       "      <td>0.682713</td>\n",
       "      <td>0.323823</td>\n",
       "      <td>0.518802</td>\n",
       "      <td>0.215183</td>\n",
       "      <td>0.559390</td>\n",
       "    </tr>\n",
       "    <tr>\n",
       "      <th>180</th>\n",
       "      <td>0.415384</td>\n",
       "      <td>0.620867</td>\n",
       "      <td>0.334339</td>\n",
       "      <td>0.538638</td>\n",
       "      <td>0.385683</td>\n",
       "      <td>0.521046</td>\n",
       "      <td>0.551358</td>\n",
       "      <td>0.679448</td>\n",
       "      <td>0.762148</td>\n",
       "      <td>0.538884</td>\n",
       "      <td>...</td>\n",
       "      <td>0.527549</td>\n",
       "      <td>0.792051</td>\n",
       "      <td>0.651112</td>\n",
       "      <td>0.035175</td>\n",
       "      <td>0.258627</td>\n",
       "      <td>0.494402</td>\n",
       "      <td>0.572844</td>\n",
       "      <td>0.428582</td>\n",
       "      <td>0.547452</td>\n",
       "      <td>0.561494</td>\n",
       "    </tr>\n",
       "  </tbody>\n",
       "</table>\n",
       "<p>3 rows × 489 columns</p>\n",
       "</div>"
      ],
      "text/plain": [
       "         CTAS      WELL        VZ      AMZN       CNP       RCL       CAT  \\\n",
       "60   0.689468  0.395064  0.103303  0.498411  0.548489  0.460255  0.380563   \n",
       "120  0.390582  0.310491  0.396847  0.507335  0.052511  0.594494  0.517154   \n",
       "180  0.415384  0.620867  0.334339  0.538638  0.385683  0.521046  0.551358   \n",
       "\n",
       "          TFC      AAPL      PANW  ...      EXPE       HUM       HST  \\\n",
       "60   0.448737  0.720263  0.741212  ...  0.482520  0.635263  0.661687   \n",
       "120  0.565652  0.606552  0.174914  ...  0.567587  0.364417  0.579999   \n",
       "180  0.679448  0.762148  0.538884  ...  0.527549  0.792051  0.651112   \n",
       "\n",
       "          NVR       STT       CCI      SCHW       STZ      MSCI       GLW  \n",
       "60   0.439215  0.468722  0.556208  0.426316  0.376236  0.369940  0.398744  \n",
       "120  0.558804  0.478388  0.682713  0.323823  0.518802  0.215183  0.559390  \n",
       "180  0.035175  0.258627  0.494402  0.572844  0.428582  0.547452  0.561494  \n",
       "\n",
       "[3 rows x 489 columns]"
      ]
     },
     "execution_count": 6,
     "metadata": {},
     "output_type": "execute_result"
    }
   ],
   "source": [
    "new_index = range(60, 60 * (len(predictions_df) + 1), 60)\n",
    "predictions_df.index = new_index\n",
    "predictions_df.head(3)"
   ]
  },
  {
   "cell_type": "markdown",
   "id": "cff589f6-1fd2-4d76-9495-4e7b56fabfa4",
   "metadata": {},
   "source": [
    "---\n",
    "### For the sake of clarity:\n",
    "- `predictions_df` --> One row in this df, represents the **probability to have a positive returns in the next time period** (in this case 5 days), its a probability that we calculate based on one week worth of data, and we know that the week starts at the index.\n",
    "\n",
    "*EXAMPLE:* So the first row of `predictions_df` has `index = 5`, so we know that it its the probability to have a positive returns in the time frame described from indeces `10` to `15` in the `prices_df`.\n",
    "> \n",
    "> `predictions_df.index(5)` is calculated based on `price_df.iloc[5:10]` and its the probability to have a positive return in the next 5 day window `price_df.iloc[10:15]`\n"
   ]
  },
  {
   "cell_type": "markdown",
   "id": "e55959d8-00c1-48a6-ae5d-cc0c336d904d",
   "metadata": {},
   "source": [
    "We start our simulation at index 10 of our price_df, we use only the information we have up untill that point and among all the firms in the sp500, we \n",
    "- **buy** the top decile with highest probability to have a positive return\n",
    "- **short** the bottome decile with the lowest probability to have a positive return\n",
    "\n",
    "(the top decile and bottom decile contain 50 companies each, since we have 500 of them)\n",
    "\n",
    "---"
   ]
  },
  {
   "cell_type": "code",
   "execution_count": 7,
   "id": "e0bdf36e-88e8-4d11-ab35-66a49271acd6",
   "metadata": {},
   "outputs": [
    {
     "name": "stderr",
     "output_type": "stream",
     "text": [
      "100%|██████████████████████████████████████████████████████████████████████████████████████████████| 14/14 [00:00<00:00, 262.09it/s]\n"
     ]
    }
   ],
   "source": [
    "window_size = 60\n",
    "long_returns = []\n",
    "short_returns = []\n",
    "for today in tqdm(range(60, len(prices_df) - 2 * window_size, 60)):\n",
    "    current_probabilities = predictions_df.loc[today]\n",
    "    \n",
    "    to_buy = list(current_probabilities.nlargest(50).index)\n",
    "    to_sell = list(current_probabilities.nsmallest(50).index)\n",
    "    \n",
    "    long_stocks = prices_df[to_buy].copy()\n",
    "    short_stocks = prices_df[to_sell].copy()\n",
    "    \n",
    "    long_pos_start = long_stocks.iloc[today + window_size]\n",
    "    long_pos_end = long_stocks.iloc[today + 2*window_size]\n",
    "    long_pos_diff = (long_pos_end - long_pos_start)/long_pos_start\n",
    "    \n",
    "    short_pos_start = short_stocks.iloc[today + window_size]\n",
    "    short_pos_end = short_stocks.iloc[today + 2*window_size]\n",
    "    short_pos_diff = -(short_pos_end - short_pos_start)/short_pos_start\n",
    "\n",
    "    long_portfolio_return = long_pos_diff.mean()\n",
    "    short_portfolio_return = short_pos_diff.mean()\n",
    "\n",
    "    long_returns.append(long_portfolio_return)\n",
    "    short_returns.append(short_portfolio_return)"
   ]
  },
  {
   "cell_type": "code",
   "execution_count": 8,
   "id": "5cf3f0d7-0e99-41d3-8cfa-a4752d1ed84a",
   "metadata": {},
   "outputs": [
    {
     "data": {
      "text/html": [
       "<div>\n",
       "<style scoped>\n",
       "    .dataframe tbody tr th:only-of-type {\n",
       "        vertical-align: middle;\n",
       "    }\n",
       "\n",
       "    .dataframe tbody tr th {\n",
       "        vertical-align: top;\n",
       "    }\n",
       "\n",
       "    .dataframe thead th {\n",
       "        text-align: right;\n",
       "    }\n",
       "</style>\n",
       "<table border=\"1\" class=\"dataframe\">\n",
       "  <thead>\n",
       "    <tr style=\"text-align: right;\">\n",
       "      <th></th>\n",
       "      <th>Long portfolio</th>\n",
       "      <th>Short portfolio</th>\n",
       "      <th>Long Short portfolio</th>\n",
       "    </tr>\n",
       "  </thead>\n",
       "  <tbody>\n",
       "    <tr>\n",
       "      <th>0</th>\n",
       "      <td>-0.023114</td>\n",
       "      <td>-0.004621</td>\n",
       "      <td>-0.027735</td>\n",
       "    </tr>\n",
       "    <tr>\n",
       "      <th>1</th>\n",
       "      <td>0.100301</td>\n",
       "      <td>-0.052379</td>\n",
       "      <td>0.047922</td>\n",
       "    </tr>\n",
       "    <tr>\n",
       "      <th>2</th>\n",
       "      <td>-0.022567</td>\n",
       "      <td>0.030244</td>\n",
       "      <td>0.007678</td>\n",
       "    </tr>\n",
       "  </tbody>\n",
       "</table>\n",
       "</div>"
      ],
      "text/plain": [
       "   Long portfolio  Short portfolio  Long Short portfolio\n",
       "0       -0.023114        -0.004621             -0.027735\n",
       "1        0.100301        -0.052379              0.047922\n",
       "2       -0.022567         0.030244              0.007678"
      ]
     },
     "execution_count": 8,
     "metadata": {},
     "output_type": "execute_result"
    }
   ],
   "source": [
    "CNN_portfolio = pd.DataFrame({\"Long portfolio\": long_returns,\n",
    "                              \"Short portfolio\": short_returns})\n",
    "CNN_portfolio[\"Long Short portfolio\"] = CNN_portfolio[\"Long portfolio\"] + CNN_portfolio[\"Short portfolio\"]\n",
    "CNN_portfolio.head(3)"
   ]
  },
  {
   "cell_type": "markdown",
   "id": "cc27e399-31a8-44eb-9323-5d8edb91f99a",
   "metadata": {},
   "source": [
    "## Visualizing results "
   ]
  },
  {
   "cell_type": "code",
   "execution_count": 9,
   "id": "91dc2ac6-958b-48c0-b542-a94c79ffe51a",
   "metadata": {},
   "outputs": [
    {
     "name": "stdout",
     "output_type": "stream",
     "text": [
      "╒══════════════════════╤══════════════════════╕\n",
      "│ Portfolio            │ Avg Weekely Return   │\n",
      "╞══════════════════════╪══════════════════════╡\n",
      "│ Long portfolio       │ +192.29 bps          │\n",
      "├──────────────────────┼──────────────────────┤\n",
      "│ Short portfolio      │ -250.12 bps          │\n",
      "├──────────────────────┼──────────────────────┤\n",
      "│ Long Short portfolio │ -57.83 bps           │\n",
      "╘══════════════════════╧══════════════════════╛\n"
     ]
    }
   ],
   "source": [
    "mean_returns_bps = CNN_portfolio.mean() * 10000  \n",
    "cnn_monthly_return_data = [[portfolio, f\"{mean_return:+.2f} bps\"]\n",
    "        for portfolio, mean_return in mean_returns_bps.items()]\n",
    "cnn_monthly_return_headers = [\"Portfolio\", \"Avg Weekely Return\"]\n",
    "del mean_returns_bps\n",
    "\n",
    "print(tabulate(cnn_monthly_return_data, headers=cnn_monthly_return_headers, tablefmt=\"fancy_grid\"))"
   ]
  },
  {
   "cell_type": "code",
   "execution_count": 10,
   "id": "604ca8bf-6c41-4a73-b244-8d2fa48ae309",
   "metadata": {},
   "outputs": [
    {
     "data": {
      "image/png": "[encoded data removed]",
      "text/plain": [
       "<Figure size 1500x500 with 3 Axes>"
      ]
     },
     "metadata": {},
     "output_type": "display_data"
    }
   ],
   "source": [
    "plt.figure(figsize=(15, 5))\n",
    "columns = list(CNN_portfolio.columns)\n",
    "\n",
    "for i, column in enumerate(columns, 1):\n",
    "    plt.subplot(1, len(columns), i)\n",
    "    \n",
    "    # Transform probabilities to basis points\n",
    "    values = CNN_portfolio[column] * 10000\n",
    "    \n",
    "    counts, bins, _ = plt.hist(values, bins=30, alpha=0.7, color='blue', edgecolor='black')\n",
    "    \n",
    "    mean_value = values.mean()\n",
    "    plt.axvline(mean_value, color='red', linestyle='--', label=f\"Mean: {mean_value:.2f} bps\")\n",
    "    \n",
    "    max_freq = counts.max()\n",
    "    max_freq_bin_index = np.argmax(counts)\n",
    "    max_freq_bin_start = bins[max_freq_bin_index]\n",
    "    max_freq_bin_end = bins[max_freq_bin_index + 1]\n",
    "    max_freq_label = f\"Max freq: {max_freq:.0f}\\nRange: [{max_freq_bin_start:.2f}, {max_freq_bin_end:.2f}] bps\"\n",
    "    \n",
    "    plt.legend(title=max_freq_label, fontsize=10)\n",
    "    \n",
    "    plt.title(f\"Histogram of {column} (in bps)\", fontsize=14)\n",
    "    plt.xlabel(\"Value (bps)\", fontsize=12)\n",
    "    plt.ylabel(\"Frequency\", fontsize=12)\n",
    "    plt.grid(alpha=0.3)\n",
    "\n",
    "plt.tight_layout()\n",
    "plt.show()"
   ]
  },
  {
   "cell_type": "code",
   "execution_count": 11,
   "id": "4c958410-be72-4ebf-81e0-08eb97b49414",
   "metadata": {},
   "outputs": [],
   "source": [
    "cnn_long_portfolio = 1000\n",
    "cnn_long_portfolio_history = []\n",
    "cnn_long_short_portfolio = 1000\n",
    "cnn_long_short_portfolio_history = []\n",
    "for _, row in CNN_portfolio.iterrows():\n",
    "    cnn_long_portfolio *= (1 + row[\"Long portfolio\"]) \n",
    "    cnn_long_short_portfolio *= (1 + row[\"Long Short portfolio\"])\n",
    "    cnn_long_portfolio_history.append(cnn_long_portfolio)\n",
    "    cnn_long_short_portfolio_history.append(cnn_long_short_portfolio)"
   ]
  },
  {
   "cell_type": "code",
   "execution_count": 12,
   "id": "133ccb96-9fa3-4897-9703-8df0a9c46300",
   "metadata": {},
   "outputs": [],
   "source": [
    "# Final and initial values for long and long-short portfolios\n",
    "initial_value = 1000  # Initial portfolio value\n",
    "cnn_long_final_value = cnn_long_portfolio_history[-1]\n",
    "cnn_long_short_final_value = cnn_long_short_portfolio_history[-1]\n",
    "\n",
    "# Total period in years\n",
    "total_years = 3 + 10 / 12  # 3 years and 10 months\n",
    "\n",
    "# Calculate overall and yearly returns\n",
    "cnn_long_overall_return = (cnn_long_final_value / initial_value) - 1\n",
    "cnn_long_short_overall_return = (cnn_long_short_final_value / initial_value) - 1\n",
    "\n",
    "cnn_long_avg_yearly_return = (cnn_long_final_value / initial_value) ** (1 / total_years) - 1\n",
    "cnn_long_short_avg_yearly_return = (cnn_long_short_final_value / initial_value) ** (1 / total_years) - 1"
   ]
  },
  {
   "cell_type": "code",
   "execution_count": 13,
   "id": "aa3ffd55-f77f-43ab-abb4-f532668006b0",
   "metadata": {},
   "outputs": [
    {
     "name": "stdout",
     "output_type": "stream",
     "text": [
      "╒══════════════════════╤══════════════════╤═════════════════════╕\n",
      "│ Portfolio            │ Overall Return   │ Avg Yearly Return   │\n",
      "╞══════════════════════╪══════════════════╪═════════════════════╡\n",
      "│ Long Portfolio       │ 28.07%           │ 6.67%               │\n",
      "├──────────────────────┼──────────────────┼─────────────────────┤\n",
      "│ Long-Short Portfolio │ -8.17%           │ -2.20%              │\n",
      "╘══════════════════════╧══════════════════╧═════════════════════╛\n"
     ]
    }
   ],
   "source": [
    "cnn_data = [[\"Long Portfolio\", f\"{cnn_long_overall_return:.2%}\", f\"{cnn_long_avg_yearly_return:.2%}\"],\n",
    "            [\"Long-Short Portfolio\", f\"{cnn_long_short_overall_return:.2%}\", f\"{cnn_long_short_avg_yearly_return:.2%}\"]]\n",
    "cnn_headers = [\"Portfolio\", \"Overall Return\", \"Avg Yearly Return\"]\n",
    "\n",
    "print(tabulate(cnn_data, headers=cnn_headers, tablefmt=\"fancy_grid\"))"
   ]
  },
  {
   "cell_type": "code",
   "execution_count": 14,
   "id": "10f765f9-e17c-43b0-9ea8-f5858e166d7c",
   "metadata": {},
   "outputs": [
    {
     "data": {
      "image/png": "[encoded data removed]",
      "text/plain": [
       "<Figure size 1000x600 with 1 Axes>"
      ]
     },
     "metadata": {},
     "output_type": "display_data"
    }
   ],
   "source": [
    "plt.figure(figsize=(10, 6))\n",
    "\n",
    "# Plot the histories\n",
    "plt.plot(cnn_long_portfolio_history, label=\"Long Portfolio\", color='blue', linewidth=2)\n",
    "plt.plot(cnn_long_short_portfolio_history, label=\"Long-Short Portfolio\", color='green', linewidth=2)\n",
    "\n",
    "# Add labels, legend, and title\n",
    "plt.title(\"Portfolio Value Histories\", fontsize=16)\n",
    "plt.xlabel(\"Time (Steps)\", fontsize=14)\n",
    "plt.ylabel(\"Portfolio Value\", fontsize=14)\n",
    "plt.legend(fontsize=12)\n",
    "plt.grid(True, linestyle='--', alpha=0.7)\n",
    "\n",
    "# Show the plot\n",
    "plt.tight_layout()\n",
    "plt.show()"
   ]
  },
  {
   "cell_type": "markdown",
   "id": "3741d154-199b-42ee-b734-92976762db32",
   "metadata": {},
   "source": [
    "# Random Portfolio"
   ]
  },
  {
   "cell_type": "code",
   "execution_count": null,
   "id": "e85bd647-2192-4700-9b72-a9123280af15",
   "metadata": {},
   "outputs": [],
   "source": [
    "rand_portfolio = pd.read_csv(\"data/random_portfolio.csv\")\n",
    "rand_portfolio.head(3)"
   ]
  },
  {
   "cell_type": "code",
   "execution_count": null,
   "id": "0bb56cd8-d03b-448d-98de-a0594635ce44",
   "metadata": {},
   "outputs": [],
   "source": [
    "rand_long_portfolio = 1000\n",
    "rand_long_portfolio_history = []\n",
    "rand_long_short_portfolio = 1000\n",
    "rand_long_short_portfolio_history = []\n",
    "for _, row in rand_portfolio.iterrows():\n",
    "    rand_long_portfolio *= (1 + row[\"Long portfolio\"]) \n",
    "    rand_long_short_portfolio *= (1 + row[\"Long Short portfolio\"])\n",
    "    rand_long_portfolio_history.append(rand_long_portfolio)\n",
    "    rand_long_short_portfolio_history.append(rand_long_short_portfolio)"
   ]
  },
  {
   "cell_type": "code",
   "execution_count": null,
   "id": "718566a7-c958-40e3-80c4-9d622c59ca27",
   "metadata": {},
   "outputs": [],
   "source": [
    "# Initializing variables for random portfolio\n",
    "rand_initial_value = 1000  # Initial portfolio value\n",
    "rand_long_final_value = rand_long_portfolio_history[-1]\n",
    "rand_long_short_final_value = rand_long_short_portfolio_history[-1]\n",
    "\n",
    "# Total period in years\n",
    "total_years = 3 + 10 / 12  # 3 years and 10 months\n",
    "\n",
    "# Calculate overall and yearly returns for random portfolio\n",
    "rand_long_overall_return = (rand_long_final_value / rand_initial_value) - 1\n",
    "rand_long_short_overall_return = (rand_long_short_final_value / rand_initial_value) - 1\n",
    "\n",
    "rand_long_avg_yearly_return = (rand_long_final_value / rand_initial_value) ** (1 / total_years) - 1\n",
    "rand_long_short_avg_yearly_return = (rand_long_short_final_value / rand_initial_value) ** (1 / total_years) - 1"
   ]
  },
  {
   "cell_type": "code",
   "execution_count": null,
   "id": "4c34a615-1284-4525-adf7-491eedc6bb93",
   "metadata": {},
   "outputs": [],
   "source": [
    "rand_portfolio_data = [[\"Random Long Portfolio\", f\"{rand_long_overall_return:.2%}\", f\"{rand_long_avg_yearly_return:.2%}\"],\n",
    "                       [\"Random Long-Short Portfolio\", f\"{rand_long_short_overall_return:.2%}\", f\"{rand_long_short_avg_yearly_return:.2%}\"]]\n",
    "\n",
    "headers = [\"Portfolio\", \"Overall Return\", \"Avg Yearly Return\"]\n",
    "print(tabulate(rand_portfolio_data, headers=headers, tablefmt=\"fancy_grid\", colalign=(\"center\", \"center\", \"center\")))"
   ]
  },
  {
   "cell_type": "markdown",
   "id": "ac05231b-23a7-433b-b7a7-b0d45707eb2c",
   "metadata": {},
   "source": [
    "# Uniform Portfolio"
   ]
  },
  {
   "cell_type": "code",
   "execution_count": null,
   "id": "d4894a98-2ce4-41a7-8c81-9b50ab5ea090",
   "metadata": {},
   "outputs": [],
   "source": [
    "unif_portfolio = pd.read_csv(\"data/unif_portfolio.csv\")\n",
    "unif_portfolio.head(3)"
   ]
  },
  {
   "cell_type": "code",
   "execution_count": null,
   "id": "af1219de-b3de-406f-bdf7-352febe2226f",
   "metadata": {},
   "outputs": [],
   "source": [
    "unif_long_portfolio = 1000\n",
    "unif_long_portfolio_history = []\n",
    "unif_long_short_portfolio = 1000\n",
    "unif_long_short_portfolio_history = []\n",
    "for _, row in unif_portfolio.iterrows():\n",
    "    unif_long_portfolio *= (1 + row[\"Long portfolio\"]) \n",
    "    unif_long_short_portfolio *= (1 + row[\"Long Short portfolio\"])\n",
    "    unif_long_portfolio_history.append(unif_long_portfolio)\n",
    "    unif_long_short_portfolio_history.append(unif_long_short_portfolio)"
   ]
  },
  {
   "cell_type": "code",
   "execution_count": null,
   "id": "d7261e3b-e16f-4044-9e73-c8225dd4502b",
   "metadata": {},
   "outputs": [],
   "source": [
    "# Initializing variables for uniform portfolio\n",
    "unif_initial_value = 1000  # Initial portfolio value\n",
    "unif_long_final_value = unif_long_portfolio_history[-1]\n",
    "unif_long_short_final_value = unif_long_short_portfolio_history[-1]\n",
    "\n",
    "# Total period in years\n",
    "total_years = 3 + 10 / 12  # 3 years and 10 months\n",
    "\n",
    "# Calculate overall and yearly returns for uniform portfolio\n",
    "unif_long_overall_return = (unif_long_final_value / unif_initial_value) - 1\n",
    "unif_long_short_overall_return = (unif_long_short_final_value / unif_initial_value) - 1\n",
    "\n",
    "unif_long_avg_yearly_return = (unif_long_final_value / unif_initial_value) ** (1 / total_years) - 1\n",
    "unif_long_short_avg_yearly_return = (unif_long_short_final_value / unif_initial_value) ** (1 / total_years) - 1"
   ]
  },
  {
   "cell_type": "code",
   "execution_count": null,
   "id": "ef84c0d1-001d-42a9-9cef-fcb0eea3393f",
   "metadata": {},
   "outputs": [],
   "source": [
    "unif_portfolio_data = [\n",
    "    [\"Uniform Long Portfolio\", f\"{unif_long_overall_return:.2%}\", f\"{unif_long_avg_yearly_return:.2%}\"],\n",
    "    [\"Uniform Long-Short Portfolio\", f\"{unif_long_short_overall_return:.2%}\", f\"{unif_long_short_avg_yearly_return:.2%}\"],\n",
    "]\n",
    "\n",
    "headers = [\"Portfolio\", \"Overall Return\", \"Avg Yearly Return\"]\n",
    "print(tabulate(unif_portfolio_data, headers=headers, tablefmt=\"fancy_grid\", colalign=(\"center\", \"center\", \"center\")))\n"
   ]
  },
  {
   "cell_type": "markdown",
   "id": "e4a6f68c-56e1-40c9-8269-7f02b44b4d37",
   "metadata": {},
   "source": [
    "# SP500"
   ]
  },
  {
   "cell_type": "code",
   "execution_count": null,
   "id": "c6e215a1-2d32-4118-863e-a3e4ad60e094",
   "metadata": {},
   "outputs": [],
   "source": [
    "spx_portfolio = pd.read_csv(\"data/spx_portfolio.csv\")\n",
    "spx_portfolio.head(3)"
   ]
  },
  {
   "cell_type": "code",
   "execution_count": null,
   "id": "eb120b3e-06f5-4053-bb86-b78e38330f54",
   "metadata": {},
   "outputs": [],
   "source": [
    "spx_long_portfolio = 1000\n",
    "spx_long_portfolio_history = []\n",
    "for _, row in spx_portfolio.iterrows():\n",
    "    spx_long_portfolio *= (1 + row[\"Long portfolio\"]) \n",
    "    spx_long_portfolio_history.append(spx_long_portfolio)"
   ]
  },
  {
   "cell_type": "code",
   "execution_count": null,
   "id": "2133b6fc-5123-4466-995d-fe58701b55be",
   "metadata": {},
   "outputs": [],
   "source": [
    "# Initializing variables for SPX portfolio\n",
    "spx_initial_value = 1000  # Initial portfolio value\n",
    "spx_long_final_value = spx_long_portfolio_history[-1]\n",
    "\n",
    "# Total period in years\n",
    "total_years = 3 + 10 / 12  # 3 years and 10 months\n",
    "\n",
    "# Calculate overall and yearly returns for SPX portfolio\n",
    "spx_long_overall_return = (spx_long_final_value / spx_initial_value) - 1\n",
    "spx_long_avg_yearly_return = (spx_long_final_value / spx_initial_value) ** (1 / total_years) - 1"
   ]
  },
  {
   "cell_type": "code",
   "execution_count": null,
   "id": "9a08d988-2562-4ab1-9ec2-9b4600217638",
   "metadata": {},
   "outputs": [],
   "source": [
    "spx_portfolio_data = [\n",
    "    [\"SPX Long Portfolio\", f\"{spx_long_overall_return:.2%}\", f\"{spx_long_avg_yearly_return:.2%}\"],\n",
    "]\n",
    "\n",
    "headers = [\"Portfolio\", \"Overall Return\", \"Avg Yearly Return\"]\n",
    "print(tabulate(spx_portfolio_data, headers=headers, tablefmt=\"fancy_grid\", colalign=(\"center\", \"center\", \"center\")))\n"
   ]
  },
  {
   "cell_type": "markdown",
   "id": "2894b834-7e56-4f10-80a8-2293f5b8c72d",
   "metadata": {},
   "source": [
    "# PORTFOLIO COMPARISON"
   ]
  },
  {
   "cell_type": "code",
   "execution_count": null,
   "id": "d1445a0f-6147-42cc-b8a0-8a99fe8b43c0",
   "metadata": {},
   "outputs": [],
   "source": [
    "plt.figure(figsize=(10, 6))\n",
    "\n",
    "# Plot the histories for all portfolios\n",
    "plt.plot(cnn_long_portfolio_history, label=\"CNN Long Portfolio\", color='blue', linewidth=2)\n",
    "plt.plot(rand_long_portfolio_history, label=\"Random Long Portfolio\", color='red', linewidth=2)\n",
    "plt.plot(unif_long_portfolio_history, label=\"Uniform Long Portfolio\", color='purple', linewidth=2)\n",
    "plt.plot(spx_long_portfolio_history, label=\"SPX Long Portfolio\", color='black', linewidth=2)\n",
    "\n",
    "# Add labels, legend, and title\n",
    "plt.title(\"Portfolio Value Histories\", fontsize=16)\n",
    "plt.xlabel(\"Time (Steps)\", fontsize=14)\n",
    "plt.ylabel(\"Portfolio Value\", fontsize=14)\n",
    "plt.legend(fontsize=12)\n",
    "plt.grid(True, linestyle='--', alpha=0.7)\n",
    "\n",
    "# Show the plot\n",
    "plt.tight_layout()\n",
    "plt.show()\n"
   ]
  },
  {
   "cell_type": "code",
   "execution_count": null,
   "id": "1619bc15-f11c-42dd-bc9a-d9e11f7b795c",
   "metadata": {},
   "outputs": [],
   "source": []
  },
  {
   "cell_type": "code",
   "execution_count": null,
   "id": "87319c57-7dfd-436b-9c92-71d96a2f0b5f",
   "metadata": {},
   "outputs": [],
   "source": []
  },
  {
   "cell_type": "code",
   "execution_count": null,
   "id": "5f68165e-d0b9-405f-b732-632fa20b7205",
   "metadata": {},
   "outputs": [],
   "source": []
  },
  {
   "cell_type": "code",
   "execution_count": null,
   "id": "0123a7d3-31e2-49c1-a848-b834c30af57b",
   "metadata": {},
   "outputs": [],
   "source": []
  }
 ],
 "metadata": {
  "kernelspec": {
   "display_name": "Python 3 (ipykernel)",
   "language": "python",
   "name": "python3"
  },
  "language_info": {
   "codemirror_mode": {
    "name": "ipython",
    "version": 3
   },
   "file_extension": ".py",
   "mimetype": "text/x-python",
   "name": "python",
   "nbconvert_exporter": "python",
   "pygments_lexer": "ipython3",
   "version": "3.11.5"
  }
 },
 "nbformat": 4,
 "nbformat_minor": 5
}
