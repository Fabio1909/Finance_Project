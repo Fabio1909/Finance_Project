{
 "cells": [
  {
   "cell_type": "code",
   "execution_count": 2,
   "id": "dbf27376-2475-4381-8959-985437c6c570",
   "metadata": {},
   "outputs": [],
   "source": [
    "import pandas as pd\n",
    "import os\n",
    "import matplotlib.pyplot as plt"
   ]
  },
  {
   "cell_type": "code",
   "execution_count": 3,
   "id": "03516b56-aa12-4929-a977-c3e962496f78",
   "metadata": {},
   "outputs": [],
   "source": [
    "csv_folder_dir = \"data/csv/out_of_sample/\"\n",
    "csv_list = [x for x in os.listdir(csv_folder_dir) if not x.startswith(\".\")]\n",
    "\n",
    "prices_df = None\n",
    "\n",
    "for csv_name in csv_list:\n",
    "    csv_dir = os.path.join(csv_folder_dir, csv_name)\n",
    "    current_df = pd.read_csv(csv_dir, \n",
    "                             usecols=['Date', 'Close'],\n",
    "                             parse_dates=['Date'])\n",
    "    current_df.rename(columns={'Close': f\"{csv_name[:-4]}\"}, inplace=True)\n",
    "    \n",
    "    # Merge the current DataFrame with the final DataFrame\n",
    "    if prices_df is None:\n",
    "        prices_df = current_df  # Initialize with the first DataFrame\n",
    "    else:\n",
    "        prices_df = pd.merge(prices_df, current_df, on='Date', how='outer')  # Merge on 'Date' "
   ]
  },
  {
   "cell_type": "markdown",
   "id": "e1653dad-843f-428e-9390-9fa8fc7dc775",
   "metadata": {},
   "source": [
    "# SP500"
   ]
  },
  {
   "cell_type": "code",
   "execution_count": 4,
   "id": "465be00b-83e9-443d-a588-cf9bfecbba09",
   "metadata": {},
   "outputs": [],
   "source": [
    "start = list(prices_df[\"Date\"])[0]\n",
    "end = list(prices_df[\"Date\"])[-1]"
   ]
  },
  {
   "cell_type": "code",
   "execution_count": 5,
   "id": "5cc47ccd-a1c4-4cec-a603-345e448d5be7",
   "metadata": {},
   "outputs": [],
   "source": [
    "import yfinance as yf\n",
    "\n",
    "def get_stock_data(ticker, start_date, end_date=None):\n",
    "    stock_data = yf.download(ticker, start=start_date, end=end_date, progress=False)\n",
    "    stock_data.drop([\"Open\", \"High\", \"Low\", \"Volume\", 'Adj Close'], axis = 1, inplace = True)\n",
    "    stock_data.reset_index(inplace = True, drop = True)\n",
    "    return stock_data\n",
    "\n",
    "sp500_price_df = get_stock_data(\"^GSPC\", start, end)"
   ]
  },
  {
   "cell_type": "code",
   "execution_count": 6,
   "id": "a22ac1cb-10ed-4470-8655-a44c27b3610a",
   "metadata": {},
   "outputs": [
    {
     "data": {
      "text/html": [
       "<div>\n",
       "<style scoped>\n",
       "    .dataframe tbody tr th:only-of-type {\n",
       "        vertical-align: middle;\n",
       "    }\n",
       "\n",
       "    .dataframe tbody tr th {\n",
       "        vertical-align: top;\n",
       "    }\n",
       "\n",
       "    .dataframe thead th {\n",
       "        text-align: right;\n",
       "    }\n",
       "</style>\n",
       "<table border=\"1\" class=\"dataframe\">\n",
       "  <thead>\n",
       "    <tr style=\"text-align: right;\">\n",
       "      <th></th>\n",
       "      <th>Close</th>\n",
       "    </tr>\n",
       "  </thead>\n",
       "  <tbody>\n",
       "    <tr>\n",
       "      <th>0</th>\n",
       "      <td>3700.649902</td>\n",
       "    </tr>\n",
       "    <tr>\n",
       "      <th>1</th>\n",
       "      <td>3726.860107</td>\n",
       "    </tr>\n",
       "    <tr>\n",
       "      <th>2</th>\n",
       "      <td>3748.139893</td>\n",
       "    </tr>\n",
       "    <tr>\n",
       "      <th>3</th>\n",
       "      <td>3803.790039</td>\n",
       "    </tr>\n",
       "    <tr>\n",
       "      <th>4</th>\n",
       "      <td>3824.679932</td>\n",
       "    </tr>\n",
       "    <tr>\n",
       "      <th>...</th>\n",
       "      <td>...</td>\n",
       "    </tr>\n",
       "    <tr>\n",
       "      <th>971</th>\n",
       "      <td>5983.990234</td>\n",
       "    </tr>\n",
       "    <tr>\n",
       "      <th>972</th>\n",
       "      <td>5985.379883</td>\n",
       "    </tr>\n",
       "    <tr>\n",
       "      <th>973</th>\n",
       "      <td>5949.169922</td>\n",
       "    </tr>\n",
       "    <tr>\n",
       "      <th>974</th>\n",
       "      <td>5870.620117</td>\n",
       "    </tr>\n",
       "    <tr>\n",
       "      <th>975</th>\n",
       "      <td>5893.620117</td>\n",
       "    </tr>\n",
       "  </tbody>\n",
       "</table>\n",
       "<p>976 rows × 1 columns</p>\n",
       "</div>"
      ],
      "text/plain": [
       "           Close\n",
       "0    3700.649902\n",
       "1    3726.860107\n",
       "2    3748.139893\n",
       "3    3803.790039\n",
       "4    3824.679932\n",
       "..           ...\n",
       "971  5983.990234\n",
       "972  5985.379883\n",
       "973  5949.169922\n",
       "974  5870.620117\n",
       "975  5893.620117\n",
       "\n",
       "[976 rows x 1 columns]"
      ]
     },
     "execution_count": 6,
     "metadata": {},
     "output_type": "execute_result"
    }
   ],
   "source": [
    "sp500_price_df"
   ]
  },
  {
   "cell_type": "code",
   "execution_count": 7,
   "id": "f64db5e6-b82c-4517-af12-a5e473a99169",
   "metadata": {},
   "outputs": [],
   "source": [
    "window_size = 5\n",
    "spx_long_returns = []\n",
    "for today in range(5, len(prices_df) - 2 * window_size, 5):\n",
    "    long_pos_start = sp500_price_df.iloc[today + window_size]\n",
    "    long_pos_end = sp500_price_df.iloc[today + 2*window_size]\n",
    "    long_pos_diff = (long_pos_end - long_pos_start)/long_pos_start\n",
    "    long_portfolio_return = long_pos_diff.mean()\n",
    "    spx_long_returns.append(long_portfolio_return)"
   ]
  },
  {
   "cell_type": "code",
   "execution_count": 8,
   "id": "650944da-9546-457a-8f3c-3a10547ef4c7",
   "metadata": {},
   "outputs": [],
   "source": [
    "spx_portfolio = pd.DataFrame({\"Long portfolio\": spx_long_returns})"
   ]
  },
  {
   "cell_type": "code",
   "execution_count": 9,
   "id": "48a1ee95-d58d-47b9-b9f6-8f9eac1adf59",
   "metadata": {},
   "outputs": [
    {
     "data": {
      "text/html": [
       "<div>\n",
       "<style scoped>\n",
       "    .dataframe tbody tr th:only-of-type {\n",
       "        vertical-align: middle;\n",
       "    }\n",
       "\n",
       "    .dataframe tbody tr th {\n",
       "        vertical-align: top;\n",
       "    }\n",
       "\n",
       "    .dataframe thead th {\n",
       "        text-align: right;\n",
       "    }\n",
       "</style>\n",
       "<table border=\"1\" class=\"dataframe\">\n",
       "  <thead>\n",
       "    <tr style=\"text-align: right;\">\n",
       "      <th></th>\n",
       "      <th>Long portfolio</th>\n",
       "    </tr>\n",
       "  </thead>\n",
       "  <tbody>\n",
       "    <tr>\n",
       "      <th>0</th>\n",
       "      <td>0.013349</td>\n",
       "    </tr>\n",
       "    <tr>\n",
       "      <th>1</th>\n",
       "      <td>-0.006055</td>\n",
       "    </tr>\n",
       "    <tr>\n",
       "      <th>2</th>\n",
       "      <td>0.022194</td>\n",
       "    </tr>\n",
       "    <tr>\n",
       "      <th>3</th>\n",
       "      <td>0.005139</td>\n",
       "    </tr>\n",
       "    <tr>\n",
       "      <th>4</th>\n",
       "      <td>-0.001501</td>\n",
       "    </tr>\n",
       "    <tr>\n",
       "      <th>...</th>\n",
       "      <td>...</td>\n",
       "    </tr>\n",
       "    <tr>\n",
       "      <th>188</th>\n",
       "      <td>-0.001002</td>\n",
       "    </tr>\n",
       "    <tr>\n",
       "      <th>189</th>\n",
       "      <td>-0.005203</td>\n",
       "    </tr>\n",
       "    <tr>\n",
       "      <th>190</th>\n",
       "      <td>-0.019031</td>\n",
       "    </tr>\n",
       "    <tr>\n",
       "      <th>191</th>\n",
       "      <td>0.050530</td>\n",
       "    </tr>\n",
       "    <tr>\n",
       "      <th>192</th>\n",
       "      <td>-0.017951</td>\n",
       "    </tr>\n",
       "  </tbody>\n",
       "</table>\n",
       "<p>193 rows × 1 columns</p>\n",
       "</div>"
      ],
      "text/plain": [
       "     Long portfolio\n",
       "0          0.013349\n",
       "1         -0.006055\n",
       "2          0.022194\n",
       "3          0.005139\n",
       "4         -0.001501\n",
       "..              ...\n",
       "188       -0.001002\n",
       "189       -0.005203\n",
       "190       -0.019031\n",
       "191        0.050530\n",
       "192       -0.017951\n",
       "\n",
       "[193 rows x 1 columns]"
      ]
     },
     "execution_count": 9,
     "metadata": {},
     "output_type": "execute_result"
    }
   ],
   "source": [
    "spx_portfolio"
   ]
  },
  {
   "cell_type": "code",
   "execution_count": 20,
   "id": "79445b3b-2b6f-4f96-bf47-6df4005e6aac",
   "metadata": {},
   "outputs": [
    {
     "data": {
      "text/plain": [
       "Long portfolio    0.002539\n",
       "dtype: float64"
      ]
     },
     "execution_count": 20,
     "metadata": {},
     "output_type": "execute_result"
    }
   ],
   "source": [
    "spx_portfolio.mean()"
   ]
  },
  {
   "cell_type": "code",
   "execution_count": 10,
   "id": "5a443c07-242a-4b8d-a360-82f66844743f",
   "metadata": {},
   "outputs": [],
   "source": [
    "spx_portfolio.to_csv(\"data/spx_portfolio.csv\", index = False)"
   ]
  },
  {
   "cell_type": "code",
   "execution_count": 18,
   "id": "51451e93-2947-430e-8e84-558d2a04e43f",
   "metadata": {},
   "outputs": [],
   "source": [
    "spx_long_portfolio = 1000\n",
    "spx_long_portfolio_history = []\n",
    "for _, row in spx_portfolio.iterrows():\n",
    "    spx_long_portfolio *= (1 + row[\"Long portfolio\"]) \n",
    "    spx_long_portfolio_history.append(spx_long_portfolio)"
   ]
  },
  {
   "cell_type": "code",
   "execution_count": 19,
   "id": "48a33357-331a-4c67-8e1e-eb1cea45e8bf",
   "metadata": {},
   "outputs": [
    {
     "data": {
      "text/plain": [
       "1551.397704483871"
      ]
     },
     "execution_count": 19,
     "metadata": {},
     "output_type": "execute_result"
    }
   ],
   "source": [
    "spx_long_portfolio"
   ]
  },
  {
   "cell_type": "code",
   "execution_count": null,
   "id": "8c6c557a-d152-4cb7-9c26-3f471be3e9d3",
   "metadata": {},
   "outputs": [],
   "source": []
  }
 ],
 "metadata": {
  "kernelspec": {
   "display_name": "Python 3 (ipykernel)",
   "language": "python",
   "name": "python3"
  },
  "language_info": {
   "codemirror_mode": {
    "name": "ipython",
    "version": 3
   },
   "file_extension": ".py",
   "mimetype": "text/x-python",
   "name": "python",
   "nbconvert_exporter": "python",
   "pygments_lexer": "ipython3",
   "version": "3.11.5"
  }
 },
 "nbformat": 4,
 "nbformat_minor": 5
}
