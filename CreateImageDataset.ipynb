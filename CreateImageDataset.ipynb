{
 "cells": [
  {
   "cell_type": "code",
   "execution_count": null,
   "id": "9d78e21e-be39-4103-92a7-f13df2972550",
   "metadata": {},
   "outputs": [],
   "source": [
    "import pandas as pd\n",
    "from utils.img_maker import CandleStick\n",
    "import os"
   ]
  },
  {
   "cell_type": "code",
   "execution_count": null,
   "id": "f12feee6-5d7e-4c41-8728-fa580469055a",
   "metadata": {},
   "outputs": [],
   "source": [
    "dir_list = os.listdir(\"data/csv\")\n",
    "len(dir_list)"
   ]
  },
  {
   "cell_type": "code",
   "execution_count": null,
   "id": "f73aa645-47d2-480b-b654-4aba85a5e075",
   "metadata": {
    "scrolled": true
   },
   "outputs": [],
   "source": [
    "%%time\n",
    "from tqdm import tqdm\n",
    "\n",
    "window_size = 5\n",
    "\n",
    "for file in tqdm(dir_list[:5]):\n",
    "    current_df = pd.read_csv(f\"data/csv/{file}\", \n",
    "                             parse_dates=['Date'], \n",
    "                             index_col='Date').drop(columns=['Unnamed: 0'])\n",
    "    \n",
    "    imageMaker = CandleStick(current_df)\n",
    "\n",
    "    output_directory = f\"data/images/{file[:-4]}\"\n",
    "    os.makedirs(output_directory, exist_ok=True)\n",
    "    \n",
    "    for i in range(window_size, len(current_df) - window_size, window_size):\n",
    "        start_date = current_df.index[i - window_size]\n",
    "        end_date = current_df.index[i - 1]\n",
    "        horizon_start = current_df.index[i]\n",
    "        horizon_end = current_df.index[i - 1 + window_size]\n",
    "        image_path_not_completed = f\"{output_directory}/{start_date.date()}\"\n",
    "        imageMaker.plot_window(start_date, end_date, horizon_start, horizon_end, image_path_not_completed)\n",
    " \n",
    "    del imageMaker"
   ]
  },
  {
   "cell_type": "code",
   "execution_count": null,
   "id": "f981317d-8a0a-4314-a740-4b20216b36b3",
   "metadata": {},
   "outputs": [],
   "source": [
    "win = 5\n",
    "for i in range(5, 20, win):\n",
    "    print(f\"start: {i - win}\")\n",
    "    print(f\"end: {i-1}\")\n",
    "    print(f\"current_window length: {(i-1)-(i-win)}\")\n",
    "    print(f\"horizon_start: {i}\")\n",
    "    print(f\"horizion: {i + win -1}\")\n",
    "    print(f\"horizion_window length: {(i+win-1) - (i)}\")\n"
   ]
  },
  {
   "cell_type": "code",
   "execution_count": null,
   "id": "c03636f7-bddc-441f-b377-3eb3878ce47d",
   "metadata": {},
   "outputs": [],
   "source": []
  },
  {
   "cell_type": "code",
   "execution_count": null,
   "id": "217eb562-1769-4fac-aeec-a0eef64301b7",
   "metadata": {},
   "outputs": [],
   "source": [
    "prova = True\n",
    "\n",
    "print(f\"this is {prova}\")"
   ]
  },
  {
   "cell_type": "code",
   "execution_count": null,
   "id": "7f4dab28-c1fb-46b0-95b8-ce75b7b3c3bf",
   "metadata": {},
   "outputs": [],
   "source": []
  }
 ],
 "metadata": {
  "kernelspec": {
   "display_name": "Python 3 (ipykernel)",
   "language": "python",
   "name": "python3"
  },
  "language_info": {
   "codemirror_mode": {
    "name": "ipython",
    "version": 3
   },
   "file_extension": ".py",
   "mimetype": "text/x-python",
   "name": "python",
   "nbconvert_exporter": "python",
   "pygments_lexer": "ipython3",
   "version": "3.11.5"
  }
 },
 "nbformat": 4,
 "nbformat_minor": 5
}
