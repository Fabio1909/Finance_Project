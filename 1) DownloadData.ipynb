{
 "cells": [
  {
   "cell_type": "code",
   "execution_count": 1,
   "id": "f912474a-61df-4033-8cab-861251be825f",
   "metadata": {},
   "outputs": [],
   "source": [
    "import pandas as pd\n",
    "import yfinance as yf"
   ]
  },
  {
   "cell_type": "markdown",
   "id": "8e22ab19-bfbf-419f-be85-21f0107f68f4",
   "metadata": {},
   "source": [
    "# Download stock data form yfinance"
   ]
  },
  {
   "cell_type": "code",
   "execution_count": 2,
   "id": "510147c9-ae07-4e16-8544-32cce362e475",
   "metadata": {},
   "outputs": [],
   "source": [
    "# First we get all the tickers for all sp500 companies\n",
    "tickers_table = pd.read_html(\n",
    "    'https://en.wikipedia.org/wiki/List_of_S%26P_500_companies')[0]\n",
    "tickers = list(tickers_table[\"Symbol\"])"
   ]
  },
  {
   "cell_type": "code",
   "execution_count": 3,
   "id": "c1b85170-50d5-4926-95fb-916777a2377e",
   "metadata": {},
   "outputs": [],
   "source": [
    "def get_stock_data(ticker, start_date, end_date=None):\n",
    "    stock_data = yf.download(ticker, start=start_date, end=end_date, progress=False)\n",
    "    stock_data.drop(['Adj Close'], axis = 1, inplace = True)\n",
    "    stock_data.rename(columns={\"Volume\": \"Vol\"}, inplace=True)\n",
    "    return stock_data"
   ]
  },
  {
   "cell_type": "markdown",
   "id": "2d6f70dd-d350-48ed-b26d-76a072378a9e",
   "metadata": {
    "jp-MarkdownHeadingCollapsed": true
   },
   "source": [
    "# Download Traning Data"
   ]
  },
  {
   "cell_type": "code",
   "execution_count": 4,
   "id": "97f6f1be-2702-4c25-9cf5-d417f50f4f2e",
   "metadata": {},
   "outputs": [
    {
     "name": "stderr",
     "output_type": "stream",
     "text": [
      "  2%|▏         | 11/503 [00:02<01:48,  4.53it/s]\n",
      "1 Failed download:\n",
      "['ABNB']: Exception(\"%ticker%: Data doesn't exist for startDate = 1262322000, endDate = 1577768400\")\n",
      "  5%|▍         | 24/503 [00:07<01:49,  4.38it/s]\n",
      "1 Failed download:\n",
      "['AMTM']: Exception(\"%ticker%: Data doesn't exist for startDate = 1262322000, endDate = 1577768400\")\n",
      " 12%|█▏        | 60/503 [00:15<01:38,  4.48it/s]\n",
      "1 Failed download:\n",
      "['BRK.B']: Exception('%ticker%: No timezone found, symbol may be delisted')\n",
      " 15%|█▍        | 75/503 [00:19<01:43,  4.12it/s]\n",
      "1 Failed download:\n",
      "['BF.B']: Exception('%ticker%: No price data found, symbol may be delisted (1d 2010-01-01 -> 2019-12-31)')\n",
      " 17%|█▋        | 88/503 [00:22<01:32,  4.49it/s]\n",
      "1 Failed download:\n",
      "['CARR']: Exception(\"%ticker%: Data doesn't exist for startDate = 1262322000, endDate = 1577768400\")\n",
      " 24%|██▍       | 123/503 [00:31<01:34,  4.01it/s]\n",
      "1 Failed download:\n",
      "['CEG']: Exception(\"%ticker%: Data doesn't exist for startDate = 1262322000, endDate = 1577768400\")\n",
      " 42%|████▏     | 210/503 [00:50<00:57,  5.10it/s]\n",
      "1 Failed download:\n",
      "['GEHC']: Exception(\"%ticker%: Data doesn't exist for startDate = 1262322000, endDate = 1577768400\")\n",
      " 42%|████▏     | 211/503 [00:51<01:56,  2.51it/s]\n",
      "1 Failed download:\n",
      "['GEV']: Exception(\"%ticker%: Data doesn't exist for startDate = 1262322000, endDate = 1577768400\")\n",
      " 54%|█████▍    | 271/503 [01:06<00:55,  4.17it/s]\n",
      "1 Failed download:\n",
      "['KVUE']: Exception(\"%ticker%: Data doesn't exist for startDate = 1262322000, endDate = 1577768400\")\n",
      " 71%|███████▏  | 359/503 [01:26<00:30,  4.69it/s]\n",
      "1 Failed download:\n",
      "['OTIS']: Exception(\"%ticker%: Data doesn't exist for startDate = 1262322000, endDate = 1577768400\")\n",
      " 72%|███████▏  | 362/503 [01:27<00:45,  3.11it/s]\n",
      "1 Failed download:\n",
      "['PLTR']: Exception(\"%ticker%: Data doesn't exist for startDate = 1262322000, endDate = 1577768400\")\n",
      " 83%|████████▎ | 419/503 [01:41<00:19,  4.34it/s]\n",
      "1 Failed download:\n",
      "['SW']: Exception(\"%ticker%: Data doesn't exist for startDate = 1262322000, endDate = 1577768400\")\n",
      " 84%|████████▎ | 421/503 [01:43<00:29,  2.74it/s]\n",
      "1 Failed download:\n",
      "['SOLV']: Exception(\"%ticker%: Data doesn't exist for startDate = 1262322000, endDate = 1577768400\")\n",
      " 93%|█████████▎| 469/503 [01:54<00:07,  4.37it/s]\n",
      "1 Failed download:\n",
      "['VLTO']: Exception(\"%ticker%: Data doesn't exist for startDate = 1262322000, endDate = 1577768400\")\n",
      "100%|██████████| 503/503 [02:03<00:00,  4.09it/s]"
     ]
    },
    {
     "name": "stdout",
     "output_type": "stream",
     "text": [
      "CPU times: user 27.8 s, sys: 2.09 s, total: 29.9 s\n",
      "Wall time: 2min 3s\n"
     ]
    },
    {
     "name": "stderr",
     "output_type": "stream",
     "text": [
      "\n"
     ]
    }
   ],
   "source": [
    "%%time\n",
    "from tqdm import tqdm\n",
    "\n",
    "all_dfs_dict = {}\n",
    "for ticker in tqdm(tickers):\n",
    "    try:\n",
    "        current_stock = get_stock_data(ticker, start_date = \"2010-01-01\", end_date = \"2019-12-31\")\n",
    "        current_stock.reset_index(inplace = True)\n",
    "        if len(current_stock) < 5:\n",
    "            pass\n",
    "        else: \n",
    "            current_stock.to_csv(f\"data/csv/traning/{ticker}.csv\")\n",
    "        all_dfs_dict[f\"{ticker}\"] = current_stock\n",
    "    except:\n",
    "        all_dfs_dict[f\"{ticker}\"] = None"
   ]
  },
  {
   "cell_type": "code",
   "execution_count": 5,
   "id": "704e2d61-ee52-4a6a-a5b5-7e8ba5b3f4ac",
   "metadata": {},
   "outputs": [
    {
     "name": "stdout",
     "output_type": "stream",
     "text": [
      "Recursive size: 0.110138 GB\n"
     ]
    }
   ],
   "source": [
    "from pympler import asizeof\n",
    "\n",
    "def dict_size_gb_recursive(dictionary):\n",
    "    size_bytes = asizeof.asizeof(dictionary)\n",
    "    size_gb = size_bytes / (1024 ** 3)  # Convert bytes to gigabytes\n",
    "    return size_gb\n",
    "    \n",
    "print(f\"Recursive size: {dict_size_gb_recursive(all_dfs_dict):.6f} GB\")"
   ]
  },
  {
   "cell_type": "markdown",
   "id": "9c6b1c55-b5e2-4584-847f-a0e1f88468d7",
   "metadata": {
    "jp-MarkdownHeadingCollapsed": true
   },
   "source": [
    "# Download Out Of sample Data"
   ]
  },
  {
   "cell_type": "markdown",
   "id": "d8fee74d-6eab-4fa2-b632-99253e2f91c1",
   "metadata": {},
   "source": [
    "We decided to skip 2020 as its a year of huge volatiliy and testing our model on 2020 data would not yield any singoficant result because price shifts would mainly be due to exogenous components"
   ]
  },
  {
   "cell_type": "code",
   "execution_count": 7,
   "id": "c3932342-b2a3-430c-a2d5-5ea038484054",
   "metadata": {},
   "outputs": [
    {
     "name": "stderr",
     "output_type": "stream",
     "text": [
      " 12%|█▏        | 60/503 [00:10<01:18,  5.65it/s]\n",
      "1 Failed download:\n",
      "['BRK.B']: Exception('%ticker%: No timezone found, symbol may be delisted')\n",
      " 15%|█▍        | 75/503 [00:13<01:17,  5.50it/s]\n",
      "1 Failed download:\n",
      "['BF.B']: Exception('%ticker%: No price data found, symbol may be delisted (1d 2021-01-01 -> 2024-11-20)')\n",
      "100%|██████████| 503/503 [01:29<00:00,  5.65it/s]"
     ]
    },
    {
     "name": "stdout",
     "output_type": "stream",
     "text": [
      "CPU times: user 17.8 s, sys: 2.59 s, total: 20.4 s\n",
      "Wall time: 1min 29s\n"
     ]
    },
    {
     "name": "stderr",
     "output_type": "stream",
     "text": [
      "\n"
     ]
    }
   ],
   "source": [
    "%%time\n",
    "from tqdm import tqdm\n",
    "\n",
    "all_dfs_dict = {}\n",
    "for ticker in tqdm(tickers):\n",
    "    try:\n",
    "        current_stock = get_stock_data(ticker, start_date = \"2021-01-01\")\n",
    "        current_stock.reset_index(inplace = True)\n",
    "        if len(current_stock) < 5:\n",
    "            pass\n",
    "        else: \n",
    "            current_stock.to_csv(f\"data/csv/out_of_sample/{ticker}.csv\")\n",
    "        all_dfs_dict[f\"{ticker}\"] = current_stock\n",
    "    except:\n",
    "        all_dfs_dict[f\"{ticker}\"] = None"
   ]
  },
  {
   "cell_type": "code",
   "execution_count": null,
   "id": "eb7ea548-731c-44f5-b8ab-118e52c24888",
   "metadata": {},
   "outputs": [],
   "source": []
  }
 ],
 "metadata": {
  "kernelspec": {
   "display_name": "Python 3 (ipykernel)",
   "language": "python",
   "name": "python3"
  },
  "language_info": {
   "codemirror_mode": {
    "name": "ipython",
    "version": 3
   },
   "file_extension": ".py",
   "mimetype": "text/x-python",
   "name": "python",
   "nbconvert_exporter": "python",
   "pygments_lexer": "ipython3",
   "version": "3.11.5"
  }
 },
 "nbformat": 4,
 "nbformat_minor": 5
}
