{
 "cells": [
  {
   "cell_type": "code",
   "execution_count": 1,
   "id": "eea051bc-7a31-4efb-949c-5a3d8fde172a",
   "metadata": {},
   "outputs": [],
   "source": [
    "import os\n",
    "import sys\n",
    "import cv2\n",
    "import numpy as np\n",
    "import matplotlib.pyplot as plt"
   ]
  },
  {
   "cell_type": "code",
   "execution_count": 2,
   "id": "cf6857e5-1ce4-4665-91f3-830f725d45b7",
   "metadata": {},
   "outputs": [
    {
     "name": "stdout",
     "output_type": "stream",
     "text": [
      "2.16.2\n"
     ]
    }
   ],
   "source": [
    "import tensorflow as tf\n",
    "print(tf.__version__)"
   ]
  },
  {
   "cell_type": "code",
   "execution_count": 3,
   "id": "0f293037-1be5-47fe-bf82-5a6d8f7f5675",
   "metadata": {},
   "outputs": [
    {
     "name": "stdout",
     "output_type": "stream",
     "text": [
      "Num GPUs Available:  1\n"
     ]
    }
   ],
   "source": [
    "print(\"Num GPUs Available: \", len(tf.config.list_physical_devices('GPU')))"
   ]
  },
  {
   "cell_type": "markdown",
   "id": "544646b1-9ad4-4548-8a92-97418390cc4f",
   "metadata": {},
   "source": [
    "# Processing all images"
   ]
  },
  {
   "cell_type": "code",
   "execution_count": 4,
   "id": "cee94bbc-7ec6-43f3-8388-3ce25829ff98",
   "metadata": {},
   "outputs": [
    {
     "name": "stdout",
     "output_type": "stream",
     "text": [
      "TRUE: 15321 images with shape (64, 60)\n",
      "FALSE: 10718 images with shape (64, 60)\n",
      "CPU times: user 560 ms, sys: 756 ms, total: 1.32 s\n",
      "Wall time: 1.82 s\n"
     ]
    }
   ],
   "source": [
    "%%time\n",
    "images_True = []\n",
    "images_False = []\n",
    "image_dir = \"data/images_small/traning/20-day/\"\n",
    "dirist = [x for x in os.listdir(image_dir) if not x.startswith(\".\")]\n",
    "for folder_name in dirist:\n",
    "    folder_dir = os.path.join(image_dir, folder_name)\n",
    "    for file_name in os.listdir(folder_dir):\n",
    "        file_dir = os.path.join(folder_dir, file_name)\n",
    "        label = 1 if file_dir.strip().endswith(\"True.png\") else 0\n",
    "        img = cv2.imread(file_dir, cv2.IMREAD_GRAYSCALE)\n",
    "        if label == 1:\n",
    "            images_True.append(img)\n",
    "        else:\n",
    "            images_False.append(img)\n",
    "images_True = np.array(images_True)\n",
    "#images_True = images_True / 255.0 # --> Apparently Kelly does not scale betwen 0 and 1\n",
    "\n",
    "images_False = np.array(images_False)\n",
    "#images_False = images_False / 255.0\n",
    "\n",
    "print(f\"TRUE: {len(images_True)} images with shape {images_True[0].shape}\")\n",
    "print(f\"FALSE: {len(images_False)} images with shape {images_False[0].shape}\")"
   ]
  },
  {
   "cell_type": "code",
   "execution_count": 5,
   "id": "58c505f4-e90a-4e35-949f-ab7f7b5b6b53",
   "metadata": {},
   "outputs": [
    {
     "name": "stdout",
     "output_type": "stream",
     "text": [
      "The total memory usage of the image list is approximately 0.057 GB.\n",
      "The total memory usage of the image list is approximately 0.040 GB.\n"
     ]
    }
   ],
   "source": [
    "def calculate_memory_usage(image_list):\n",
    "    total_bytes = sys.getsizeof(image_list)  # Get the size of the list itself\n",
    "    for img in image_list:\n",
    "        total_bytes += sys.getsizeof(img)  # Add the size of each image array\n",
    "    \n",
    "    total_gb = total_bytes / (1024 ** 3)  # Convert bytes to gigabytes\n",
    "    print(f\"The total memory usage of the image list is approximately {total_gb:.3f} GB.\")\n",
    "\n",
    "calculate_memory_usage(images_True)\n",
    "calculate_memory_usage(images_False)"
   ]
  },
  {
   "cell_type": "code",
   "execution_count": 6,
   "id": "0c290b46-11a0-424e-b38f-2fc1d331c9c7",
   "metadata": {},
   "outputs": [
    {
     "name": "stdout",
     "output_type": "stream",
     "text": [
      "Training set: 15005 samples\n",
      "Test set: 6431 samples\n",
      "Image shape: (64, 60)\n"
     ]
    }
   ],
   "source": [
    "from sklearn.model_selection import train_test_split\n",
    "\n",
    "# Step 1: Assign labels\n",
    "true_labels = np.ones(len(images_True))  # Label 1 for True images\n",
    "false_labels = np.zeros(len(images_False))  # Label 0 for False images\n",
    "\n",
    "# Step 1.5: Balance the dataset\n",
    "# As we have 4603 more true images than false we will remove these \n",
    "indices_to_keep = np.arange(len(images_True))  # Create an array of indices\n",
    "indices_to_remove = np.random.choice(indices_to_keep, size=4603, replace=False)  # Randomly select 21,706 indices\n",
    "indices_to_keep = np.setdiff1d(indices_to_keep, indices_to_remove)  # Get indices to keep\n",
    "# Filter the images and labels based on the indices\n",
    "images_True = images_True[indices_to_keep]\n",
    "true_labels = true_labels[indices_to_keep]\n",
    "\n",
    "# Step 2: Combine images and labels\n",
    "images = np.concatenate([images_True, images_False], axis=0)\n",
    "labels = np.concatenate([true_labels, false_labels], axis=0)\n",
    "\n",
    "# Step 3: Shuffle and split into training and testing sets\n",
    "X_train, X_test, y_train, y_test = train_test_split(\n",
    "    images, labels, test_size=0.3, random_state=42, stratify=labels\n",
    ")\n",
    "\n",
    "# Output the results\n",
    "print(f\"Training set: {X_train.shape[0]} samples\")\n",
    "print(f\"Test set: {X_test.shape[0]} samples\")\n",
    "print(f\"Image shape: {X_train[0].shape}\")"
   ]
  },
  {
   "cell_type": "markdown",
   "id": "afe0de78-e89e-4810-962f-00feb9bc80d2",
   "metadata": {},
   "source": [
    "### Calculate some metris to make sure that the traning data is balances with respect to the labels"
   ]
  },
  {
   "cell_type": "code",
   "execution_count": 7,
   "id": "e7732ffb-3fb1-454b-be06-50011e282f33",
   "metadata": {},
   "outputs": [
    {
     "data": {
      "text/plain": [
       "10718"
      ]
     },
     "execution_count": 7,
     "metadata": {},
     "output_type": "execute_result"
    }
   ],
   "source": [
    "len(true_labels)"
   ]
  },
  {
   "cell_type": "code",
   "execution_count": 8,
   "id": "0d15943a-ed7a-4ec0-be72-dd63600c2b31",
   "metadata": {},
   "outputs": [
    {
     "data": {
      "text/plain": [
       "10718"
      ]
     },
     "execution_count": 8,
     "metadata": {},
     "output_type": "execute_result"
    }
   ],
   "source": [
    "len(false_labels)"
   ]
  },
  {
   "cell_type": "code",
   "execution_count": 9,
   "id": "74319c5a-d15f-4bf2-a693-235d8cc4165f",
   "metadata": {},
   "outputs": [
    {
     "data": {
      "text/plain": [
       "0.5000333222259247"
      ]
     },
     "execution_count": 9,
     "metadata": {},
     "output_type": "execute_result"
    }
   ],
   "source": [
    "y_train.mean()"
   ]
  },
  {
   "cell_type": "markdown",
   "id": "77bc3ad8-7634-402b-a0f8-20ee145d417e",
   "metadata": {},
   "source": [
    "# Building the model"
   ]
  },
  {
   "cell_type": "code",
   "execution_count": 18,
   "id": "0f14cf79-aea3-47c5-926e-1d213404deb6",
   "metadata": {},
   "outputs": [],
   "source": [
    "from tensorflow.keras import models, layers\n",
    "from tensorflow.keras.optimizers import Adam\n",
    "from tensorflow.keras.initializers import GlorotUniform  # Xavier initializer\n",
    "\n",
    "def build_cnn_model(input_shape=(64, 60)):\n",
    "    model = models.Sequential([\n",
    "        # First Convolutional Block\n",
    "        layers.Conv2D(64, (5, 3), padding='same', kernel_initializer=GlorotUniform(), \n",
    "                      dilation_rate=(2, 1), input_shape=(*input_shape, 1)),  # Dilation only\n",
    "        layers.BatchNormalization(),  # Batch normalization\n",
    "        layers.LeakyReLU(alpha=0.1),  # Leaky ReLU with alpha=0.1\n",
    "        layers.MaxPooling2D((3, 1)),  # Simulating vertical strides\n",
    "        \n",
    "        # Second Convolutional Block\n",
    "        layers.Conv2D(128, (5, 3), padding='same', kernel_initializer=GlorotUniform(),\n",
    "                      strides=(1, 1), dilation_rate=(1, 1)),  # Regular convolution\n",
    "        layers.BatchNormalization(),  # Batch normalization\n",
    "        layers.LeakyReLU(alpha=0.1),  # Leaky ReLU with alpha=0.1\n",
    "        layers.MaxPooling2D((2, 1)),  # Pooling with size (2, 1)\n",
    "\n",
    "        # Third Convolutional Block\n",
    "        layers.Conv2D(256, (5, 3), padding='same', kernel_initializer=GlorotUniform(),\n",
    "                      strides=(1, 1), dilation_rate=(1, 1)),  # Regular convolution\n",
    "        layers.BatchNormalization(),  # Batch normalization\n",
    "        layers.LeakyReLU(alpha=0.1),  # Leaky ReLU with alpha=0.1\n",
    "        layers.MaxPooling2D((2, 1)),  # Pooling with size (2, 1)\n",
    "        \n",
    "        # Flatten and Fully Connected Layers\n",
    "        layers.Flatten(),\n",
    "        layers.Dense(1, kernel_initializer=GlorotUniform()),  # Fully connected layer\n",
    "        layers.Dropout(0.5),  # 50% dropout\n",
    "        layers.Activation('sigmoid')  # Binary classification (True/False)\n",
    "    ])\n",
    "    \n",
    "    # Use Adam optimizer with a learning rate of 0.01\n",
    "    optimizer = Adam(learning_rate=0.01)\n",
    "    \n",
    "    # Compile the model\n",
    "    model.compile(optimizer=optimizer,\n",
    "                  loss='binary_crossentropy',\n",
    "                  metrics=['accuracy'])\n",
    "    \n",
    "    return model"
   ]
  },
  {
   "cell_type": "code",
   "execution_count": 19,
   "id": "26d46cf5-5f3c-434d-a2a3-5b829f5f1258",
   "metadata": {},
   "outputs": [
    {
     "data": {
      "text/html": [
       "<pre style=\"white-space:pre;overflow-x:auto;line-height:normal;font-family:Menlo,'DejaVu Sans Mono',consolas,'Courier New',monospace\"><span style=\"font-weight: bold\">Model: \"sequential_2\"</span>\n",
       "</pre>\n"
      ],
      "text/plain": [
       "\u001b[1mModel: \"sequential_2\"\u001b[0m\n"
      ]
     },
     "metadata": {},
     "output_type": "display_data"
    },
    {
     "data": {
      "text/html": [
       "<pre style=\"white-space:pre;overflow-x:auto;line-height:normal;font-family:Menlo,'DejaVu Sans Mono',consolas,'Courier New',monospace\">┏━━━━━━━━━━━━━━━━━━━━━━━━━━━━━━━━━┳━━━━━━━━━━━━━━━━━━━━━━━━┳━━━━━━━━━━━━━━━┓\n",
       "┃<span style=\"font-weight: bold\"> Layer (type)                    </span>┃<span style=\"font-weight: bold\"> Output Shape           </span>┃<span style=\"font-weight: bold\">       Param # </span>┃\n",
       "┡━━━━━━━━━━━━━━━━━━━━━━━━━━━━━━━━━╇━━━━━━━━━━━━━━━━━━━━━━━━╇━━━━━━━━━━━━━━━┩\n",
       "│ conv2d_7 (<span style=\"color: #0087ff; text-decoration-color: #0087ff\">Conv2D</span>)               │ (<span style=\"color: #00d7ff; text-decoration-color: #00d7ff\">None</span>, <span style=\"color: #00af00; text-decoration-color: #00af00\">64</span>, <span style=\"color: #00af00; text-decoration-color: #00af00\">60</span>, <span style=\"color: #00af00; text-decoration-color: #00af00\">64</span>)     │         <span style=\"color: #00af00; text-decoration-color: #00af00\">1,024</span> │\n",
       "├─────────────────────────────────┼────────────────────────┼───────────────┤\n",
       "│ batch_normalization_6           │ (<span style=\"color: #00d7ff; text-decoration-color: #00d7ff\">None</span>, <span style=\"color: #00af00; text-decoration-color: #00af00\">64</span>, <span style=\"color: #00af00; text-decoration-color: #00af00\">60</span>, <span style=\"color: #00af00; text-decoration-color: #00af00\">64</span>)     │           <span style=\"color: #00af00; text-decoration-color: #00af00\">256</span> │\n",
       "│ (<span style=\"color: #0087ff; text-decoration-color: #0087ff\">BatchNormalization</span>)            │                        │               │\n",
       "├─────────────────────────────────┼────────────────────────┼───────────────┤\n",
       "│ leaky_re_lu_6 (<span style=\"color: #0087ff; text-decoration-color: #0087ff\">LeakyReLU</span>)       │ (<span style=\"color: #00d7ff; text-decoration-color: #00d7ff\">None</span>, <span style=\"color: #00af00; text-decoration-color: #00af00\">64</span>, <span style=\"color: #00af00; text-decoration-color: #00af00\">60</span>, <span style=\"color: #00af00; text-decoration-color: #00af00\">64</span>)     │             <span style=\"color: #00af00; text-decoration-color: #00af00\">0</span> │\n",
       "├─────────────────────────────────┼────────────────────────┼───────────────┤\n",
       "│ max_pooling2d_6 (<span style=\"color: #0087ff; text-decoration-color: #0087ff\">MaxPooling2D</span>)  │ (<span style=\"color: #00d7ff; text-decoration-color: #00d7ff\">None</span>, <span style=\"color: #00af00; text-decoration-color: #00af00\">21</span>, <span style=\"color: #00af00; text-decoration-color: #00af00\">60</span>, <span style=\"color: #00af00; text-decoration-color: #00af00\">64</span>)     │             <span style=\"color: #00af00; text-decoration-color: #00af00\">0</span> │\n",
       "├─────────────────────────────────┼────────────────────────┼───────────────┤\n",
       "│ conv2d_8 (<span style=\"color: #0087ff; text-decoration-color: #0087ff\">Conv2D</span>)               │ (<span style=\"color: #00d7ff; text-decoration-color: #00d7ff\">None</span>, <span style=\"color: #00af00; text-decoration-color: #00af00\">21</span>, <span style=\"color: #00af00; text-decoration-color: #00af00\">60</span>, <span style=\"color: #00af00; text-decoration-color: #00af00\">128</span>)    │       <span style=\"color: #00af00; text-decoration-color: #00af00\">123,008</span> │\n",
       "├─────────────────────────────────┼────────────────────────┼───────────────┤\n",
       "│ batch_normalization_7           │ (<span style=\"color: #00d7ff; text-decoration-color: #00d7ff\">None</span>, <span style=\"color: #00af00; text-decoration-color: #00af00\">21</span>, <span style=\"color: #00af00; text-decoration-color: #00af00\">60</span>, <span style=\"color: #00af00; text-decoration-color: #00af00\">128</span>)    │           <span style=\"color: #00af00; text-decoration-color: #00af00\">512</span> │\n",
       "│ (<span style=\"color: #0087ff; text-decoration-color: #0087ff\">BatchNormalization</span>)            │                        │               │\n",
       "├─────────────────────────────────┼────────────────────────┼───────────────┤\n",
       "│ leaky_re_lu_7 (<span style=\"color: #0087ff; text-decoration-color: #0087ff\">LeakyReLU</span>)       │ (<span style=\"color: #00d7ff; text-decoration-color: #00d7ff\">None</span>, <span style=\"color: #00af00; text-decoration-color: #00af00\">21</span>, <span style=\"color: #00af00; text-decoration-color: #00af00\">60</span>, <span style=\"color: #00af00; text-decoration-color: #00af00\">128</span>)    │             <span style=\"color: #00af00; text-decoration-color: #00af00\">0</span> │\n",
       "├─────────────────────────────────┼────────────────────────┼───────────────┤\n",
       "│ max_pooling2d_7 (<span style=\"color: #0087ff; text-decoration-color: #0087ff\">MaxPooling2D</span>)  │ (<span style=\"color: #00d7ff; text-decoration-color: #00d7ff\">None</span>, <span style=\"color: #00af00; text-decoration-color: #00af00\">10</span>, <span style=\"color: #00af00; text-decoration-color: #00af00\">60</span>, <span style=\"color: #00af00; text-decoration-color: #00af00\">128</span>)    │             <span style=\"color: #00af00; text-decoration-color: #00af00\">0</span> │\n",
       "├─────────────────────────────────┼────────────────────────┼───────────────┤\n",
       "│ conv2d_9 (<span style=\"color: #0087ff; text-decoration-color: #0087ff\">Conv2D</span>)               │ (<span style=\"color: #00d7ff; text-decoration-color: #00d7ff\">None</span>, <span style=\"color: #00af00; text-decoration-color: #00af00\">10</span>, <span style=\"color: #00af00; text-decoration-color: #00af00\">60</span>, <span style=\"color: #00af00; text-decoration-color: #00af00\">256</span>)    │       <span style=\"color: #00af00; text-decoration-color: #00af00\">491,776</span> │\n",
       "├─────────────────────────────────┼────────────────────────┼───────────────┤\n",
       "│ batch_normalization_8           │ (<span style=\"color: #00d7ff; text-decoration-color: #00d7ff\">None</span>, <span style=\"color: #00af00; text-decoration-color: #00af00\">10</span>, <span style=\"color: #00af00; text-decoration-color: #00af00\">60</span>, <span style=\"color: #00af00; text-decoration-color: #00af00\">256</span>)    │         <span style=\"color: #00af00; text-decoration-color: #00af00\">1,024</span> │\n",
       "│ (<span style=\"color: #0087ff; text-decoration-color: #0087ff\">BatchNormalization</span>)            │                        │               │\n",
       "├─────────────────────────────────┼────────────────────────┼───────────────┤\n",
       "│ leaky_re_lu_8 (<span style=\"color: #0087ff; text-decoration-color: #0087ff\">LeakyReLU</span>)       │ (<span style=\"color: #00d7ff; text-decoration-color: #00d7ff\">None</span>, <span style=\"color: #00af00; text-decoration-color: #00af00\">10</span>, <span style=\"color: #00af00; text-decoration-color: #00af00\">60</span>, <span style=\"color: #00af00; text-decoration-color: #00af00\">256</span>)    │             <span style=\"color: #00af00; text-decoration-color: #00af00\">0</span> │\n",
       "├─────────────────────────────────┼────────────────────────┼───────────────┤\n",
       "│ max_pooling2d_8 (<span style=\"color: #0087ff; text-decoration-color: #0087ff\">MaxPooling2D</span>)  │ (<span style=\"color: #00d7ff; text-decoration-color: #00d7ff\">None</span>, <span style=\"color: #00af00; text-decoration-color: #00af00\">5</span>, <span style=\"color: #00af00; text-decoration-color: #00af00\">60</span>, <span style=\"color: #00af00; text-decoration-color: #00af00\">256</span>)     │             <span style=\"color: #00af00; text-decoration-color: #00af00\">0</span> │\n",
       "├─────────────────────────────────┼────────────────────────┼───────────────┤\n",
       "│ flatten_2 (<span style=\"color: #0087ff; text-decoration-color: #0087ff\">Flatten</span>)             │ (<span style=\"color: #00d7ff; text-decoration-color: #00d7ff\">None</span>, <span style=\"color: #00af00; text-decoration-color: #00af00\">76800</span>)          │             <span style=\"color: #00af00; text-decoration-color: #00af00\">0</span> │\n",
       "├─────────────────────────────────┼────────────────────────┼───────────────┤\n",
       "│ dense_2 (<span style=\"color: #0087ff; text-decoration-color: #0087ff\">Dense</span>)                 │ (<span style=\"color: #00d7ff; text-decoration-color: #00d7ff\">None</span>, <span style=\"color: #00af00; text-decoration-color: #00af00\">1</span>)              │        <span style=\"color: #00af00; text-decoration-color: #00af00\">76,801</span> │\n",
       "├─────────────────────────────────┼────────────────────────┼───────────────┤\n",
       "│ dropout_2 (<span style=\"color: #0087ff; text-decoration-color: #0087ff\">Dropout</span>)             │ (<span style=\"color: #00d7ff; text-decoration-color: #00d7ff\">None</span>, <span style=\"color: #00af00; text-decoration-color: #00af00\">1</span>)              │             <span style=\"color: #00af00; text-decoration-color: #00af00\">0</span> │\n",
       "├─────────────────────────────────┼────────────────────────┼───────────────┤\n",
       "│ activation_2 (<span style=\"color: #0087ff; text-decoration-color: #0087ff\">Activation</span>)       │ (<span style=\"color: #00d7ff; text-decoration-color: #00d7ff\">None</span>, <span style=\"color: #00af00; text-decoration-color: #00af00\">1</span>)              │             <span style=\"color: #00af00; text-decoration-color: #00af00\">0</span> │\n",
       "└─────────────────────────────────┴────────────────────────┴───────────────┘\n",
       "</pre>\n"
      ],
      "text/plain": [
       "┏━━━━━━━━━━━━━━━━━━━━━━━━━━━━━━━━━┳━━━━━━━━━━━━━━━━━━━━━━━━┳━━━━━━━━━━━━━━━┓\n",
       "┃\u001b[1m \u001b[0m\u001b[1mLayer (type)                   \u001b[0m\u001b[1m \u001b[0m┃\u001b[1m \u001b[0m\u001b[1mOutput Shape          \u001b[0m\u001b[1m \u001b[0m┃\u001b[1m \u001b[0m\u001b[1m      Param #\u001b[0m\u001b[1m \u001b[0m┃\n",
       "┡━━━━━━━━━━━━━━━━━━━━━━━━━━━━━━━━━╇━━━━━━━━━━━━━━━━━━━━━━━━╇━━━━━━━━━━━━━━━┩\n",
       "│ conv2d_7 (\u001b[38;5;33mConv2D\u001b[0m)               │ (\u001b[38;5;45mNone\u001b[0m, \u001b[38;5;34m64\u001b[0m, \u001b[38;5;34m60\u001b[0m, \u001b[38;5;34m64\u001b[0m)     │         \u001b[38;5;34m1,024\u001b[0m │\n",
       "├─────────────────────────────────┼────────────────────────┼───────────────┤\n",
       "│ batch_normalization_6           │ (\u001b[38;5;45mNone\u001b[0m, \u001b[38;5;34m64\u001b[0m, \u001b[38;5;34m60\u001b[0m, \u001b[38;5;34m64\u001b[0m)     │           \u001b[38;5;34m256\u001b[0m │\n",
       "│ (\u001b[38;5;33mBatchNormalization\u001b[0m)            │                        │               │\n",
       "├─────────────────────────────────┼────────────────────────┼───────────────┤\n",
       "│ leaky_re_lu_6 (\u001b[38;5;33mLeakyReLU\u001b[0m)       │ (\u001b[38;5;45mNone\u001b[0m, \u001b[38;5;34m64\u001b[0m, \u001b[38;5;34m60\u001b[0m, \u001b[38;5;34m64\u001b[0m)     │             \u001b[38;5;34m0\u001b[0m │\n",
       "├─────────────────────────────────┼────────────────────────┼───────────────┤\n",
       "│ max_pooling2d_6 (\u001b[38;5;33mMaxPooling2D\u001b[0m)  │ (\u001b[38;5;45mNone\u001b[0m, \u001b[38;5;34m21\u001b[0m, \u001b[38;5;34m60\u001b[0m, \u001b[38;5;34m64\u001b[0m)     │             \u001b[38;5;34m0\u001b[0m │\n",
       "├─────────────────────────────────┼────────────────────────┼───────────────┤\n",
       "│ conv2d_8 (\u001b[38;5;33mConv2D\u001b[0m)               │ (\u001b[38;5;45mNone\u001b[0m, \u001b[38;5;34m21\u001b[0m, \u001b[38;5;34m60\u001b[0m, \u001b[38;5;34m128\u001b[0m)    │       \u001b[38;5;34m123,008\u001b[0m │\n",
       "├─────────────────────────────────┼────────────────────────┼───────────────┤\n",
       "│ batch_normalization_7           │ (\u001b[38;5;45mNone\u001b[0m, \u001b[38;5;34m21\u001b[0m, \u001b[38;5;34m60\u001b[0m, \u001b[38;5;34m128\u001b[0m)    │           \u001b[38;5;34m512\u001b[0m │\n",
       "│ (\u001b[38;5;33mBatchNormalization\u001b[0m)            │                        │               │\n",
       "├─────────────────────────────────┼────────────────────────┼───────────────┤\n",
       "│ leaky_re_lu_7 (\u001b[38;5;33mLeakyReLU\u001b[0m)       │ (\u001b[38;5;45mNone\u001b[0m, \u001b[38;5;34m21\u001b[0m, \u001b[38;5;34m60\u001b[0m, \u001b[38;5;34m128\u001b[0m)    │             \u001b[38;5;34m0\u001b[0m │\n",
       "├─────────────────────────────────┼────────────────────────┼───────────────┤\n",
       "│ max_pooling2d_7 (\u001b[38;5;33mMaxPooling2D\u001b[0m)  │ (\u001b[38;5;45mNone\u001b[0m, \u001b[38;5;34m10\u001b[0m, \u001b[38;5;34m60\u001b[0m, \u001b[38;5;34m128\u001b[0m)    │             \u001b[38;5;34m0\u001b[0m │\n",
       "├─────────────────────────────────┼────────────────────────┼───────────────┤\n",
       "│ conv2d_9 (\u001b[38;5;33mConv2D\u001b[0m)               │ (\u001b[38;5;45mNone\u001b[0m, \u001b[38;5;34m10\u001b[0m, \u001b[38;5;34m60\u001b[0m, \u001b[38;5;34m256\u001b[0m)    │       \u001b[38;5;34m491,776\u001b[0m │\n",
       "├─────────────────────────────────┼────────────────────────┼───────────────┤\n",
       "│ batch_normalization_8           │ (\u001b[38;5;45mNone\u001b[0m, \u001b[38;5;34m10\u001b[0m, \u001b[38;5;34m60\u001b[0m, \u001b[38;5;34m256\u001b[0m)    │         \u001b[38;5;34m1,024\u001b[0m │\n",
       "│ (\u001b[38;5;33mBatchNormalization\u001b[0m)            │                        │               │\n",
       "├─────────────────────────────────┼────────────────────────┼───────────────┤\n",
       "│ leaky_re_lu_8 (\u001b[38;5;33mLeakyReLU\u001b[0m)       │ (\u001b[38;5;45mNone\u001b[0m, \u001b[38;5;34m10\u001b[0m, \u001b[38;5;34m60\u001b[0m, \u001b[38;5;34m256\u001b[0m)    │             \u001b[38;5;34m0\u001b[0m │\n",
       "├─────────────────────────────────┼────────────────────────┼───────────────┤\n",
       "│ max_pooling2d_8 (\u001b[38;5;33mMaxPooling2D\u001b[0m)  │ (\u001b[38;5;45mNone\u001b[0m, \u001b[38;5;34m5\u001b[0m, \u001b[38;5;34m60\u001b[0m, \u001b[38;5;34m256\u001b[0m)     │             \u001b[38;5;34m0\u001b[0m │\n",
       "├─────────────────────────────────┼────────────────────────┼───────────────┤\n",
       "│ flatten_2 (\u001b[38;5;33mFlatten\u001b[0m)             │ (\u001b[38;5;45mNone\u001b[0m, \u001b[38;5;34m76800\u001b[0m)          │             \u001b[38;5;34m0\u001b[0m │\n",
       "├─────────────────────────────────┼────────────────────────┼───────────────┤\n",
       "│ dense_2 (\u001b[38;5;33mDense\u001b[0m)                 │ (\u001b[38;5;45mNone\u001b[0m, \u001b[38;5;34m1\u001b[0m)              │        \u001b[38;5;34m76,801\u001b[0m │\n",
       "├─────────────────────────────────┼────────────────────────┼───────────────┤\n",
       "│ dropout_2 (\u001b[38;5;33mDropout\u001b[0m)             │ (\u001b[38;5;45mNone\u001b[0m, \u001b[38;5;34m1\u001b[0m)              │             \u001b[38;5;34m0\u001b[0m │\n",
       "├─────────────────────────────────┼────────────────────────┼───────────────┤\n",
       "│ activation_2 (\u001b[38;5;33mActivation\u001b[0m)       │ (\u001b[38;5;45mNone\u001b[0m, \u001b[38;5;34m1\u001b[0m)              │             \u001b[38;5;34m0\u001b[0m │\n",
       "└─────────────────────────────────┴────────────────────────┴───────────────┘\n"
      ]
     },
     "metadata": {},
     "output_type": "display_data"
    },
    {
     "data": {
      "text/html": [
       "<pre style=\"white-space:pre;overflow-x:auto;line-height:normal;font-family:Menlo,'DejaVu Sans Mono',consolas,'Courier New',monospace\"><span style=\"font-weight: bold\"> Total params: </span><span style=\"color: #00af00; text-decoration-color: #00af00\">694,401</span> (2.65 MB)\n",
       "</pre>\n"
      ],
      "text/plain": [
       "\u001b[1m Total params: \u001b[0m\u001b[38;5;34m694,401\u001b[0m (2.65 MB)\n"
      ]
     },
     "metadata": {},
     "output_type": "display_data"
    },
    {
     "data": {
      "text/html": [
       "<pre style=\"white-space:pre;overflow-x:auto;line-height:normal;font-family:Menlo,'DejaVu Sans Mono',consolas,'Courier New',monospace\"><span style=\"font-weight: bold\"> Trainable params: </span><span style=\"color: #00af00; text-decoration-color: #00af00\">693,505</span> (2.65 MB)\n",
       "</pre>\n"
      ],
      "text/plain": [
       "\u001b[1m Trainable params: \u001b[0m\u001b[38;5;34m693,505\u001b[0m (2.65 MB)\n"
      ]
     },
     "metadata": {},
     "output_type": "display_data"
    },
    {
     "data": {
      "text/html": [
       "<pre style=\"white-space:pre;overflow-x:auto;line-height:normal;font-family:Menlo,'DejaVu Sans Mono',consolas,'Courier New',monospace\"><span style=\"font-weight: bold\"> Non-trainable params: </span><span style=\"color: #00af00; text-decoration-color: #00af00\">896</span> (3.50 KB)\n",
       "</pre>\n"
      ],
      "text/plain": [
       "\u001b[1m Non-trainable params: \u001b[0m\u001b[38;5;34m896\u001b[0m (3.50 KB)\n"
      ]
     },
     "metadata": {},
     "output_type": "display_data"
    }
   ],
   "source": [
    "# Build the model\n",
    "model = build_cnn_model()\n",
    "\n",
    "# Summary of the model\n",
    "model.summary()"
   ]
  },
  {
   "cell_type": "markdown",
   "id": "6d79cfed-566d-41ab-8b14-e9dd8d23b7cf",
   "metadata": {},
   "source": [
    "# Traning the model"
   ]
  },
  {
   "cell_type": "code",
   "execution_count": 20,
   "id": "082e59a0-5273-43b0-bf55-b30dbe23451b",
   "metadata": {},
   "outputs": [
    {
     "name": "stdout",
     "output_type": "stream",
     "text": [
      "Epoch 1/25\n"
     ]
    },
    {
     "name": "stderr",
     "output_type": "stream",
     "text": [
      "2024-11-26 14:23:17.887172: I tensorflow/core/grappler/optimizers/custom_graph_optimizer_registry.cc:117] Plugin optimizer for device_type GPU is enabled.\n"
     ]
    },
    {
     "name": "stdout",
     "output_type": "stream",
     "text": [
      "\u001b[1m83/83\u001b[0m \u001b[32m━━━━━━━━━━━━━━━━━━━━\u001b[0m\u001b[37m\u001b[0m \u001b[1m34s\u001b[0m 335ms/step - accuracy: 0.5039 - loss: 33.2083 - val_accuracy: 0.5131 - val_loss: 18.0663 - learning_rate: 0.0100\n",
      "Epoch 2/25\n",
      "\u001b[1m83/83\u001b[0m \u001b[32m━━━━━━━━━━━━━━━━━━━━\u001b[0m\u001b[37m\u001b[0m \u001b[1m26s\u001b[0m 309ms/step - accuracy: 0.5023 - loss: 2.7524 - val_accuracy: 0.5002 - val_loss: 1.2579 - learning_rate: 0.0100\n",
      "Epoch 3/25\n",
      "\u001b[1m83/83\u001b[0m \u001b[32m━━━━━━━━━━━━━━━━━━━━\u001b[0m\u001b[37m\u001b[0m \u001b[1m26s\u001b[0m 312ms/step - accuracy: 0.5108 - loss: 1.1844 - val_accuracy: 0.5200 - val_loss: 0.9643 - learning_rate: 0.0100\n",
      "Epoch 4/25\n",
      "\u001b[1m83/83\u001b[0m \u001b[32m━━━━━━━━━━━━━━━━━━━━\u001b[0m\u001b[37m\u001b[0m \u001b[1m25s\u001b[0m 307ms/step - accuracy: 0.5140 - loss: 0.8725 - val_accuracy: 0.5131 - val_loss: 1.2294 - learning_rate: 0.0100\n",
      "Epoch 5/25\n",
      "\u001b[1m83/83\u001b[0m \u001b[32m━━━━━━━━━━━━━━━━━━━━\u001b[0m\u001b[37m\u001b[0m \u001b[1m26s\u001b[0m 310ms/step - accuracy: 0.5133 - loss: 0.9054 - val_accuracy: 0.5486 - val_loss: 0.6885 - learning_rate: 1.0000e-03\n",
      "Epoch 6/25\n",
      "\u001b[1m83/83\u001b[0m \u001b[32m━━━━━━━━━━━━━━━━━━━━\u001b[0m\u001b[37m\u001b[0m \u001b[1m26s\u001b[0m 308ms/step - accuracy: 0.5281 - loss: 0.6955 - val_accuracy: 0.5122 - val_loss: 0.7015 - learning_rate: 1.0000e-03\n",
      "Epoch 7/25\n",
      "\u001b[1m83/83\u001b[0m \u001b[32m━━━━━━━━━━━━━━━━━━━━\u001b[0m\u001b[37m\u001b[0m \u001b[1m25s\u001b[0m 307ms/step - accuracy: 0.5400 - loss: 0.6946 - val_accuracy: 0.5484 - val_loss: 0.6827 - learning_rate: 1.0000e-04\n",
      "Epoch 8/25\n",
      "\u001b[1m83/83\u001b[0m \u001b[32m━━━━━━━━━━━━━━━━━━━━\u001b[0m\u001b[37m\u001b[0m \u001b[1m25s\u001b[0m 305ms/step - accuracy: 0.5336 - loss: 0.6861 - val_accuracy: 0.5411 - val_loss: 0.6869 - learning_rate: 1.0000e-04\n",
      "Epoch 9/25\n",
      "\u001b[1m83/83\u001b[0m \u001b[32m━━━━━━━━━━━━━━━━━━━━\u001b[0m\u001b[37m\u001b[0m \u001b[1m25s\u001b[0m 307ms/step - accuracy: 0.5447 - loss: 0.6828 - val_accuracy: 0.5515 - val_loss: 0.6823 - learning_rate: 1.0000e-05\n",
      "Epoch 10/25\n",
      "\u001b[1m83/83\u001b[0m \u001b[32m━━━━━━━━━━━━━━━━━━━━\u001b[0m\u001b[37m\u001b[0m \u001b[1m25s\u001b[0m 306ms/step - accuracy: 0.5384 - loss: 0.6823 - val_accuracy: 0.5509 - val_loss: 0.6827 - learning_rate: 1.0000e-05\n",
      "Epoch 11/25\n",
      "\u001b[1m83/83\u001b[0m \u001b[32m━━━━━━━━━━━━━━━━━━━━\u001b[0m\u001b[37m\u001b[0m \u001b[1m25s\u001b[0m 307ms/step - accuracy: 0.5367 - loss: 0.6817 - val_accuracy: 0.5495 - val_loss: 0.6827 - learning_rate: 1.0000e-06\n"
     ]
    }
   ],
   "source": [
    "from tensorflow.keras.callbacks import EarlyStopping, ReduceLROnPlateau\n",
    "\n",
    "# Create an EarlyStopping callback\n",
    "early_stopping = EarlyStopping(\n",
    "    monitor='val_loss', \n",
    "    mode='min',  \n",
    "    patience=2,  \n",
    "    restore_best_weights=True\n",
    ")\n",
    "\n",
    "# Create a ReduceLROnPlateau callback\n",
    "reduce_lr = ReduceLROnPlateau(\n",
    "    monitor='val_loss', \n",
    "    factor=0.1,\n",
    "    patience=1,  \n",
    "    min_lr=1e-6\n",
    ")\n",
    "\n",
    "# Store the callbacks in a list\n",
    "callbacks = [early_stopping, reduce_lr]\n",
    "\n",
    "# Train the model with the callbacks\n",
    "history = model.fit(\n",
    "    x=X_train,\n",
    "    y=y_train,\n",
    "    batch_size=128,\n",
    "    epochs=25,\n",
    "    validation_split=0.3,\n",
    "    callbacks=callbacks\n",
    ").history\n"
   ]
  },
  {
   "cell_type": "markdown",
   "id": "e88471a9-58e8-4246-b4da-d26721506a4f",
   "metadata": {},
   "source": [
    "# Using the model"
   ]
  },
  {
   "cell_type": "markdown",
   "id": "442e5e43-5ba0-4545-94bf-41d254a0495b",
   "metadata": {},
   "source": [
    "First we predict the labels for the test images, making sure that all the shapes allign"
   ]
  },
  {
   "cell_type": "code",
   "execution_count": 21,
   "id": "10d55778-c55d-40c3-9a1f-822e156c22c8",
   "metadata": {},
   "outputs": [
    {
     "name": "stdout",
     "output_type": "stream",
     "text": [
      "Predictions Shape: (6431, 1)\n"
     ]
    }
   ],
   "source": [
    "# Predict labels for the entire test set\n",
    "test_predictions = model.predict(X_test, verbose=0)\n",
    "\n",
    "# Display the shape of the predictions\n",
    "print(\"Predictions Shape:\", test_predictions.shape)"
   ]
  },
  {
   "cell_type": "code",
   "execution_count": 22,
   "id": "dcc81b9d-1416-458e-969b-24674901b6f5",
   "metadata": {},
   "outputs": [
    {
     "name": "stdout",
     "output_type": "stream",
     "text": [
      "y_test Shape: (6431,)\n"
     ]
    }
   ],
   "source": [
    "print(\"y_test Shape:\", y_test.shape)"
   ]
  },
  {
   "cell_type": "markdown",
   "id": "3a999cde-cc21-4241-968d-7ac68eeae1cd",
   "metadata": {},
   "source": [
    "Since we often encountered the problem that the model predicted True for all labels we want to check that that is not the case "
   ]
  },
  {
   "cell_type": "code",
   "execution_count": 23,
   "id": "9b0bf39a-7f84-4ceb-aa45-e397d45de8fe",
   "metadata": {},
   "outputs": [
    {
     "data": {
      "text/plain": [
       "array([[0.4114678 ],\n",
       "       [0.6265601 ],\n",
       "       [0.47618002],\n",
       "       ...,\n",
       "       [0.5285776 ],\n",
       "       [0.5017378 ],\n",
       "       [0.61338794]], dtype=float32)"
      ]
     },
     "execution_count": 23,
     "metadata": {},
     "output_type": "execute_result"
    }
   ],
   "source": [
    "test_predictions"
   ]
  },
  {
   "cell_type": "code",
   "execution_count": 24,
   "id": "e2e66915-035b-4799-aa6d-eec7f989dca2",
   "metadata": {},
   "outputs": [
    {
     "data": {
      "text/plain": [
       "0.50608784"
      ]
     },
     "execution_count": 24,
     "metadata": {},
     "output_type": "execute_result"
    }
   ],
   "source": [
    "test_predictions.mean()"
   ]
  },
  {
   "cell_type": "markdown",
   "id": "c8bda5a6-1903-4f11-a7a7-e7add841f639",
   "metadata": {},
   "source": [
    "Since our model returns a probability of "
   ]
  },
  {
   "cell_type": "code",
   "execution_count": 25,
   "id": "3a1f1591-fab7-4936-a19b-6fcd785e8ab5",
   "metadata": {},
   "outputs": [
    {
     "data": {
      "image/png": "[encoded data removed]",
      "text/plain": [
       "<Figure size 1000x600 with 1 Axes>"
      ]
     },
     "metadata": {},
     "output_type": "display_data"
    },
    {
     "name": "stdout",
     "output_type": "stream",
     "text": [
      "Best cutoff: 0.484 with accuracy: 0.5529\n"
     ]
    }
   ],
   "source": [
    "from sklearn.metrics import accuracy_score\n",
    "\n",
    "def evaluate_cutoff_points(test_predictions, y_test, metric=\"accuracy\", step=0.001):\n",
    "    # Ensure y_test is an integer array\n",
    "    y_test = y_test.astype(int)\n",
    "    \n",
    "    # Define cutoff points\n",
    "    cutoff_points = np.arange(0, 1 + step, step)\n",
    "    scores = []\n",
    "    \n",
    "    # Evaluate each cutoff\n",
    "    for cutoff in cutoff_points:\n",
    "        binary_predictions = np.where(test_predictions > cutoff, 1, 0)\n",
    "        if metric == \"accuracy\":\n",
    "            score = accuracy_score(y_test, binary_predictions)\n",
    "        else:\n",
    "            raise ValueError(f\"Unsupported metric: {metric}\")\n",
    "        scores.append(score)\n",
    "    \n",
    "    # Find the best cutoff\n",
    "    best_index = np.argmax(scores)\n",
    "    best_cutoff = cutoff_points[best_index]\n",
    "    best_score = scores[best_index]\n",
    "    \n",
    "    # Plot performance\n",
    "    plt.figure(figsize=(10, 6))\n",
    "    plt.plot(cutoff_points, scores, marker='o')\n",
    "    plt.title(f\"Performance by Cutoff Point ({metric})\")\n",
    "    plt.xlabel(\"Cutoff Point\")\n",
    "    plt.ylabel(metric.capitalize())\n",
    "    plt.axvline(best_cutoff, color=\"red\", linestyle=\"--\", label=f\"Best Cutoff = {best_cutoff:.2f}\")\n",
    "    plt.legend()\n",
    "    plt.grid(True)\n",
    "    plt.show()\n",
    "    \n",
    "    print(f\"Best cutoff: {best_cutoff:.3f} with {metric}: {best_score:.4f}\")\n",
    "    return best_cutoff\n",
    "\n",
    "# Example usage:\n",
    "# Assuming `test_predictions` contains predicted probabilities and `y_test` is the ground truth\n",
    "best_cutoff = evaluate_cutoff_points(test_predictions, y_test)\n"
   ]
  },
  {
   "cell_type": "code",
   "execution_count": 26,
   "id": "fc71e8b4-baa5-4512-9f02-0489d9b3401b",
   "metadata": {},
   "outputs": [],
   "source": [
    "# Save the trained model to a file with the accuracy included in the filename\n",
    "model_filename = 'models/20-day.keras'\n",
    "model.save(model_filename)"
   ]
  },
  {
   "cell_type": "markdown",
   "id": "06338664-50d2-4480-ae37-ee3e91e97d92",
   "metadata": {},
   "source": [
    "# Some notes about this model:\n",
    "\n",
    "First off, we repilcated kelly's methodology to the T, the only 2 variations from his model are:\n",
    "1. The colour of the moving avg and volume which instad if white are 2 shades of gray\n",
    "2. The data we utilized\n",
    "\n",
    "As it is the model seems to be good enough, we have a 54.6% accuracy in predicting if the next period's return is positive or not, which gives us a roughly 5% edge on the market. While we still need to perform some out of sample testing, its looking promising, Kelly in his paper and resources did not disclose the rough results of the traning, so we cant know weather what we got is similar or completely different. \n",
    "\n",
    "---\n",
    "\n",
    "One thing that we found is not great about this specific model here is that all of the predictions are very very close to 0.5, infact if we take the mean of all the test_predictions its almost exactly 0.5:\n",
    "\n",
    "`test_predictions.mean() = 0.50007045` <br>\n",
    "\n",
    "This suggests that the model may be uncertain or struggling to learn clear patterns in the data. \n",
    "\n",
    "---\n",
    "\n",
    "While the 5-day window in kelly's results seems to be the best performing one, we feel that its a bit strange as there isnt enough history of prices to find meaningful patterns and trends in the OHLC chart, we feel that to perform trades based on technical analysis and price action a trader utilized a much longer history, and therefore we find counterintuitive that the 5 day model performs better than a longer one like the 20 day or the 60 day, we think we will find better results with the bigger time stamps.\n",
    "\n",
    "Anyway we will perform some out of sample testing but utilizing a portfolio structure."
   ]
  },
  {
   "cell_type": "code",
   "execution_count": null,
   "id": "5d4a9d05-5f6a-4683-afb2-44d55a4f1372",
   "metadata": {},
   "outputs": [],
   "source": []
  }
 ],
 "metadata": {
  "kernelspec": {
   "display_name": "Python 3 (ipykernel)",
   "language": "python",
   "name": "python3"
  },
  "language_info": {
   "codemirror_mode": {
    "name": "ipython",
    "version": 3
   },
   "file_extension": ".py",
   "mimetype": "text/x-python",
   "name": "python",
   "nbconvert_exporter": "python",
   "pygments_lexer": "ipython3",
   "version": "3.11.5"
  }
 },
 "nbformat": 4,
 "nbformat_minor": 5
}
