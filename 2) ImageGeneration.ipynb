{
 "cells": [
  {
   "cell_type": "code",
   "execution_count": 1,
   "id": "8aa217a2-b5c0-4705-ae77-e7f8a9ccdffa",
   "metadata": {},
   "outputs": [],
   "source": [
    "import pandas as pd\n",
    "from utils.OHLC import OHLC\n",
    "import os\n",
    "from tqdm import tqdm"
   ]
  },
  {
   "cell_type": "code",
   "execution_count": 2,
   "id": "19892858-3e89-4fc0-b20e-5f29a6d6441f",
   "metadata": {},
   "outputs": [
    {
     "name": "stdout",
     "output_type": "stream",
     "text": [
      "Items in traning: 489\n",
      "Items in out of sample 501\n"
     ]
    }
   ],
   "source": [
    "traning_dir_list = os.listdir(\"data/csv/traning/\")\n",
    "oos_dir_list = os.listdir(\"data/csv/out_of_sample\")\n",
    "print(f\"Items in traning: {len(traning_dir_list)}\")\n",
    "print(f\"Items in out of sample {len(oos_dir_list)}\")"
   ]
  },
  {
   "cell_type": "code",
   "execution_count": 3,
   "id": "cea31c3e-b17c-498a-8823-5d86200b62fb",
   "metadata": {},
   "outputs": [
    {
     "name": "stdout",
     "output_type": "stream",
     "text": [
      "SOLV.csv\n",
      "KVUE.csv\n",
      "ABNB.csv\n",
      "GEHC.csv\n",
      "VLTO.csv\n",
      "AMTM.csv\n",
      "SW.csv\n",
      "CARR.csv\n",
      "PLTR.csv\n",
      "OTIS.csv\n",
      "CEG.csv\n",
      "GEV.csv\n"
     ]
    }
   ],
   "source": [
    "for item in oos_dir_list:\n",
    "    if item not in traning_dir_list:\n",
    "        print(item)"
   ]
  },
  {
   "cell_type": "markdown",
   "id": "7308ee00-b98c-4789-8cb6-98b5af996af3",
   "metadata": {},
   "source": [
    "# 5 Day Window"
   ]
  },
  {
   "cell_type": "markdown",
   "id": "1678ac84-63b4-445d-b9f1-b11a98cd83d1",
   "metadata": {},
   "source": [
    "### Traning Set"
   ]
  },
  {
   "cell_type": "code",
   "execution_count": 4,
   "id": "1f90847c-4740-4227-859b-10561f015b8d",
   "metadata": {
    "scrolled": true
   },
   "outputs": [
    {
     "name": "stderr",
     "output_type": "stream",
     "text": [
      " 54%|█████▎    | 262/489 [01:30<01:17,  2.91it/s]"
     ]
    },
    {
     "name": "stdout",
     "output_type": "stream",
     "text": [
      "There is a problem with the scaling min and max are the same not able to plot\n",
      "There is a problem with the scaling min and max are the same not able to plot\n",
      "Problem with volume\n",
      "There is a problem with the scaling min and max are the same not able to plot\n",
      "There is a problem with the scaling min and max are the same not able to plot\n",
      "There is a problem with the scaling min and max are the same not able to plot\n",
      "There is a problem with the scaling min and max are the same not able to plot\n",
      "There is a problem with the scaling min and max are the same not able to plot\n",
      "There is a problem with the scaling min and max are the same not able to plot\n",
      "There is a problem with the scaling min and max are the same not able to plot\n",
      "There is a problem with the scaling min and max are the same not able to plot\n",
      "Problem with volume\n",
      "There is a problem with the scaling min and max are the same not able to plot\n",
      "There is a problem with the scaling min and max are the same not able to plot\n",
      "There is a problem with the scaling min and max are the same not able to plot\n",
      "There is a problem with the scaling min and max are the same not able to plot\n",
      "There is a problem with the scaling min and max are the same not able to plot\n",
      "Problem with volume\n",
      "Problem with volume\n",
      "There is a problem with the scaling min and max are the same not able to plot\n",
      "Problem with volume\n",
      "Problem with volume\n",
      "There is a problem with the scaling min and max are the same not able to plot\n",
      "Problem with volume\n",
      "Problem with volume\n",
      "Problem with volume\n",
      "There is a problem with the scaling min and max are the same not able to plot\n",
      "There is a problem with the scaling min and max are the same not able to plot\n",
      "Problem with volume\n",
      "There is a problem with the scaling min and max are the same not able to plot\n",
      "There is a problem with the scaling min and max are the same not able to plot\n",
      "Problem with volume\n",
      "There is a problem with the scaling min and max are the same not able to plot\n",
      "There is a problem with the scaling min and max are the same not able to plot\n",
      "There is a problem with the scaling min and max are the same not able to plot\n",
      "Problem with volume\n",
      "There is a problem with the scaling min and max are the same not able to plot\n",
      "There is a problem with the scaling min and max are the same not able to plot\n",
      "There is a problem with the scaling min and max are the same not able to plot\n",
      "There is a problem with the scaling min and max are the same not able to plot\n",
      "There is a problem with the scaling min and max are the same not able to plot\n",
      "There is a problem with the scaling min and max are the same not able to plot\n",
      "There is a problem with the scaling min and max are the same not able to plot\n",
      "Problem with volume\n",
      "There is a problem with the scaling min and max are the same not able to plot\n",
      "There is a problem with the scaling min and max are the same not able to plot\n",
      "Problem with volume\n",
      "There is a problem with the scaling min and max are the same not able to plot\n",
      "There is a problem with the scaling min and max are the same not able to plot\n",
      "Problem with volume\n",
      "There is a problem with the scaling min and max are the same not able to plot\n",
      "There is a problem with the scaling min and max are the same not able to plot\n",
      "Problem with volume\n",
      "There is a problem with the scaling min and max are the same not able to plot\n",
      "Problem with volume\n",
      "There is a problem with the scaling min and max are the same not able to plot\n",
      "There is a problem with the scaling min and max are the same not able to plot\n",
      "There is a problem with the scaling min and max are the same not able to plot\n",
      "Problem with volume\n",
      "Problem with volume\n",
      "There is a problem with the scaling min and max are the same not able to plot\n",
      "There is a problem with the scaling min and max are the same not able to plot\n",
      "There is a problem with the scaling min and max are the same not able to plot\n",
      "Problem with volume\n",
      "There is a problem with the scaling min and max are the same not able to plot\n",
      "There is a problem with the scaling min and max are the same not able to plot\n",
      "There is a problem with the scaling min and max are the same not able to plot\n",
      "There is a problem with the scaling min and max are the same not able to plot\n",
      "There is a problem with the scaling min and max are the same not able to plot\n",
      "There is a problem with the scaling min and max are the same not able to plot\n",
      "There is a problem with the scaling min and max are the same not able to plot\n",
      "There is a problem with the scaling min and max are the same not able to plot\n",
      "There is a problem with the scaling min and max are the same not able to plot\n",
      "Problem with volume\n",
      "There is a problem with the scaling min and max are the same not able to plot\n",
      "There is a problem with the scaling min and max are the same not able to plot\n",
      "Problem with volume\n",
      "There is a problem with the scaling min and max are the same not able to plot\n",
      "There is a problem with the scaling min and max are the same not able to plot\n",
      "There is a problem with the scaling min and max are the same not able to plot\n",
      "There is a problem with the scaling min and max are the same not able to plot\n",
      "There is a problem with the scaling min and max are the same not able to plot\n",
      "There is a problem with the scaling min and max are the same not able to plot\n",
      "There is a problem with the scaling min and max are the same not able to plot\n",
      "There is a problem with the scaling min and max are the same not able to plot\n",
      "There is a problem with the scaling min and max are the same not able to plot\n",
      "Problem with volume\n",
      "There is a problem with the scaling min and max are the same not able to plot\n",
      "There is a problem with the scaling min and max are the same not able to plot\n",
      "There is a problem with the scaling min and max are the same not able to plot\n",
      "There is a problem with the scaling min and max are the same not able to plot\n",
      "There is a problem with the scaling min and max are the same not able to plot\n",
      "There is a problem with the scaling min and max are the same not able to plot\n",
      "There is a problem with the scaling min and max are the same not able to plot\n",
      "There is a problem with the scaling min and max are the same not able to plot\n",
      "There is a problem with the scaling min and max are the same not able to plot\n",
      "There is a problem with the scaling min and max are the same not able to plot\n",
      "Problem with volume\n",
      "There is a problem with the scaling min and max are the same not able to plot\n",
      "There is a problem with the scaling min and max are the same not able to plot\n",
      "There is a problem with the scaling min and max are the same not able to plot\n",
      "Problem with volume\n",
      "There is a problem with the scaling min and max are the same not able to plot\n",
      "Problem with volume\n",
      "There is a problem with the scaling min and max are the same not able to plot\n",
      "There is a problem with the scaling min and max are the same not able to plot\n",
      "Problem with volume\n",
      "There is a problem with the scaling min and max are the same not able to plot\n",
      "Problem with volume\n",
      "There is a problem with the scaling min and max are the same not able to plot\n",
      "There is a problem with the scaling min and max are the same not able to plot\n",
      "There is a problem with the scaling min and max are the same not able to plot\n",
      "There is a problem with the scaling min and max are the same not able to plot\n",
      "There is a problem with the scaling min and max are the same not able to plot\n",
      "There is a problem with the scaling min and max are the same not able to plot\n",
      "There is a problem with the scaling min and max are the same not able to plot\n",
      "There is a problem with the scaling min and max are the same not able to plot\n",
      "There is a problem with the scaling min and max are the same not able to plot\n",
      "There is a problem with the scaling min and max are the same not able to plot\n",
      "There is a problem with the scaling min and max are the same not able to plot\n",
      "There is a problem with the scaling min and max are the same not able to plot\n",
      "There is a problem with the scaling min and max are the same not able to plot\n",
      "There is a problem with the scaling min and max are the same not able to plot\n",
      "Problem with volume\n",
      "There is a problem with the scaling min and max are the same not able to plot\n",
      "There is a problem with the scaling min and max are the same not able to plot\n",
      "There is a problem with the scaling min and max are the same not able to plot\n",
      "There is a problem with the scaling min and max are the same not able to plot\n",
      "There is a problem with the scaling min and max are the same not able to plot\n",
      "There is a problem with the scaling min and max are the same not able to plot\n",
      "There is a problem with the scaling min and max are the same not able to plot\n",
      "There is a problem with the scaling min and max are the same not able to plot\n",
      "There is a problem with the scaling min and max are the same not able to plot\n",
      "Problem with volume\n",
      "Problem with volume\n",
      "Problem with volume\n",
      "Problem with volume\n",
      "Problem with volume\n",
      "There is a problem with the scaling min and max are the same not able to plot\n",
      "Problem with volume\n",
      "There is a problem with the scaling min and max are the same not able to plot\n",
      "There is a problem with the scaling min and max are the same not able to plot\n",
      "There is a problem with the scaling min and max are the same not able to plot\n",
      "There is a problem with the scaling min and max are the same not able to plot\n",
      "There is a problem with the scaling min and max are the same not able to plot\n",
      "There is a problem with the scaling min and max are the same not able to plot\n",
      "There is a problem with the scaling min and max are the same not able to plot\n",
      "There is a problem with the scaling min and max are the same not able to plot\n",
      "There is a problem with the scaling min and max are the same not able to plot\n",
      "There is a problem with the scaling min and max are the same not able to plot\n",
      "Problem with volume\n",
      "There is a problem with the scaling min and max are the same not able to plot\n",
      "Problem with volume\n",
      "There is a problem with the scaling min and max are the same not able to plot\n",
      "Problem with volume\n",
      "Problem with volume\n",
      "Problem with volume\n",
      "There is a problem with the scaling min and max are the same not able to plot\n",
      "There is a problem with the scaling min and max are the same not able to plot\n",
      "Problem with volume\n",
      "There is a problem with the scaling min and max are the same not able to plot\n",
      "Problem with volume\n",
      "There is a problem with the scaling min and max are the same not able to plot\n"
     ]
    },
    {
     "name": "stderr",
     "output_type": "stream",
     "text": [
      " 54%|█████▍    | 263/489 [01:30<01:09,  3.24it/s]"
     ]
    },
    {
     "name": "stdout",
     "output_type": "stream",
     "text": [
      "Problem with volume\n",
      "There is a problem with the scaling min and max are the same not able to plot\n",
      "There is a problem with the scaling min and max are the same not able to plot\n"
     ]
    },
    {
     "name": "stderr",
     "output_type": "stream",
     "text": [
      " 83%|████████▎ | 406/489 [02:17<00:20,  4.01it/s]"
     ]
    },
    {
     "name": "stdout",
     "output_type": "stream",
     "text": [
      "Problem with volume\n",
      "Problem with volume\n",
      "Problem with volume\n",
      "Problem with volume\n",
      "Problem with volume\n"
     ]
    },
    {
     "name": "stderr",
     "output_type": "stream",
     "text": [
      "100%|██████████| 489/489 [02:45<00:00,  2.95it/s]"
     ]
    },
    {
     "name": "stdout",
     "output_type": "stream",
     "text": [
      "CPU times: user 2min 25s, sys: 19.4 s, total: 2min 45s\n",
      "Wall time: 2min 46s\n"
     ]
    },
    {
     "name": "stderr",
     "output_type": "stream",
     "text": [
      "\n"
     ]
    }
   ],
   "source": [
    "%%time\n",
    "\n",
    "window_size = 5\n",
    "height_px = 32\n",
    "chart_px = 25\n",
    "vol_px = 6\n",
    "\n",
    "for file in tqdm(traning_dir_list):\n",
    "    current_df = pd.read_csv(f\"data/csv/traning/{file}\", \n",
    "                             parse_dates=['Date'], \n",
    "                             index_col='Date').drop(columns=['Unnamed: 0'])\n",
    "    \n",
    "    imageMaker = OHLC(current_df, window_size, height_px, chart_px, vol_px)\n",
    "\n",
    "    output_directory = f\"data/images_small/traning/5-day/{file[:-4]}\"\n",
    "    os.makedirs(output_directory, exist_ok=True)\n",
    "    \n",
    "    for i in range(window_size, len(current_df) - window_size, window_size):\n",
    "        start = i - window_size\n",
    "        end = i\n",
    "        horizon_start = i\n",
    "        horizon_end = i - 1 + window_size\n",
    "        past_start = i - (window_size*2)\n",
    "        image_path_not_completed = f\"{output_directory}/{start}\"\n",
    "        imageMaker.plot_window(start, end, horizon_start, horizon_end, past_start, image_path_not_completed)\n",
    " \n",
    "    del imageMaker"
   ]
  },
  {
   "cell_type": "markdown",
   "id": "a71f0161-5111-4976-af5e-47fcf2be4423",
   "metadata": {},
   "source": [
    "### Out of sample set"
   ]
  },
  {
   "cell_type": "code",
   "execution_count": 5,
   "id": "b7863c02-4b01-42f1-8531-00246d28e082",
   "metadata": {},
   "outputs": [
    {
     "name": "stderr",
     "output_type": "stream",
     "text": [
      "100%|██████████| 489/489 [01:07<00:00,  7.21it/s]"
     ]
    },
    {
     "name": "stdout",
     "output_type": "stream",
     "text": [
      "CPU times: user 59.7 s, sys: 7.76 s, total: 1min 7s\n",
      "Wall time: 1min 7s\n"
     ]
    },
    {
     "name": "stderr",
     "output_type": "stream",
     "text": [
      "\n"
     ]
    }
   ],
   "source": [
    "%%time\n",
    "\n",
    "window_size = 5\n",
    "height_px = 32\n",
    "chart_px = 25\n",
    "vol_px = 6\n",
    "\n",
    "for file in tqdm(traning_dir_list):\n",
    "    current_df = pd.read_csv(f\"data/csv/out_of_sample/{file}\", \n",
    "                             parse_dates=['Date'], \n",
    "                             index_col='Date').drop(columns=['Unnamed: 0'])\n",
    "    \n",
    "    imageMaker = OHLC(current_df, window_size, height_px, chart_px, vol_px)\n",
    "\n",
    "    output_directory = f\"data/images_small/out_of_sample/5-day/{file[:-4]}\"\n",
    "    os.makedirs(output_directory, exist_ok=True)\n",
    "    \n",
    "    for i in range(window_size, len(current_df) - window_size, window_size):\n",
    "        start = i - window_size\n",
    "        end = i \n",
    "        horizon_start = i\n",
    "        horizon_end = i - 1 + window_size\n",
    "        past_start = i - (window_size*2)\n",
    "        image_path_not_completed = f\"{output_directory}/{start}\"\n",
    "        imageMaker.plot_window(start, end, horizon_start, horizon_end, past_start, image_path_not_completed)\n",
    " \n",
    "    del imageMaker"
   ]
  },
  {
   "cell_type": "markdown",
   "id": "8c26c0a1-1e8b-4929-bc5e-ebe88f0efd49",
   "metadata": {},
   "source": [
    "# 20 Day Window"
   ]
  },
  {
   "cell_type": "markdown",
   "id": "3065b343-0643-47cf-9b6d-6789d9197bf9",
   "metadata": {},
   "source": [
    "### Traning Set"
   ]
  },
  {
   "cell_type": "code",
   "execution_count": 6,
   "id": "a050ed9e-f215-4708-8576-59652cc093e9",
   "metadata": {
    "scrolled": true
   },
   "outputs": [
    {
     "name": "stderr",
     "output_type": "stream",
     "text": [
      "100%|██████████| 226/226 [00:28<00:00,  7.80it/s]"
     ]
    },
    {
     "name": "stdout",
     "output_type": "stream",
     "text": [
      "CPU times: user 26.3 s, sys: 2.52 s, total: 28.9 s\n",
      "Wall time: 29 s\n"
     ]
    },
    {
     "name": "stderr",
     "output_type": "stream",
     "text": [
      "\n"
     ]
    }
   ],
   "source": [
    "%%time\n",
    "\n",
    "window_size = 20\n",
    "height_px = 64\n",
    "chart_px = 52\n",
    "vol_px = 12\n",
    "\n",
    "for file in tqdm(traning_dir_list[263:]):\n",
    "    current_df = pd.read_csv(f\"data/csv/traning/{file}\", \n",
    "                             parse_dates=['Date'], \n",
    "                             index_col='Date').drop(columns=['Unnamed: 0'])\n",
    "    \n",
    "    imageMaker = OHLC(current_df, window_size, height_px, chart_px, vol_px)\n",
    "\n",
    "    output_directory = f\"data/images_small/traning/20-day/{file[:-4]}\"\n",
    "    os.makedirs(output_directory, exist_ok=True)\n",
    "    \n",
    "    for i in range(window_size, len(current_df) - window_size, window_size):\n",
    "        start = i - window_size\n",
    "        end = i \n",
    "        horizon_start = i\n",
    "        horizon_end = i - 1 + window_size\n",
    "        past_start = i - (window_size*2)\n",
    "        image_path_not_completed = f\"{output_directory}/{start}\"\n",
    "        imageMaker.plot_window(start, end, horizon_start, horizon_end, past_start, image_path_not_completed)\n",
    " \n",
    "    del imageMaker"
   ]
  },
  {
   "cell_type": "markdown",
   "id": "be4c6952-e152-4985-b267-008296272107",
   "metadata": {},
   "source": [
    "### Out of sample Set"
   ]
  },
  {
   "cell_type": "code",
   "execution_count": 7,
   "id": "34c67d82-9c6f-4733-8197-852f82abb750",
   "metadata": {},
   "outputs": [
    {
     "name": "stderr",
     "output_type": "stream",
     "text": [
      "100%|██████████| 489/489 [00:25<00:00, 19.49it/s]"
     ]
    },
    {
     "name": "stdout",
     "output_type": "stream",
     "text": [
      "CPU times: user 23 s, sys: 1.98 s, total: 24.9 s\n",
      "Wall time: 25.1 s\n"
     ]
    },
    {
     "name": "stderr",
     "output_type": "stream",
     "text": [
      "\n"
     ]
    }
   ],
   "source": [
    "%%time\n",
    "\n",
    "window_size = 20\n",
    "height_px = 64\n",
    "chart_px = 52\n",
    "vol_px = 12\n",
    "\n",
    "\n",
    "for file in tqdm(traning_dir_list):\n",
    "    current_df = pd.read_csv(f\"data/csv/out_of_sample/{file}\", \n",
    "                             parse_dates=['Date'], \n",
    "                             index_col='Date').drop(columns=['Unnamed: 0'])\n",
    "    \n",
    "    imageMaker = OHLC(current_df, window_size, height_px, chart_px, vol_px)\n",
    "\n",
    "    output_directory = f\"data/images_OHCL/out_of_sample/20-day/{file[:-4]}\"\n",
    "    os.makedirs(output_directory, exist_ok=True)\n",
    "    \n",
    "    for i in range(window_size, len(current_df) - window_size, window_size):\n",
    "        start = i - window_size\n",
    "        end = i \n",
    "        horizon_start = i\n",
    "        horizon_end = i - 1 + window_size\n",
    "        past_start = i - (window_size*2)\n",
    "        image_path_not_completed = f\"{output_directory}/{start}\"\n",
    "        imageMaker.plot_window(start, end, horizon_start, horizon_end, past_start, image_path_not_completed)\n",
    " \n",
    "    del imageMaker"
   ]
  },
  {
   "cell_type": "markdown",
   "id": "ebc1a749-fe6b-452d-9041-d8d46b8655bc",
   "metadata": {},
   "source": [
    "# 60 Day Window"
   ]
  },
  {
   "cell_type": "markdown",
   "id": "2c0682de-55c8-4f96-a6a1-7d39e5f46bfc",
   "metadata": {},
   "source": [
    "### Traning Set "
   ]
  },
  {
   "cell_type": "code",
   "execution_count": 8,
   "id": "cca757e0-3f34-402d-9aac-4a07539cd3e4",
   "metadata": {},
   "outputs": [
    {
     "name": "stderr",
     "output_type": "stream",
     "text": [
      "100%|██████████| 489/489 [00:39<00:00, 12.53it/s]"
     ]
    },
    {
     "name": "stdout",
     "output_type": "stream",
     "text": [
      "CPU times: user 36.9 s, sys: 2 s, total: 38.9 s\n",
      "Wall time: 39 s\n"
     ]
    },
    {
     "name": "stderr",
     "output_type": "stream",
     "text": [
      "\n"
     ]
    }
   ],
   "source": [
    "%%time\n",
    "\n",
    "window_size = 60\n",
    "height_px = 96\n",
    "chart_px = 77\n",
    "vol_px = 19\n",
    "\n",
    "for file in tqdm(traning_dir_list):\n",
    "    current_df = pd.read_csv(f\"data/csv/traning/{file}\", \n",
    "                             parse_dates=['Date'], \n",
    "                             index_col='Date').drop(columns=['Unnamed: 0'])\n",
    "    \n",
    "    imageMaker = OHLC(current_df, window_size, height_px, chart_px, vol_px)\n",
    "\n",
    "    output_directory = f\"data/images_small/traning/60-day/{file[:-4]}\"\n",
    "    os.makedirs(output_directory, exist_ok=True)\n",
    "    \n",
    "    for i in range(window_size, len(current_df) - window_size, window_size):\n",
    "        start = i - window_size\n",
    "        end = i \n",
    "        horizon_start = i\n",
    "        horizon_end = i - 1 + window_size\n",
    "        past_start = i - (window_size*2)\n",
    "        image_path_not_completed = f\"{output_directory}/{start}\"\n",
    "        imageMaker.plot_window(start, end, horizon_start, horizon_end, past_start, image_path_not_completed)\n",
    " \n",
    "    del imageMaker"
   ]
  },
  {
   "cell_type": "markdown",
   "id": "149b671e-7efe-43dc-ab12-df4050e99c93",
   "metadata": {},
   "source": [
    "### Out of sample Set"
   ]
  },
  {
   "cell_type": "code",
   "execution_count": 9,
   "id": "185fb565-28da-48c5-beee-5bcf7d785950",
   "metadata": {},
   "outputs": [
    {
     "name": "stderr",
     "output_type": "stream",
     "text": [
      "100%|██████████| 489/489 [01:01<00:00,  7.96it/s]"
     ]
    },
    {
     "name": "stdout",
     "output_type": "stream",
     "text": [
      "CPU times: user 54.2 s, sys: 6.95 s, total: 1min 1s\n",
      "Wall time: 1min 1s\n"
     ]
    },
    {
     "name": "stderr",
     "output_type": "stream",
     "text": [
      "\n"
     ]
    }
   ],
   "source": [
    "%%time\n",
    "\n",
    "window_size = 6\n",
    "height_px = 96\n",
    "chart_px = 77\n",
    "vol_px = 19\n",
    "\n",
    "for file in tqdm(traning_dir_list):\n",
    "    current_df = pd.read_csv(f\"data/csv/out_of_sample/{file}\", \n",
    "                             parse_dates=['Date'], \n",
    "                             index_col='Date').drop(columns=['Unnamed: 0'])\n",
    "    \n",
    "    imageMaker = OHLC(current_df, window_size, height_px, chart_px, vol_px)\n",
    "\n",
    "    output_directory = f\"data/images_small/out_of_sample/60-day/{file[:-4]}\"\n",
    "    os.makedirs(output_directory, exist_ok=True)\n",
    "    \n",
    "    for i in range(window_size, len(current_df) - window_size, window_size):\n",
    "        start = i - window_size\n",
    "        end = i \n",
    "        horizon_start = i\n",
    "        horizon_end = i - 1 + window_size\n",
    "        past_start = i - (window_size*2)\n",
    "        image_path_not_completed = f\"{output_directory}/{start}\"\n",
    "        imageMaker.plot_window(start, end, horizon_start, horizon_end, past_start, image_path_not_completed)\n",
    " \n",
    "    del imageMaker"
   ]
  }
 ],
 "metadata": {
  "kernelspec": {
   "display_name": "Python 3 (ipykernel)",
   "language": "python",
   "name": "python3"
  },
  "language_info": {
   "codemirror_mode": {
    "name": "ipython",
    "version": 3
   },
   "file_extension": ".py",
   "mimetype": "text/x-python",
   "name": "python",
   "nbconvert_exporter": "python",
   "pygments_lexer": "ipython3",
   "version": "3.11.5"
  }
 },
 "nbformat": 4,
 "nbformat_minor": 5
}
