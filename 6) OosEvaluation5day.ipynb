{
 "cells": [
  {
   "cell_type": "code",
   "execution_count": null,
   "id": "e9ff9731-222e-4ccd-8d3e-1b8aa1720c9f",
   "metadata": {},
   "outputs": [],
   "source": [
    "import os\n",
    "import sys\n",
    "import cv2\n",
    "import numpy as np\n",
    "import matplotlib.pyplot as plt\n",
    "import pandas as pd"
   ]
  },
  {
   "cell_type": "markdown",
   "id": "39f3988d-2b41-4065-8e5c-f9ef9c6feb3a",
   "metadata": {
    "jp-MarkdownHeadingCollapsed": true
   },
   "source": [
    "# figuring out"
   ]
  },
  {
   "cell_type": "raw",
   "id": "e0e1e1d1-952d-43b9-87ec-48a7fae8498f",
   "metadata": {},
   "source": [
    "def funzione_6000():\n",
    "    - Prendi i dati di una settimana\n",
    "    - Fai finta adesso che quel giorno sia oggi e tu hai solo quei dati\n",
    "    - Crea le immagini dai dati \n",
    "        - Ovvero prendi immagini dei giorni giusti che abbiamo gia fatto\n",
    "    - Fai girare il CNN e individua 10 aziende con probabilità piu alta e 10 con probabilità più bassa\n",
    "    - Fai finta di comperare quelle 10 aziende e di vendere le altre 10\n",
    "    - Guarda la settimana successiva e vedi che ritorno hai fatto\n",
    "    - Segna il ritorno in una lista\n",
    "    - vai alla prossima iterazione\n",
    "\n",
    "Idea: Al posto di ogni volta prendere l'immagine etc etc --> PRECALCOLARE tutte le probabilità \n",
    "\n",
    "Step successivi:\n",
    "1. Fai stessa cosa però con aziende a caso\n",
    "2. E calcola anche un equally weighted portfolio\n",
    "3. Prendi anche ritorni sp500\n",
    "\n",
    "--> Cosi abbiamo 3 baseline a cui paragonare il nostro portfolio"
   ]
  },
  {
   "cell_type": "raw",
   "id": "7482044b-d525-4295-9e3f-5420af93a47d",
   "metadata": {},
   "source": [
    "IMPORANTE: a che data/indice corrispondono le immagini?\n",
    "\n",
    "Esempio con il 5day:\n",
    "- The first image is thrown away as there is no data to calculate the moving average\n",
    "- So we start from the second image.\n",
    "\n",
    "es. \"...5day/AAPL/5_True.png\"\n",
    "--> 5 day image\n",
    "--> For AAPL\n",
    "\n",
    " 0    1    2    3    4    5    6    7    8    9   10   11   12   13   14   15\n",
    "[ ], [ ], [ ], [ ], [ ], [S], [ ], [ ], [ ], [ ], [i], [ ], [ ], [ ], [ ], [ ]\n",
    "                        |--- data in the plot ---|                              --> From index 5 to index 10_EXCLUDED\n",
    "|-ma 1^ candle del plot-|\n",
    "                                                  |--|                          --> horizion start\n",
    "                                                                      |--|      --> horizion end"
   ]
  },
  {
   "cell_type": "code",
   "execution_count": null,
   "id": "bb9f6fd7-bec8-4151-910e-c48f824f81f3",
   "metadata": {},
   "outputs": [],
   "source": [
    "df = pd.read_csv(\"data/csv/traning/AAPL.csv\", \n",
    "                 parse_dates=['Date'],\n",
    "                 index_col='Date').drop(columns=['Unnamed: 0'])\n",
    "df.head(20)"
   ]
  },
  {
   "cell_type": "code",
   "execution_count": null,
   "id": "6020dd8a-dbdc-4a25-8b82-85400259116b",
   "metadata": {},
   "outputs": [],
   "source": [
    "window_size = 5\n",
    "for i in range(window_size, len(df) - window_size, window_size):\n",
    "    start = i - window_size\n",
    "    end = i \n",
    "    horizon_start = i \n",
    "    horizon_end = i - 1 + window_size\n",
    "    past_start = i - (window_size*2)\n",
    "    image_path_not_completed = f\"5day/AAPL/{start}\"\n",
    "    \n",
    "    print(image_path_not_completed, \" ---------------------------------------------------\")\n",
    "    \n",
    "    current_df = df.iloc[start:end].copy()\n",
    "    horizon_start_value = df.iloc[horizon_start]\n",
    "    horizon_end_value = df.iloc[horizon_end]\n",
    "    print(\"Start\", start)\n",
    "    print(\"End\", end)\n",
    "    print(\"Horizon start\", horizon_start)\n",
    "    print(\"Horizon end\", horizon_end)\n",
    "    display(current_df)\n",
    "    print(f\"Horizon Start: {horizon_start_value}\")\n",
    "    print(f\"Horizon End: {horizon_end_value}\")\n",
    "    print(\"PAST --->\", past_start)"
   ]
  },
  {
   "cell_type": "markdown",
   "id": "3221abae-7d29-4735-b039-78aefb63ce11",
   "metadata": {},
   "source": [
    "# doing stuff"
   ]
  },
  {
   "cell_type": "code",
   "execution_count": null,
   "id": "43ccaa26-df27-46db-a720-7b4aec1c4222",
   "metadata": {},
   "outputs": [],
   "source": []
  },
  {
   "cell_type": "code",
   "execution_count": null,
   "id": "552d848c-be72-46b0-9633-cb1a75d9de90",
   "metadata": {},
   "outputs": [],
   "source": []
  }
 ],
 "metadata": {
  "kernelspec": {
   "display_name": "Python 3 (ipykernel)",
   "language": "python",
   "name": "python3"
  },
  "language_info": {
   "codemirror_mode": {
    "name": "ipython",
    "version": 3
   },
   "file_extension": ".py",
   "mimetype": "text/x-python",
   "name": "python",
   "nbconvert_exporter": "python",
   "pygments_lexer": "ipython3",
   "version": "3.11.5"
  }
 },
 "nbformat": 4,
 "nbformat_minor": 5
}
