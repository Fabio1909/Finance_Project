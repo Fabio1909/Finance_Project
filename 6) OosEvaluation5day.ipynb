{
 "cells": [
  {
   "cell_type": "code",
   "execution_count": 1,
   "id": "e9ff9731-222e-4ccd-8d3e-1b8aa1720c9f",
   "metadata": {},
   "outputs": [],
   "source": [
    "import os\n",
    "import sys\n",
    "import cv2\n",
    "import numpy as np\n",
    "import matplotlib.pyplot as plt\n",
    "import pandas as pd\n",
    "from tqdm import tqdm"
   ]
  },
  {
   "cell_type": "markdown",
   "id": "39f3988d-2b41-4065-8e5c-f9ef9c6feb3a",
   "metadata": {
    "jp-MarkdownHeadingCollapsed": true
   },
   "source": [
    "# figuring out"
   ]
  },
  {
   "cell_type": "raw",
   "id": "e0e1e1d1-952d-43b9-87ec-48a7fae8498f",
   "metadata": {},
   "source": [
    "def funzione_6000():\n",
    "    - Prendi i dati di una settimana\n",
    "    - Fai finta adesso che quel giorno sia oggi e tu hai solo quei dati\n",
    "    - Crea le immagini dai dati \n",
    "        - Ovvero prendi immagini dei giorni giusti che abbiamo gia fatto\n",
    "    - Fai girare il CNN e individua 10 aziende con probabilità piu alta e 10 con probabilità più bassa\n",
    "    - Fai finta di comperare quelle 10 aziende e di vendere le altre 10\n",
    "    - Guarda la settimana successiva e vedi che ritorno hai fatto\n",
    "    - Segna il ritorno in una lista\n",
    "    - vai alla prossima iterazione\n",
    "\n",
    "Idea: Al posto di ogni volta prendere l'immagine etc etc --> PRECALCOLARE tutte le probabilità \n",
    "\n",
    "Step successivi:\n",
    "1. Fai stessa cosa però con aziende a caso\n",
    "2. E calcola anche un equally weighted portfolio\n",
    "3. Prendi anche ritorni sp500\n",
    "\n",
    "--> Cosi abbiamo 3 baseline a cui paragonare il nostro portfolio"
   ]
  },
  {
   "cell_type": "raw",
   "id": "7482044b-d525-4295-9e3f-5420af93a47d",
   "metadata": {},
   "source": [
    "IMPORANTE: a che data/indice corrispondono le immagini?\n",
    "\n",
    "Esempio con il 5day:\n",
    "- The first image is thrown away as there is no data to calculate the moving average\n",
    "- So we start from the second image.\n",
    "\n",
    "es. \"...5day/AAPL/5_True.png\"\n",
    "--> 5 day image\n",
    "--> For AAPL\n",
    "\n",
    " 0    1    2    3    4    5    6    7    8    9   10   11   12   13   14   15\n",
    "[ ], [ ], [ ], [ ], [ ], [S], [ ], [ ], [ ], [ ], [i], [ ], [ ], [ ], [ ], [ ]\n",
    "                        |--- data in the plot ---|                              --> From index 5 to index 10_EXCLUDED\n",
    "|-ma 1^ candle del plot-|\n",
    "                                                  |--|                          --> horizion start\n",
    "                                                                      |--|      --> horizion end\n",
    "\n",
    "for S in ... :\n",
    "    image from S to S + window\n",
    "    --> get prediction\n",
    "    "
   ]
  },
  {
   "cell_type": "code",
   "execution_count": null,
   "id": "bb9f6fd7-bec8-4151-910e-c48f824f81f3",
   "metadata": {},
   "outputs": [],
   "source": [
    "df = pd.read_csv(\"data/csv/traning/AAPL.csv\", \n",
    "                 parse_dates=['Date'],\n",
    "                 index_col='Date').drop(columns=['Unnamed: 0'])\n",
    "df.head(20)"
   ]
  },
  {
   "cell_type": "code",
   "execution_count": null,
   "id": "6020dd8a-dbdc-4a25-8b82-85400259116b",
   "metadata": {},
   "outputs": [],
   "source": [
    "window_size = 5\n",
    "for i in range(window_size, len(df) - window_size, window_size):\n",
    "    start = i - window_size\n",
    "    end = i \n",
    "    horizon_start = i \n",
    "    horizon_end = i - 1 + window_size\n",
    "    past_start = i - (window_size*2)\n",
    "    image_path_not_completed = f\"5day/AAPL/{start}\"\n",
    "    \n",
    "    print(image_path_not_completed, \" ---------------------------------------------------\")\n",
    "    \n",
    "    current_df = df.iloc[start:end].copy()\n",
    "    horizon_start_value = df.iloc[horizon_start]\n",
    "    horizon_end_value = df.iloc[horizon_end]\n",
    "    print(\"Start\", start)\n",
    "    print(\"End\", end)\n",
    "    print(\"Horizon start\", horizon_start)\n",
    "    print(\"Horizon end\", horizon_end)\n",
    "    display(current_df)\n",
    "    print(f\"Horizon Start: {horizon_start_value}\")\n",
    "    print(f\"Horizon End: {horizon_end_value}\")\n",
    "    print(\"PAST --->\", past_start)\n",
    "    break"
   ]
  },
  {
   "cell_type": "code",
   "execution_count": null,
   "id": "91a9f660-f471-4148-be73-2a6330b14668",
   "metadata": {},
   "outputs": [],
   "source": [
    "# Reset index temporarily\n",
    "result = df.reset_index(drop=False).iloc[1::5]\n",
    "result"
   ]
  },
  {
   "cell_type": "markdown",
   "id": "3221abae-7d29-4735-b039-78aefb63ce11",
   "metadata": {},
   "source": [
    "# doing stuff"
   ]
  },
  {
   "cell_type": "markdown",
   "id": "f1600827-1b88-4b5d-b35c-2ef86b6026d5",
   "metadata": {},
   "source": [
    "Load in price data"
   ]
  },
  {
   "cell_type": "code",
   "execution_count": 2,
   "id": "552d848c-be72-46b0-9633-cb1a75d9de90",
   "metadata": {},
   "outputs": [],
   "source": [
    "csv_folder_dir = \"data/csv/out_of_sample/\"\n",
    "csv_list = [x for x in os.listdir(csv_folder_dir) if not x.startswith(\".\")]\n",
    "\n",
    "prices_df = None\n",
    "\n",
    "for csv_name in csv_list:\n",
    "    csv_dir = os.path.join(csv_folder_dir, csv_name)\n",
    "    current_df = pd.read_csv(csv_dir, \n",
    "                             usecols=['Date', 'Close'],\n",
    "                             parse_dates=['Date'])\n",
    "    current_df.rename(columns={'Close': f\"{csv_name[:-4]}\"}, inplace=True)\n",
    "    \n",
    "    # Merge the current DataFrame with the final DataFrame\n",
    "    if prices_df is None:\n",
    "        prices_df = current_df  # Initialize with the first DataFrame\n",
    "    else:\n",
    "        prices_df = pd.merge(prices_df, current_df, on='Date', how='outer')  # Merge on 'Date'    "
   ]
  },
  {
   "cell_type": "code",
   "execution_count": 3,
   "id": "c353f879-81c0-47e9-958e-2b073c41430f",
   "metadata": {
    "scrolled": true
   },
   "outputs": [
    {
     "data": {
      "text/html": [
       "<div>\n",
       "<style scoped>\n",
       "    .dataframe tbody tr th:only-of-type {\n",
       "        vertical-align: middle;\n",
       "    }\n",
       "\n",
       "    .dataframe tbody tr th {\n",
       "        vertical-align: top;\n",
       "    }\n",
       "\n",
       "    .dataframe thead th {\n",
       "        text-align: right;\n",
       "    }\n",
       "</style>\n",
       "<table border=\"1\" class=\"dataframe\">\n",
       "  <thead>\n",
       "    <tr style=\"text-align: right;\">\n",
       "      <th></th>\n",
       "      <th>Date</th>\n",
       "      <th>CSCO</th>\n",
       "      <th>UAL</th>\n",
       "      <th>TROW</th>\n",
       "      <th>ISRG</th>\n",
       "      <th>NVR</th>\n",
       "      <th>TPR</th>\n",
       "      <th>DVN</th>\n",
       "      <th>CE</th>\n",
       "      <th>MRO</th>\n",
       "      <th>...</th>\n",
       "      <th>WM</th>\n",
       "      <th>DOV</th>\n",
       "      <th>CRM</th>\n",
       "      <th>PGR</th>\n",
       "      <th>WAT</th>\n",
       "      <th>IEX</th>\n",
       "      <th>BWA</th>\n",
       "      <th>LRCX</th>\n",
       "      <th>BLK</th>\n",
       "      <th>PPL</th>\n",
       "    </tr>\n",
       "  </thead>\n",
       "  <tbody>\n",
       "    <tr>\n",
       "      <th>0</th>\n",
       "      <td>2021-01-04</td>\n",
       "      <td>43.959999</td>\n",
       "      <td>41.630001</td>\n",
       "      <td>147.690002</td>\n",
       "      <td>266.666656</td>\n",
       "      <td>4040.649902</td>\n",
       "      <td>32.709999</td>\n",
       "      <td>16.129999</td>\n",
       "      <td>125.930000</td>\n",
       "      <td>6.83</td>\n",
       "      <td>...</td>\n",
       "      <td>114.830002</td>\n",
       "      <td>123.339996</td>\n",
       "      <td>220.309998</td>\n",
       "      <td>97.129997</td>\n",
       "      <td>250.149994</td>\n",
       "      <td>195.309998</td>\n",
       "      <td>33.503521</td>\n",
       "      <td>47.801998</td>\n",
       "      <td>710.820007</td>\n",
       "      <td>27.580000</td>\n",
       "    </tr>\n",
       "    <tr>\n",
       "      <th>1</th>\n",
       "      <td>2021-01-05</td>\n",
       "      <td>43.980000</td>\n",
       "      <td>43.400002</td>\n",
       "      <td>149.089996</td>\n",
       "      <td>268.350006</td>\n",
       "      <td>4008.909912</td>\n",
       "      <td>32.520000</td>\n",
       "      <td>17.360001</td>\n",
       "      <td>131.600006</td>\n",
       "      <td>7.45</td>\n",
       "      <td>...</td>\n",
       "      <td>115.209999</td>\n",
       "      <td>124.059998</td>\n",
       "      <td>221.520004</td>\n",
       "      <td>96.949997</td>\n",
       "      <td>255.429993</td>\n",
       "      <td>194.929993</td>\n",
       "      <td>34.295776</td>\n",
       "      <td>49.455002</td>\n",
       "      <td>714.580017</td>\n",
       "      <td>27.610001</td>\n",
       "    </tr>\n",
       "    <tr>\n",
       "      <th>2</th>\n",
       "      <td>2021-01-06</td>\n",
       "      <td>44.400002</td>\n",
       "      <td>43.540001</td>\n",
       "      <td>151.529999</td>\n",
       "      <td>264.263336</td>\n",
       "      <td>3966.489990</td>\n",
       "      <td>34.320000</td>\n",
       "      <td>18.320000</td>\n",
       "      <td>136.550003</td>\n",
       "      <td>7.50</td>\n",
       "      <td>...</td>\n",
       "      <td>117.760002</td>\n",
       "      <td>127.559998</td>\n",
       "      <td>216.149994</td>\n",
       "      <td>98.790001</td>\n",
       "      <td>262.470001</td>\n",
       "      <td>202.179993</td>\n",
       "      <td>35.360916</td>\n",
       "      <td>49.648998</td>\n",
       "      <td>734.960022</td>\n",
       "      <td>28.110001</td>\n",
       "    </tr>\n",
       "  </tbody>\n",
       "</table>\n",
       "<p>3 rows × 502 columns</p>\n",
       "</div>"
      ],
      "text/plain": [
       "        Date       CSCO        UAL        TROW        ISRG          NVR  \\\n",
       "0 2021-01-04  43.959999  41.630001  147.690002  266.666656  4040.649902   \n",
       "1 2021-01-05  43.980000  43.400002  149.089996  268.350006  4008.909912   \n",
       "2 2021-01-06  44.400002  43.540001  151.529999  264.263336  3966.489990   \n",
       "\n",
       "         TPR        DVN          CE   MRO  ...          WM         DOV  \\\n",
       "0  32.709999  16.129999  125.930000  6.83  ...  114.830002  123.339996   \n",
       "1  32.520000  17.360001  131.600006  7.45  ...  115.209999  124.059998   \n",
       "2  34.320000  18.320000  136.550003  7.50  ...  117.760002  127.559998   \n",
       "\n",
       "          CRM        PGR         WAT         IEX        BWA       LRCX  \\\n",
       "0  220.309998  97.129997  250.149994  195.309998  33.503521  47.801998   \n",
       "1  221.520004  96.949997  255.429993  194.929993  34.295776  49.455002   \n",
       "2  216.149994  98.790001  262.470001  202.179993  35.360916  49.648998   \n",
       "\n",
       "          BLK        PPL  \n",
       "0  710.820007  27.580000  \n",
       "1  714.580017  27.610001  \n",
       "2  734.960022  28.110001  \n",
       "\n",
       "[3 rows x 502 columns]"
      ]
     },
     "execution_count": 3,
     "metadata": {},
     "output_type": "execute_result"
    }
   ],
   "source": [
    "prices_df.head(3)"
   ]
  },
  {
   "cell_type": "markdown",
   "id": "1293c048-9373-4d2f-a03c-f2794dc89d89",
   "metadata": {},
   "source": [
    "Create dataframe with model inference"
   ]
  },
  {
   "cell_type": "code",
   "execution_count": 4,
   "id": "32ecd7ed-aeef-44d3-895e-8222d896d8e5",
   "metadata": {},
   "outputs": [
    {
     "name": "stderr",
     "output_type": "stream",
     "text": [
      "2024-11-28 22:39:33.220177: I metal_plugin/src/device/metal_device.cc:1154] Metal device set to: Apple M1 Pro\n",
      "2024-11-28 22:39:33.220199: I metal_plugin/src/device/metal_device.cc:296] systemMemory: 16.00 GB\n",
      "2024-11-28 22:39:33.220204: I metal_plugin/src/device/metal_device.cc:313] maxCacheSize: 5.33 GB\n",
      "2024-11-28 22:39:33.220220: I tensorflow/core/common_runtime/pluggable_device/pluggable_device_factory.cc:305] Could not identify NUMA node of platform GPU ID 0, defaulting to 0. Your kernel may not have been built with NUMA support.\n",
      "2024-11-28 22:39:33.220230: I tensorflow/core/common_runtime/pluggable_device/pluggable_device_factory.cc:271] Created TensorFlow device (/job:localhost/replica:0/task:0/device:GPU:0 with 0 MB memory) -> physical PluggableDevice (device: 0, name: METAL, pci bus id: <undefined>)\n"
     ]
    },
    {
     "data": {
      "text/html": [
       "<pre style=\"white-space:pre;overflow-x:auto;line-height:normal;font-family:Menlo,'DejaVu Sans Mono',consolas,'Courier New',monospace\"><span style=\"font-weight: bold\">Model: \"sequential\"</span>\n",
       "</pre>\n"
      ],
      "text/plain": [
       "\u001b[1mModel: \"sequential\"\u001b[0m\n"
      ]
     },
     "metadata": {},
     "output_type": "display_data"
    },
    {
     "data": {
      "text/html": [
       "<pre style=\"white-space:pre;overflow-x:auto;line-height:normal;font-family:Menlo,'DejaVu Sans Mono',consolas,'Courier New',monospace\">┏━━━━━━━━━━━━━━━━━━━━━━━━━━━━━━━━━┳━━━━━━━━━━━━━━━━━━━━━━━━┳━━━━━━━━━━━━━━━┓\n",
       "┃<span style=\"font-weight: bold\"> Layer (type)                    </span>┃<span style=\"font-weight: bold\"> Output Shape           </span>┃<span style=\"font-weight: bold\">       Param # </span>┃\n",
       "┡━━━━━━━━━━━━━━━━━━━━━━━━━━━━━━━━━╇━━━━━━━━━━━━━━━━━━━━━━━━╇━━━━━━━━━━━━━━━┩\n",
       "│ conv2d (<span style=\"color: #0087ff; text-decoration-color: #0087ff\">Conv2D</span>)                 │ (<span style=\"color: #00d7ff; text-decoration-color: #00d7ff\">None</span>, <span style=\"color: #00af00; text-decoration-color: #00af00\">32</span>, <span style=\"color: #00af00; text-decoration-color: #00af00\">15</span>, <span style=\"color: #00af00; text-decoration-color: #00af00\">64</span>)     │         <span style=\"color: #00af00; text-decoration-color: #00af00\">1,024</span> │\n",
       "├─────────────────────────────────┼────────────────────────┼───────────────┤\n",
       "│ batch_normalization             │ (<span style=\"color: #00d7ff; text-decoration-color: #00d7ff\">None</span>, <span style=\"color: #00af00; text-decoration-color: #00af00\">32</span>, <span style=\"color: #00af00; text-decoration-color: #00af00\">15</span>, <span style=\"color: #00af00; text-decoration-color: #00af00\">64</span>)     │           <span style=\"color: #00af00; text-decoration-color: #00af00\">256</span> │\n",
       "│ (<span style=\"color: #0087ff; text-decoration-color: #0087ff\">BatchNormalization</span>)            │                        │               │\n",
       "├─────────────────────────────────┼────────────────────────┼───────────────┤\n",
       "│ leaky_re_lu (<span style=\"color: #0087ff; text-decoration-color: #0087ff\">LeakyReLU</span>)         │ (<span style=\"color: #00d7ff; text-decoration-color: #00d7ff\">None</span>, <span style=\"color: #00af00; text-decoration-color: #00af00\">32</span>, <span style=\"color: #00af00; text-decoration-color: #00af00\">15</span>, <span style=\"color: #00af00; text-decoration-color: #00af00\">64</span>)     │             <span style=\"color: #00af00; text-decoration-color: #00af00\">0</span> │\n",
       "├─────────────────────────────────┼────────────────────────┼───────────────┤\n",
       "│ max_pooling2d (<span style=\"color: #0087ff; text-decoration-color: #0087ff\">MaxPooling2D</span>)    │ (<span style=\"color: #00d7ff; text-decoration-color: #00d7ff\">None</span>, <span style=\"color: #00af00; text-decoration-color: #00af00\">16</span>, <span style=\"color: #00af00; text-decoration-color: #00af00\">15</span>, <span style=\"color: #00af00; text-decoration-color: #00af00\">64</span>)     │             <span style=\"color: #00af00; text-decoration-color: #00af00\">0</span> │\n",
       "├─────────────────────────────────┼────────────────────────┼───────────────┤\n",
       "│ conv2d_1 (<span style=\"color: #0087ff; text-decoration-color: #0087ff\">Conv2D</span>)               │ (<span style=\"color: #00d7ff; text-decoration-color: #00d7ff\">None</span>, <span style=\"color: #00af00; text-decoration-color: #00af00\">16</span>, <span style=\"color: #00af00; text-decoration-color: #00af00\">15</span>, <span style=\"color: #00af00; text-decoration-color: #00af00\">128</span>)    │       <span style=\"color: #00af00; text-decoration-color: #00af00\">123,008</span> │\n",
       "├─────────────────────────────────┼────────────────────────┼───────────────┤\n",
       "│ batch_normalization_1           │ (<span style=\"color: #00d7ff; text-decoration-color: #00d7ff\">None</span>, <span style=\"color: #00af00; text-decoration-color: #00af00\">16</span>, <span style=\"color: #00af00; text-decoration-color: #00af00\">15</span>, <span style=\"color: #00af00; text-decoration-color: #00af00\">128</span>)    │           <span style=\"color: #00af00; text-decoration-color: #00af00\">512</span> │\n",
       "│ (<span style=\"color: #0087ff; text-decoration-color: #0087ff\">BatchNormalization</span>)            │                        │               │\n",
       "├─────────────────────────────────┼────────────────────────┼───────────────┤\n",
       "│ leaky_re_lu_1 (<span style=\"color: #0087ff; text-decoration-color: #0087ff\">LeakyReLU</span>)       │ (<span style=\"color: #00d7ff; text-decoration-color: #00d7ff\">None</span>, <span style=\"color: #00af00; text-decoration-color: #00af00\">16</span>, <span style=\"color: #00af00; text-decoration-color: #00af00\">15</span>, <span style=\"color: #00af00; text-decoration-color: #00af00\">128</span>)    │             <span style=\"color: #00af00; text-decoration-color: #00af00\">0</span> │\n",
       "├─────────────────────────────────┼────────────────────────┼───────────────┤\n",
       "│ max_pooling2d_1 (<span style=\"color: #0087ff; text-decoration-color: #0087ff\">MaxPooling2D</span>)  │ (<span style=\"color: #00d7ff; text-decoration-color: #00d7ff\">None</span>, <span style=\"color: #00af00; text-decoration-color: #00af00\">8</span>, <span style=\"color: #00af00; text-decoration-color: #00af00\">15</span>, <span style=\"color: #00af00; text-decoration-color: #00af00\">128</span>)     │             <span style=\"color: #00af00; text-decoration-color: #00af00\">0</span> │\n",
       "├─────────────────────────────────┼────────────────────────┼───────────────┤\n",
       "│ flatten (<span style=\"color: #0087ff; text-decoration-color: #0087ff\">Flatten</span>)               │ (<span style=\"color: #00d7ff; text-decoration-color: #00d7ff\">None</span>, <span style=\"color: #00af00; text-decoration-color: #00af00\">15360</span>)          │             <span style=\"color: #00af00; text-decoration-color: #00af00\">0</span> │\n",
       "├─────────────────────────────────┼────────────────────────┼───────────────┤\n",
       "│ dense (<span style=\"color: #0087ff; text-decoration-color: #0087ff\">Dense</span>)                   │ (<span style=\"color: #00d7ff; text-decoration-color: #00d7ff\">None</span>, <span style=\"color: #00af00; text-decoration-color: #00af00\">1</span>)              │        <span style=\"color: #00af00; text-decoration-color: #00af00\">15,361</span> │\n",
       "├─────────────────────────────────┼────────────────────────┼───────────────┤\n",
       "│ dropout (<span style=\"color: #0087ff; text-decoration-color: #0087ff\">Dropout</span>)               │ (<span style=\"color: #00d7ff; text-decoration-color: #00d7ff\">None</span>, <span style=\"color: #00af00; text-decoration-color: #00af00\">1</span>)              │             <span style=\"color: #00af00; text-decoration-color: #00af00\">0</span> │\n",
       "├─────────────────────────────────┼────────────────────────┼───────────────┤\n",
       "│ activation (<span style=\"color: #0087ff; text-decoration-color: #0087ff\">Activation</span>)         │ (<span style=\"color: #00d7ff; text-decoration-color: #00d7ff\">None</span>, <span style=\"color: #00af00; text-decoration-color: #00af00\">1</span>)              │             <span style=\"color: #00af00; text-decoration-color: #00af00\">0</span> │\n",
       "└─────────────────────────────────┴────────────────────────┴───────────────┘\n",
       "</pre>\n"
      ],
      "text/plain": [
       "┏━━━━━━━━━━━━━━━━━━━━━━━━━━━━━━━━━┳━━━━━━━━━━━━━━━━━━━━━━━━┳━━━━━━━━━━━━━━━┓\n",
       "┃\u001b[1m \u001b[0m\u001b[1mLayer (type)                   \u001b[0m\u001b[1m \u001b[0m┃\u001b[1m \u001b[0m\u001b[1mOutput Shape          \u001b[0m\u001b[1m \u001b[0m┃\u001b[1m \u001b[0m\u001b[1m      Param #\u001b[0m\u001b[1m \u001b[0m┃\n",
       "┡━━━━━━━━━━━━━━━━━━━━━━━━━━━━━━━━━╇━━━━━━━━━━━━━━━━━━━━━━━━╇━━━━━━━━━━━━━━━┩\n",
       "│ conv2d (\u001b[38;5;33mConv2D\u001b[0m)                 │ (\u001b[38;5;45mNone\u001b[0m, \u001b[38;5;34m32\u001b[0m, \u001b[38;5;34m15\u001b[0m, \u001b[38;5;34m64\u001b[0m)     │         \u001b[38;5;34m1,024\u001b[0m │\n",
       "├─────────────────────────────────┼────────────────────────┼───────────────┤\n",
       "│ batch_normalization             │ (\u001b[38;5;45mNone\u001b[0m, \u001b[38;5;34m32\u001b[0m, \u001b[38;5;34m15\u001b[0m, \u001b[38;5;34m64\u001b[0m)     │           \u001b[38;5;34m256\u001b[0m │\n",
       "│ (\u001b[38;5;33mBatchNormalization\u001b[0m)            │                        │               │\n",
       "├─────────────────────────────────┼────────────────────────┼───────────────┤\n",
       "│ leaky_re_lu (\u001b[38;5;33mLeakyReLU\u001b[0m)         │ (\u001b[38;5;45mNone\u001b[0m, \u001b[38;5;34m32\u001b[0m, \u001b[38;5;34m15\u001b[0m, \u001b[38;5;34m64\u001b[0m)     │             \u001b[38;5;34m0\u001b[0m │\n",
       "├─────────────────────────────────┼────────────────────────┼───────────────┤\n",
       "│ max_pooling2d (\u001b[38;5;33mMaxPooling2D\u001b[0m)    │ (\u001b[38;5;45mNone\u001b[0m, \u001b[38;5;34m16\u001b[0m, \u001b[38;5;34m15\u001b[0m, \u001b[38;5;34m64\u001b[0m)     │             \u001b[38;5;34m0\u001b[0m │\n",
       "├─────────────────────────────────┼────────────────────────┼───────────────┤\n",
       "│ conv2d_1 (\u001b[38;5;33mConv2D\u001b[0m)               │ (\u001b[38;5;45mNone\u001b[0m, \u001b[38;5;34m16\u001b[0m, \u001b[38;5;34m15\u001b[0m, \u001b[38;5;34m128\u001b[0m)    │       \u001b[38;5;34m123,008\u001b[0m │\n",
       "├─────────────────────────────────┼────────────────────────┼───────────────┤\n",
       "│ batch_normalization_1           │ (\u001b[38;5;45mNone\u001b[0m, \u001b[38;5;34m16\u001b[0m, \u001b[38;5;34m15\u001b[0m, \u001b[38;5;34m128\u001b[0m)    │           \u001b[38;5;34m512\u001b[0m │\n",
       "│ (\u001b[38;5;33mBatchNormalization\u001b[0m)            │                        │               │\n",
       "├─────────────────────────────────┼────────────────────────┼───────────────┤\n",
       "│ leaky_re_lu_1 (\u001b[38;5;33mLeakyReLU\u001b[0m)       │ (\u001b[38;5;45mNone\u001b[0m, \u001b[38;5;34m16\u001b[0m, \u001b[38;5;34m15\u001b[0m, \u001b[38;5;34m128\u001b[0m)    │             \u001b[38;5;34m0\u001b[0m │\n",
       "├─────────────────────────────────┼────────────────────────┼───────────────┤\n",
       "│ max_pooling2d_1 (\u001b[38;5;33mMaxPooling2D\u001b[0m)  │ (\u001b[38;5;45mNone\u001b[0m, \u001b[38;5;34m8\u001b[0m, \u001b[38;5;34m15\u001b[0m, \u001b[38;5;34m128\u001b[0m)     │             \u001b[38;5;34m0\u001b[0m │\n",
       "├─────────────────────────────────┼────────────────────────┼───────────────┤\n",
       "│ flatten (\u001b[38;5;33mFlatten\u001b[0m)               │ (\u001b[38;5;45mNone\u001b[0m, \u001b[38;5;34m15360\u001b[0m)          │             \u001b[38;5;34m0\u001b[0m │\n",
       "├─────────────────────────────────┼────────────────────────┼───────────────┤\n",
       "│ dense (\u001b[38;5;33mDense\u001b[0m)                   │ (\u001b[38;5;45mNone\u001b[0m, \u001b[38;5;34m1\u001b[0m)              │        \u001b[38;5;34m15,361\u001b[0m │\n",
       "├─────────────────────────────────┼────────────────────────┼───────────────┤\n",
       "│ dropout (\u001b[38;5;33mDropout\u001b[0m)               │ (\u001b[38;5;45mNone\u001b[0m, \u001b[38;5;34m1\u001b[0m)              │             \u001b[38;5;34m0\u001b[0m │\n",
       "├─────────────────────────────────┼────────────────────────┼───────────────┤\n",
       "│ activation (\u001b[38;5;33mActivation\u001b[0m)         │ (\u001b[38;5;45mNone\u001b[0m, \u001b[38;5;34m1\u001b[0m)              │             \u001b[38;5;34m0\u001b[0m │\n",
       "└─────────────────────────────────┴────────────────────────┴───────────────┘\n"
      ]
     },
     "metadata": {},
     "output_type": "display_data"
    },
    {
     "data": {
      "text/html": [
       "<pre style=\"white-space:pre;overflow-x:auto;line-height:normal;font-family:Menlo,'DejaVu Sans Mono',consolas,'Courier New',monospace\"><span style=\"font-weight: bold\"> Total params: </span><span style=\"color: #00af00; text-decoration-color: #00af00\">419,717</span> (1.60 MB)\n",
       "</pre>\n"
      ],
      "text/plain": [
       "\u001b[1m Total params: \u001b[0m\u001b[38;5;34m419,717\u001b[0m (1.60 MB)\n"
      ]
     },
     "metadata": {},
     "output_type": "display_data"
    },
    {
     "data": {
      "text/html": [
       "<pre style=\"white-space:pre;overflow-x:auto;line-height:normal;font-family:Menlo,'DejaVu Sans Mono',consolas,'Courier New',monospace\"><span style=\"font-weight: bold\"> Trainable params: </span><span style=\"color: #00af00; text-decoration-color: #00af00\">139,777</span> (546.00 KB)\n",
       "</pre>\n"
      ],
      "text/plain": [
       "\u001b[1m Trainable params: \u001b[0m\u001b[38;5;34m139,777\u001b[0m (546.00 KB)\n"
      ]
     },
     "metadata": {},
     "output_type": "display_data"
    },
    {
     "data": {
      "text/html": [
       "<pre style=\"white-space:pre;overflow-x:auto;line-height:normal;font-family:Menlo,'DejaVu Sans Mono',consolas,'Courier New',monospace\"><span style=\"font-weight: bold\"> Non-trainable params: </span><span style=\"color: #00af00; text-decoration-color: #00af00\">384</span> (1.50 KB)\n",
       "</pre>\n"
      ],
      "text/plain": [
       "\u001b[1m Non-trainable params: \u001b[0m\u001b[38;5;34m384\u001b[0m (1.50 KB)\n"
      ]
     },
     "metadata": {},
     "output_type": "display_data"
    },
    {
     "data": {
      "text/html": [
       "<pre style=\"white-space:pre;overflow-x:auto;line-height:normal;font-family:Menlo,'DejaVu Sans Mono',consolas,'Courier New',monospace\"><span style=\"font-weight: bold\"> Optimizer params: </span><span style=\"color: #00af00; text-decoration-color: #00af00\">279,556</span> (1.07 MB)\n",
       "</pre>\n"
      ],
      "text/plain": [
       "\u001b[1m Optimizer params: \u001b[0m\u001b[38;5;34m279,556\u001b[0m (1.07 MB)\n"
      ]
     },
     "metadata": {},
     "output_type": "display_data"
    }
   ],
   "source": [
    "from tensorflow.keras.models import load_model\n",
    "\n",
    "model = load_model(\"models/5-day.keras\")\n",
    "model.summary()"
   ]
  },
  {
   "cell_type": "code",
   "execution_count": 5,
   "id": "43ccaa26-df27-46db-a720-7b4aec1c4222",
   "metadata": {},
   "outputs": [
    {
     "name": "stderr",
     "output_type": "stream",
     "text": [
      "  0%|          | 0/489 [00:00<?, ?it/s]2024-11-28 22:39:33.521858: I tensorflow/core/grappler/optimizers/custom_graph_optimizer_registry.cc:117] Plugin optimizer for device_type GPU is enabled.\n",
      "100%|██████████| 489/489 [00:26<00:00, 18.35it/s]"
     ]
    },
    {
     "name": "stdout",
     "output_type": "stream",
     "text": [
      "CPU times: user 15.5 s, sys: 5.92 s, total: 21.4 s\n",
      "Wall time: 26.7 s\n"
     ]
    },
    {
     "name": "stderr",
     "output_type": "stream",
     "text": [
      "\n"
     ]
    }
   ],
   "source": [
    "%%time\n",
    "image_dir = \"data/images_small/out_of_sample/5-day/\"\n",
    "dirist = [x for x in os.listdir(image_dir) if not x.startswith(\".\")]\n",
    "predictions_dict = {}\n",
    "for folder_name in tqdm(dirist):\n",
    "    folder_dir = os.path.join(image_dir, folder_name)\n",
    "    current_images = []\n",
    "    # load images\n",
    "    for file_name in os.listdir(folder_dir):\n",
    "        file_dir = os.path.join(folder_dir, file_name)\n",
    "        img = cv2.imread(file_dir, cv2.IMREAD_GRAYSCALE)\n",
    "        current_images.append(img)\n",
    "    # get model prediction\n",
    "    current_images = np.array(current_images)\n",
    "    current_predictions = model.predict(current_images, verbose=0).flatten()\n",
    "    predictions_dict[folder_name] = current_predictions\n",
    "\n",
    "#-------------\n",
    "predictions_df = pd.DataFrame(predictions_dict)\n",
    "\n",
    "del model"
   ]
  },
  {
   "cell_type": "code",
   "execution_count": 6,
   "id": "5a324034-200e-4062-b9df-6a2589459760",
   "metadata": {},
   "outputs": [
    {
     "data": {
      "text/html": [
       "<div>\n",
       "<style scoped>\n",
       "    .dataframe tbody tr th:only-of-type {\n",
       "        vertical-align: middle;\n",
       "    }\n",
       "\n",
       "    .dataframe tbody tr th {\n",
       "        vertical-align: top;\n",
       "    }\n",
       "\n",
       "    .dataframe thead th {\n",
       "        text-align: right;\n",
       "    }\n",
       "</style>\n",
       "<table border=\"1\" class=\"dataframe\">\n",
       "  <thead>\n",
       "    <tr style=\"text-align: right;\">\n",
       "      <th></th>\n",
       "      <th>CTAS</th>\n",
       "      <th>WELL</th>\n",
       "      <th>VZ</th>\n",
       "      <th>AMZN</th>\n",
       "      <th>CNP</th>\n",
       "      <th>RCL</th>\n",
       "      <th>CAT</th>\n",
       "      <th>TFC</th>\n",
       "      <th>AAPL</th>\n",
       "      <th>PANW</th>\n",
       "      <th>...</th>\n",
       "      <th>EXPE</th>\n",
       "      <th>HUM</th>\n",
       "      <th>HST</th>\n",
       "      <th>NVR</th>\n",
       "      <th>STT</th>\n",
       "      <th>CCI</th>\n",
       "      <th>SCHW</th>\n",
       "      <th>STZ</th>\n",
       "      <th>MSCI</th>\n",
       "      <th>GLW</th>\n",
       "    </tr>\n",
       "  </thead>\n",
       "  <tbody>\n",
       "    <tr>\n",
       "      <th>5</th>\n",
       "      <td>0.493433</td>\n",
       "      <td>0.506692</td>\n",
       "      <td>0.503856</td>\n",
       "      <td>0.504588</td>\n",
       "      <td>0.503391</td>\n",
       "      <td>0.516497</td>\n",
       "      <td>0.502029</td>\n",
       "      <td>0.499160</td>\n",
       "      <td>0.493861</td>\n",
       "      <td>0.498304</td>\n",
       "      <td>...</td>\n",
       "      <td>0.489093</td>\n",
       "      <td>0.508085</td>\n",
       "      <td>0.510367</td>\n",
       "      <td>0.495663</td>\n",
       "      <td>0.516739</td>\n",
       "      <td>0.518014</td>\n",
       "      <td>0.493344</td>\n",
       "      <td>0.511776</td>\n",
       "      <td>0.502274</td>\n",
       "      <td>0.501523</td>\n",
       "    </tr>\n",
       "    <tr>\n",
       "      <th>10</th>\n",
       "      <td>0.512540</td>\n",
       "      <td>0.498483</td>\n",
       "      <td>0.516194</td>\n",
       "      <td>0.509003</td>\n",
       "      <td>0.493330</td>\n",
       "      <td>0.499638</td>\n",
       "      <td>0.501157</td>\n",
       "      <td>0.511790</td>\n",
       "      <td>0.498543</td>\n",
       "      <td>0.505561</td>\n",
       "      <td>...</td>\n",
       "      <td>0.508218</td>\n",
       "      <td>0.517695</td>\n",
       "      <td>0.515029</td>\n",
       "      <td>0.494546</td>\n",
       "      <td>0.509890</td>\n",
       "      <td>0.485286</td>\n",
       "      <td>0.506887</td>\n",
       "      <td>0.492358</td>\n",
       "      <td>0.508084</td>\n",
       "      <td>0.524672</td>\n",
       "    </tr>\n",
       "    <tr>\n",
       "      <th>15</th>\n",
       "      <td>0.512908</td>\n",
       "      <td>0.504336</td>\n",
       "      <td>0.527980</td>\n",
       "      <td>0.497231</td>\n",
       "      <td>0.508439</td>\n",
       "      <td>0.504626</td>\n",
       "      <td>0.502002</td>\n",
       "      <td>0.510966</td>\n",
       "      <td>0.485071</td>\n",
       "      <td>0.490222</td>\n",
       "      <td>...</td>\n",
       "      <td>0.507604</td>\n",
       "      <td>0.497780</td>\n",
       "      <td>0.490733</td>\n",
       "      <td>0.504038</td>\n",
       "      <td>0.485943</td>\n",
       "      <td>0.502652</td>\n",
       "      <td>0.498867</td>\n",
       "      <td>0.495877</td>\n",
       "      <td>0.500681</td>\n",
       "      <td>0.483182</td>\n",
       "    </tr>\n",
       "  </tbody>\n",
       "</table>\n",
       "<p>3 rows × 489 columns</p>\n",
       "</div>"
      ],
      "text/plain": [
       "        CTAS      WELL        VZ      AMZN       CNP       RCL       CAT  \\\n",
       "5   0.493433  0.506692  0.503856  0.504588  0.503391  0.516497  0.502029   \n",
       "10  0.512540  0.498483  0.516194  0.509003  0.493330  0.499638  0.501157   \n",
       "15  0.512908  0.504336  0.527980  0.497231  0.508439  0.504626  0.502002   \n",
       "\n",
       "         TFC      AAPL      PANW  ...      EXPE       HUM       HST       NVR  \\\n",
       "5   0.499160  0.493861  0.498304  ...  0.489093  0.508085  0.510367  0.495663   \n",
       "10  0.511790  0.498543  0.505561  ...  0.508218  0.517695  0.515029  0.494546   \n",
       "15  0.510966  0.485071  0.490222  ...  0.507604  0.497780  0.490733  0.504038   \n",
       "\n",
       "         STT       CCI      SCHW       STZ      MSCI       GLW  \n",
       "5   0.516739  0.518014  0.493344  0.511776  0.502274  0.501523  \n",
       "10  0.509890  0.485286  0.506887  0.492358  0.508084  0.524672  \n",
       "15  0.485943  0.502652  0.498867  0.495877  0.500681  0.483182  \n",
       "\n",
       "[3 rows x 489 columns]"
      ]
     },
     "execution_count": 6,
     "metadata": {},
     "output_type": "execute_result"
    }
   ],
   "source": [
    "new_index = range(5, 5 * (len(predictions_df) + 1), 5)\n",
    "predictions_df.index = new_index\n",
    "predictions_df.head(3)"
   ]
  },
  {
   "cell_type": "markdown",
   "id": "cff589f6-1fd2-4d76-9495-4e7b56fabfa4",
   "metadata": {},
   "source": [
    "---\n",
    "### For the sake of clarity:\n",
    "- `predictions_df` --> One row in this df, represents the **probability to have a positive returns in the next time period** (in this case 5 days), its a probability that we calculate based on one week worth of data, and we know that the week starts at the index.\n",
    "\n",
    "*EXAMPLE:* So the first row of `predictions_df` has `index = 5`, so we know that it its the probability to have a positive returns in the time frame described from indeces `10` to `15` in the `prices_df`.\n",
    "> \n",
    "> `predictions_df.index(5)` is calculated based on `price_df.iloc[5:10]` and its the probability to have a positive return in the next 5 day window `price_df.iloc[10:15]`\n",
    "\n",
    "---"
   ]
  },
  {
   "cell_type": "markdown",
   "id": "e55959d8-00c1-48a6-ae5d-cc0c336d904d",
   "metadata": {},
   "source": [
    "We start our simulation at index 10 of our price_df, we use only the information we have up untill that point and among all the firms in the sp500, we \n",
    "- **buy** the top 10 with highest probability to have a positive return\n",
    "- **short** the ones with the lowest probability to have a positive return"
   ]
  },
  {
   "cell_type": "code",
   "execution_count": 7,
   "id": "e0bdf36e-88e8-4d11-ab35-66a49271acd6",
   "metadata": {
    "scrolled": true
   },
   "outputs": [
    {
     "name": "stderr",
     "output_type": "stream",
     "text": [
      " 99%|█████████▉| 193/195 [00:00<00:00, 1253.29it/s]\n"
     ]
    },
    {
     "ename": "KeyError",
     "evalue": "970",
     "output_type": "error",
     "traceback": [
      "\u001b[0;31m---------------------------------------------------------------------------\u001b[0m",
      "\u001b[0;31mValueError\u001b[0m                                Traceback (most recent call last)",
      "File \u001b[0;32m~/anaconda3/lib/python3.11/site-packages/pandas/core/indexes/range.py:413\u001b[0m, in \u001b[0;36mRangeIndex.get_loc\u001b[0;34m(self, key)\u001b[0m\n\u001b[1;32m    412\u001b[0m \u001b[38;5;28;01mtry\u001b[39;00m:\n\u001b[0;32m--> 413\u001b[0m     \u001b[38;5;28;01mreturn\u001b[39;00m \u001b[38;5;28mself\u001b[39m\u001b[38;5;241m.\u001b[39m_range\u001b[38;5;241m.\u001b[39mindex(new_key)\n\u001b[1;32m    414\u001b[0m \u001b[38;5;28;01mexcept\u001b[39;00m \u001b[38;5;167;01mValueError\u001b[39;00m \u001b[38;5;28;01mas\u001b[39;00m err:\n",
      "\u001b[0;31mValueError\u001b[0m: 970 is not in range",
      "\nThe above exception was the direct cause of the following exception:\n",
      "\u001b[0;31mKeyError\u001b[0m                                  Traceback (most recent call last)",
      "Cell \u001b[0;32mIn[7], line 5\u001b[0m\n\u001b[1;32m      3\u001b[0m short_returns \u001b[38;5;241m=\u001b[39m []\n\u001b[1;32m      4\u001b[0m \u001b[38;5;28;01mfor\u001b[39;00m today \u001b[38;5;129;01min\u001b[39;00m tqdm(\u001b[38;5;28mrange\u001b[39m(\u001b[38;5;241m5\u001b[39m, \u001b[38;5;28mlen\u001b[39m(prices_df), \u001b[38;5;241m5\u001b[39m)):\n\u001b[0;32m----> 5\u001b[0m     current_probabilities \u001b[38;5;241m=\u001b[39m predictions_df\u001b[38;5;241m.\u001b[39mloc[today]\n\u001b[1;32m      7\u001b[0m     to_buy \u001b[38;5;241m=\u001b[39m \u001b[38;5;28mlist\u001b[39m(current_probabilities\u001b[38;5;241m.\u001b[39mnlargest(\u001b[38;5;241m50\u001b[39m)\u001b[38;5;241m.\u001b[39mindex)\n\u001b[1;32m      8\u001b[0m     to_sell \u001b[38;5;241m=\u001b[39m \u001b[38;5;28mlist\u001b[39m(current_probabilities\u001b[38;5;241m.\u001b[39mnsmallest(\u001b[38;5;241m50\u001b[39m)\u001b[38;5;241m.\u001b[39mindex)\n",
      "File \u001b[0;32m~/anaconda3/lib/python3.11/site-packages/pandas/core/indexing.py:1191\u001b[0m, in \u001b[0;36m_LocationIndexer.__getitem__\u001b[0;34m(self, key)\u001b[0m\n\u001b[1;32m   1189\u001b[0m maybe_callable \u001b[38;5;241m=\u001b[39m com\u001b[38;5;241m.\u001b[39mapply_if_callable(key, \u001b[38;5;28mself\u001b[39m\u001b[38;5;241m.\u001b[39mobj)\n\u001b[1;32m   1190\u001b[0m maybe_callable \u001b[38;5;241m=\u001b[39m \u001b[38;5;28mself\u001b[39m\u001b[38;5;241m.\u001b[39m_check_deprecated_callable_usage(key, maybe_callable)\n\u001b[0;32m-> 1191\u001b[0m \u001b[38;5;28;01mreturn\u001b[39;00m \u001b[38;5;28mself\u001b[39m\u001b[38;5;241m.\u001b[39m_getitem_axis(maybe_callable, axis\u001b[38;5;241m=\u001b[39maxis)\n",
      "File \u001b[0;32m~/anaconda3/lib/python3.11/site-packages/pandas/core/indexing.py:1431\u001b[0m, in \u001b[0;36m_LocIndexer._getitem_axis\u001b[0;34m(self, key, axis)\u001b[0m\n\u001b[1;32m   1429\u001b[0m \u001b[38;5;66;03m# fall thru to straight lookup\u001b[39;00m\n\u001b[1;32m   1430\u001b[0m \u001b[38;5;28mself\u001b[39m\u001b[38;5;241m.\u001b[39m_validate_key(key, axis)\n\u001b[0;32m-> 1431\u001b[0m \u001b[38;5;28;01mreturn\u001b[39;00m \u001b[38;5;28mself\u001b[39m\u001b[38;5;241m.\u001b[39m_get_label(key, axis\u001b[38;5;241m=\u001b[39maxis)\n",
      "File \u001b[0;32m~/anaconda3/lib/python3.11/site-packages/pandas/core/indexing.py:1381\u001b[0m, in \u001b[0;36m_LocIndexer._get_label\u001b[0;34m(self, label, axis)\u001b[0m\n\u001b[1;32m   1379\u001b[0m \u001b[38;5;28;01mdef\u001b[39;00m \u001b[38;5;21m_get_label\u001b[39m(\u001b[38;5;28mself\u001b[39m, label, axis: AxisInt):\n\u001b[1;32m   1380\u001b[0m     \u001b[38;5;66;03m# GH#5567 this will fail if the label is not present in the axis.\u001b[39;00m\n\u001b[0;32m-> 1381\u001b[0m     \u001b[38;5;28;01mreturn\u001b[39;00m \u001b[38;5;28mself\u001b[39m\u001b[38;5;241m.\u001b[39mobj\u001b[38;5;241m.\u001b[39mxs(label, axis\u001b[38;5;241m=\u001b[39maxis)\n",
      "File \u001b[0;32m~/anaconda3/lib/python3.11/site-packages/pandas/core/generic.py:4301\u001b[0m, in \u001b[0;36mNDFrame.xs\u001b[0;34m(self, key, axis, level, drop_level)\u001b[0m\n\u001b[1;32m   4299\u001b[0m             new_index \u001b[38;5;241m=\u001b[39m index[loc]\n\u001b[1;32m   4300\u001b[0m \u001b[38;5;28;01melse\u001b[39;00m:\n\u001b[0;32m-> 4301\u001b[0m     loc \u001b[38;5;241m=\u001b[39m index\u001b[38;5;241m.\u001b[39mget_loc(key)\n\u001b[1;32m   4303\u001b[0m     \u001b[38;5;28;01mif\u001b[39;00m \u001b[38;5;28misinstance\u001b[39m(loc, np\u001b[38;5;241m.\u001b[39mndarray):\n\u001b[1;32m   4304\u001b[0m         \u001b[38;5;28;01mif\u001b[39;00m loc\u001b[38;5;241m.\u001b[39mdtype \u001b[38;5;241m==\u001b[39m np\u001b[38;5;241m.\u001b[39mbool_:\n",
      "File \u001b[0;32m~/anaconda3/lib/python3.11/site-packages/pandas/core/indexes/range.py:415\u001b[0m, in \u001b[0;36mRangeIndex.get_loc\u001b[0;34m(self, key)\u001b[0m\n\u001b[1;32m    413\u001b[0m         \u001b[38;5;28;01mreturn\u001b[39;00m \u001b[38;5;28mself\u001b[39m\u001b[38;5;241m.\u001b[39m_range\u001b[38;5;241m.\u001b[39mindex(new_key)\n\u001b[1;32m    414\u001b[0m     \u001b[38;5;28;01mexcept\u001b[39;00m \u001b[38;5;167;01mValueError\u001b[39;00m \u001b[38;5;28;01mas\u001b[39;00m err:\n\u001b[0;32m--> 415\u001b[0m         \u001b[38;5;28;01mraise\u001b[39;00m \u001b[38;5;167;01mKeyError\u001b[39;00m(key) \u001b[38;5;28;01mfrom\u001b[39;00m \u001b[38;5;21;01merr\u001b[39;00m\n\u001b[1;32m    416\u001b[0m \u001b[38;5;28;01mif\u001b[39;00m \u001b[38;5;28misinstance\u001b[39m(key, Hashable):\n\u001b[1;32m    417\u001b[0m     \u001b[38;5;28;01mraise\u001b[39;00m \u001b[38;5;167;01mKeyError\u001b[39;00m(key)\n",
      "\u001b[0;31mKeyError\u001b[0m: 970"
     ]
    }
   ],
   "source": [
    "window_size = 5\n",
    "long_returns = []\n",
    "short_returns = []\n",
    "for today in tqdm(range(5, len(prices_df), 5)):\n",
    "    current_probabilities = predictions_df.loc[today]\n",
    "    \n",
    "    to_buy = list(current_probabilities.nlargest(50).index)\n",
    "    to_sell = list(current_probabilities.nsmallest(50).index)\n",
    "    \n",
    "    long_stocks = prices_df[to_buy].copy()\n",
    "    short_stocks = prices_df[to_sell].copy()\n",
    "    \n",
    "    long_pos_start = long_stocks.iloc[today + window_size]\n",
    "    long_pos_end = long_stocks.iloc[today + 2*window_size]\n",
    "    long_pos_diff = (long_pos_end - long_pos_start)/long_pos_start\n",
    "    \n",
    "    short_pos_start = short_stocks.iloc[today + window_size]\n",
    "    short_pos_end = short_stocks.iloc[today + 2*window_size]\n",
    "    short_pos_diff = -(short_pos_end - short_pos_start)/short_pos_start\n",
    "\n",
    "    long_portfolio_return = long_pos_diff.mean()\n",
    "    short_portfolio_return = short_pos_diff.mean()\n",
    "\n",
    "    long_returns.append(long_portfolio_return)\n",
    "    short_returns.append(short_portfolio_return)"
   ]
  },
  {
   "cell_type": "code",
   "execution_count": 8,
   "id": "5cf3f0d7-0e99-41d3-8cfa-a4752d1ed84a",
   "metadata": {},
   "outputs": [
    {
     "data": {
      "text/html": [
       "<div>\n",
       "<style scoped>\n",
       "    .dataframe tbody tr th:only-of-type {\n",
       "        vertical-align: middle;\n",
       "    }\n",
       "\n",
       "    .dataframe tbody tr th {\n",
       "        vertical-align: top;\n",
       "    }\n",
       "\n",
       "    .dataframe thead th {\n",
       "        text-align: right;\n",
       "    }\n",
       "</style>\n",
       "<table border=\"1\" class=\"dataframe\">\n",
       "  <thead>\n",
       "    <tr style=\"text-align: right;\">\n",
       "      <th></th>\n",
       "      <th>Long portfolio</th>\n",
       "      <th>Short portfolio</th>\n",
       "      <th>Long Short portfolio</th>\n",
       "    </tr>\n",
       "  </thead>\n",
       "  <tbody>\n",
       "    <tr>\n",
       "      <th>0</th>\n",
       "      <td>-0.023644</td>\n",
       "      <td>0.005839</td>\n",
       "      <td>-0.017805</td>\n",
       "    </tr>\n",
       "    <tr>\n",
       "      <th>1</th>\n",
       "      <td>-0.003082</td>\n",
       "      <td>-0.003318</td>\n",
       "      <td>-0.006400</td>\n",
       "    </tr>\n",
       "    <tr>\n",
       "      <th>2</th>\n",
       "      <td>0.025182</td>\n",
       "      <td>-0.033871</td>\n",
       "      <td>-0.008689</td>\n",
       "    </tr>\n",
       "    <tr>\n",
       "      <th>3</th>\n",
       "      <td>0.005505</td>\n",
       "      <td>-0.010671</td>\n",
       "      <td>-0.005166</td>\n",
       "    </tr>\n",
       "    <tr>\n",
       "      <th>4</th>\n",
       "      <td>0.009873</td>\n",
       "      <td>-0.006077</td>\n",
       "      <td>0.003796</td>\n",
       "    </tr>\n",
       "    <tr>\n",
       "      <th>...</th>\n",
       "      <td>...</td>\n",
       "      <td>...</td>\n",
       "      <td>...</td>\n",
       "    </tr>\n",
       "    <tr>\n",
       "      <th>188</th>\n",
       "      <td>0.001007</td>\n",
       "      <td>0.012705</td>\n",
       "      <td>0.013712</td>\n",
       "    </tr>\n",
       "    <tr>\n",
       "      <th>189</th>\n",
       "      <td>-0.000334</td>\n",
       "      <td>0.007050</td>\n",
       "      <td>0.006716</td>\n",
       "    </tr>\n",
       "    <tr>\n",
       "      <th>190</th>\n",
       "      <td>-0.022830</td>\n",
       "      <td>0.014816</td>\n",
       "      <td>-0.008014</td>\n",
       "    </tr>\n",
       "    <tr>\n",
       "      <th>191</th>\n",
       "      <td>0.063835</td>\n",
       "      <td>-0.040138</td>\n",
       "      <td>0.023697</td>\n",
       "    </tr>\n",
       "    <tr>\n",
       "      <th>192</th>\n",
       "      <td>-0.027249</td>\n",
       "      <td>0.022010</td>\n",
       "      <td>-0.005239</td>\n",
       "    </tr>\n",
       "  </tbody>\n",
       "</table>\n",
       "<p>193 rows × 3 columns</p>\n",
       "</div>"
      ],
      "text/plain": [
       "     Long portfolio  Short portfolio  Long Short portfolio\n",
       "0         -0.023644         0.005839             -0.017805\n",
       "1         -0.003082        -0.003318             -0.006400\n",
       "2          0.025182        -0.033871             -0.008689\n",
       "3          0.005505        -0.010671             -0.005166\n",
       "4          0.009873        -0.006077              0.003796\n",
       "..              ...              ...                   ...\n",
       "188        0.001007         0.012705              0.013712\n",
       "189       -0.000334         0.007050              0.006716\n",
       "190       -0.022830         0.014816             -0.008014\n",
       "191        0.063835        -0.040138              0.023697\n",
       "192       -0.027249         0.022010             -0.005239\n",
       "\n",
       "[193 rows x 3 columns]"
      ]
     },
     "execution_count": 8,
     "metadata": {},
     "output_type": "execute_result"
    }
   ],
   "source": [
    "CNN_portfolio = pd.DataFrame({\"Long portfolio\": long_returns,\n",
    "                              \"Short portfolio\": short_returns})\n",
    "CNN_portfolio[\"Long Short portfolio\"] = CNN_portfolio[\"Long portfolio\"] + CNN_portfolio[\"Short portfolio\"]\n",
    "CNN_portfolio"
   ]
  },
  {
   "cell_type": "code",
   "execution_count": 9,
   "id": "91dc2ac6-958b-48c0-b542-a94c79ffe51a",
   "metadata": {},
   "outputs": [
    {
     "data": {
      "text/plain": [
       "Long portfolio          0.002879\n",
       "Short portfolio        -0.002575\n",
       "Long Short portfolio    0.000304\n",
       "dtype: float64"
      ]
     },
     "execution_count": 9,
     "metadata": {},
     "output_type": "execute_result"
    }
   ],
   "source": [
    "CNN_portfolio.mean()"
   ]
  },
  {
   "cell_type": "code",
   "execution_count": 16,
   "id": "604ca8bf-6c41-4a73-b244-8d2fa48ae309",
   "metadata": {},
   "outputs": [
    {
     "data": {
      "image/png": "[encoded data removed]",
      "text/plain": [
       "<Figure size 1500x500 with 3 Axes>"
      ]
     },
     "metadata": {},
     "output_type": "display_data"
    }
   ],
   "source": [
    "plt.figure(figsize=(15, 5))  # Set figure size\n",
    "columns = list(CNN_portfolio.columns)\n",
    "for i, column in enumerate(columns, 1):\n",
    "    plt.subplot(1, len(columns), i)  # Create subplots\n",
    "    plt.hist(CNN_portfolio[column], bins=30, alpha=0.7, color='blue', edgecolor='black')\n",
    "    plt.title(f\"Histogram of {column}\", fontsize=14)\n",
    "    plt.xlabel(\"Value\", fontsize=12)\n",
    "    plt.ylabel(\"Frequency\", fontsize=12)\n",
    "    plt.grid(alpha=0.3)\n",
    "\n",
    "plt.tight_layout()\n",
    "plt.show()"
   ]
  },
  {
   "cell_type": "code",
   "execution_count": null,
   "id": "b68f031d-c706-4302-8bef-27969f6f3c40",
   "metadata": {},
   "outputs": [],
   "source": []
  },
  {
   "cell_type": "code",
   "execution_count": 10,
   "id": "4c958410-be72-4ebf-81e0-08eb97b49414",
   "metadata": {},
   "outputs": [],
   "source": [
    "long_portfolio = 1000\n",
    "long_portfolio_history = []\n",
    "long_short_portfolio = 1000\n",
    "long_short_portfolio_history = []\n",
    "for _, row in CNN_portfolio.iterrows():\n",
    "    long_portfolio *= (1 + row[\"Long portfolio\"]) \n",
    "    long_short_portfolio *= (1 + row[\"Long Short portfolio\"])\n",
    "    long_portfolio_history.append(long_portfolio)\n",
    "    long_short_portfolio_history.append(long_short_portfolio)"
   ]
  },
  {
   "cell_type": "code",
   "execution_count": 11,
   "id": "c9f6fe6b-6af4-4b91-9beb-7d4c67ea35a5",
   "metadata": {
    "scrolled": true
   },
   "outputs": [
    {
     "data": {
      "text/plain": [
       "[976.3562905716873,\n",
       " 973.3474521191248,\n",
       " 997.8579316795175,\n",
       " 1003.3507201485457,\n",
       " 1013.2567619633174,\n",
       " 994.5127336890905,\n",
       " 1029.936818864127,\n",
       " 1054.060441739,\n",
       " 1035.481318174052,\n",
       " 1071.2136102506993,\n",
       " 1095.8670826214113,\n",
       " 1114.135667398232,\n",
       " 1108.5387642338956,\n",
       " 1124.190990948373,\n",
       " 1121.5744230718642,\n",
       " 1112.4396805824524,\n",
       " 1117.6242942417346,\n",
       " 1120.7454279492733,\n",
       " 1130.4042857683319,\n",
       " 1132.6631264289347,\n",
       " 1087.7204493062734,\n",
       " 1129.8062429951883,\n",
       " 1135.7728365152104,\n",
       " 1138.4537549327586,\n",
       " 1086.3341906806847,\n",
       " 1138.1837269304895,\n",
       " 1143.1341293497067,\n",
       " 1147.2155217830018,\n",
       " 1151.7018690632228,\n",
       " 1151.4099600976742,\n",
       " 1166.727854229134,\n",
       " 1157.8530157889963,\n",
       " 1147.3372016047133,\n",
       " 1128.6850029855739,\n",
       " 1134.1944722838357,\n",
       " 1136.5985007383392,\n",
       " 1134.0639760047718,\n",
       " 1165.7487364940325,\n",
       " 1175.2542528981428,\n",
       " 1178.0539693223147,\n",
       " 1191.0503602006545,\n",
       " 1185.9197992496602,\n",
       " 1171.4992576456582,\n",
       " 1107.8074792463603,\n",
       " 1167.69089415449,\n",
       " 1156.764692137455,\n",
       " 1161.1049997997266,\n",
       " 1186.8054603688959,\n",
       " 1187.3020756738438,\n",
       " 1195.8680713796693,\n",
       " 1137.8142991802015,\n",
       " 1131.5904052692447,\n",
       " 1142.8390614687635,\n",
       " 1142.195339936479,\n",
       " 1133.695005197631,\n",
       " 1132.9939790203061,\n",
       " 1084.5069945996827,\n",
       " 1090.9366138454875,\n",
       " 1153.211029420422,\n",
       " 1176.2441709656682,\n",
       " 1176.9750125756782,\n",
       " 1168.016346764074,\n",
       " 1186.897342284529,\n",
       " 1125.9693274375823,\n",
       " 1132.070600421389,\n",
       " 1095.283061866343,\n",
       " 1114.2581630713976,\n",
       " 1079.0696863239907,\n",
       " 1114.2399136192478,\n",
       " 1115.7303083089882,\n",
       " 1034.7761452471254,\n",
       " 1030.1779297601956,\n",
       " 1034.378929418408,\n",
       " 1055.3777568822238,\n",
       " 1048.963116620637,\n",
       " 1084.1634859830385,\n",
       " 1129.0114559582817,\n",
       " 1130.3383796678784,\n",
       " 1182.771112998112,\n",
       " 1166.8445286028968,\n",
       " 1136.6016524361091,\n",
       " 1101.6165270906658,\n",
       " 1157.4854737216463,\n",
       " 1110.3217471265373,\n",
       " 1022.8432129621266,\n",
       " 1048.7376774214567,\n",
       " 1047.154935683559,\n",
       " 1061.4420818750718,\n",
       " 1090.8164851080826,\n",
       " 1136.289426337081,\n",
       " 1132.8763829218456,\n",
       " 1173.5284554389027,\n",
       " 1175.0554306481922,\n",
       " 1193.6938359804612,\n",
       " 1182.6632919110389,\n",
       " 1216.0175911326287,\n",
       " 1162.3439691747456,\n",
       " 1157.16939377615,\n",
       " 1196.457180760118,\n",
       " 1252.7133605961026,\n",
       " 1241.711434169678,\n",
       " 1267.1078965606482,\n",
       " 1277.2392876039833,\n",
       " 1274.55984750087,\n",
       " 1277.8676360141083,\n",
       " 1251.625435222798,\n",
       " 1264.4617103889282,\n",
       " 1178.2332356496631,\n",
       " 1189.5649287116196,\n",
       " 1187.1132014021375,\n",
       " 1233.1554309892003,\n",
       " 1228.0047019266876,\n",
       " 1237.7211663371602,\n",
       " 1215.7907052535313,\n",
       " 1225.031711410138,\n",
       " 1225.4935369646291,\n",
       " 1218.0616797155838,\n",
       " 1224.9473549042464,\n",
       " 1212.044244550671,\n",
       " 1259.6867921233702,\n",
       " 1274.5459606871327,\n",
       " 1257.069458675421,\n",
       " 1279.225923664511,\n",
       " 1275.2453319880697,\n",
       " 1313.7015902138787,\n",
       " 1335.9053451319714,\n",
       " 1342.0358082763526,\n",
       " 1319.934979171156,\n",
       " 1321.565348108194,\n",
       " 1287.1675158329454,\n",
       " 1284.455999770643,\n",
       " 1309.649674360793,\n",
       " 1278.3659745320958,\n",
       " 1260.7831218213155,\n",
       " 1231.524286283589,\n",
       " 1210.5251525354133,\n",
       " 1205.7144247423298,\n",
       " 1215.0198409153656,\n",
       " 1165.2523340428995,\n",
       " 1149.2405503876314,\n",
       " 1206.0482831779402,\n",
       " 1210.0157246956833,\n",
       " 1260.3540375274981,\n",
       " 1269.6603301654077,\n",
       " 1284.466189845086,\n",
       " 1308.5981118893635,\n",
       " 1360.055594788759,\n",
       " 1372.502537274952,\n",
       " 1357.829510480501,\n",
       " 1372.4550346688445,\n",
       " 1378.7104353140471,\n",
       " 1402.0732190262631,\n",
       " 1408.7301789413839,\n",
       " 1426.9981994545951,\n",
       " 1434.7133847625246,\n",
       " 1448.3608385813186,\n",
       " 1478.1471988732685,\n",
       " 1488.7969929574122,\n",
       " 1485.450928089634,\n",
       " 1506.437677313245,\n",
       " 1508.4943757559488,\n",
       " 1520.57191974002,\n",
       " 1457.1403570622806,\n",
       " 1471.824891667718,\n",
       " 1464.5490865042468,\n",
       " 1476.4282052730264,\n",
       " 1493.5547866455427,\n",
       " 1503.3106186752366,\n",
       " 1477.005261578351,\n",
       " 1499.49777869983,\n",
       " 1490.1247483012164,\n",
       " 1494.042435141592,\n",
       " 1487.8668199762403,\n",
       " 1476.332796366555,\n",
       " 1522.0264088712338,\n",
       " 1507.6498931016724,\n",
       " 1521.0834887998433,\n",
       " 1498.198355951169,\n",
       " 1502.9770405669879,\n",
       " 1544.4195034705508,\n",
       " 1581.045392100456,\n",
       " 1598.3816122476283,\n",
       " 1556.205657142276,\n",
       " 1581.0872980236193,\n",
       " 1600.440746925549,\n",
       " 1603.7115520165296,\n",
       " 1590.2546785368013,\n",
       " 1632.1309928311634,\n",
       " 1633.7741506588166,\n",
       " 1633.228726590091,\n",
       " 1595.9422637797916,\n",
       " 1697.819237414711,\n",
       " 1651.5558659585595]"
      ]
     },
     "execution_count": 11,
     "metadata": {},
     "output_type": "execute_result"
    }
   ],
   "source": [
    "long_portfolio_history"
   ]
  },
  {
   "cell_type": "code",
   "execution_count": 12,
   "id": "b235b76f-ea07-4421-b3f1-1267bc1c7b70",
   "metadata": {},
   "outputs": [
    {
     "data": {
      "text/plain": [
       "1651.5558659585595"
      ]
     },
     "execution_count": 12,
     "metadata": {},
     "output_type": "execute_result"
    }
   ],
   "source": [
    "long_portfolio"
   ]
  },
  {
   "cell_type": "code",
   "execution_count": 13,
   "id": "63bd1dc9-0f07-44ee-8190-5a666776bb44",
   "metadata": {},
   "outputs": [
    {
     "data": {
      "text/plain": [
       "1052.9093265359847"
      ]
     },
     "execution_count": 13,
     "metadata": {},
     "output_type": "execute_result"
    }
   ],
   "source": [
    "long_short_portfolio"
   ]
  },
  {
   "cell_type": "code",
   "execution_count": 14,
   "id": "10f765f9-e17c-43b0-9ea8-f5858e166d7c",
   "metadata": {},
   "outputs": [
    {
     "data": {
      "image/png": "[encoded data removed]",
      "text/plain": [
       "<Figure size 1000x600 with 1 Axes>"
      ]
     },
     "metadata": {},
     "output_type": "display_data"
    }
   ],
   "source": [
    "plt.figure(figsize=(10, 6))\n",
    "\n",
    "# Plot the histories\n",
    "plt.plot(long_portfolio_history, label=\"Long Portfolio\", color='blue', linewidth=2)\n",
    "plt.plot(long_short_portfolio_history, label=\"Long-Short Portfolio\", color='green', linewidth=2)\n",
    "\n",
    "# Add labels, legend, and title\n",
    "plt.title(\"Portfolio Value Histories\", fontsize=16)\n",
    "plt.xlabel(\"Time (Steps)\", fontsize=14)\n",
    "plt.ylabel(\"Portfolio Value\", fontsize=14)\n",
    "plt.legend(fontsize=12)\n",
    "plt.grid(True, linestyle='--', alpha=0.7)\n",
    "\n",
    "# Show the plot\n",
    "plt.tight_layout()\n",
    "plt.show()"
   ]
  },
  {
   "cell_type": "code",
   "execution_count": null,
   "id": "00c4b4e7-e808-4296-9375-e1cf5b70ccff",
   "metadata": {},
   "outputs": [],
   "source": []
  }
 ],
 "metadata": {
  "kernelspec": {
   "display_name": "Python 3 (ipykernel)",
   "language": "python",
   "name": "python3"
  },
  "language_info": {
   "codemirror_mode": {
    "name": "ipython",
    "version": 3
   },
   "file_extension": ".py",
   "mimetype": "text/x-python",
   "name": "python",
   "nbconvert_exporter": "python",
   "pygments_lexer": "ipython3",
   "version": "3.11.5"
  }
 },
 "nbformat": 4,
 "nbformat_minor": 5
}
