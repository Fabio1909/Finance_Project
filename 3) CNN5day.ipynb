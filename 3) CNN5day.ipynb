{
 "cells": [
  {
   "cell_type": "code",
   "execution_count": 1,
   "id": "681954b9-9019-46c3-8aa0-ede814f3d376",
   "metadata": {},
   "outputs": [],
   "source": [
    "import os\n",
    "import sys\n",
    "import cv2\n",
    "import numpy as np\n",
    "import matplotlib.pyplot as plt"
   ]
  },
  {
   "cell_type": "code",
   "execution_count": 2,
   "id": "476472a8-0470-4e06-a7ff-4537ac4cfa1e",
   "metadata": {},
   "outputs": [
    {
     "name": "stdout",
     "output_type": "stream",
     "text": [
      "2.16.2\n"
     ]
    }
   ],
   "source": [
    "import tensorflow as tf\n",
    "print(tf.__version__)"
   ]
  },
  {
   "cell_type": "code",
   "execution_count": 3,
   "id": "ca50c191-a234-4dd1-9367-1d2e242d737b",
   "metadata": {},
   "outputs": [
    {
     "name": "stdout",
     "output_type": "stream",
     "text": [
      "Num GPUs Available:  1\n"
     ]
    }
   ],
   "source": [
    "print(\"Num GPUs Available: \", len(tf.config.list_physical_devices('GPU')))"
   ]
  },
  {
   "cell_type": "markdown",
   "id": "0222c3d0-a285-4266-a023-b9b2d65135b3",
   "metadata": {},
   "source": [
    "# Processing all images"
   ]
  },
  {
   "cell_type": "code",
   "execution_count": 4,
   "id": "48c78e0b-84cb-4284-9b94-6eeab66186f6",
   "metadata": {},
   "outputs": [
    {
     "name": "stdout",
     "output_type": "stream",
     "text": [
      "TRUE: 127403 images with shape (32, 15)\n",
      "FALSE: 104272 images with shape (32, 15)\n",
      "CPU times: user 2.64 s, sys: 7.72 s, total: 10.4 s\n",
      "Wall time: 16.5 s\n"
     ]
    }
   ],
   "source": [
    "%%time\n",
    "images_True = []\n",
    "images_False = []\n",
    "image_dir = \"data/images_small/traning/5-day/\"\n",
    "dirist = [x for x in os.listdir(image_dir) if not x.startswith(\".\")]\n",
    "for folder_name in dirist:\n",
    "    folder_dir = os.path.join(image_dir, folder_name)\n",
    "    for file_name in os.listdir(folder_dir):\n",
    "        file_dir = os.path.join(folder_dir, file_name)\n",
    "        label = 1 if file_dir.strip().endswith(\"True.png\") else 0\n",
    "        img = cv2.imread(file_dir, cv2.IMREAD_GRAYSCALE)\n",
    "        if label == 1:\n",
    "            images_True.append(img)\n",
    "        else:\n",
    "            images_False.append(img)\n",
    "images_True = np.array(images_True)\n",
    "#images_True = images_True / 255.0 # --> Apparently Kelly does not scale betwen 0 and 1\n",
    "\n",
    "images_False = np.array(images_False)\n",
    "#images_False = images_False / 255.0\n",
    "\n",
    "print(f\"TRUE: {len(images_True)} images with shape {images_True[0].shape}\")\n",
    "print(f\"FALSE: {len(images_False)} images with shape {images_False[0].shape}\")"
   ]
  },
  {
   "cell_type": "code",
   "execution_count": 5,
   "id": "b9e35ffa-5a15-4994-bb27-dffb8a46aecd",
   "metadata": {},
   "outputs": [
    {
     "name": "stdout",
     "output_type": "stream",
     "text": [
      "The total memory usage of the image list is approximately 0.072 GB.\n",
      "The total memory usage of the image list is approximately 0.059 GB.\n"
     ]
    }
   ],
   "source": [
    "def calculate_memory_usage(image_list):\n",
    "    total_bytes = sys.getsizeof(image_list)  # Get the size of the list itself\n",
    "    for img in image_list:\n",
    "        total_bytes += sys.getsizeof(img)  # Add the size of each image array\n",
    "    \n",
    "    total_gb = total_bytes / (1024 ** 3)  # Convert bytes to gigabytes\n",
    "    print(f\"The total memory usage of the image list is approximately {total_gb:.3f} GB.\")\n",
    "\n",
    "calculate_memory_usage(images_True)\n",
    "calculate_memory_usage(images_False)"
   ]
  },
  {
   "cell_type": "code",
   "execution_count": 6,
   "id": "41782c88-d2ba-436f-8532-220286d7b211",
   "metadata": {},
   "outputs": [
    {
     "name": "stdout",
     "output_type": "stream",
     "text": [
      "Training set: 145980 samples\n",
      "Test set: 62564 samples\n",
      "Image shape: (32, 15)\n"
     ]
    }
   ],
   "source": [
    "from sklearn.model_selection import train_test_split\n",
    "\n",
    "# Step 1: Assign labels\n",
    "true_labels = np.ones(len(images_True))  # Label 1 for True images\n",
    "false_labels = np.zeros(len(images_False))  # Label 0 for False images\n",
    "\n",
    "\n",
    "# Step 1.5: Balance the dataset\n",
    "# As we have 23131 more true images than false we will remove these \n",
    "indices_to_keep = np.arange(len(images_True))  # Create an array of indices\n",
    "indices_to_remove = np.random.choice(indices_to_keep, size=23131, replace=False)  # Randomly select 21,706 indices\n",
    "indices_to_keep = np.setdiff1d(indices_to_keep, indices_to_remove)  # Get indices to keep\n",
    "# Filter the images and labels based on the indices\n",
    "images_True = images_True[indices_to_keep]\n",
    "true_labels = true_labels[indices_to_keep]\n",
    "\n",
    "# Step 2: Combine images and labels\n",
    "images = np.concatenate([images_True, images_False], axis=0)\n",
    "labels = np.concatenate([true_labels, false_labels], axis=0)\n",
    "\n",
    "# Step 3: Shuffle and split into training and testing sets\n",
    "X_train, X_test, y_train, y_test = train_test_split(\n",
    "    images, labels, test_size=0.3, random_state=42, stratify=labels\n",
    ")\n",
    "\n",
    "# Output the results\n",
    "print(f\"Training set: {X_train.shape[0]} samples\")\n",
    "print(f\"Test set: {X_test.shape[0]} samples\")\n",
    "print(f\"Image shape: {X_train[0].shape}\")"
   ]
  },
  {
   "cell_type": "markdown",
   "id": "74ca4b4e-bb4d-4065-8e12-668ee5815574",
   "metadata": {},
   "source": [
    "### Calculate some metris to make sure that the traning data is balances with respect to the labels"
   ]
  },
  {
   "cell_type": "code",
   "execution_count": 7,
   "id": "fae8c763-5182-464f-813e-3aa8d1c0a76c",
   "metadata": {},
   "outputs": [
    {
     "data": {
      "text/plain": [
       "104272"
      ]
     },
     "execution_count": 7,
     "metadata": {},
     "output_type": "execute_result"
    }
   ],
   "source": [
    "len(true_labels)"
   ]
  },
  {
   "cell_type": "code",
   "execution_count": 8,
   "id": "83753bfb-d70a-4067-9ca3-12d131579bdb",
   "metadata": {},
   "outputs": [
    {
     "data": {
      "text/plain": [
       "104272"
      ]
     },
     "execution_count": 8,
     "metadata": {},
     "output_type": "execute_result"
    }
   ],
   "source": [
    "len(false_labels)"
   ]
  },
  {
   "cell_type": "code",
   "execution_count": 9,
   "id": "c5e6aa88-e743-4112-b52c-8e5e82847740",
   "metadata": {},
   "outputs": [
    {
     "data": {
      "text/plain": [
       "0.5"
      ]
     },
     "execution_count": 9,
     "metadata": {},
     "output_type": "execute_result"
    }
   ],
   "source": [
    "y_train.mean()"
   ]
  },
  {
   "cell_type": "markdown",
   "id": "52d803e8-308c-47d6-9ed9-c472272fb7c5",
   "metadata": {},
   "source": [
    "Perfectly Balanced..."
   ]
  },
  {
   "cell_type": "markdown",
   "id": "de77e98a-3ef8-4780-81f1-b1449afe1ae5",
   "metadata": {},
   "source": [
    "... as all things should be"
   ]
  },
  {
   "cell_type": "markdown",
   "id": "bd5b631d-9667-4a78-8810-b7f68bacbb5a",
   "metadata": {},
   "source": [
    "# Building the model"
   ]
  },
  {
   "cell_type": "code",
   "execution_count": 10,
   "id": "e252800d-9646-42d6-99c8-585caa5cddc7",
   "metadata": {},
   "outputs": [],
   "source": [
    "from tensorflow.keras import models, layers\n",
    "from tensorflow.keras.optimizers import Adam\n",
    "from tensorflow.keras.initializers import GlorotUniform  # Xavier initializer\n",
    "\n",
    "def build_cnn_model(input_shape=(32, 15)):\n",
    "    model = models.Sequential([\n",
    "        # First Convolutional Block\n",
    "        layers.Conv2D(64, (5, 3), padding='same', kernel_initializer=GlorotUniform(), input_shape=(*input_shape, 1)),\n",
    "        layers.BatchNormalization(),  # Batch normalization\n",
    "        layers.LeakyReLU(alpha=0.1),  # Leaky ReLU with alpha=0.1\n",
    "        layers.MaxPooling2D((2, 1)),  # Pooling with size (2, 1)\n",
    "        \n",
    "        # Second Convolutional Block\n",
    "        layers.Conv2D(128, (5, 3), padding='same', kernel_initializer=GlorotUniform()),\n",
    "        layers.BatchNormalization(),  # Batch normalization\n",
    "        layers.LeakyReLU(alpha=0.1),  # Leaky ReLU with alpha=0.1\n",
    "        layers.MaxPooling2D((2, 1)),  # Pooling with size (2, 1)\n",
    "        \n",
    "        # Flatten and Fully Connected Layers\n",
    "        layers.Flatten(),\n",
    "        layers.Dense(1, kernel_initializer=GlorotUniform()),  # Fully connected layer\n",
    "        layers.Dropout(0.5),  # 50% dropout\n",
    "        layers.Activation('sigmoid')  # Binary classification (True/False)\n",
    "    ])\n",
    "    \n",
    "    # Use Adam optimizer with a learning rate of 0.001 --> Kelly uses 1 x 10^(-5) [0.00001]  \n",
    "    optimizer = Adam(learning_rate=0.01)\n",
    "    \n",
    "    # Compile the model\n",
    "    model.compile(optimizer=optimizer,\n",
    "                  loss='binary_crossentropy',\n",
    "                  metrics=['accuracy'])\n",
    "    \n",
    "    return model"
   ]
  },
  {
   "cell_type": "code",
   "execution_count": 11,
   "id": "f52beb1b-323a-4625-8a74-431162de989f",
   "metadata": {},
   "outputs": [
    {
     "name": "stderr",
     "output_type": "stream",
     "text": [
      "/Users/fabiostefana/anaconda3/lib/python3.11/site-packages/keras/src/layers/convolutional/base_conv.py:107: UserWarning: Do not pass an `input_shape`/`input_dim` argument to a layer. When using Sequential models, prefer using an `Input(shape)` object as the first layer in the model instead.\n",
      "  super().__init__(activity_regularizer=activity_regularizer, **kwargs)\n",
      "/Users/fabiostefana/anaconda3/lib/python3.11/site-packages/keras/src/layers/activations/leaky_relu.py:41: UserWarning: Argument `alpha` is deprecated. Use `negative_slope` instead.\n",
      "  warnings.warn(\n",
      "2024-11-26 14:01:46.923037: I metal_plugin/src/device/metal_device.cc:1154] Metal device set to: Apple M1 Pro\n",
      "2024-11-26 14:01:46.923126: I metal_plugin/src/device/metal_device.cc:296] systemMemory: 16.00 GB\n",
      "2024-11-26 14:01:46.923143: I metal_plugin/src/device/metal_device.cc:313] maxCacheSize: 5.33 GB\n",
      "2024-11-26 14:01:46.923220: I tensorflow/core/common_runtime/pluggable_device/pluggable_device_factory.cc:305] Could not identify NUMA node of platform GPU ID 0, defaulting to 0. Your kernel may not have been built with NUMA support.\n",
      "2024-11-26 14:01:46.923260: I tensorflow/core/common_runtime/pluggable_device/pluggable_device_factory.cc:271] Created TensorFlow device (/job:localhost/replica:0/task:0/device:GPU:0 with 0 MB memory) -> physical PluggableDevice (device: 0, name: METAL, pci bus id: <undefined>)\n"
     ]
    },
    {
     "data": {
      "text/html": [
       "<pre style=\"white-space:pre;overflow-x:auto;line-height:normal;font-family:Menlo,'DejaVu Sans Mono',consolas,'Courier New',monospace\"><span style=\"font-weight: bold\">Model: \"sequential\"</span>\n",
       "</pre>\n"
      ],
      "text/plain": [
       "\u001b[1mModel: \"sequential\"\u001b[0m\n"
      ]
     },
     "metadata": {},
     "output_type": "display_data"
    },
    {
     "data": {
      "text/html": [
       "<pre style=\"white-space:pre;overflow-x:auto;line-height:normal;font-family:Menlo,'DejaVu Sans Mono',consolas,'Courier New',monospace\">┏━━━━━━━━━━━━━━━━━━━━━━━━━━━━━━━━━┳━━━━━━━━━━━━━━━━━━━━━━━━┳━━━━━━━━━━━━━━━┓\n",
       "┃<span style=\"font-weight: bold\"> Layer (type)                    </span>┃<span style=\"font-weight: bold\"> Output Shape           </span>┃<span style=\"font-weight: bold\">       Param # </span>┃\n",
       "┡━━━━━━━━━━━━━━━━━━━━━━━━━━━━━━━━━╇━━━━━━━━━━━━━━━━━━━━━━━━╇━━━━━━━━━━━━━━━┩\n",
       "│ conv2d (<span style=\"color: #0087ff; text-decoration-color: #0087ff\">Conv2D</span>)                 │ (<span style=\"color: #00d7ff; text-decoration-color: #00d7ff\">None</span>, <span style=\"color: #00af00; text-decoration-color: #00af00\">32</span>, <span style=\"color: #00af00; text-decoration-color: #00af00\">15</span>, <span style=\"color: #00af00; text-decoration-color: #00af00\">64</span>)     │         <span style=\"color: #00af00; text-decoration-color: #00af00\">1,024</span> │\n",
       "├─────────────────────────────────┼────────────────────────┼───────────────┤\n",
       "│ batch_normalization             │ (<span style=\"color: #00d7ff; text-decoration-color: #00d7ff\">None</span>, <span style=\"color: #00af00; text-decoration-color: #00af00\">32</span>, <span style=\"color: #00af00; text-decoration-color: #00af00\">15</span>, <span style=\"color: #00af00; text-decoration-color: #00af00\">64</span>)     │           <span style=\"color: #00af00; text-decoration-color: #00af00\">256</span> │\n",
       "│ (<span style=\"color: #0087ff; text-decoration-color: #0087ff\">BatchNormalization</span>)            │                        │               │\n",
       "├─────────────────────────────────┼────────────────────────┼───────────────┤\n",
       "│ leaky_re_lu (<span style=\"color: #0087ff; text-decoration-color: #0087ff\">LeakyReLU</span>)         │ (<span style=\"color: #00d7ff; text-decoration-color: #00d7ff\">None</span>, <span style=\"color: #00af00; text-decoration-color: #00af00\">32</span>, <span style=\"color: #00af00; text-decoration-color: #00af00\">15</span>, <span style=\"color: #00af00; text-decoration-color: #00af00\">64</span>)     │             <span style=\"color: #00af00; text-decoration-color: #00af00\">0</span> │\n",
       "├─────────────────────────────────┼────────────────────────┼───────────────┤\n",
       "│ max_pooling2d (<span style=\"color: #0087ff; text-decoration-color: #0087ff\">MaxPooling2D</span>)    │ (<span style=\"color: #00d7ff; text-decoration-color: #00d7ff\">None</span>, <span style=\"color: #00af00; text-decoration-color: #00af00\">16</span>, <span style=\"color: #00af00; text-decoration-color: #00af00\">15</span>, <span style=\"color: #00af00; text-decoration-color: #00af00\">64</span>)     │             <span style=\"color: #00af00; text-decoration-color: #00af00\">0</span> │\n",
       "├─────────────────────────────────┼────────────────────────┼───────────────┤\n",
       "│ conv2d_1 (<span style=\"color: #0087ff; text-decoration-color: #0087ff\">Conv2D</span>)               │ (<span style=\"color: #00d7ff; text-decoration-color: #00d7ff\">None</span>, <span style=\"color: #00af00; text-decoration-color: #00af00\">16</span>, <span style=\"color: #00af00; text-decoration-color: #00af00\">15</span>, <span style=\"color: #00af00; text-decoration-color: #00af00\">128</span>)    │       <span style=\"color: #00af00; text-decoration-color: #00af00\">123,008</span> │\n",
       "├─────────────────────────────────┼────────────────────────┼───────────────┤\n",
       "│ batch_normalization_1           │ (<span style=\"color: #00d7ff; text-decoration-color: #00d7ff\">None</span>, <span style=\"color: #00af00; text-decoration-color: #00af00\">16</span>, <span style=\"color: #00af00; text-decoration-color: #00af00\">15</span>, <span style=\"color: #00af00; text-decoration-color: #00af00\">128</span>)    │           <span style=\"color: #00af00; text-decoration-color: #00af00\">512</span> │\n",
       "│ (<span style=\"color: #0087ff; text-decoration-color: #0087ff\">BatchNormalization</span>)            │                        │               │\n",
       "├─────────────────────────────────┼────────────────────────┼───────────────┤\n",
       "│ leaky_re_lu_1 (<span style=\"color: #0087ff; text-decoration-color: #0087ff\">LeakyReLU</span>)       │ (<span style=\"color: #00d7ff; text-decoration-color: #00d7ff\">None</span>, <span style=\"color: #00af00; text-decoration-color: #00af00\">16</span>, <span style=\"color: #00af00; text-decoration-color: #00af00\">15</span>, <span style=\"color: #00af00; text-decoration-color: #00af00\">128</span>)    │             <span style=\"color: #00af00; text-decoration-color: #00af00\">0</span> │\n",
       "├─────────────────────────────────┼────────────────────────┼───────────────┤\n",
       "│ max_pooling2d_1 (<span style=\"color: #0087ff; text-decoration-color: #0087ff\">MaxPooling2D</span>)  │ (<span style=\"color: #00d7ff; text-decoration-color: #00d7ff\">None</span>, <span style=\"color: #00af00; text-decoration-color: #00af00\">8</span>, <span style=\"color: #00af00; text-decoration-color: #00af00\">15</span>, <span style=\"color: #00af00; text-decoration-color: #00af00\">128</span>)     │             <span style=\"color: #00af00; text-decoration-color: #00af00\">0</span> │\n",
       "├─────────────────────────────────┼────────────────────────┼───────────────┤\n",
       "│ flatten (<span style=\"color: #0087ff; text-decoration-color: #0087ff\">Flatten</span>)               │ (<span style=\"color: #00d7ff; text-decoration-color: #00d7ff\">None</span>, <span style=\"color: #00af00; text-decoration-color: #00af00\">15360</span>)          │             <span style=\"color: #00af00; text-decoration-color: #00af00\">0</span> │\n",
       "├─────────────────────────────────┼────────────────────────┼───────────────┤\n",
       "│ dense (<span style=\"color: #0087ff; text-decoration-color: #0087ff\">Dense</span>)                   │ (<span style=\"color: #00d7ff; text-decoration-color: #00d7ff\">None</span>, <span style=\"color: #00af00; text-decoration-color: #00af00\">1</span>)              │        <span style=\"color: #00af00; text-decoration-color: #00af00\">15,361</span> │\n",
       "├─────────────────────────────────┼────────────────────────┼───────────────┤\n",
       "│ dropout (<span style=\"color: #0087ff; text-decoration-color: #0087ff\">Dropout</span>)               │ (<span style=\"color: #00d7ff; text-decoration-color: #00d7ff\">None</span>, <span style=\"color: #00af00; text-decoration-color: #00af00\">1</span>)              │             <span style=\"color: #00af00; text-decoration-color: #00af00\">0</span> │\n",
       "├─────────────────────────────────┼────────────────────────┼───────────────┤\n",
       "│ activation (<span style=\"color: #0087ff; text-decoration-color: #0087ff\">Activation</span>)         │ (<span style=\"color: #00d7ff; text-decoration-color: #00d7ff\">None</span>, <span style=\"color: #00af00; text-decoration-color: #00af00\">1</span>)              │             <span style=\"color: #00af00; text-decoration-color: #00af00\">0</span> │\n",
       "└─────────────────────────────────┴────────────────────────┴───────────────┘\n",
       "</pre>\n"
      ],
      "text/plain": [
       "┏━━━━━━━━━━━━━━━━━━━━━━━━━━━━━━━━━┳━━━━━━━━━━━━━━━━━━━━━━━━┳━━━━━━━━━━━━━━━┓\n",
       "┃\u001b[1m \u001b[0m\u001b[1mLayer (type)                   \u001b[0m\u001b[1m \u001b[0m┃\u001b[1m \u001b[0m\u001b[1mOutput Shape          \u001b[0m\u001b[1m \u001b[0m┃\u001b[1m \u001b[0m\u001b[1m      Param #\u001b[0m\u001b[1m \u001b[0m┃\n",
       "┡━━━━━━━━━━━━━━━━━━━━━━━━━━━━━━━━━╇━━━━━━━━━━━━━━━━━━━━━━━━╇━━━━━━━━━━━━━━━┩\n",
       "│ conv2d (\u001b[38;5;33mConv2D\u001b[0m)                 │ (\u001b[38;5;45mNone\u001b[0m, \u001b[38;5;34m32\u001b[0m, \u001b[38;5;34m15\u001b[0m, \u001b[38;5;34m64\u001b[0m)     │         \u001b[38;5;34m1,024\u001b[0m │\n",
       "├─────────────────────────────────┼────────────────────────┼───────────────┤\n",
       "│ batch_normalization             │ (\u001b[38;5;45mNone\u001b[0m, \u001b[38;5;34m32\u001b[0m, \u001b[38;5;34m15\u001b[0m, \u001b[38;5;34m64\u001b[0m)     │           \u001b[38;5;34m256\u001b[0m │\n",
       "│ (\u001b[38;5;33mBatchNormalization\u001b[0m)            │                        │               │\n",
       "├─────────────────────────────────┼────────────────────────┼───────────────┤\n",
       "│ leaky_re_lu (\u001b[38;5;33mLeakyReLU\u001b[0m)         │ (\u001b[38;5;45mNone\u001b[0m, \u001b[38;5;34m32\u001b[0m, \u001b[38;5;34m15\u001b[0m, \u001b[38;5;34m64\u001b[0m)     │             \u001b[38;5;34m0\u001b[0m │\n",
       "├─────────────────────────────────┼────────────────────────┼───────────────┤\n",
       "│ max_pooling2d (\u001b[38;5;33mMaxPooling2D\u001b[0m)    │ (\u001b[38;5;45mNone\u001b[0m, \u001b[38;5;34m16\u001b[0m, \u001b[38;5;34m15\u001b[0m, \u001b[38;5;34m64\u001b[0m)     │             \u001b[38;5;34m0\u001b[0m │\n",
       "├─────────────────────────────────┼────────────────────────┼───────────────┤\n",
       "│ conv2d_1 (\u001b[38;5;33mConv2D\u001b[0m)               │ (\u001b[38;5;45mNone\u001b[0m, \u001b[38;5;34m16\u001b[0m, \u001b[38;5;34m15\u001b[0m, \u001b[38;5;34m128\u001b[0m)    │       \u001b[38;5;34m123,008\u001b[0m │\n",
       "├─────────────────────────────────┼────────────────────────┼───────────────┤\n",
       "│ batch_normalization_1           │ (\u001b[38;5;45mNone\u001b[0m, \u001b[38;5;34m16\u001b[0m, \u001b[38;5;34m15\u001b[0m, \u001b[38;5;34m128\u001b[0m)    │           \u001b[38;5;34m512\u001b[0m │\n",
       "│ (\u001b[38;5;33mBatchNormalization\u001b[0m)            │                        │               │\n",
       "├─────────────────────────────────┼────────────────────────┼───────────────┤\n",
       "│ leaky_re_lu_1 (\u001b[38;5;33mLeakyReLU\u001b[0m)       │ (\u001b[38;5;45mNone\u001b[0m, \u001b[38;5;34m16\u001b[0m, \u001b[38;5;34m15\u001b[0m, \u001b[38;5;34m128\u001b[0m)    │             \u001b[38;5;34m0\u001b[0m │\n",
       "├─────────────────────────────────┼────────────────────────┼───────────────┤\n",
       "│ max_pooling2d_1 (\u001b[38;5;33mMaxPooling2D\u001b[0m)  │ (\u001b[38;5;45mNone\u001b[0m, \u001b[38;5;34m8\u001b[0m, \u001b[38;5;34m15\u001b[0m, \u001b[38;5;34m128\u001b[0m)     │             \u001b[38;5;34m0\u001b[0m │\n",
       "├─────────────────────────────────┼────────────────────────┼───────────────┤\n",
       "│ flatten (\u001b[38;5;33mFlatten\u001b[0m)               │ (\u001b[38;5;45mNone\u001b[0m, \u001b[38;5;34m15360\u001b[0m)          │             \u001b[38;5;34m0\u001b[0m │\n",
       "├─────────────────────────────────┼────────────────────────┼───────────────┤\n",
       "│ dense (\u001b[38;5;33mDense\u001b[0m)                   │ (\u001b[38;5;45mNone\u001b[0m, \u001b[38;5;34m1\u001b[0m)              │        \u001b[38;5;34m15,361\u001b[0m │\n",
       "├─────────────────────────────────┼────────────────────────┼───────────────┤\n",
       "│ dropout (\u001b[38;5;33mDropout\u001b[0m)               │ (\u001b[38;5;45mNone\u001b[0m, \u001b[38;5;34m1\u001b[0m)              │             \u001b[38;5;34m0\u001b[0m │\n",
       "├─────────────────────────────────┼────────────────────────┼───────────────┤\n",
       "│ activation (\u001b[38;5;33mActivation\u001b[0m)         │ (\u001b[38;5;45mNone\u001b[0m, \u001b[38;5;34m1\u001b[0m)              │             \u001b[38;5;34m0\u001b[0m │\n",
       "└─────────────────────────────────┴────────────────────────┴───────────────┘\n"
      ]
     },
     "metadata": {},
     "output_type": "display_data"
    },
    {
     "data": {
      "text/html": [
       "<pre style=\"white-space:pre;overflow-x:auto;line-height:normal;font-family:Menlo,'DejaVu Sans Mono',consolas,'Courier New',monospace\"><span style=\"font-weight: bold\"> Total params: </span><span style=\"color: #00af00; text-decoration-color: #00af00\">140,161</span> (547.50 KB)\n",
       "</pre>\n"
      ],
      "text/plain": [
       "\u001b[1m Total params: \u001b[0m\u001b[38;5;34m140,161\u001b[0m (547.50 KB)\n"
      ]
     },
     "metadata": {},
     "output_type": "display_data"
    },
    {
     "data": {
      "text/html": [
       "<pre style=\"white-space:pre;overflow-x:auto;line-height:normal;font-family:Menlo,'DejaVu Sans Mono',consolas,'Courier New',monospace\"><span style=\"font-weight: bold\"> Trainable params: </span><span style=\"color: #00af00; text-decoration-color: #00af00\">139,777</span> (546.00 KB)\n",
       "</pre>\n"
      ],
      "text/plain": [
       "\u001b[1m Trainable params: \u001b[0m\u001b[38;5;34m139,777\u001b[0m (546.00 KB)\n"
      ]
     },
     "metadata": {},
     "output_type": "display_data"
    },
    {
     "data": {
      "text/html": [
       "<pre style=\"white-space:pre;overflow-x:auto;line-height:normal;font-family:Menlo,'DejaVu Sans Mono',consolas,'Courier New',monospace\"><span style=\"font-weight: bold\"> Non-trainable params: </span><span style=\"color: #00af00; text-decoration-color: #00af00\">384</span> (1.50 KB)\n",
       "</pre>\n"
      ],
      "text/plain": [
       "\u001b[1m Non-trainable params: \u001b[0m\u001b[38;5;34m384\u001b[0m (1.50 KB)\n"
      ]
     },
     "metadata": {},
     "output_type": "display_data"
    }
   ],
   "source": [
    "# Build the model\n",
    "model = build_cnn_model()\n",
    "\n",
    "# Summary of the model\n",
    "model.summary()"
   ]
  },
  {
   "cell_type": "markdown",
   "id": "11f05e2b-92e0-4137-9829-b54fd37880c5",
   "metadata": {},
   "source": [
    "# Traning the model"
   ]
  },
  {
   "cell_type": "code",
   "execution_count": 13,
   "id": "2291a5b9-889d-4f78-b076-e7d797a14486",
   "metadata": {},
   "outputs": [
    {
     "name": "stdout",
     "output_type": "stream",
     "text": [
      "Epoch 1/25\n",
      "\u001b[1m799/799\u001b[0m \u001b[32m━━━━━━━━━━━━━━━━━━━━\u001b[0m\u001b[37m\u001b[0m \u001b[1m22s\u001b[0m 27ms/step - accuracy: 0.5045 - loss: 0.6949 - val_accuracy: 0.5099 - val_loss: 0.6928 - learning_rate: 0.0100\n",
      "Epoch 2/25\n",
      "\u001b[1m799/799\u001b[0m \u001b[32m━━━━━━━━━━━━━━━━━━━━\u001b[0m\u001b[37m\u001b[0m \u001b[1m22s\u001b[0m 27ms/step - accuracy: 0.5024 - loss: 0.6954 - val_accuracy: 0.4997 - val_loss: 0.6972 - learning_rate: 0.0100\n",
      "Epoch 3/25\n",
      "\u001b[1m799/799\u001b[0m \u001b[32m━━━━━━━━━━━━━━━━━━━━\u001b[0m\u001b[37m\u001b[0m \u001b[1m22s\u001b[0m 28ms/step - accuracy: 0.5036 - loss: 0.6935 - val_accuracy: 0.5103 - val_loss: 0.6928 - learning_rate: 1.0000e-03\n",
      "Epoch 4/25\n",
      "\u001b[1m799/799\u001b[0m \u001b[32m━━━━━━━━━━━━━━━━━━━━\u001b[0m\u001b[37m\u001b[0m \u001b[1m22s\u001b[0m 28ms/step - accuracy: 0.5050 - loss: 0.6927 - val_accuracy: 0.5127 - val_loss: 0.6927 - learning_rate: 1.0000e-04\n",
      "Epoch 5/25\n",
      "\u001b[1m799/799\u001b[0m \u001b[32m━━━━━━━━━━━━━━━━━━━━\u001b[0m\u001b[37m\u001b[0m \u001b[1m22s\u001b[0m 28ms/step - accuracy: 0.5098 - loss: 0.6926 - val_accuracy: 0.5132 - val_loss: 0.6926 - learning_rate: 1.0000e-04\n",
      "Epoch 6/25\n",
      "\u001b[1m799/799\u001b[0m \u001b[32m━━━━━━━━━━━━━━━━━━━━\u001b[0m\u001b[37m\u001b[0m \u001b[1m22s\u001b[0m 28ms/step - accuracy: 0.5100 - loss: 0.6925 - val_accuracy: 0.5138 - val_loss: 0.6926 - learning_rate: 1.0000e-05\n",
      "Epoch 7/25\n",
      "\u001b[1m799/799\u001b[0m \u001b[32m━━━━━━━━━━━━━━━━━━━━\u001b[0m\u001b[37m\u001b[0m \u001b[1m22s\u001b[0m 27ms/step - accuracy: 0.5084 - loss: 0.6926 - val_accuracy: 0.5142 - val_loss: 0.6926 - learning_rate: 1.0000e-05\n",
      "Epoch 8/25\n",
      "\u001b[1m799/799\u001b[0m \u001b[32m━━━━━━━━━━━━━━━━━━━━\u001b[0m\u001b[37m\u001b[0m \u001b[1m22s\u001b[0m 28ms/step - accuracy: 0.5139 - loss: 0.6923 - val_accuracy: 0.5136 - val_loss: 0.6926 - learning_rate: 1.0000e-06\n",
      "Epoch 9/25\n",
      "\u001b[1m799/799\u001b[0m \u001b[32m━━━━━━━━━━━━━━━━━━━━\u001b[0m\u001b[37m\u001b[0m \u001b[1m22s\u001b[0m 28ms/step - accuracy: 0.5077 - loss: 0.6925 - val_accuracy: 0.5143 - val_loss: 0.6926 - learning_rate: 1.0000e-06\n",
      "Epoch 10/25\n",
      "\u001b[1m799/799\u001b[0m \u001b[32m━━━━━━━━━━━━━━━━━━━━\u001b[0m\u001b[37m\u001b[0m \u001b[1m22s\u001b[0m 27ms/step - accuracy: 0.5084 - loss: 0.6924 - val_accuracy: 0.5150 - val_loss: 0.6926 - learning_rate: 1.0000e-06\n"
     ]
    }
   ],
   "source": [
    "from tensorflow.keras.callbacks import EarlyStopping, ReduceLROnPlateau\n",
    "\n",
    "# Create an EarlyStopping callback\n",
    "early_stopping = EarlyStopping(\n",
    "    monitor='val_loss', \n",
    "    mode='min',  \n",
    "    patience=2,  \n",
    "    restore_best_weights=True\n",
    ")\n",
    "\n",
    "# Create a ReduceLROnPlateau callback\n",
    "reduce_lr = ReduceLROnPlateau(\n",
    "    monitor='val_loss', \n",
    "    factor=0.1,\n",
    "    patience=1,  \n",
    "    min_lr=1e-6\n",
    ")\n",
    "\n",
    "# Store the callbacks in a list\n",
    "callbacks = [early_stopping, reduce_lr]\n",
    "\n",
    "# Train the model with the callbacks\n",
    "history = model.fit(\n",
    "    x=X_train,\n",
    "    y=y_train,\n",
    "    batch_size=128,\n",
    "    epochs=25,\n",
    "    validation_split=0.3,\n",
    "    callbacks=callbacks\n",
    ").history\n"
   ]
  },
  {
   "cell_type": "markdown",
   "id": "b5610682-db93-46dc-b276-24844fb9f37f",
   "metadata": {},
   "source": [
    "# Using the model"
   ]
  },
  {
   "cell_type": "markdown",
   "id": "98a0e329-56c0-42ae-b392-49e03893adf2",
   "metadata": {},
   "source": [
    "First we predict the labels for the test images, making sure that all the shapes allign"
   ]
  },
  {
   "cell_type": "code",
   "execution_count": 14,
   "id": "c1228dc4-39b6-4fbf-b4c0-62e245366ba0",
   "metadata": {},
   "outputs": [
    {
     "name": "stdout",
     "output_type": "stream",
     "text": [
      "Predictions Shape: (62564, 1)\n"
     ]
    }
   ],
   "source": [
    "# Predict labels for the entire test set\n",
    "test_predictions = model.predict(X_test, verbose=0)\n",
    "\n",
    "# Display the shape of the predictions\n",
    "print(\"Predictions Shape:\", test_predictions.shape)"
   ]
  },
  {
   "cell_type": "code",
   "execution_count": 15,
   "id": "038b912e-2895-4a35-ac88-34809a2c8a45",
   "metadata": {},
   "outputs": [
    {
     "name": "stdout",
     "output_type": "stream",
     "text": [
      "y_test Shape: (62564,)\n"
     ]
    }
   ],
   "source": [
    "print(\"y_test Shape:\", y_test.shape)"
   ]
  },
  {
   "cell_type": "markdown",
   "id": "e768e7e5-6f9d-4017-8d6f-417ff2d21e7f",
   "metadata": {},
   "source": [
    "Since we often encountered the problem that the model predicted True for all labels we want to check that that is not the case "
   ]
  },
  {
   "cell_type": "code",
   "execution_count": 16,
   "id": "40d6711e-ccf9-4b82-a89c-93d6d9160540",
   "metadata": {},
   "outputs": [
    {
     "data": {
      "text/plain": [
       "array([[0.47891116],\n",
       "       [0.51528835],\n",
       "       [0.513131  ],\n",
       "       ...,\n",
       "       [0.48908958],\n",
       "       [0.510325  ],\n",
       "       [0.4873066 ]], dtype=float32)"
      ]
     },
     "execution_count": 16,
     "metadata": {},
     "output_type": "execute_result"
    }
   ],
   "source": [
    "test_predictions"
   ]
  },
  {
   "cell_type": "code",
   "execution_count": 17,
   "id": "65be7166-25e2-4c69-87b7-133e0a7a7a84",
   "metadata": {},
   "outputs": [
    {
     "data": {
      "text/plain": [
       "0.50016636"
      ]
     },
     "execution_count": 17,
     "metadata": {},
     "output_type": "execute_result"
    }
   ],
   "source": [
    "test_predictions.mean()"
   ]
  },
  {
   "cell_type": "markdown",
   "id": "63751e87-5b7e-4b0f-b65b-05249deca156",
   "metadata": {},
   "source": [
    "Since our model returns a probability of "
   ]
  },
  {
   "cell_type": "code",
   "execution_count": 18,
   "id": "653cfb8c-93e0-4d3c-8421-d9f73adfb102",
   "metadata": {},
   "outputs": [
    {
     "data": {
      "image/png": "[encoded data removed]",
      "text/plain": [
       "<Figure size 1000x600 with 1 Axes>"
      ]
     },
     "metadata": {},
     "output_type": "display_data"
    },
    {
     "name": "stdout",
     "output_type": "stream",
     "text": [
      "Best cutoff: 0.503 with accuracy: 0.5191\n"
     ]
    }
   ],
   "source": [
    "from sklearn.metrics import accuracy_score\n",
    "\n",
    "def evaluate_cutoff_points(test_predictions, y_test, metric=\"accuracy\", step=0.001):\n",
    "    # Ensure y_test is an integer array\n",
    "    y_test = y_test.astype(int)\n",
    "    \n",
    "    # Define cutoff points\n",
    "    cutoff_points = np.arange(0, 1 + step, step)\n",
    "    scores = []\n",
    "    \n",
    "    # Evaluate each cutoff\n",
    "    for cutoff in cutoff_points:\n",
    "        binary_predictions = np.where(test_predictions > cutoff, 1, 0)\n",
    "        if metric == \"accuracy\":\n",
    "            score = accuracy_score(y_test, binary_predictions)\n",
    "        else:\n",
    "            raise ValueError(f\"Unsupported metric: {metric}\")\n",
    "        scores.append(score)\n",
    "    \n",
    "    # Find the best cutoff\n",
    "    best_index = np.argmax(scores)\n",
    "    best_cutoff = cutoff_points[best_index]\n",
    "    best_score = scores[best_index]\n",
    "    \n",
    "    # Plot performance\n",
    "    plt.figure(figsize=(10, 6))\n",
    "    plt.plot(cutoff_points, scores, marker='o')\n",
    "    plt.title(f\"Performance by Cutoff Point ({metric})\")\n",
    "    plt.xlabel(\"Cutoff Point\")\n",
    "    plt.ylabel(metric.capitalize())\n",
    "    plt.axvline(best_cutoff, color=\"red\", linestyle=\"--\", label=f\"Best Cutoff = {best_cutoff:.2f}\")\n",
    "    plt.legend()\n",
    "    plt.grid(True)\n",
    "    plt.show()\n",
    "    \n",
    "    print(f\"Best cutoff: {best_cutoff:.3f} with {metric}: {best_score:.4f}\")\n",
    "    return best_cutoff\n",
    "\n",
    "# Example usage:\n",
    "# Assuming `test_predictions` contains predicted probabilities and `y_test` is the ground truth\n",
    "best_cutoff = evaluate_cutoff_points(test_predictions, y_test)\n"
   ]
  },
  {
   "cell_type": "code",
   "execution_count": 19,
   "id": "c5615b3c-2ea8-455d-9f37-e82d395472f6",
   "metadata": {},
   "outputs": [],
   "source": [
    "# Save the trained model to a file with the accuracy included in the filename\n",
    "model_filename = 'models/5-day.keras'\n",
    "model.save(model_filename)"
   ]
  },
  {
   "cell_type": "markdown",
   "id": "de0289b7-fd4b-481a-9fea-79be45eb39f2",
   "metadata": {},
   "source": [
    "# Some notes about this model:\n",
    "\n",
    "First off, we repilcated kelly's methodology to the T, the only 2 variations from his model are:\n",
    "1. The colour of the moving avg and volume which instad if white are 2 shades of gray\n",
    "2. The data we utilized\n",
    "\n",
    "As it is the model seems to be good enough, we have a 52% accuracy in predicting if the next period's return is positive or not, which gives us a roughly 2% edge on the market. While we still need to perform some out of sample testing, its looking promising, Kelly in his paper and resources did not disclose the rough results of the traning, so we cant know weather what we got is similar or completely different. \n",
    "\n",
    "---\n",
    "\n",
    "One thing that we found is not great about this specific model here is that all of the predictions are very very close to 0.5, infact if we take the mean of all the test_predictions its almost exactly 0.5:\n",
    "\n",
    "`test_predictions.mean() = 0.50016636` <br>\n",
    "\n",
    "This suggests that the model may be uncertain or struggling to learn clear patterns in the data. \n",
    "\n",
    "---\n",
    "\n",
    "While the 5-day window in kelly's results seems to be the best performing one, we feel that its a bit strange as there isnt enough history of prices to find meaningful patterns and trends in the OHLC chart, we feel that to perform trades based on technical analysis and price action a trader utilized a much longer history, and therefore we find counterintuitive that the 5 day model performs better than a longer one like the 20 day or the 60 day, we think we will find better results with the bigger time stamps.\n",
    "\n",
    "Anyway we will perform some out of sample testing but utilizing a portfolio structure."
   ]
  },
  {
   "cell_type": "code",
   "execution_count": null,
   "id": "84dfb5bb-ee1e-49b2-961c-7a98f86efe9c",
   "metadata": {},
   "outputs": [],
   "source": []
  }
 ],
 "metadata": {
  "kernelspec": {
   "display_name": "Python 3 (ipykernel)",
   "language": "python",
   "name": "python3"
  },
  "language_info": {
   "codemirror_mode": {
    "name": "ipython",
    "version": 3
   },
   "file_extension": ".py",
   "mimetype": "text/x-python",
   "name": "python",
   "nbconvert_exporter": "python",
   "pygments_lexer": "ipython3",
   "version": "3.11.5"
  }
 },
 "nbformat": 4,
 "nbformat_minor": 5
}
