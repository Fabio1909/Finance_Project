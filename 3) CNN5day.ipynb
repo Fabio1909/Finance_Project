{
 "cells": [
  {
   "cell_type": "code",
   "execution_count": 2,
   "id": "681954b9-9019-46c3-8aa0-ede814f3d376",
   "metadata": {},
   "outputs": [],
   "source": [
    "import os\n",
    "import sys\n",
    "import cv2\n",
    "import numpy as np\n",
    "import matplotlib.pyplot as plt"
   ]
  },
  {
   "cell_type": "markdown",
   "id": "0222c3d0-a285-4266-a023-b9b2d65135b3",
   "metadata": {},
   "source": [
    "# Processing all images"
   ]
  },
  {
   "cell_type": "code",
   "execution_count": 3,
   "id": "48c78e0b-84cb-4284-9b94-6eeab66186f6",
   "metadata": {},
   "outputs": [
    {
     "name": "stdout",
     "output_type": "stream",
     "text": [
      "TRUE: 107440 images with shape (32, 15)\n",
      "FALSE: 85738 images with shape (32, 15)\n",
      "CPU times: user 2.23 s, sys: 5.72 s, total: 7.94 s\n",
      "Wall time: 14 s\n"
     ]
    }
   ],
   "source": [
    "%%time\n",
    "images_True = []\n",
    "images_False = []\n",
    "image_dir = \"data/images_small/traning/5-day/\"\n",
    "dirist = [x for x in os.listdir(image_dir) if not x.startswith(\".\")]\n",
    "for folder_name in dirist:\n",
    "    folder_dir = os.path.join(image_dir, folder_name)\n",
    "    for file_name in os.listdir(folder_dir):\n",
    "        file_dir = os.path.join(folder_dir, file_name)\n",
    "        label = 1 if file_dir.strip().endswith(\"True.png\") else 0\n",
    "        img = cv2.imread(file_dir, cv2.IMREAD_GRAYSCALE)\n",
    "        if label == 1:\n",
    "            images_True.append(img)\n",
    "        else:\n",
    "            images_False.append(img)\n",
    "images_True = np.array(images_True)\n",
    "#images_True = images_True / 255.0 # --> Apparently Kelly does not scale betwen 0 and 1\n",
    "\n",
    "images_False = np.array(images_False)\n",
    "#images_False = images_False / 255.0\n",
    "\n",
    "print(f\"TRUE: {len(images_True)} images with shape {images_True[0].shape}\")\n",
    "print(f\"FALSE: {len(images_False)} images with shape {images_False[0].shape}\")"
   ]
  },
  {
   "cell_type": "code",
   "execution_count": 4,
   "id": "b9e35ffa-5a15-4994-bb27-dffb8a46aecd",
   "metadata": {},
   "outputs": [
    {
     "name": "stdout",
     "output_type": "stream",
     "text": [
      "The total memory usage of the image list is approximately 0.061 GB.\n",
      "The total memory usage of the image list is approximately 0.049 GB.\n"
     ]
    }
   ],
   "source": [
    "def calculate_memory_usage(image_list):\n",
    "    total_bytes = sys.getsizeof(image_list)  # Get the size of the list itself\n",
    "    for img in image_list:\n",
    "        total_bytes += sys.getsizeof(img)  # Add the size of each image array\n",
    "    \n",
    "    total_gb = total_bytes / (1024 ** 3)  # Convert bytes to gigabytes\n",
    "    print(f\"The total memory usage of the image list is approximately {total_gb:.3f} GB.\")\n",
    "\n",
    "calculate_memory_usage(images_True)\n",
    "calculate_memory_usage(images_False)"
   ]
  },
  {
   "cell_type": "code",
   "execution_count": 5,
   "id": "41782c88-d2ba-436f-8532-220286d7b211",
   "metadata": {},
   "outputs": [
    {
     "name": "stdout",
     "output_type": "stream",
     "text": [
      "Training set: 120030 samples\n",
      "Test set: 51442 samples\n",
      "Image shape: (32, 15)\n"
     ]
    }
   ],
   "source": [
    "from sklearn.model_selection import train_test_split\n",
    "\n",
    "# Step 1: Assign labels\n",
    "true_labels = np.ones(len(images_True))  # Label 1 for True images\n",
    "false_labels = np.zeros(len(images_False))  # Label 0 for False images\n",
    "\n",
    "# Step 1.5: Balance the dataset\n",
    "# As we have 21706 more true images than false we will remove these \n",
    "true_labels = true_labels[21706:]\n",
    "images_True = images_True[21706:]\n",
    "\n",
    "# Step 2: Combine images and labels\n",
    "images = np.concatenate([images_True, images_False], axis=0)\n",
    "labels = np.concatenate([true_labels, false_labels], axis=0)\n",
    "\n",
    "# Step 3: Shuffle and split into training and testing sets\n",
    "X_train, X_test, y_train, y_test = train_test_split(\n",
    "    images, labels, test_size=0.3, random_state=42, stratify=labels\n",
    ")\n",
    "\n",
    "# Output the results\n",
    "print(f\"Training set: {X_train.shape[0]} samples\")\n",
    "print(f\"Test set: {X_test.shape[0]} samples\")\n",
    "print(f\"Image shape: {X_train[0].shape}\")"
   ]
  },
  {
   "cell_type": "markdown",
   "id": "74ca4b4e-bb4d-4065-8e12-668ee5815574",
   "metadata": {},
   "source": [
    "### Calculate some metris to make sure that the traning data is balances with respect to the labels"
   ]
  },
  {
   "cell_type": "code",
   "execution_count": 6,
   "id": "fae8c763-5182-464f-813e-3aa8d1c0a76c",
   "metadata": {},
   "outputs": [
    {
     "data": {
      "text/plain": [
       "85734"
      ]
     },
     "execution_count": 6,
     "metadata": {},
     "output_type": "execute_result"
    }
   ],
   "source": [
    "len(true_labels)"
   ]
  },
  {
   "cell_type": "code",
   "execution_count": 7,
   "id": "83753bfb-d70a-4067-9ca3-12d131579bdb",
   "metadata": {},
   "outputs": [
    {
     "data": {
      "text/plain": [
       "85738"
      ]
     },
     "execution_count": 7,
     "metadata": {},
     "output_type": "execute_result"
    }
   ],
   "source": [
    "len(false_labels)"
   ]
  },
  {
   "cell_type": "code",
   "execution_count": 8,
   "id": "c5e6aa88-e743-4112-b52c-8e5e82847740",
   "metadata": {},
   "outputs": [
    {
     "data": {
      "text/plain": [
       "0.4999916687494793"
      ]
     },
     "execution_count": 8,
     "metadata": {},
     "output_type": "execute_result"
    }
   ],
   "source": [
    "y_train.mean()"
   ]
  },
  {
   "cell_type": "markdown",
   "id": "bd5b631d-9667-4a78-8810-b7f68bacbb5a",
   "metadata": {},
   "source": [
    "# Building the model"
   ]
  },
  {
   "cell_type": "code",
   "execution_count": 9,
   "id": "e252800d-9646-42d6-99c8-585caa5cddc7",
   "metadata": {},
   "outputs": [],
   "source": [
    "from tensorflow.keras import models, layers\n",
    "from tensorflow.keras.optimizers.legacy import Adam\n",
    "from tensorflow.keras.initializers import GlorotUniform  # Xavier initializer\n",
    "\n",
    "def build_cnn_model(input_shape=(32, 15)):\n",
    "    model = models.Sequential([\n",
    "        # First Convolutional Block\n",
    "        layers.Conv2D(64, (5, 3), padding='same', kernel_initializer=GlorotUniform(), input_shape=(*input_shape, 1)),\n",
    "        layers.BatchNormalization(),  # Batch normalization\n",
    "        layers.LeakyReLU(alpha=0.1),  # Leaky ReLU with alpha=0.1\n",
    "        layers.MaxPooling2D((2, 1)),  # Pooling with size (2, 1)\n",
    "        \n",
    "        # Second Convolutional Block\n",
    "        layers.Conv2D(128, (5, 3), padding='same', kernel_initializer=GlorotUniform()),\n",
    "        layers.BatchNormalization(),  # Batch normalization\n",
    "        layers.LeakyReLU(alpha=0.1),  # Leaky ReLU with alpha=0.1\n",
    "        layers.MaxPooling2D((2, 1)),  # Pooling with size (2, 1)\n",
    "        \n",
    "        # Flatten and Fully Connected Layers\n",
    "        layers.Flatten(),\n",
    "        layers.Dense(1, kernel_initializer=GlorotUniform()),  # Fully connected layer\n",
    "        layers.Dropout(0.5),  # 50% dropout\n",
    "        layers.Activation('sigmoid')  # Binary classification (True/False)\n",
    "    ])\n",
    "    \n",
    "    # Use Adam optimizer with a learning rate of 0.001 --> Kelly uses 1 x 10^(-5) [0.00001]  \n",
    "    optimizer = Adam(learning_rate=0.01)\n",
    "    \n",
    "    # Compile the model\n",
    "    model.compile(optimizer=optimizer,\n",
    "                  loss='binary_crossentropy',\n",
    "                  metrics=['accuracy'])\n",
    "    \n",
    "    return model"
   ]
  },
  {
   "cell_type": "code",
   "execution_count": 10,
   "id": "f52beb1b-323a-4625-8a74-431162de989f",
   "metadata": {},
   "outputs": [
    {
     "name": "stdout",
     "output_type": "stream",
     "text": [
      "Model: \"sequential\"\n",
      "_________________________________________________________________\n",
      " Layer (type)                Output Shape              Param #   \n",
      "=================================================================\n",
      " conv2d (Conv2D)             (None, 32, 15, 64)        1024      \n",
      "                                                                 \n",
      " batch_normalization (Batch  (None, 32, 15, 64)        256       \n",
      " Normalization)                                                  \n",
      "                                                                 \n",
      " leaky_re_lu (LeakyReLU)     (None, 32, 15, 64)        0         \n",
      "                                                                 \n",
      " max_pooling2d (MaxPooling2  (None, 16, 15, 64)        0         \n",
      " D)                                                              \n",
      "                                                                 \n",
      " conv2d_1 (Conv2D)           (None, 16, 15, 128)       123008    \n",
      "                                                                 \n",
      " batch_normalization_1 (Bat  (None, 16, 15, 128)       512       \n",
      " chNormalization)                                                \n",
      "                                                                 \n",
      " leaky_re_lu_1 (LeakyReLU)   (None, 16, 15, 128)       0         \n",
      "                                                                 \n",
      " max_pooling2d_1 (MaxPoolin  (None, 8, 15, 128)        0         \n",
      " g2D)                                                            \n",
      "                                                                 \n",
      " flatten (Flatten)           (None, 15360)             0         \n",
      "                                                                 \n",
      " dense (Dense)               (None, 1)                 15361     \n",
      "                                                                 \n",
      " dropout (Dropout)           (None, 1)                 0         \n",
      "                                                                 \n",
      " activation (Activation)     (None, 1)                 0         \n",
      "                                                                 \n",
      "=================================================================\n",
      "Total params: 140161 (547.50 KB)\n",
      "Trainable params: 139777 (546.00 KB)\n",
      "Non-trainable params: 384 (1.50 KB)\n",
      "_________________________________________________________________\n"
     ]
    }
   ],
   "source": [
    "# Build the model\n",
    "model = build_cnn_model()\n",
    "\n",
    "# Summary of the model\n",
    "model.summary()"
   ]
  },
  {
   "cell_type": "markdown",
   "id": "11f05e2b-92e0-4137-9829-b54fd37880c5",
   "metadata": {},
   "source": [
    "# Traning the model"
   ]
  },
  {
   "cell_type": "code",
   "execution_count": 11,
   "id": "2291a5b9-889d-4f78-b076-e7d797a14486",
   "metadata": {
    "scrolled": true
   },
   "outputs": [
    {
     "name": "stdout",
     "output_type": "stream",
     "text": [
      "Epoch 1/50\n",
      "657/657 [==============================] - 57s 86ms/step - loss: 0.9742 - accuracy: 0.5022 - val_loss: 0.6982 - val_accuracy: 0.5096 - lr: 0.0100\n",
      "Epoch 2/50\n",
      "657/657 [==============================] - 57s 87ms/step - loss: 0.7113 - accuracy: 0.5051 - val_loss: 0.7092 - val_accuracy: 0.5006 - lr: 0.0100\n",
      "Epoch 3/50\n",
      "657/657 [==============================] - 58s 89ms/step - loss: 0.7003 - accuracy: 0.5068 - val_loss: 0.6979 - val_accuracy: 0.5041 - lr: 0.0100\n",
      "Epoch 4/50\n",
      "657/657 [==============================] - 58s 89ms/step - loss: 0.6957 - accuracy: 0.5066 - val_loss: 0.6921 - val_accuracy: 0.5157 - lr: 0.0100\n",
      "Epoch 5/50\n",
      "657/657 [==============================] - 59s 89ms/step - loss: 0.6944 - accuracy: 0.5077 - val_loss: 0.6944 - val_accuracy: 0.4957 - lr: 0.0100\n",
      "Epoch 6/50\n",
      "657/657 [==============================] - 59s 89ms/step - loss: 0.6956 - accuracy: 0.5081 - val_loss: 0.6917 - val_accuracy: 0.5204 - lr: 0.0100\n",
      "Epoch 7/50\n",
      "657/657 [==============================] - 59s 90ms/step - loss: 0.6955 - accuracy: 0.5083 - val_loss: 0.6956 - val_accuracy: 0.5128 - lr: 0.0100\n",
      "Epoch 8/50\n",
      "657/657 [==============================] - 59s 90ms/step - loss: 0.6988 - accuracy: 0.5064 - val_loss: 0.6934 - val_accuracy: 0.5071 - lr: 0.0100\n",
      "Epoch 9/50\n",
      "657/657 [==============================] - 59s 90ms/step - loss: 0.6927 - accuracy: 0.5099 - val_loss: 0.6915 - val_accuracy: 0.5258 - lr: 1.0000e-03\n",
      "Epoch 10/50\n",
      "657/657 [==============================] - 59s 90ms/step - loss: 0.6916 - accuracy: 0.5159 - val_loss: 0.6914 - val_accuracy: 0.5200 - lr: 1.0000e-03\n",
      "Epoch 11/50\n",
      "657/657 [==============================] - 59s 90ms/step - loss: 0.6912 - accuracy: 0.5173 - val_loss: 0.6902 - val_accuracy: 0.5303 - lr: 1.0000e-03\n",
      "Epoch 12/50\n",
      "657/657 [==============================] - 58s 89ms/step - loss: 0.6912 - accuracy: 0.5175 - val_loss: 0.6906 - val_accuracy: 0.5268 - lr: 1.0000e-03\n",
      "Epoch 13/50\n",
      "657/657 [==============================] - 58s 89ms/step - loss: 0.6905 - accuracy: 0.5206 - val_loss: 0.6897 - val_accuracy: 0.5335 - lr: 1.0000e-03\n",
      "Epoch 14/50\n",
      "657/657 [==============================] - 59s 90ms/step - loss: 0.6908 - accuracy: 0.5178 - val_loss: 0.6903 - val_accuracy: 0.5311 - lr: 1.0000e-03\n",
      "Epoch 15/50\n",
      "657/657 [==============================] - 60s 91ms/step - loss: 0.6903 - accuracy: 0.5189 - val_loss: 0.6898 - val_accuracy: 0.5340 - lr: 1.0000e-03\n",
      "Epoch 16/50\n",
      "657/657 [==============================] - 59s 90ms/step - loss: 0.6889 - accuracy: 0.5239 - val_loss: 0.6894 - val_accuracy: 0.5362 - lr: 1.0000e-04\n",
      "Epoch 17/50\n",
      "657/657 [==============================] - 59s 89ms/step - loss: 0.6889 - accuracy: 0.5237 - val_loss: 0.6892 - val_accuracy: 0.5341 - lr: 1.0000e-04\n",
      "Epoch 18/50\n",
      "657/657 [==============================] - 59s 89ms/step - loss: 0.6884 - accuracy: 0.5283 - val_loss: 0.6892 - val_accuracy: 0.5346 - lr: 1.0000e-04\n",
      "Epoch 19/50\n",
      "657/657 [==============================] - 59s 90ms/step - loss: 0.6881 - accuracy: 0.5289 - val_loss: 0.6889 - val_accuracy: 0.5355 - lr: 1.0000e-04\n",
      "Epoch 20/50\n",
      "657/657 [==============================] - 58s 88ms/step - loss: 0.6877 - accuracy: 0.5288 - val_loss: 0.6889 - val_accuracy: 0.5363 - lr: 1.0000e-04\n",
      "Epoch 21/50\n",
      "657/657 [==============================] - 58s 88ms/step - loss: 0.6881 - accuracy: 0.5270 - val_loss: 0.6890 - val_accuracy: 0.5368 - lr: 1.0000e-04\n",
      "Epoch 22/50\n",
      "657/657 [==============================] - 59s 89ms/step - loss: 0.6874 - accuracy: 0.5302 - val_loss: 0.6889 - val_accuracy: 0.5379 - lr: 1.0000e-05\n",
      "Epoch 23/50\n",
      "657/657 [==============================] - 59s 90ms/step - loss: 0.6874 - accuracy: 0.5294 - val_loss: 0.6888 - val_accuracy: 0.5375 - lr: 1.0000e-05\n",
      "Epoch 24/50\n",
      "657/657 [==============================] - 60s 91ms/step - loss: 0.6880 - accuracy: 0.5268 - val_loss: 0.6888 - val_accuracy: 0.5377 - lr: 1.0000e-06\n",
      "Epoch 25/50\n",
      "657/657 [==============================] - 59s 90ms/step - loss: 0.6875 - accuracy: 0.5293 - val_loss: 0.6888 - val_accuracy: 0.5376 - lr: 1.0000e-06\n",
      "Epoch 26/50\n",
      "657/657 [==============================] - 59s 91ms/step - loss: 0.6875 - accuracy: 0.5293 - val_loss: 0.6888 - val_accuracy: 0.5378 - lr: 1.0000e-06\n",
      "Epoch 27/50\n",
      "657/657 [==============================] - 60s 92ms/step - loss: 0.6877 - accuracy: 0.5286 - val_loss: 0.6888 - val_accuracy: 0.5377 - lr: 1.0000e-06\n",
      "Epoch 28/50\n",
      "657/657 [==============================] - 59s 90ms/step - loss: 0.6877 - accuracy: 0.5276 - val_loss: 0.6888 - val_accuracy: 0.5376 - lr: 1.0000e-06\n",
      "Epoch 29/50\n",
      "657/657 [==============================] - 59s 89ms/step - loss: 0.6871 - accuracy: 0.5308 - val_loss: 0.6888 - val_accuracy: 0.5376 - lr: 1.0000e-06\n",
      "Epoch 30/50\n",
      "657/657 [==============================] - 60s 91ms/step - loss: 0.6873 - accuracy: 0.5297 - val_loss: 0.6888 - val_accuracy: 0.5374 - lr: 1.0000e-06\n",
      "Epoch 31/50\n",
      "657/657 [==============================] - 59s 90ms/step - loss: 0.6875 - accuracy: 0.5288 - val_loss: 0.6888 - val_accuracy: 0.5377 - lr: 1.0000e-06\n",
      "Epoch 32/50\n",
      "657/657 [==============================] - 60s 92ms/step - loss: 0.6873 - accuracy: 0.5299 - val_loss: 0.6888 - val_accuracy: 0.5376 - lr: 1.0000e-06\n",
      "Epoch 33/50\n",
      "657/657 [==============================] - 59s 90ms/step - loss: 0.6875 - accuracy: 0.5280 - val_loss: 0.6888 - val_accuracy: 0.5374 - lr: 1.0000e-06\n",
      "Epoch 34/50\n",
      "657/657 [==============================] - 59s 90ms/step - loss: 0.6875 - accuracy: 0.5291 - val_loss: 0.6888 - val_accuracy: 0.5375 - lr: 1.0000e-06\n",
      "Epoch 35/50\n",
      "657/657 [==============================] - 59s 90ms/step - loss: 0.6875 - accuracy: 0.5281 - val_loss: 0.6888 - val_accuracy: 0.5377 - lr: 1.0000e-06\n",
      "Epoch 36/50\n",
      "155/657 [======>.......................] - ETA: 41s - loss: 0.6885 - accuracy: 0.5276"
     ]
    },
    {
     "ename": "KeyboardInterrupt",
     "evalue": "",
     "output_type": "error",
     "traceback": [
      "\u001b[0;31m---------------------------------------------------------------------------\u001b[0m",
      "\u001b[0;31mKeyboardInterrupt\u001b[0m                         Traceback (most recent call last)",
      "Cell \u001b[0;32mIn[11], line 23\u001b[0m\n\u001b[1;32m     20\u001b[0m callbacks \u001b[38;5;241m=\u001b[39m [early_stopping, reduce_lr]\n\u001b[1;32m     22\u001b[0m \u001b[38;5;66;03m# Train the model with the callbacks\u001b[39;00m\n\u001b[0;32m---> 23\u001b[0m history \u001b[38;5;241m=\u001b[39m model\u001b[38;5;241m.\u001b[39mfit(\n\u001b[1;32m     24\u001b[0m     x\u001b[38;5;241m=\u001b[39mX_train,\n\u001b[1;32m     25\u001b[0m     y\u001b[38;5;241m=\u001b[39my_train,\n\u001b[1;32m     26\u001b[0m     batch_size\u001b[38;5;241m=\u001b[39m\u001b[38;5;241m128\u001b[39m,\n\u001b[1;32m     27\u001b[0m     epochs\u001b[38;5;241m=\u001b[39m\u001b[38;5;241m50\u001b[39m,\n\u001b[1;32m     28\u001b[0m     validation_split\u001b[38;5;241m=\u001b[39m\u001b[38;5;241m0.3\u001b[39m,\n\u001b[1;32m     29\u001b[0m     callbacks\u001b[38;5;241m=\u001b[39mcallbacks\n\u001b[1;32m     30\u001b[0m )\u001b[38;5;241m.\u001b[39mhistory\n",
      "File \u001b[0;32m~/anaconda3/lib/python3.11/site-packages/keras/src/utils/traceback_utils.py:65\u001b[0m, in \u001b[0;36mfilter_traceback.<locals>.error_handler\u001b[0;34m(*args, **kwargs)\u001b[0m\n\u001b[1;32m     63\u001b[0m filtered_tb \u001b[38;5;241m=\u001b[39m \u001b[38;5;28;01mNone\u001b[39;00m\n\u001b[1;32m     64\u001b[0m \u001b[38;5;28;01mtry\u001b[39;00m:\n\u001b[0;32m---> 65\u001b[0m     \u001b[38;5;28;01mreturn\u001b[39;00m fn(\u001b[38;5;241m*\u001b[39margs, \u001b[38;5;241m*\u001b[39m\u001b[38;5;241m*\u001b[39mkwargs)\n\u001b[1;32m     66\u001b[0m \u001b[38;5;28;01mexcept\u001b[39;00m \u001b[38;5;167;01mException\u001b[39;00m \u001b[38;5;28;01mas\u001b[39;00m e:\n\u001b[1;32m     67\u001b[0m     filtered_tb \u001b[38;5;241m=\u001b[39m _process_traceback_frames(e\u001b[38;5;241m.\u001b[39m__traceback__)\n",
      "File \u001b[0;32m~/anaconda3/lib/python3.11/site-packages/keras/src/engine/training.py:1807\u001b[0m, in \u001b[0;36mModel.fit\u001b[0;34m(self, x, y, batch_size, epochs, verbose, callbacks, validation_split, validation_data, shuffle, class_weight, sample_weight, initial_epoch, steps_per_epoch, validation_steps, validation_batch_size, validation_freq, max_queue_size, workers, use_multiprocessing)\u001b[0m\n\u001b[1;32m   1799\u001b[0m \u001b[38;5;28;01mwith\u001b[39;00m tf\u001b[38;5;241m.\u001b[39mprofiler\u001b[38;5;241m.\u001b[39mexperimental\u001b[38;5;241m.\u001b[39mTrace(\n\u001b[1;32m   1800\u001b[0m     \u001b[38;5;124m\"\u001b[39m\u001b[38;5;124mtrain\u001b[39m\u001b[38;5;124m\"\u001b[39m,\n\u001b[1;32m   1801\u001b[0m     epoch_num\u001b[38;5;241m=\u001b[39mepoch,\n\u001b[0;32m   (...)\u001b[0m\n\u001b[1;32m   1804\u001b[0m     _r\u001b[38;5;241m=\u001b[39m\u001b[38;5;241m1\u001b[39m,\n\u001b[1;32m   1805\u001b[0m ):\n\u001b[1;32m   1806\u001b[0m     callbacks\u001b[38;5;241m.\u001b[39mon_train_batch_begin(step)\n\u001b[0;32m-> 1807\u001b[0m     tmp_logs \u001b[38;5;241m=\u001b[39m \u001b[38;5;28mself\u001b[39m\u001b[38;5;241m.\u001b[39mtrain_function(iterator)\n\u001b[1;32m   1808\u001b[0m     \u001b[38;5;28;01mif\u001b[39;00m data_handler\u001b[38;5;241m.\u001b[39mshould_sync:\n\u001b[1;32m   1809\u001b[0m         context\u001b[38;5;241m.\u001b[39masync_wait()\n",
      "File \u001b[0;32m~/anaconda3/lib/python3.11/site-packages/tensorflow/python/util/traceback_utils.py:150\u001b[0m, in \u001b[0;36mfilter_traceback.<locals>.error_handler\u001b[0;34m(*args, **kwargs)\u001b[0m\n\u001b[1;32m    148\u001b[0m filtered_tb \u001b[38;5;241m=\u001b[39m \u001b[38;5;28;01mNone\u001b[39;00m\n\u001b[1;32m    149\u001b[0m \u001b[38;5;28;01mtry\u001b[39;00m:\n\u001b[0;32m--> 150\u001b[0m   \u001b[38;5;28;01mreturn\u001b[39;00m fn(\u001b[38;5;241m*\u001b[39margs, \u001b[38;5;241m*\u001b[39m\u001b[38;5;241m*\u001b[39mkwargs)\n\u001b[1;32m    151\u001b[0m \u001b[38;5;28;01mexcept\u001b[39;00m \u001b[38;5;167;01mException\u001b[39;00m \u001b[38;5;28;01mas\u001b[39;00m e:\n\u001b[1;32m    152\u001b[0m   filtered_tb \u001b[38;5;241m=\u001b[39m _process_traceback_frames(e\u001b[38;5;241m.\u001b[39m__traceback__)\n",
      "File \u001b[0;32m~/anaconda3/lib/python3.11/site-packages/tensorflow/python/eager/polymorphic_function/polymorphic_function.py:832\u001b[0m, in \u001b[0;36mFunction.__call__\u001b[0;34m(self, *args, **kwds)\u001b[0m\n\u001b[1;32m    829\u001b[0m compiler \u001b[38;5;241m=\u001b[39m \u001b[38;5;124m\"\u001b[39m\u001b[38;5;124mxla\u001b[39m\u001b[38;5;124m\"\u001b[39m \u001b[38;5;28;01mif\u001b[39;00m \u001b[38;5;28mself\u001b[39m\u001b[38;5;241m.\u001b[39m_jit_compile \u001b[38;5;28;01melse\u001b[39;00m \u001b[38;5;124m\"\u001b[39m\u001b[38;5;124mnonXla\u001b[39m\u001b[38;5;124m\"\u001b[39m\n\u001b[1;32m    831\u001b[0m \u001b[38;5;28;01mwith\u001b[39;00m OptionalXlaContext(\u001b[38;5;28mself\u001b[39m\u001b[38;5;241m.\u001b[39m_jit_compile):\n\u001b[0;32m--> 832\u001b[0m   result \u001b[38;5;241m=\u001b[39m \u001b[38;5;28mself\u001b[39m\u001b[38;5;241m.\u001b[39m_call(\u001b[38;5;241m*\u001b[39margs, \u001b[38;5;241m*\u001b[39m\u001b[38;5;241m*\u001b[39mkwds)\n\u001b[1;32m    834\u001b[0m new_tracing_count \u001b[38;5;241m=\u001b[39m \u001b[38;5;28mself\u001b[39m\u001b[38;5;241m.\u001b[39mexperimental_get_tracing_count()\n\u001b[1;32m    835\u001b[0m without_tracing \u001b[38;5;241m=\u001b[39m (tracing_count \u001b[38;5;241m==\u001b[39m new_tracing_count)\n",
      "File \u001b[0;32m~/anaconda3/lib/python3.11/site-packages/tensorflow/python/eager/polymorphic_function/polymorphic_function.py:868\u001b[0m, in \u001b[0;36mFunction._call\u001b[0;34m(self, *args, **kwds)\u001b[0m\n\u001b[1;32m    865\u001b[0m   \u001b[38;5;28mself\u001b[39m\u001b[38;5;241m.\u001b[39m_lock\u001b[38;5;241m.\u001b[39mrelease()\n\u001b[1;32m    866\u001b[0m   \u001b[38;5;66;03m# In this case we have created variables on the first call, so we run the\u001b[39;00m\n\u001b[1;32m    867\u001b[0m   \u001b[38;5;66;03m# defunned version which is guaranteed to never create variables.\u001b[39;00m\n\u001b[0;32m--> 868\u001b[0m   \u001b[38;5;28;01mreturn\u001b[39;00m tracing_compilation\u001b[38;5;241m.\u001b[39mcall_function(\n\u001b[1;32m    869\u001b[0m       args, kwds, \u001b[38;5;28mself\u001b[39m\u001b[38;5;241m.\u001b[39m_no_variable_creation_config\n\u001b[1;32m    870\u001b[0m   )\n\u001b[1;32m    871\u001b[0m \u001b[38;5;28;01melif\u001b[39;00m \u001b[38;5;28mself\u001b[39m\u001b[38;5;241m.\u001b[39m_variable_creation_config \u001b[38;5;129;01mis\u001b[39;00m \u001b[38;5;129;01mnot\u001b[39;00m \u001b[38;5;28;01mNone\u001b[39;00m:\n\u001b[1;32m    872\u001b[0m   \u001b[38;5;66;03m# Release the lock early so that multiple threads can perform the call\u001b[39;00m\n\u001b[1;32m    873\u001b[0m   \u001b[38;5;66;03m# in parallel.\u001b[39;00m\n\u001b[1;32m    874\u001b[0m   \u001b[38;5;28mself\u001b[39m\u001b[38;5;241m.\u001b[39m_lock\u001b[38;5;241m.\u001b[39mrelease()\n",
      "File \u001b[0;32m~/anaconda3/lib/python3.11/site-packages/tensorflow/python/eager/polymorphic_function/tracing_compilation.py:139\u001b[0m, in \u001b[0;36mcall_function\u001b[0;34m(args, kwargs, tracing_options)\u001b[0m\n\u001b[1;32m    137\u001b[0m bound_args \u001b[38;5;241m=\u001b[39m function\u001b[38;5;241m.\u001b[39mfunction_type\u001b[38;5;241m.\u001b[39mbind(\u001b[38;5;241m*\u001b[39margs, \u001b[38;5;241m*\u001b[39m\u001b[38;5;241m*\u001b[39mkwargs)\n\u001b[1;32m    138\u001b[0m flat_inputs \u001b[38;5;241m=\u001b[39m function\u001b[38;5;241m.\u001b[39mfunction_type\u001b[38;5;241m.\u001b[39munpack_inputs(bound_args)\n\u001b[0;32m--> 139\u001b[0m \u001b[38;5;28;01mreturn\u001b[39;00m function\u001b[38;5;241m.\u001b[39m_call_flat(  \u001b[38;5;66;03m# pylint: disable=protected-access\u001b[39;00m\n\u001b[1;32m    140\u001b[0m     flat_inputs, captured_inputs\u001b[38;5;241m=\u001b[39mfunction\u001b[38;5;241m.\u001b[39mcaptured_inputs\n\u001b[1;32m    141\u001b[0m )\n",
      "File \u001b[0;32m~/anaconda3/lib/python3.11/site-packages/tensorflow/python/eager/polymorphic_function/concrete_function.py:1323\u001b[0m, in \u001b[0;36mConcreteFunction._call_flat\u001b[0;34m(self, tensor_inputs, captured_inputs)\u001b[0m\n\u001b[1;32m   1319\u001b[0m possible_gradient_type \u001b[38;5;241m=\u001b[39m gradients_util\u001b[38;5;241m.\u001b[39mPossibleTapeGradientTypes(args)\n\u001b[1;32m   1320\u001b[0m \u001b[38;5;28;01mif\u001b[39;00m (possible_gradient_type \u001b[38;5;241m==\u001b[39m gradients_util\u001b[38;5;241m.\u001b[39mPOSSIBLE_GRADIENT_TYPES_NONE\n\u001b[1;32m   1321\u001b[0m     \u001b[38;5;129;01mand\u001b[39;00m executing_eagerly):\n\u001b[1;32m   1322\u001b[0m   \u001b[38;5;66;03m# No tape is watching; skip to running the function.\u001b[39;00m\n\u001b[0;32m-> 1323\u001b[0m   \u001b[38;5;28;01mreturn\u001b[39;00m \u001b[38;5;28mself\u001b[39m\u001b[38;5;241m.\u001b[39m_inference_function\u001b[38;5;241m.\u001b[39mcall_preflattened(args)\n\u001b[1;32m   1324\u001b[0m forward_backward \u001b[38;5;241m=\u001b[39m \u001b[38;5;28mself\u001b[39m\u001b[38;5;241m.\u001b[39m_select_forward_and_backward_functions(\n\u001b[1;32m   1325\u001b[0m     args,\n\u001b[1;32m   1326\u001b[0m     possible_gradient_type,\n\u001b[1;32m   1327\u001b[0m     executing_eagerly)\n\u001b[1;32m   1328\u001b[0m forward_function, args_with_tangents \u001b[38;5;241m=\u001b[39m forward_backward\u001b[38;5;241m.\u001b[39mforward()\n",
      "File \u001b[0;32m~/anaconda3/lib/python3.11/site-packages/tensorflow/python/eager/polymorphic_function/atomic_function.py:216\u001b[0m, in \u001b[0;36mAtomicFunction.call_preflattened\u001b[0;34m(self, args)\u001b[0m\n\u001b[1;32m    214\u001b[0m \u001b[38;5;28;01mdef\u001b[39;00m \u001b[38;5;21mcall_preflattened\u001b[39m(\u001b[38;5;28mself\u001b[39m, args: Sequence[core\u001b[38;5;241m.\u001b[39mTensor]) \u001b[38;5;241m-\u001b[39m\u001b[38;5;241m>\u001b[39m Any:\n\u001b[1;32m    215\u001b[0m \u001b[38;5;250m  \u001b[39m\u001b[38;5;124;03m\"\"\"Calls with flattened tensor inputs and returns the structured output.\"\"\"\u001b[39;00m\n\u001b[0;32m--> 216\u001b[0m   flat_outputs \u001b[38;5;241m=\u001b[39m \u001b[38;5;28mself\u001b[39m\u001b[38;5;241m.\u001b[39mcall_flat(\u001b[38;5;241m*\u001b[39margs)\n\u001b[1;32m    217\u001b[0m   \u001b[38;5;28;01mreturn\u001b[39;00m \u001b[38;5;28mself\u001b[39m\u001b[38;5;241m.\u001b[39mfunction_type\u001b[38;5;241m.\u001b[39mpack_output(flat_outputs)\n",
      "File \u001b[0;32m~/anaconda3/lib/python3.11/site-packages/tensorflow/python/eager/polymorphic_function/atomic_function.py:251\u001b[0m, in \u001b[0;36mAtomicFunction.call_flat\u001b[0;34m(self, *args)\u001b[0m\n\u001b[1;32m    249\u001b[0m \u001b[38;5;28;01mwith\u001b[39;00m record\u001b[38;5;241m.\u001b[39mstop_recording():\n\u001b[1;32m    250\u001b[0m   \u001b[38;5;28;01mif\u001b[39;00m \u001b[38;5;28mself\u001b[39m\u001b[38;5;241m.\u001b[39m_bound_context\u001b[38;5;241m.\u001b[39mexecuting_eagerly():\n\u001b[0;32m--> 251\u001b[0m     outputs \u001b[38;5;241m=\u001b[39m \u001b[38;5;28mself\u001b[39m\u001b[38;5;241m.\u001b[39m_bound_context\u001b[38;5;241m.\u001b[39mcall_function(\n\u001b[1;32m    252\u001b[0m         \u001b[38;5;28mself\u001b[39m\u001b[38;5;241m.\u001b[39mname,\n\u001b[1;32m    253\u001b[0m         \u001b[38;5;28mlist\u001b[39m(args),\n\u001b[1;32m    254\u001b[0m         \u001b[38;5;28mlen\u001b[39m(\u001b[38;5;28mself\u001b[39m\u001b[38;5;241m.\u001b[39mfunction_type\u001b[38;5;241m.\u001b[39mflat_outputs),\n\u001b[1;32m    255\u001b[0m     )\n\u001b[1;32m    256\u001b[0m   \u001b[38;5;28;01melse\u001b[39;00m:\n\u001b[1;32m    257\u001b[0m     outputs \u001b[38;5;241m=\u001b[39m make_call_op_in_graph(\n\u001b[1;32m    258\u001b[0m         \u001b[38;5;28mself\u001b[39m,\n\u001b[1;32m    259\u001b[0m         \u001b[38;5;28mlist\u001b[39m(args),\n\u001b[1;32m    260\u001b[0m         \u001b[38;5;28mself\u001b[39m\u001b[38;5;241m.\u001b[39m_bound_context\u001b[38;5;241m.\u001b[39mfunction_call_options\u001b[38;5;241m.\u001b[39mas_attrs(),\n\u001b[1;32m    261\u001b[0m     )\n",
      "File \u001b[0;32m~/anaconda3/lib/python3.11/site-packages/tensorflow/python/eager/context.py:1486\u001b[0m, in \u001b[0;36mContext.call_function\u001b[0;34m(self, name, tensor_inputs, num_outputs)\u001b[0m\n\u001b[1;32m   1484\u001b[0m cancellation_context \u001b[38;5;241m=\u001b[39m cancellation\u001b[38;5;241m.\u001b[39mcontext()\n\u001b[1;32m   1485\u001b[0m \u001b[38;5;28;01mif\u001b[39;00m cancellation_context \u001b[38;5;129;01mis\u001b[39;00m \u001b[38;5;28;01mNone\u001b[39;00m:\n\u001b[0;32m-> 1486\u001b[0m   outputs \u001b[38;5;241m=\u001b[39m execute\u001b[38;5;241m.\u001b[39mexecute(\n\u001b[1;32m   1487\u001b[0m       name\u001b[38;5;241m.\u001b[39mdecode(\u001b[38;5;124m\"\u001b[39m\u001b[38;5;124mutf-8\u001b[39m\u001b[38;5;124m\"\u001b[39m),\n\u001b[1;32m   1488\u001b[0m       num_outputs\u001b[38;5;241m=\u001b[39mnum_outputs,\n\u001b[1;32m   1489\u001b[0m       inputs\u001b[38;5;241m=\u001b[39mtensor_inputs,\n\u001b[1;32m   1490\u001b[0m       attrs\u001b[38;5;241m=\u001b[39mattrs,\n\u001b[1;32m   1491\u001b[0m       ctx\u001b[38;5;241m=\u001b[39m\u001b[38;5;28mself\u001b[39m,\n\u001b[1;32m   1492\u001b[0m   )\n\u001b[1;32m   1493\u001b[0m \u001b[38;5;28;01melse\u001b[39;00m:\n\u001b[1;32m   1494\u001b[0m   outputs \u001b[38;5;241m=\u001b[39m execute\u001b[38;5;241m.\u001b[39mexecute_with_cancellation(\n\u001b[1;32m   1495\u001b[0m       name\u001b[38;5;241m.\u001b[39mdecode(\u001b[38;5;124m\"\u001b[39m\u001b[38;5;124mutf-8\u001b[39m\u001b[38;5;124m\"\u001b[39m),\n\u001b[1;32m   1496\u001b[0m       num_outputs\u001b[38;5;241m=\u001b[39mnum_outputs,\n\u001b[0;32m   (...)\u001b[0m\n\u001b[1;32m   1500\u001b[0m       cancellation_manager\u001b[38;5;241m=\u001b[39mcancellation_context,\n\u001b[1;32m   1501\u001b[0m   )\n",
      "File \u001b[0;32m~/anaconda3/lib/python3.11/site-packages/tensorflow/python/eager/execute.py:53\u001b[0m, in \u001b[0;36mquick_execute\u001b[0;34m(op_name, num_outputs, inputs, attrs, ctx, name)\u001b[0m\n\u001b[1;32m     51\u001b[0m \u001b[38;5;28;01mtry\u001b[39;00m:\n\u001b[1;32m     52\u001b[0m   ctx\u001b[38;5;241m.\u001b[39mensure_initialized()\n\u001b[0;32m---> 53\u001b[0m   tensors \u001b[38;5;241m=\u001b[39m pywrap_tfe\u001b[38;5;241m.\u001b[39mTFE_Py_Execute(ctx\u001b[38;5;241m.\u001b[39m_handle, device_name, op_name,\n\u001b[1;32m     54\u001b[0m                                       inputs, attrs, num_outputs)\n\u001b[1;32m     55\u001b[0m \u001b[38;5;28;01mexcept\u001b[39;00m core\u001b[38;5;241m.\u001b[39m_NotOkStatusException \u001b[38;5;28;01mas\u001b[39;00m e:\n\u001b[1;32m     56\u001b[0m   \u001b[38;5;28;01mif\u001b[39;00m name \u001b[38;5;129;01mis\u001b[39;00m \u001b[38;5;129;01mnot\u001b[39;00m \u001b[38;5;28;01mNone\u001b[39;00m:\n",
      "\u001b[0;31mKeyboardInterrupt\u001b[0m: "
     ]
    }
   ],
   "source": [
    "from tensorflow.keras.callbacks import EarlyStopping, ReduceLROnPlateau\n",
    "\n",
    "# Create an EarlyStopping callback\n",
    "early_stopping = EarlyStopping(\n",
    "    monitor='val_loss', \n",
    "    mode='min',  \n",
    "    patience=2,  \n",
    "    restore_best_weights=True\n",
    ")\n",
    "\n",
    "# Create a ReduceLROnPlateau callback\n",
    "reduce_lr = ReduceLROnPlateau(\n",
    "    monitor='val_loss', \n",
    "    factor=0.1,\n",
    "    patience=1,  \n",
    "    min_lr=1e-5\n",
    ")\n",
    "\n",
    "# Store the callbacks in a list\n",
    "callbacks = [early_stopping, reduce_lr]\n",
    "\n",
    "# Train the model with the callbacks\n",
    "history = model.fit(\n",
    "    x=X_train,\n",
    "    y=y_train,\n",
    "    batch_size=128,\n",
    "    epochs=25,\n",
    "    validation_split=0.3,\n",
    "    callbacks=callbacks\n",
    ").history\n"
   ]
  },
  {
   "cell_type": "markdown",
   "id": "b5610682-db93-46dc-b276-24844fb9f37f",
   "metadata": {},
   "source": [
    "# Using the model"
   ]
  },
  {
   "cell_type": "markdown",
   "id": "98a0e329-56c0-42ae-b392-49e03893adf2",
   "metadata": {},
   "source": [
    "First we predict the labels for the test images, making sure that all the shapes allign"
   ]
  },
  {
   "cell_type": "code",
   "execution_count": 12,
   "id": "c1228dc4-39b6-4fbf-b4c0-62e245366ba0",
   "metadata": {},
   "outputs": [
    {
     "name": "stdout",
     "output_type": "stream",
     "text": [
      "Predictions Shape: (51442, 1)\n"
     ]
    }
   ],
   "source": [
    "# Predict labels for the entire test set\n",
    "test_predictions = model.predict(X_test, verbose=0)\n",
    "\n",
    "# Display the shape of the predictions\n",
    "print(\"Predictions Shape:\", test_predictions.shape)"
   ]
  },
  {
   "cell_type": "code",
   "execution_count": 13,
   "id": "038b912e-2895-4a35-ac88-34809a2c8a45",
   "metadata": {},
   "outputs": [
    {
     "name": "stdout",
     "output_type": "stream",
     "text": [
      "y_test Shape: (51442,)\n"
     ]
    }
   ],
   "source": [
    "print(\"y_test Shape:\", y_test.shape)"
   ]
  },
  {
   "cell_type": "markdown",
   "id": "e768e7e5-6f9d-4017-8d6f-417ff2d21e7f",
   "metadata": {},
   "source": [
    "Since we often encountered the problem that the model predicted True for all labels we want to check that that is not the case "
   ]
  },
  {
   "cell_type": "code",
   "execution_count": 14,
   "id": "40d6711e-ccf9-4b82-a89c-93d6d9160540",
   "metadata": {},
   "outputs": [
    {
     "data": {
      "text/plain": [
       "array([[0.500072  ],\n",
       "       [0.45950294],\n",
       "       [0.48736063],\n",
       "       ...,\n",
       "       [0.44973868],\n",
       "       [0.47482935],\n",
       "       [0.51313424]], dtype=float32)"
      ]
     },
     "execution_count": 14,
     "metadata": {},
     "output_type": "execute_result"
    }
   ],
   "source": [
    "test_predictions"
   ]
  },
  {
   "cell_type": "code",
   "execution_count": 17,
   "id": "65be7166-25e2-4c69-87b7-133e0a7a7a84",
   "metadata": {},
   "outputs": [
    {
     "data": {
      "text/plain": [
       "0.50007045"
      ]
     },
     "execution_count": 17,
     "metadata": {},
     "output_type": "execute_result"
    }
   ],
   "source": [
    "test_predictions.mean()"
   ]
  },
  {
   "cell_type": "markdown",
   "id": "63751e87-5b7e-4b0f-b65b-05249deca156",
   "metadata": {},
   "source": [
    "Since our model returns a probability of "
   ]
  },
  {
   "cell_type": "code",
   "execution_count": 15,
   "id": "653cfb8c-93e0-4d3c-8421-d9f73adfb102",
   "metadata": {},
   "outputs": [
    {
     "data": {
      "image/png": "[encoded data removed]",
      "text/plain": [
       "<Figure size 1000x600 with 1 Axes>"
      ]
     },
     "metadata": {},
     "output_type": "display_data"
    },
    {
     "name": "stdout",
     "output_type": "stream",
     "text": [
      "Best cutoff: 0.495 with accuracy: 0.5455\n"
     ]
    }
   ],
   "source": [
    "from sklearn.metrics import accuracy_score\n",
    "\n",
    "def evaluate_cutoff_points(test_predictions, y_test, metric=\"accuracy\", step=0.001):\n",
    "    # Ensure y_test is an integer array\n",
    "    y_test = y_test.astype(int)\n",
    "    \n",
    "    # Define cutoff points\n",
    "    cutoff_points = np.arange(0, 1 + step, step)\n",
    "    scores = []\n",
    "    \n",
    "    # Evaluate each cutoff\n",
    "    for cutoff in cutoff_points:\n",
    "        binary_predictions = np.where(test_predictions > cutoff, 1, 0)\n",
    "        if metric == \"accuracy\":\n",
    "            score = accuracy_score(y_test, binary_predictions)\n",
    "        else:\n",
    "            raise ValueError(f\"Unsupported metric: {metric}\")\n",
    "        scores.append(score)\n",
    "    \n",
    "    # Find the best cutoff\n",
    "    best_index = np.argmax(scores)\n",
    "    best_cutoff = cutoff_points[best_index]\n",
    "    best_score = scores[best_index]\n",
    "    \n",
    "    # Plot performance\n",
    "    plt.figure(figsize=(10, 6))\n",
    "    plt.plot(cutoff_points, scores, marker='o')\n",
    "    plt.title(f\"Performance by Cutoff Point ({metric})\")\n",
    "    plt.xlabel(\"Cutoff Point\")\n",
    "    plt.ylabel(metric.capitalize())\n",
    "    plt.axvline(best_cutoff, color=\"red\", linestyle=\"--\", label=f\"Best Cutoff = {best_cutoff:.2f}\")\n",
    "    plt.legend()\n",
    "    plt.grid(True)\n",
    "    plt.show()\n",
    "    \n",
    "    print(f\"Best cutoff: {best_cutoff:.3f} with {metric}: {best_score:.4f}\")\n",
    "    return best_cutoff\n",
    "\n",
    "# Example usage:\n",
    "# Assuming `test_predictions` contains predicted probabilities and `y_test` is the ground truth\n",
    "best_cutoff = evaluate_cutoff_points(test_predictions, y_test)\n"
   ]
  },
  {
   "cell_type": "code",
   "execution_count": 16,
   "id": "c5615b3c-2ea8-455d-9f37-e82d395472f6",
   "metadata": {},
   "outputs": [],
   "source": [
    "# Save the trained model to a file with the accuracy included in the filename\n",
    "model_filename = 'models/5-day.keras'\n",
    "model.save(model_filename)"
   ]
  },
  {
   "cell_type": "markdown",
   "id": "de0289b7-fd4b-481a-9fea-79be45eb39f2",
   "metadata": {},
   "source": [
    "# Some notes about this model:\n",
    "\n",
    "First off, we repilcated kelly's methodology to the T, the only 2 variations from his model are:\n",
    "1. The colour of the moving avg and volume which instad if white are 2 shades of gray\n",
    "2. The data we utilized\n",
    "\n",
    "As it is the model seems to be good enough, we have a 54.6% accuracy in predicting if the next period's return is positive or not, which gives us a roughly 5% edge on the market. While we still need to perform some out of sample testing, its looking promising, Kelly in his paper and resources did not disclose the rough results of the traning, so we cant know weather what we got is similar or completely different. \n",
    "\n",
    "---\n",
    "\n",
    "One thing that we found is not great about this specific model here is that all of the predictions are very very close to 0.5, infact if we take the mean of all the test_predictions its almost exactly 0.5:\n",
    "\n",
    "`test_predictions.mean() = 0.50007045` <br>\n",
    "\n",
    "This suggests that the model may be uncertain or struggling to learn clear patterns in the data. \n",
    "\n",
    "---\n",
    "\n",
    "While the 5-day window in kelly's results seems to be the best performing one, we feel that its a bit strange as there isnt enough history of prices to find meaningful patterns and trends in the OHLC chart, we feel that to perform trades based on technical analysis and price action a trader utilized a much longer history, and therefore we find counterintuitive that the 5 day model performs better than a longer one like the 20 day or the 60 day, we think we will find better results with the bigger time stamps.\n",
    "\n",
    "Anyway we will perform some out of sample testing but utilizing a portfolio structure."
   ]
  },
  {
   "cell_type": "code",
   "execution_count": null,
   "id": "84dfb5bb-ee1e-49b2-961c-7a98f86efe9c",
   "metadata": {},
   "outputs": [],
   "source": []
  }
 ],
 "metadata": {
  "kernelspec": {
   "display_name": "Python 3 (ipykernel)",
   "language": "python",
   "name": "python3"
  },
  "language_info": {
   "codemirror_mode": {
    "name": "ipython",
    "version": 3
   },
   "file_extension": ".py",
   "mimetype": "text/x-python",
   "name": "python",
   "nbconvert_exporter": "python",
   "pygments_lexer": "ipython3",
   "version": "3.11.5"
  }
 },
 "nbformat": 4,
 "nbformat_minor": 5
}
