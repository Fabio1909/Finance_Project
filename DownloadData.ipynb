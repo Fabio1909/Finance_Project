{
 "cells": [
  {
   "cell_type": "code",
   "execution_count": 1,
   "id": "f912474a-61df-4033-8cab-861251be825f",
   "metadata": {},
   "outputs": [],
   "source": [
    "import pandas as pd\n",
    "import yfinance as yf"
   ]
  },
  {
   "cell_type": "markdown",
   "id": "8e22ab19-bfbf-419f-be85-21f0107f68f4",
   "metadata": {},
   "source": [
    "# Download stock data form yfinance"
   ]
  },
  {
   "cell_type": "code",
   "execution_count": 2,
   "id": "510147c9-ae07-4e16-8544-32cce362e475",
   "metadata": {},
   "outputs": [],
   "source": [
    "# First we get all the tickers for all sp500 companies\n",
    "tickers_table = pd.read_html(\n",
    "    'https://en.wikipedia.org/wiki/List_of_S%26P_500_companies')[0]\n",
    "tickers = list(tickers_table[\"Symbol\"])"
   ]
  },
  {
   "cell_type": "code",
   "execution_count": 3,
   "id": "c1b85170-50d5-4926-95fb-916777a2377e",
   "metadata": {},
   "outputs": [],
   "source": [
    "def get_stock_data(ticker, start_date, end_date=None):\n",
    "    stock_data = yf.download(ticker, start=start_date, end=end_date, progress=False)\n",
    "    stock_data.drop(['Adj Close'], axis = 1, inplace = True)\n",
    "    stock_data.rename(columns={\"Volume\": \"Vol\"}, inplace=True)\n",
    "    return stock_data"
   ]
  },
  {
   "cell_type": "code",
   "execution_count": 5,
   "id": "97f6f1be-2702-4c25-9cf5-d417f50f4f2e",
   "metadata": {},
   "outputs": [
    {
     "name": "stderr",
     "output_type": "stream",
     "text": [
      " 12%|█▏        | 60/503 [00:14<01:58,  3.74it/s]\n",
      "1 Failed download:\n",
      "['BRK.B']: Exception('%ticker%: No timezone found, symbol may be delisted')\n",
      " 15%|█▍        | 75/503 [00:18<01:59,  3.59it/s]\n",
      "1 Failed download:\n",
      "['BF.B']: Exception('%ticker%: No price data found, symbol may be delisted (1d 2010-01-01 -> 2024-11-15)')\n",
      "100%|██████████| 503/503 [02:06<00:00,  3.96it/s]"
     ]
    },
    {
     "name": "stdout",
     "output_type": "stream",
     "text": [
      "CPU times: user 32.4 s, sys: 2.22 s, total: 34.7 s\n",
      "Wall time: 2min 6s\n"
     ]
    },
    {
     "name": "stderr",
     "output_type": "stream",
     "text": [
      "\n"
     ]
    }
   ],
   "source": [
    "%%time\n",
    "from tqdm import tqdm\n",
    "\n",
    "all_dfs_dict = {}\n",
    "for ticker in tqdm(tickers):\n",
    "    try:\n",
    "        current_stock = get_stock_data(ticker, start_date = \"2010-01-01\")\n",
    "        current_stock.reset_index(inplace = True)\n",
    "        if len(current_stock) < 5:\n",
    "            pass\n",
    "        else: \n",
    "            current_stock.to_csv(f\"data/csv/{ticker}.csv\")\n",
    "        all_dfs_dict[f\"{ticker}\"] = current_stock\n",
    "    except:\n",
    "        all_dfs_dict[f\"{ticker}\"] = None"
   ]
  },
  {
   "cell_type": "code",
   "execution_count": null,
   "id": "704e2d61-ee52-4a6a-a5b5-7e8ba5b3f4ac",
   "metadata": {},
   "outputs": [],
   "source": [
    "from pympler import asizeof\n",
    "\n",
    "def dict_size_gb_recursive(dictionary):\n",
    "    size_bytes = asizeof.asizeof(dictionary)\n",
    "    size_gb = size_bytes / (1024 ** 3)  # Convert bytes to gigabytes\n",
    "    return size_gb\n",
    "    \n",
    "print(f\"Recursive size: {dict_size_gb_recursive(all_dfs_dict):.6f} GB\")"
   ]
  },
  {
   "cell_type": "code",
   "execution_count": null,
   "id": "1bb9c851-7dcb-41fb-886e-11ef9f700ec8",
   "metadata": {},
   "outputs": [],
   "source": [
    "all_dfs_dict[\"TSLA\"]"
   ]
  },
  {
   "cell_type": "code",
   "execution_count": null,
   "id": "cc2147d7-1940-4313-88ae-fbd628d5d981",
   "metadata": {},
   "outputs": [],
   "source": []
  }
 ],
 "metadata": {
  "kernelspec": {
   "display_name": "Python 3 (ipykernel)",
   "language": "python",
   "name": "python3"
  },
  "language_info": {
   "codemirror_mode": {
    "name": "ipython",
    "version": 3
   },
   "file_extension": ".py",
   "mimetype": "text/x-python",
   "name": "python",
   "nbconvert_exporter": "python",
   "pygments_lexer": "ipython3",
   "version": "3.11.5"
  }
 },
 "nbformat": 4,
 "nbformat_minor": 5
}
