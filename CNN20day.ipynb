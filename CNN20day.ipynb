{
 "cells": [
  {
   "cell_type": "code",
   "execution_count": 1,
   "id": "681954b9-9019-46c3-8aa0-ede814f3d376",
   "metadata": {},
   "outputs": [],
   "source": [
    "import os\n",
    "import cv2\n",
    "import numpy as np\n",
    "import matplotlib.pyplot as plt"
   ]
  },
  {
   "cell_type": "markdown",
   "id": "0222c3d0-a285-4266-a023-b9b2d65135b3",
   "metadata": {},
   "source": [
    "# Processing all images"
   ]
  },
  {
   "cell_type": "code",
   "execution_count": 2,
   "id": "48c78e0b-84cb-4284-9b94-6eeab66186f6",
   "metadata": {},
   "outputs": [
    {
     "name": "stdout",
     "output_type": "stream",
     "text": [
      "TRUE: 32091 images with shape (125, 60)\n",
      "FALSE: 22101 images with shape (125, 60)\n",
      "CPU times: user 1.57 s, sys: 1.8 s, total: 3.37 s\n",
      "Wall time: 4.79 s\n"
     ]
    }
   ],
   "source": [
    "%%time\n",
    "images_True = []\n",
    "images_False = []\n",
    "image_dir = \"data/images/traning/20-day/\"\n",
    "dirist = [x for x in os.listdir(image_dir) if not x.startswith(\".\")]\n",
    "for folder_name in dirist:\n",
    "    folder_dir = os.path.join(image_dir, folder_name)\n",
    "    for file_name in os.listdir(folder_dir):\n",
    "        file_dir = os.path.join(folder_dir, file_name)\n",
    "        label = 1 if file_dir.strip().endswith(\"True.png\") else 0\n",
    "        img = cv2.imread(file_dir, cv2.IMREAD_GRAYSCALE)\n",
    "        if label == 1:\n",
    "            images_True.append(img)\n",
    "        else:\n",
    "            images_False.append(img)\n",
    "images_True = np.array(images_True)\n",
    "images_True = images_True / 255.0\n",
    "\n",
    "images_False = np.array(images_False)\n",
    "images_False = images_False / 255.0\n",
    "\n",
    "print(f\"TRUE: {len(images_True)} images with shape {images_True[0].shape}\")\n",
    "print(f\"FALSE: {len(images_False)} images with shape {images_False[0].shape}\")"
   ]
  },
  {
   "cell_type": "code",
   "execution_count": 3,
   "id": "b9e35ffa-5a15-4994-bb27-dffb8a46aecd",
   "metadata": {
    "jupyter": {
     "source_hidden": true
    }
   },
   "outputs": [
    {
     "name": "stdout",
     "output_type": "stream",
     "text": [
      "The total memory usage of the image list is approximately 1.797 GB.\n",
      "The total memory usage of the image list is approximately 1.238 GB.\n"
     ]
    }
   ],
   "source": [
    "import sys\n",
    "\n",
    "def calculate_memory_usage(image_list):\n",
    "    total_bytes = sys.getsizeof(image_list)  # Get the size of the list itself\n",
    "    for img in image_list:\n",
    "        total_bytes += sys.getsizeof(img)  # Add the size of each image array\n",
    "    \n",
    "    total_gb = total_bytes / (1024 ** 3)  # Convert bytes to gigabytes\n",
    "    print(f\"The total memory usage of the image list is approximately {total_gb:.3f} GB.\")\n",
    "\n",
    "# Example usage\n",
    "calculate_memory_usage(images_True)\n",
    "calculate_memory_usage(images_False)"
   ]
  },
  {
   "cell_type": "code",
   "execution_count": 4,
   "id": "41782c88-d2ba-436f-8532-220286d7b211",
   "metadata": {},
   "outputs": [
    {
     "name": "stdout",
     "output_type": "stream",
     "text": [
      "Training set: 37934 samples\n",
      "Test set: 16258 samples\n",
      "Image shape: (125, 60)\n"
     ]
    }
   ],
   "source": [
    "import numpy as np\n",
    "from sklearn.model_selection import train_test_split\n",
    "\n",
    "# Step 1: Assign labels\n",
    "true_labels = np.ones(len(images_True))  # Label 1 for True images\n",
    "false_labels = np.zeros(len(images_False))  # Label 0 for False images\n",
    "\n",
    "# Step 2: Combine images and labels\n",
    "images = np.concatenate([images_True, images_False], axis=0)\n",
    "labels = np.concatenate([true_labels, false_labels], axis=0)\n",
    "\n",
    "# Step 3: Shuffle and split into training and testing sets\n",
    "X_train, X_test, y_train, y_test = train_test_split(\n",
    "    images, labels, test_size=0.3, random_state=42, stratify=labels\n",
    ")\n",
    "\n",
    "# Output the results\n",
    "print(f\"Training set: {X_train.shape[0]} samples\")\n",
    "print(f\"Test set: {X_test.shape[0]} samples\")\n",
    "print(f\"Image shape: {X_train[0].shape}\")"
   ]
  },
  {
   "cell_type": "code",
   "execution_count": 27,
   "id": "2d30d16d-a34f-4337-8294-4e78b80dc09b",
   "metadata": {},
   "outputs": [
    {
     "data": {
      "text/plain": [
       "0.592160067485633"
      ]
     },
     "execution_count": 27,
     "metadata": {},
     "output_type": "execute_result"
    }
   ],
   "source": [
    "y_train.mean()"
   ]
  },
  {
   "cell_type": "code",
   "execution_count": 29,
   "id": "c6660f14-4f7c-4d22-831a-ca32eb5d726a",
   "metadata": {},
   "outputs": [
    {
     "data": {
      "text/plain": [
       "0.5922007627014393"
      ]
     },
     "execution_count": 29,
     "metadata": {},
     "output_type": "execute_result"
    }
   ],
   "source": [
    "y_test.mean()"
   ]
  },
  {
   "cell_type": "markdown",
   "id": "9a861ed4-da9c-4e51-aa4f-cea9d1772b13",
   "metadata": {},
   "source": [
    "# Build and train model"
   ]
  },
  {
   "cell_type": "code",
   "execution_count": 8,
   "id": "0c5f8155-af7b-4622-bdda-9a5859946729",
   "metadata": {},
   "outputs": [],
   "source": [
    "import tensorflow as tf\n",
    "from tensorflow import keras as tfk\n",
    "from tensorflow.keras import layers as tfkl\n",
    "\n",
    "\n",
    "def build_model(\n",
    "    input_shape=(125, 60, 1),\n",
    "    output_shape=1,\n",
    "    learning_rate=0.1,\n",
    "    seed=42\n",
    "):\n",
    "    tf.random.set_seed(seed)\n",
    "\n",
    "    # Build the neural network layer by layer\n",
    "    inputs = tfkl.Input(shape=input_shape, name='Input')\n",
    "\n",
    "    x = tfkl.Conv2D(filters=64, kernel_size=3, padding='same', name='conv1')(inputs)\n",
    "    x = tfkl.Activation('relu', name='act1')(x)\n",
    "    x = tfkl.MaxPooling2D(pool_size=2, name='mp1')(x)\n",
    "\n",
    "    x = tfkl.Conv2D(filters=128, kernel_size=3, padding='same', name='conv2')(x)\n",
    "    x = tfkl.Activation('relu', name='act2')(x)\n",
    "    x = tfkl.MaxPooling2D(pool_size=2, name='mp2')(x)\n",
    "    \n",
    "    x = tfkl.Conv2D(filters=256, kernel_size=3, padding='same', name='conv3')(x)\n",
    "    x = tfkl.Activation('relu', name='act3')(x)\n",
    "    x = tfkl.MaxPooling2D(pool_size=2, name='mp3')(x)\n",
    "\n",
    "\n",
    "    x = tfkl.Flatten(name='flatten')(x)\n",
    "\n",
    "    x = tfkl.Dense(units=output_shape, name='dense')(x)\n",
    "    outputs = tfkl.Activation('softmax', name='softmax')(x)\n",
    "\n",
    "    # Connect input and output through the Model class\n",
    "    model = tfk.Model(inputs=inputs, outputs=outputs, name='CNN')\n",
    "\n",
    "    # Compile the model\n",
    "    loss = tfk.losses.BinaryCrossentropy()\n",
    "    optimizer = tfk.optimizers.legacy.Adam(learning_rate)\n",
    "    metrics = ['accuracy']\n",
    "    model.compile(loss=loss, optimizer=optimizer, metrics=metrics)\n",
    "\n",
    "    # Return the model\n",
    "    return model"
   ]
  },
  {
   "cell_type": "code",
   "execution_count": 9,
   "id": "f52beb1b-323a-4625-8a74-431162de989f",
   "metadata": {},
   "outputs": [
    {
     "name": "stdout",
     "output_type": "stream",
     "text": [
      "Model: \"CNN\"\n",
      "_________________________________________________________________\n",
      " Layer (type)                Output Shape              Param #   \n",
      "=================================================================\n",
      " Input (InputLayer)          [(None, 125, 60, 1)]      0         \n",
      "                                                                 \n",
      " conv1 (Conv2D)              (None, 125, 60, 64)       640       \n",
      "                                                                 \n",
      " act1 (Activation)           (None, 125, 60, 64)       0         \n",
      "                                                                 \n",
      " mp1 (MaxPooling2D)          (None, 62, 30, 64)        0         \n",
      "                                                                 \n",
      " conv2 (Conv2D)              (None, 62, 30, 128)       73856     \n",
      "                                                                 \n",
      " act2 (Activation)           (None, 62, 30, 128)       0         \n",
      "                                                                 \n",
      " mp2 (MaxPooling2D)          (None, 31, 15, 128)       0         \n",
      "                                                                 \n",
      " conv3 (Conv2D)              (None, 31, 15, 256)       295168    \n",
      "                                                                 \n",
      " act3 (Activation)           (None, 31, 15, 256)       0         \n",
      "                                                                 \n",
      " mp3 (MaxPooling2D)          (None, 15, 7, 256)        0         \n",
      "                                                                 \n",
      " flatten (Flatten)           (None, 26880)             0         \n",
      "                                                                 \n",
      " dense (Dense)               (None, 1)                 26881     \n",
      "                                                                 \n",
      " softmax (Activation)        (None, 1)                 0         \n",
      "                                                                 \n",
      "=================================================================\n",
      "Total params: 396545 (1.51 MB)\n",
      "Trainable params: 396545 (1.51 MB)\n",
      "Non-trainable params: 0 (0.00 Byte)\n",
      "_________________________________________________________________\n"
     ]
    }
   ],
   "source": [
    "# Build the model\n",
    "model = build_model()\n",
    "\n",
    "# Summary of the model\n",
    "model.summary()"
   ]
  },
  {
   "cell_type": "code",
   "execution_count": 13,
   "id": "2291a5b9-889d-4f78-b076-e7d797a14486",
   "metadata": {},
   "outputs": [
    {
     "name": "stdout",
     "output_type": "stream",
     "text": [
      "Epoch 1/50\n",
      "1897/1897 [==============================] - 167s 88ms/step - loss: 0.6798 - accuracy: 0.5902 - val_loss: 0.6732 - val_accuracy: 0.6000\n",
      "Epoch 2/50\n",
      "1897/1897 [==============================] - 163s 86ms/step - loss: 0.6794 - accuracy: 0.5902 - val_loss: 0.6737 - val_accuracy: 0.6000\n",
      "Epoch 3/50\n",
      "1897/1897 [==============================] - 164s 86ms/step - loss: 0.6794 - accuracy: 0.5902 - val_loss: 0.6735 - val_accuracy: 0.6000\n",
      "Epoch 4/50\n",
      "1897/1897 [==============================] - 166s 87ms/step - loss: 0.6805 - accuracy: 0.5902 - val_loss: 0.6803 - val_accuracy: 0.6000\n"
     ]
    }
   ],
   "source": [
    "# Create an EarlyStopping callback\n",
    "early_stopping = tfk.callbacks.EarlyStopping(\n",
    "    monitor='val_accuracy',\n",
    "    mode='max',\n",
    "    patience=3,\n",
    "    restore_best_weights=True\n",
    ")\n",
    "\n",
    "# Store the callback in a list\n",
    "callbacks = [early_stopping]\n",
    "\n",
    "# Train the model with early stopping callback\n",
    "history = model.fit(\n",
    "    x=X_train,\n",
    "    y=y_train,\n",
    "    batch_size=16,\n",
    "    epochs=50,\n",
    "    validation_split=0.2,\n",
    "    callbacks=callbacks\n",
    ").history"
   ]
  },
  {
   "cell_type": "code",
   "execution_count": 14,
   "id": "5f83e32a-f7cc-40fe-b510-2e107e4539d9",
   "metadata": {},
   "outputs": [
    {
     "name": "stdout",
     "output_type": "stream",
     "text": [
      "Final validation accuracy: 60.0%\n"
     ]
    }
   ],
   "source": [
    "# Calculate and print the final validation accuracy\n",
    "final_val_accuracy = round(max(history['val_accuracy'])* 100, 2)\n",
    "print(f'Final validation accuracy: {final_val_accuracy}%')\n",
    "\n",
    "# Save the trained model to a file with the accuracy included in the filename\n",
    "model_filename = 'models/20-day_'+str(final_val_accuracy)+'.keras'\n",
    "model.save(model_filename)\n",
    "\n",
    "# Delete the model to free up resources\n",
    "del model"
   ]
  },
  {
   "cell_type": "markdown",
   "id": "3a79f42f-9eb3-463c-8188-222c3639f330",
   "metadata": {},
   "source": [
    "# Checking Test accuracy"
   ]
  },
  {
   "cell_type": "code",
   "execution_count": 21,
   "id": "0a6c5667-8526-45b1-a479-dcbb12350510",
   "metadata": {},
   "outputs": [],
   "source": [
    "# Load the saved model\n",
    "model = tfk.models.load_model('models/20-day_60.0.keras')"
   ]
  },
  {
   "cell_type": "code",
   "execution_count": 22,
   "id": "bf27f548-d520-45ab-b319-d88623528c7d",
   "metadata": {},
   "outputs": [
    {
     "name": "stdout",
     "output_type": "stream",
     "text": [
      "Predictions Shape: (16258, 1)\n"
     ]
    }
   ],
   "source": [
    "# Predict labels for the entire test set\n",
    "test_predictions = model.predict(X_test, verbose=0)\n",
    "\n",
    "# Display the shape of the predictions\n",
    "print(\"Predictions Shape:\", predictions.shape)"
   ]
  },
  {
   "cell_type": "code",
   "execution_count": 23,
   "id": "babbf9ad-2aac-4eac-936e-322c7411175b",
   "metadata": {},
   "outputs": [
    {
     "name": "stdout",
     "output_type": "stream",
     "text": [
      "y_test Shape: (16258,)\n"
     ]
    }
   ],
   "source": [
    "print(\"y_test Shape:\", y_test.shape)"
   ]
  },
  {
   "cell_type": "code",
   "execution_count": 25,
   "id": "e03141ab-babf-43f4-91ae-fa7f00505094",
   "metadata": {},
   "outputs": [
    {
     "data": {
      "text/plain": [
       "1.0"
      ]
     },
     "execution_count": 25,
     "metadata": {},
     "output_type": "execute_result"
    }
   ],
   "source": [
    "test_predictions.mean()"
   ]
  },
  {
   "cell_type": "markdown",
   "id": "908c0b7e-c4af-4b7d-b915-7e1c2ade2fda",
   "metadata": {},
   "source": [
    "# Out of Sample"
   ]
  },
  {
   "cell_type": "code",
   "execution_count": 15,
   "id": "c47e3e67-631e-4870-8477-b065144e5e43",
   "metadata": {},
   "outputs": [
    {
     "name": "stdout",
     "output_type": "stream",
     "text": [
      "TRUE: 11529 images with shape (125, 60)\n",
      "FALSE: 9987 images with shape (125, 60)\n",
      "CPU times: user 645 ms, sys: 829 ms, total: 1.47 s\n",
      "Wall time: 2.04 s\n"
     ]
    }
   ],
   "source": [
    "%%time\n",
    "images_True = []\n",
    "images_False = []\n",
    "image_dir = \"data/images/out_of_sample/20-day/\"\n",
    "dirist = [x for x in os.listdir(image_dir) if not x.startswith(\".\")]\n",
    "for folder_name in dirist:\n",
    "    folder_dir = os.path.join(image_dir, folder_name)\n",
    "    for file_name in os.listdir(folder_dir):\n",
    "        file_dir = os.path.join(folder_dir, file_name)\n",
    "        label = 1 if file_dir.strip().endswith(\"True.png\") else 0\n",
    "        img = cv2.imread(file_dir, cv2.IMREAD_GRAYSCALE)\n",
    "        if label == 1:\n",
    "            images_True.append(img)\n",
    "        else:\n",
    "            images_False.append(img)\n",
    "images_True = np.array(images_True)\n",
    "images_True = images_True / 255.0\n",
    "\n",
    "images_False = np.array(images_False)\n",
    "images_False = images_False / 255.0\n",
    "\n",
    "print(f\"TRUE: {len(images_True)} images with shape {images_True[0].shape}\")\n",
    "print(f\"FALSE: {len(images_False)} images with shape {images_False[0].shape}\")"
   ]
  },
  {
   "cell_type": "code",
   "execution_count": 16,
   "id": "7dd5b70e-4f54-4435-bb92-0e16c86b0c39",
   "metadata": {},
   "outputs": [],
   "source": [
    "# Step 1: Assign labels\n",
    "true_labels = np.ones(len(images_True))  # Label 1 for True images\n",
    "false_labels = np.zeros(len(images_False))  # Label 0 for False images\n",
    "\n",
    "# Step 2: Combine images and labels\n",
    "test_images = np.concatenate([images_True, images_False], axis=0)\n",
    "test_labels = np.concatenate([true_labels, false_labels], axis=0)"
   ]
  },
  {
   "cell_type": "code",
   "execution_count": 19,
   "id": "10bb4de4-03a7-4b45-bd0e-d161988fa4b7",
   "metadata": {},
   "outputs": [
    {
     "name": "stdout",
     "output_type": "stream",
     "text": [
      "Test_labels Shape: (21516,)\n"
     ]
    }
   ],
   "source": [
    "print(\"Test_labels Shape:\", test_labels.shape)"
   ]
  },
  {
   "cell_type": "code",
   "execution_count": null,
   "id": "4e845430-f0bf-4083-93dd-6deeea5ee1bb",
   "metadata": {},
   "outputs": [],
   "source": []
  },
  {
   "cell_type": "code",
   "execution_count": null,
   "id": "2843729b-d928-46d3-ad8e-27ae59741686",
   "metadata": {},
   "outputs": [],
   "source": []
  },
  {
   "cell_type": "code",
   "execution_count": null,
   "id": "4f923a88-d2d8-42af-b02c-4a510f5618d2",
   "metadata": {},
   "outputs": [],
   "source": []
  },
  {
   "cell_type": "code",
   "execution_count": null,
   "id": "c5615b3c-2ea8-455d-9f37-e82d395472f6",
   "metadata": {},
   "outputs": [],
   "source": []
  },
  {
   "cell_type": "code",
   "execution_count": null,
   "id": "c3889e30-aaa1-49fd-8d10-14f6492a8769",
   "metadata": {},
   "outputs": [],
   "source": []
  },
  {
   "cell_type": "code",
   "execution_count": null,
   "id": "06d99158-bb6a-4f70-8d0e-39bce7913d29",
   "metadata": {},
   "outputs": [],
   "source": []
  }
 ],
 "metadata": {
  "kernelspec": {
   "display_name": "Python 3 (ipykernel)",
   "language": "python",
   "name": "python3"
  },
  "language_info": {
   "codemirror_mode": {
    "name": "ipython",
    "version": 3
   },
   "file_extension": ".py",
   "mimetype": "text/x-python",
   "name": "python",
   "nbconvert_exporter": "python",
   "pygments_lexer": "ipython3",
   "version": "3.11.5"
  }
 },
 "nbformat": 4,
 "nbformat_minor": 5
}
