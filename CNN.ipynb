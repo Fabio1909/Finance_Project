{
 "cells": [
  {
   "cell_type": "code",
   "execution_count": 12,
   "id": "681954b9-9019-46c3-8aa0-ede814f3d376",
   "metadata": {},
   "outputs": [],
   "source": [
    "import os\n",
    "import cv2\n",
    "import numpy as np\n",
    "import matplotlib.pyplot as plt"
   ]
  },
  {
   "cell_type": "code",
   "execution_count": 4,
   "id": "79e224e5-9ef6-4d46-a162-e4259605adbe",
   "metadata": {},
   "outputs": [
    {
     "name": "stdout",
     "output_type": "stream",
     "text": [
      "Loaded 417 grayscale images with shape (125, 15)\n"
     ]
    }
   ],
   "source": [
    "image_dir = \"data/images/traning/5-day/AAPL/\"\n",
    "\n",
    "# Initialize list to store images\n",
    "images = []\n",
    "\n",
    "for file_name in os.listdir(image_dir):\n",
    "    if file_name.endswith(\".png\"):\n",
    "        # Load image as a single-channel (grayscale) NumPy array\n",
    "        img_path = os.path.join(image_dir, file_name)\n",
    "        img = cv2.imread(img_path, cv2.IMREAD_GRAYSCALE)  # Grayscale loading\n",
    "        images.append(img)\n",
    "\n",
    "# Convert list of images to a 3D NumPy array\n",
    "# Shape will be (num_images, height, width)\n",
    "images = np.array(images)\n",
    "\n",
    "# Normalize pixel values to the range [0, 1]\n",
    "images = images / 255.0\n",
    "\n",
    "print(f\"Loaded {len(images)} grayscale images with shape {images[0].shape}\")\n"
   ]
  },
  {
   "cell_type": "code",
   "execution_count": 5,
   "id": "7c3edf37-c8eb-454d-aaf6-db26ff81d7b3",
   "metadata": {},
   "outputs": [
    {
     "data": {
      "text/plain": [
       "array([[0., 1., 0., ..., 0., 0., 0.],\n",
       "       [0., 1., 0., ..., 0., 0., 0.],\n",
       "       [0., 1., 0., ..., 0., 0., 0.],\n",
       "       ...,\n",
       "       [0., 1., 0., ..., 0., 0., 0.],\n",
       "       [0., 1., 0., ..., 0., 0., 0.],\n",
       "       [0., 1., 0., ..., 0., 0., 0.]])"
      ]
     },
     "execution_count": 5,
     "metadata": {},
     "output_type": "execute_result"
    }
   ],
   "source": [
    "images[0]"
   ]
  },
  {
   "cell_type": "code",
   "execution_count": 6,
   "id": "aef406a6-c13c-4804-8db2-2282a499390d",
   "metadata": {},
   "outputs": [],
   "source": [
    "prova = cv2.imread(\"data/images/traning/5-day/AAPL/1002_False.png\", cv2.IMREAD_GRAYSCALE)"
   ]
  },
  {
   "cell_type": "code",
   "execution_count": 9,
   "id": "6077b461-cd70-4a8b-aa12-fdb43f5894d8",
   "metadata": {},
   "outputs": [
    {
     "data": {
      "text/plain": [
       "array([[  0, 255,   0, ...,   0,   0,   0],\n",
       "       [  0, 255,   0, ...,   0,   0,   0],\n",
       "       [  0, 255,   0, ...,   0,   0,   0],\n",
       "       ...,\n",
       "       [  0,   0,   0, ...,   0, 255,   0],\n",
       "       [  0,   0,   0, ...,   0, 255,   0],\n",
       "       [  0,   0,   0, ...,   0, 255,   0]], dtype=uint8)"
      ]
     },
     "execution_count": 9,
     "metadata": {},
     "output_type": "execute_result"
    }
   ],
   "source": [
    "prova"
   ]
  },
  {
   "cell_type": "code",
   "execution_count": 15,
   "id": "4f7b165f-a88b-4fbc-ad4c-bb978b8646f4",
   "metadata": {},
   "outputs": [
    {
     "data": {
      "text/plain": [
       "<matplotlib.image.AxesImage at 0x157643090>"
      ]
     },
     "execution_count": 15,
     "metadata": {},
     "output_type": "execute_result"
    },
    {
     "data": {
      "image/png": "[encoded data removed]",
      "text/plain": [
       "<Figure size 640x480 with 1 Axes>"
      ]
     },
     "metadata": {},
     "output_type": "display_data"
    }
   ],
   "source": [
    "plt.imshow(prova, cmap='gray')"
   ]
  },
  {
   "cell_type": "code",
   "execution_count": null,
   "id": "b84dda84-4c85-4c59-b1ab-19fdbef216d6",
   "metadata": {},
   "outputs": [],
   "source": []
  }
 ],
 "metadata": {
  "kernelspec": {
   "display_name": "Python 3 (ipykernel)",
   "language": "python",
   "name": "python3"
  },
  "language_info": {
   "codemirror_mode": {
    "name": "ipython",
    "version": 3
   },
   "file_extension": ".py",
   "mimetype": "text/x-python",
   "name": "python",
   "nbconvert_exporter": "python",
   "pygments_lexer": "ipython3",
   "version": "3.11.5"
  }
 },
 "nbformat": 4,
 "nbformat_minor": 5
}
