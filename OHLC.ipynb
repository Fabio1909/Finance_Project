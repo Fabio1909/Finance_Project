{
 "cells": [
  {
   "cell_type": "code",
   "execution_count": 2,
   "id": "8aa217a2-b5c0-4705-ae77-e7f8a9ccdffa",
   "metadata": {},
   "outputs": [],
   "source": [
    "import pandas as pd\n",
    "from utils.OHLC import OHLC\n",
    "import os"
   ]
  },
  {
   "cell_type": "code",
   "execution_count": 3,
   "id": "19892858-3e89-4fc0-b20e-5f29a6d6441f",
   "metadata": {},
   "outputs": [
    {
     "name": "stdout",
     "output_type": "stream",
     "text": [
      "Items in traning: 489\n",
      "Items in out of sample 501\n"
     ]
    }
   ],
   "source": [
    "traning_dir_list = os.listdir(\"data/csv/traning/\")\n",
    "oos_dir_list = os.listdir(\"data/csv/out_of_sample\")\n",
    "print(f\"Items in traning: {len(traning_dir_list)}\")\n",
    "print(f\"Items in out of sample {len(oos_dir_list)}\")"
   ]
  },
  {
   "cell_type": "code",
   "execution_count": null,
   "id": "cea31c3e-b17c-498a-8823-5d86200b62fb",
   "metadata": {},
   "outputs": [],
   "source": [
    "for item in oos_dir_list:\n",
    "    if item not in traning_dir_list:\n",
    "        print(item)"
   ]
  },
  {
   "cell_type": "markdown",
   "id": "7308ee00-b98c-4789-8cb6-98b5af996af3",
   "metadata": {},
   "source": [
    "# 5 Day Window"
   ]
  },
  {
   "cell_type": "code",
   "execution_count": 5,
   "id": "1f90847c-4740-4227-859b-10561f015b8d",
   "metadata": {
    "scrolled": true
   },
   "outputs": [
    {
     "name": "stderr",
     "output_type": "stream",
     "text": [
      " 54%|█████▍    | 263/489 [01:13<00:56,  3.98it/s]"
     ]
    },
    {
     "name": "stdout",
     "output_type": "stream",
     "text": [
      "There is a problem with the scaling min and max are the same not able to plot\n",
      "There is a problem with the scaling min and max are the same not able to plot\n",
      "There is a problem with the scaling min and max are the same not able to plot\n",
      "There is a problem with the scaling min and max are the same not able to plot\n",
      "There is a problem with the scaling min and max are the same not able to plot\n",
      "There is a problem with the scaling min and max are the same not able to plot\n",
      "There is a problem with the scaling min and max are the same not able to plot\n",
      "There is a problem with the scaling min and max are the same not able to plot\n",
      "There is a problem with the scaling min and max are the same not able to plot\n",
      "There is a problem with the scaling min and max are the same not able to plot\n",
      "There is a problem with the scaling min and max are the same not able to plot\n",
      "There is a problem with the scaling min and max are the same not able to plot\n",
      "There is a problem with the scaling min and max are the same not able to plot\n",
      "There is a problem with the scaling min and max are the same not able to plot\n",
      "There is a problem with the scaling min and max are the same not able to plot\n",
      "There is a problem with the scaling min and max are the same not able to plot\n",
      "There is a problem with the scaling min and max are the same not able to plot\n",
      "There is a problem with the scaling min and max are the same not able to plot\n",
      "There is a problem with the scaling min and max are the same not able to plot\n",
      "There is a problem with the scaling min and max are the same not able to plot\n",
      "There is a problem with the scaling min and max are the same not able to plot\n",
      "There is a problem with the scaling min and max are the same not able to plot\n",
      "There is a problem with the scaling min and max are the same not able to plot\n",
      "There is a problem with the scaling min and max are the same not able to plot\n",
      "There is a problem with the scaling min and max are the same not able to plot\n",
      "There is a problem with the scaling min and max are the same not able to plot\n",
      "There is a problem with the scaling min and max are the same not able to plot\n",
      "There is a problem with the scaling min and max are the same not able to plot\n",
      "There is a problem with the scaling min and max are the same not able to plot\n",
      "There is a problem with the scaling min and max are the same not able to plot\n",
      "There is a problem with the scaling min and max are the same not able to plot\n",
      "There is a problem with the scaling min and max are the same not able to plot\n",
      "There is a problem with the scaling min and max are the same not able to plot\n",
      "There is a problem with the scaling min and max are the same not able to plot\n",
      "There is a problem with the scaling min and max are the same not able to plot\n",
      "There is a problem with the scaling min and max are the same not able to plot\n",
      "There is a problem with the scaling min and max are the same not able to plot\n",
      "There is a problem with the scaling min and max are the same not able to plot\n",
      "There is a problem with the scaling min and max are the same not able to plot\n",
      "There is a problem with the scaling min and max are the same not able to plot\n",
      "There is a problem with the scaling min and max are the same not able to plot\n",
      "There is a problem with the scaling min and max are the same not able to plot\n",
      "There is a problem with the scaling min and max are the same not able to plot\n",
      "There is a problem with the scaling min and max are the same not able to plot\n",
      "There is a problem with the scaling min and max are the same not able to plot\n",
      "There is a problem with the scaling min and max are the same not able to plot\n",
      "There is a problem with the scaling min and max are the same not able to plot\n",
      "There is a problem with the scaling min and max are the same not able to plot\n",
      "There is a problem with the scaling min and max are the same not able to plot\n",
      "There is a problem with the scaling min and max are the same not able to plot\n",
      "There is a problem with the scaling min and max are the same not able to plot\n",
      "There is a problem with the scaling min and max are the same not able to plot\n",
      "There is a problem with the scaling min and max are the same not able to plot\n",
      "There is a problem with the scaling min and max are the same not able to plot\n",
      "There is a problem with the scaling min and max are the same not able to plot\n",
      "There is a problem with the scaling min and max are the same not able to plot\n",
      "There is a problem with the scaling min and max are the same not able to plot\n",
      "There is a problem with the scaling min and max are the same not able to plot\n",
      "There is a problem with the scaling min and max are the same not able to plot\n",
      "There is a problem with the scaling min and max are the same not able to plot\n",
      "There is a problem with the scaling min and max are the same not able to plot\n",
      "There is a problem with the scaling min and max are the same not able to plot\n",
      "There is a problem with the scaling min and max are the same not able to plot\n",
      "There is a problem with the scaling min and max are the same not able to plot\n",
      "There is a problem with the scaling min and max are the same not able to plot\n",
      "There is a problem with the scaling min and max are the same not able to plot\n",
      "There is a problem with the scaling min and max are the same not able to plot\n",
      "There is a problem with the scaling min and max are the same not able to plot\n",
      "There is a problem with the scaling min and max are the same not able to plot\n",
      "There is a problem with the scaling min and max are the same not able to plot\n",
      "There is a problem with the scaling min and max are the same not able to plot\n",
      "There is a problem with the scaling min and max are the same not able to plot\n",
      "There is a problem with the scaling min and max are the same not able to plot\n",
      "There is a problem with the scaling min and max are the same not able to plot\n",
      "There is a problem with the scaling min and max are the same not able to plot\n",
      "There is a problem with the scaling min and max are the same not able to plot\n",
      "There is a problem with the scaling min and max are the same not able to plot\n",
      "There is a problem with the scaling min and max are the same not able to plot\n",
      "There is a problem with the scaling min and max are the same not able to plot\n",
      "There is a problem with the scaling min and max are the same not able to plot\n",
      "There is a problem with the scaling min and max are the same not able to plot\n",
      "There is a problem with the scaling min and max are the same not able to plot\n",
      "There is a problem with the scaling min and max are the same not able to plot\n",
      "There is a problem with the scaling min and max are the same not able to plot\n",
      "There is a problem with the scaling min and max are the same not able to plot\n",
      "There is a problem with the scaling min and max are the same not able to plot\n",
      "There is a problem with the scaling min and max are the same not able to plot\n",
      "There is a problem with the scaling min and max are the same not able to plot\n",
      "There is a problem with the scaling min and max are the same not able to plot\n",
      "There is a problem with the scaling min and max are the same not able to plot\n",
      "There is a problem with the scaling min and max are the same not able to plot\n",
      "There is a problem with the scaling min and max are the same not able to plot\n",
      "There is a problem with the scaling min and max are the same not able to plot\n",
      "There is a problem with the scaling min and max are the same not able to plot\n",
      "There is a problem with the scaling min and max are the same not able to plot\n",
      "There is a problem with the scaling min and max are the same not able to plot\n",
      "There is a problem with the scaling min and max are the same not able to plot\n",
      "There is a problem with the scaling min and max are the same not able to plot\n",
      "There is a problem with the scaling min and max are the same not able to plot\n",
      "There is a problem with the scaling min and max are the same not able to plot\n",
      "There is a problem with the scaling min and max are the same not able to plot\n",
      "There is a problem with the scaling min and max are the same not able to plot\n",
      "There is a problem with the scaling min and max are the same not able to plot\n",
      "There is a problem with the scaling min and max are the same not able to plot\n",
      "There is a problem with the scaling min and max are the same not able to plot\n",
      "There is a problem with the scaling min and max are the same not able to plot\n",
      "There is a problem with the scaling min and max are the same not able to plot\n",
      "There is a problem with the scaling min and max are the same not able to plot\n",
      "There is a problem with the scaling min and max are the same not able to plot\n",
      "There is a problem with the scaling min and max are the same not able to plot\n",
      "There is a problem with the scaling min and max are the same not able to plot\n",
      "There is a problem with the scaling min and max are the same not able to plot\n",
      "There is a problem with the scaling min and max are the same not able to plot\n",
      "There is a problem with the scaling min and max are the same not able to plot\n",
      "There is a problem with the scaling min and max are the same not able to plot\n",
      "There is a problem with the scaling min and max are the same not able to plot\n",
      "There is a problem with the scaling min and max are the same not able to plot\n",
      "There is a problem with the scaling min and max are the same not able to plot\n",
      "There is a problem with the scaling min and max are the same not able to plot\n",
      "There is a problem with the scaling min and max are the same not able to plot\n",
      "There is a problem with the scaling min and max are the same not able to plot\n",
      "There is a problem with the scaling min and max are the same not able to plot\n",
      "There is a problem with the scaling min and max are the same not able to plot\n",
      "There is a problem with the scaling min and max are the same not able to plot\n",
      "There is a problem with the scaling min and max are the same not able to plot\n",
      "There is a problem with the scaling min and max are the same not able to plot\n",
      "There is a problem with the scaling min and max are the same not able to plot\n",
      "There is a problem with the scaling min and max are the same not able to plot\n",
      "There is a problem with the scaling min and max are the same not able to plot\n",
      "There is a problem with the scaling min and max are the same not able to plot\n",
      "There is a problem with the scaling min and max are the same not able to plot\n",
      "There is a problem with the scaling min and max are the same not able to plot\n",
      "There is a problem with the scaling min and max are the same not able to plot\n",
      "There is a problem with the scaling min and max are the same not able to plot\n",
      "There is a problem with the scaling min and max are the same not able to plot\n",
      "There is a problem with the scaling min and max are the same not able to plot\n",
      "There is a problem with the scaling min and max are the same not able to plot\n",
      "There is a problem with the scaling min and max are the same not able to plot\n",
      "There is a problem with the scaling min and max are the same not able to plot\n",
      "There is a problem with the scaling min and max are the same not able to plot\n",
      "There is a problem with the scaling min and max are the same not able to plot\n",
      "There is a problem with the scaling min and max are the same not able to plot\n",
      "There is a problem with the scaling min and max are the same not able to plot\n",
      "There is a problem with the scaling min and max are the same not able to plot\n",
      "There is a problem with the scaling min and max are the same not able to plot\n",
      "There is a problem with the scaling min and max are the same not able to plot\n",
      "There is a problem with the scaling min and max are the same not able to plot\n",
      "There is a problem with the scaling min and max are the same not able to plot\n",
      "There is a problem with the scaling min and max are the same not able to plot\n",
      "There is a problem with the scaling min and max are the same not able to plot\n",
      "There is a problem with the scaling min and max are the same not able to plot\n",
      "There is a problem with the scaling min and max are the same not able to plot\n",
      "There is a problem with the scaling min and max are the same not able to plot\n",
      "There is a problem with the scaling min and max are the same not able to plot\n",
      "There is a problem with the scaling min and max are the same not able to plot\n",
      "There is a problem with the scaling min and max are the same not able to plot\n",
      "There is a problem with the scaling min and max are the same not able to plot\n",
      "There is a problem with the scaling min and max are the same not able to plot\n",
      "There is a problem with the scaling min and max are the same not able to plot\n",
      "There is a problem with the scaling min and max are the same not able to plot\n",
      "There is a problem with the scaling min and max are the same not able to plot\n",
      "There is a problem with the scaling min and max are the same not able to plot\n",
      "There is a problem with the scaling min and max are the same not able to plot\n",
      "There is a problem with the scaling min and max are the same not able to plot\n",
      "There is a problem with the scaling min and max are the same not able to plot\n",
      "There is a problem with the scaling min and max are the same not able to plot\n"
     ]
    },
    {
     "name": "stderr",
     "output_type": "stream",
     "text": [
      " 83%|████████▎ | 406/489 [01:52<00:17,  4.67it/s]"
     ]
    },
    {
     "name": "stdout",
     "output_type": "stream",
     "text": [
      "Problem with volume\n",
      "Problem with volume\n",
      "Problem with volume\n",
      "Problem with volume\n"
     ]
    },
    {
     "name": "stderr",
     "output_type": "stream",
     "text": [
      "100%|██████████| 489/489 [02:15<00:00,  3.61it/s]"
     ]
    },
    {
     "name": "stdout",
     "output_type": "stream",
     "text": [
      "CPU times: user 1min 58s, sys: 16.6 s, total: 2min 14s\n",
      "Wall time: 2min 15s\n"
     ]
    },
    {
     "name": "stderr",
     "output_type": "stream",
     "text": [
      "\n"
     ]
    }
   ],
   "source": [
    "%%time\n",
    "from tqdm import tqdm\n",
    "window_size = 6 # With a window size of 6 we will get 5 canldes in the image\n",
    "\n",
    "for file in tqdm(traning_dir_list):\n",
    "    current_df = pd.read_csv(f\"data/csv/traning/{file}\", \n",
    "                             parse_dates=['Date'], \n",
    "                             index_col='Date').drop(columns=['Unnamed: 0'])\n",
    "    \n",
    "    imageMaker = OHLC(current_df, window_size)\n",
    "\n",
    "    output_directory = f\"data/images_small/traning/5-day/{file[:-4]}\"\n",
    "    os.makedirs(output_directory, exist_ok=True)\n",
    "    \n",
    "    for i in range(window_size, len(current_df) - window_size, window_size):\n",
    "        start = i - window_size\n",
    "        end = i - 1\n",
    "        horizon_start = i\n",
    "        horizon_end = i - 1 + window_size\n",
    "        past_start = i - (window_size*2)\n",
    "        image_path_not_completed = f\"{output_directory}/{start}\"\n",
    "        imageMaker.plot_window(start, end, horizon_start, horizon_end, past_start, image_path_not_completed)\n",
    " \n",
    "    del imageMaker"
   ]
  },
  {
   "cell_type": "markdown",
   "id": "77b2c1f0-eda6-4332-989e-c91bbad856fb",
   "metadata": {},
   "source": [
    "Out of sample set"
   ]
  },
  {
   "cell_type": "markdown",
   "id": "a71f0161-5111-4976-af5e-47fcf2be4423",
   "metadata": {},
   "source": [
    "We did a first run with the first 405 ticker and the second run with the last 84"
   ]
  },
  {
   "cell_type": "code",
   "execution_count": null,
   "id": "b7863c02-4b01-42f1-8531-00246d28e082",
   "metadata": {},
   "outputs": [],
   "source": [
    "%%time\n",
    "from tqdm import tqdm\n",
    "window_size = 6 # With a window size of 6 we will get 5 canldes in the image\n",
    "\n",
    "for file in tqdm(traning_dir_list):\n",
    "    current_df = pd.read_csv(f\"data/csv/out_of_sample/{file}\", \n",
    "                             parse_dates=['Date'], \n",
    "                             index_col='Date').drop(columns=['Unnamed: 0'])\n",
    "    \n",
    "    imageMaker = OHLC(current_df, window_size)\n",
    "\n",
    "    output_directory = f\"data/images/out_of_sample/5-day/{file[:-4]}\"\n",
    "    os.makedirs(output_directory, exist_ok=True)\n",
    "    \n",
    "    for i in range(window_size, len(current_df) - window_size, window_size):\n",
    "        start = i - window_size\n",
    "        end = i - 1\n",
    "        horizon_start = i\n",
    "        horizon_end = i - 1 + window_size\n",
    "        past_start = i - (window_size*2)\n",
    "        image_path_not_completed = f\"{output_directory}/{start}\"\n",
    "        imageMaker.plot_window(start, end, horizon_start, horizon_end, past_start, image_path_not_completed)\n",
    " \n",
    "    del imageMaker"
   ]
  },
  {
   "cell_type": "markdown",
   "id": "8c26c0a1-1e8b-4929-bc5e-ebe88f0efd49",
   "metadata": {},
   "source": [
    "# 20 Day Window"
   ]
  },
  {
   "cell_type": "code",
   "execution_count": 6,
   "id": "a050ed9e-f215-4708-8576-59652cc093e9",
   "metadata": {},
   "outputs": [
    {
     "name": "stderr",
     "output_type": "stream",
     "text": [
      " 36%|███▋      | 178/489 [00:20<00:35,  8.68it/s]"
     ]
    },
    {
     "name": "stdout",
     "output_type": "stream",
     "text": [
      "Unexpected exception formatting exception. Falling back to standard exception\n"
     ]
    },
    {
     "name": "stderr",
     "output_type": "stream",
     "text": [
      "\n",
      "Traceback (most recent call last):\n",
      "  File \"/Users/fabiostefana/anaconda3/lib/python3.11/site-packages/IPython/core/magics/execution.py\", line 1340, in time\n",
      "    exec(code, glob, local_ns)\n",
      "  File \"<timed exec>\", line 22, in <module>\n",
      "  File \"/Users/fabiostefana/Desktop/Group Project/utils/OHLC.py\", line 123, in plot_window\n",
      "    self.step1_choose_window_to_plot(start, end, horizon_start, horizon_end, past_start)\n",
      "  File \"/Users/fabiostefana/Desktop/Group Project/utils/OHLC.py\", line 24, in step1_choose_window_to_plot\n",
      "    self.volume = self.current_window[\"Vol\"].copy()\n",
      "                  ~~~~~~~~~~~~~~~~~~~^^^^^^^\n",
      "  File \"/Users/fabiostefana/anaconda3/lib/python3.11/site-packages/pandas/core/frame.py\", line 4062, in __getitem__\n",
      "    def __getitem__(self, key):\n",
      "    \n",
      "KeyboardInterrupt\n",
      "\n",
      "During handling of the above exception, another exception occurred:\n",
      "\n",
      "Traceback (most recent call last):\n",
      "  File \"/Users/fabiostefana/anaconda3/lib/python3.11/site-packages/IPython/core/interactiveshell.py\", line 2144, in showtraceback\n",
      "    stb = self.InteractiveTB.structured_traceback(\n",
      "          ^^^^^^^^^^^^^^^^^^^^^^^^^^^^^^^^^^^^^^^^\n",
      "  File \"/Users/fabiostefana/anaconda3/lib/python3.11/site-packages/IPython/core/ultratb.py\", line 1435, in structured_traceback\n",
      "    return FormattedTB.structured_traceback(\n",
      "           ^^^^^^^^^^^^^^^^^^^^^^^^^^^^^^^^^\n",
      "  File \"/Users/fabiostefana/anaconda3/lib/python3.11/site-packages/IPython/core/ultratb.py\", line 1326, in structured_traceback\n",
      "    return VerboseTB.structured_traceback(\n",
      "           ^^^^^^^^^^^^^^^^^^^^^^^^^^^^^^^\n",
      "  File \"/Users/fabiostefana/anaconda3/lib/python3.11/site-packages/IPython/core/ultratb.py\", line 1173, in structured_traceback\n",
      "    formatted_exception = self.format_exception_as_a_whole(etype, evalue, etb, number_of_lines_of_context,\n",
      "                          ^^^^^^^^^^^^^^^^^^^^^^^^^^^^^^^^^^^^^^^^^^^^^^^^^^^^^^^^^^^^^^^^^^^^^^^^^^^^^^^^\n",
      "  File \"/Users/fabiostefana/anaconda3/lib/python3.11/site-packages/IPython/core/ultratb.py\", line 1063, in format_exception_as_a_whole\n",
      "    self.get_records(etb, number_of_lines_of_context, tb_offset) if etb else []\n",
      "    ^^^^^^^^^^^^^^^^^^^^^^^^^^^^^^^^^^^^^^^^^^^^^^^^^^^^^^^^^^^^\n",
      "  File \"/Users/fabiostefana/anaconda3/lib/python3.11/site-packages/IPython/core/ultratb.py\", line 1155, in get_records\n",
      "    FrameInfo(\n",
      "  File \"/Users/fabiostefana/anaconda3/lib/python3.11/site-packages/IPython/core/ultratb.py\", line 780, in __init__\n",
      "    ix = inspect.getsourcelines(frame)\n",
      "         ^^^^^^^^^^^^^^^^^^^^^^^^^^^^^\n",
      "  File \"/Users/fabiostefana/anaconda3/lib/python3.11/inspect.py\", line 1244, in getsourcelines\n",
      "    lines, lnum = findsource(object)\n",
      "                  ^^^^^^^^^^^^^^^^^^\n",
      "  File \"/Users/fabiostefana/anaconda3/lib/python3.11/inspect.py\", line 1081, in findsource\n",
      "    raise OSError('could not get source code')\n",
      "OSError: could not get source code\n"
     ]
    }
   ],
   "source": [
    "%%time\n",
    "from tqdm import tqdm\n",
    "\n",
    "window_size = 21\n",
    "\n",
    "for file in tqdm(traning_dir_list):\n",
    "    current_df = pd.read_csv(f\"data/csv/traning/{file}\", \n",
    "                             parse_dates=['Date'], \n",
    "                             index_col='Date').drop(columns=['Unnamed: 0'])\n",
    "    \n",
    "    imageMaker = OHLC(current_df, window_size)\n",
    "\n",
    "    output_directory = f\"data/images_small/traning/20-day/{file[:-4]}\"\n",
    "    os.makedirs(output_directory, exist_ok=True)\n",
    "    \n",
    "    for i in range(window_size, len(current_df) - window_size, window_size):\n",
    "        start = i - window_size\n",
    "        end = i - 1\n",
    "        horizon_start = i\n",
    "        horizon_end = i - 1 + window_size\n",
    "        past_start = i - (window_size*2)\n",
    "        image_path_not_completed = f\"{output_directory}/{start}\"\n",
    "        imageMaker.plot_window(start, end, horizon_start, horizon_end, past_start, image_path_not_completed)\n",
    " \n",
    "    del imageMaker"
   ]
  },
  {
   "cell_type": "code",
   "execution_count": 7,
   "id": "34c67d82-9c6f-4733-8197-852f82abb750",
   "metadata": {},
   "outputs": [
    {
     "name": "stderr",
     "output_type": "stream",
     "text": [
      "100%|██████████| 489/489 [00:26<00:00, 18.34it/s]"
     ]
    },
    {
     "name": "stdout",
     "output_type": "stream",
     "text": [
      "CPU times: user 23.5 s, sys: 3.03 s, total: 26.5 s\n",
      "Wall time: 26.7 s\n"
     ]
    },
    {
     "name": "stderr",
     "output_type": "stream",
     "text": [
      "\n"
     ]
    }
   ],
   "source": [
    "%%time\n",
    "from tqdm import tqdm\n",
    "\n",
    "window_size = 21\n",
    "\n",
    "for file in tqdm(traning_dir_list):\n",
    "    current_df = pd.read_csv(f\"data/csv/out_of_sample/{file}\", \n",
    "                             parse_dates=['Date'], \n",
    "                             index_col='Date').drop(columns=['Unnamed: 0'])\n",
    "    \n",
    "    imageMaker = OHLC(current_df, window_size)\n",
    "\n",
    "    output_directory = f\"data/images_OHCL/out_of_sample/20-day/{file[:-4]}\"\n",
    "    os.makedirs(output_directory, exist_ok=True)\n",
    "    \n",
    "    for i in range(window_size, len(current_df) - window_size, window_size):\n",
    "        start = i - window_size\n",
    "        end = i - 1\n",
    "        horizon_start = i\n",
    "        horizon_end = i - 1 + window_size\n",
    "        past_start = i - (window_size*2)\n",
    "        image_path_not_completed = f\"{output_directory}/{start}\"\n",
    "        imageMaker.plot_window(start, end, horizon_start, horizon_end, past_start, image_path_not_completed)\n",
    " \n",
    "    del imageMaker"
   ]
  },
  {
   "cell_type": "markdown",
   "id": "ebc1a749-fe6b-452d-9041-d8d46b8655bc",
   "metadata": {},
   "source": [
    "# 60 Day Window"
   ]
  },
  {
   "cell_type": "code",
   "execution_count": null,
   "id": "cca757e0-3f34-402d-9aac-4a07539cd3e4",
   "metadata": {},
   "outputs": [],
   "source": [
    "%%time\n",
    "from tqdm import tqdm\n",
    "\n",
    "window_size = 61\n",
    "\n",
    "for file in dir_list[:5]:\n",
    "    current_df = pd.read_csv(f\"data/csv/{file}\", \n",
    "                             parse_dates=['Date'], \n",
    "                             index_col='Date').drop(columns=['Unnamed: 0'])\n",
    "    \n",
    "    imageMaker = OHLC(current_df, window_size)\n",
    "\n",
    "    output_directory = f\"data/images_OHCL/60-day/{file[:-4]}\"\n",
    "    os.makedirs(output_directory, exist_ok=True)\n",
    "    \n",
    "    for i in range(window_size, len(current_df) - window_size, window_size):\n",
    "        start = i - window_size\n",
    "        end = i - 1\n",
    "        horizon_start = i\n",
    "        horizon_end = i - 1 + window_size\n",
    "        past_start = i - (window_size*2)\n",
    "        image_path_not_completed = f\"{output_directory}/{start}\"\n",
    "        imageMaker.plot_window(start, end, horizon_start, horizon_end, past_start, image_path_not_completed)\n",
    " \n",
    "    del imageMaker\n",
    "    break"
   ]
  }
 ],
 "metadata": {
  "kernelspec": {
   "display_name": "Python 3 (ipykernel)",
   "language": "python",
   "name": "python3"
  },
  "language_info": {
   "codemirror_mode": {
    "name": "ipython",
    "version": 3
   },
   "file_extension": ".py",
   "mimetype": "text/x-python",
   "name": "python",
   "nbconvert_exporter": "python",
   "pygments_lexer": "ipython3",
   "version": "3.11.5"
  }
 },
 "nbformat": 4,
 "nbformat_minor": 5
}
