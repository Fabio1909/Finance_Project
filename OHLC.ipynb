{
 "cells": [
  {
   "cell_type": "code",
   "execution_count": 2,
   "id": "8aa217a2-b5c0-4705-ae77-e7f8a9ccdffa",
   "metadata": {},
   "outputs": [],
   "source": [
    "import pandas as pd\n",
    "from utils.OHLC import OHLC\n",
    "import os"
   ]
  },
  {
   "cell_type": "code",
   "execution_count": 3,
   "id": "19892858-3e89-4fc0-b20e-5f29a6d6441f",
   "metadata": {},
   "outputs": [
    {
     "name": "stdout",
     "output_type": "stream",
     "text": [
      "Items in traning: 489\n",
      "Items in out of sample 501\n"
     ]
    }
   ],
   "source": [
    "traning_dir_list = os.listdir(\"data/csv/traning/\")\n",
    "oos_dir_list = os.listdir(\"data/csv/out_of_sample\")\n",
    "print(f\"Items in traning: {len(traning_dir_list)}\")\n",
    "print(f\"Items in out of sample {len(oos_dir_list)}\")"
   ]
  },
  {
   "cell_type": "code",
   "execution_count": null,
   "id": "cea31c3e-b17c-498a-8823-5d86200b62fb",
   "metadata": {},
   "outputs": [],
   "source": [
    "for item in oos_dir_list:\n",
    "    if item not in traning_dir_list:\n",
    "        print(item)"
   ]
  },
  {
   "cell_type": "markdown",
   "id": "7308ee00-b98c-4789-8cb6-98b5af996af3",
   "metadata": {},
   "source": [
    "# 5 Day Window"
   ]
  },
  {
   "cell_type": "code",
   "execution_count": null,
   "id": "1f90847c-4740-4227-859b-10561f015b8d",
   "metadata": {},
   "outputs": [],
   "source": [
    "%%time\n",
    "from tqdm import tqdm\n",
    "window_size = 6 # With a window size of 6 we will get 5 canldes in the image\n",
    "\n",
    "for file in tqdm(traning_dir_list[405:]):\n",
    "    current_df = pd.read_csv(f\"data/csv/traning/{file}\", \n",
    "                             parse_dates=['Date'], \n",
    "                             index_col='Date').drop(columns=['Unnamed: 0'])\n",
    "    \n",
    "    imageMaker = OHLC(current_df, window_size)\n",
    "\n",
    "    output_directory = f\"data/images/traning/5-day/{file[:-4]}\"\n",
    "    os.makedirs(output_directory, exist_ok=True)\n",
    "    \n",
    "    for i in range(window_size, len(current_df) - window_size, window_size):\n",
    "        start = i - window_size\n",
    "        end = i - 1\n",
    "        horizon_start = i\n",
    "        horizon_end = i - 1 + window_size\n",
    "        past_start = i - (window_size*2)\n",
    "        image_path_not_completed = f\"{output_directory}/{start}\"\n",
    "        imageMaker.plot_window(start, end, horizon_start, horizon_end, past_start, image_path_not_completed)\n",
    " \n",
    "    del imageMaker"
   ]
  },
  {
   "cell_type": "markdown",
   "id": "77b2c1f0-eda6-4332-989e-c91bbad856fb",
   "metadata": {},
   "source": [
    "Out of sample set"
   ]
  },
  {
   "cell_type": "markdown",
   "id": "a71f0161-5111-4976-af5e-47fcf2be4423",
   "metadata": {},
   "source": [
    "We did a first run with the first 405 ticker and the second run with the last 84"
   ]
  },
  {
   "cell_type": "code",
   "execution_count": null,
   "id": "b7863c02-4b01-42f1-8531-00246d28e082",
   "metadata": {},
   "outputs": [],
   "source": [
    "%%time\n",
    "from tqdm import tqdm\n",
    "window_size = 6 # With a window size of 6 we will get 5 canldes in the image\n",
    "\n",
    "for file in tqdm(traning_dir_list):\n",
    "    current_df = pd.read_csv(f\"data/csv/out_of_sample/{file}\", \n",
    "                             parse_dates=['Date'], \n",
    "                             index_col='Date').drop(columns=['Unnamed: 0'])\n",
    "    \n",
    "    imageMaker = OHLC(current_df, window_size)\n",
    "\n",
    "    output_directory = f\"data/images/out_of_sample/5-day/{file[:-4]}\"\n",
    "    os.makedirs(output_directory, exist_ok=True)\n",
    "    \n",
    "    for i in range(window_size, len(current_df) - window_size, window_size):\n",
    "        start = i - window_size\n",
    "        end = i - 1\n",
    "        horizon_start = i\n",
    "        horizon_end = i - 1 + window_size\n",
    "        past_start = i - (window_size*2)\n",
    "        image_path_not_completed = f\"{output_directory}/{start}\"\n",
    "        imageMaker.plot_window(start, end, horizon_start, horizon_end, past_start, image_path_not_completed)\n",
    " \n",
    "    del imageMaker"
   ]
  },
  {
   "cell_type": "markdown",
   "id": "8c26c0a1-1e8b-4929-bc5e-ebe88f0efd49",
   "metadata": {},
   "source": [
    "# 20 Day Window"
   ]
  },
  {
   "cell_type": "code",
   "execution_count": 6,
   "id": "a050ed9e-f215-4708-8576-59652cc093e9",
   "metadata": {
    "scrolled": true
   },
   "outputs": [
    {
     "name": "stderr",
     "output_type": "stream",
     "text": [
      " 54%|█████▎    | 262/489 [00:34<00:31,  7.11it/s]"
     ]
    },
    {
     "name": "stdout",
     "output_type": "stream",
     "text": [
      "There is a problem with the scaling min and max are the same not able to plot\n",
      "There is a problem with the scaling min and max are the same not able to plot\n",
      "There is a problem with the scaling min and max are the same not able to plot\n",
      "There is a problem with the scaling min and max are the same not able to plot\n",
      "There is a problem with the scaling min and max are the same not able to plot\n",
      "There is a problem with the scaling min and max are the same not able to plot\n",
      "There is a problem with the scaling min and max are the same not able to plot\n",
      "There is a problem with the scaling min and max are the same not able to plot\n",
      "There is a problem with the scaling min and max are the same not able to plot\n",
      "There is a problem with the scaling min and max are the same not able to plot\n",
      "There is a problem with the scaling min and max are the same not able to plot\n",
      "There is a problem with the scaling min and max are the same not able to plot\n",
      "There is a problem with the scaling min and max are the same not able to plot\n",
      "There is a problem with the scaling min and max are the same not able to plot\n",
      "There is a problem with the scaling min and max are the same not able to plot\n"
     ]
    },
    {
     "name": "stderr",
     "output_type": "stream",
     "text": [
      "100%|██████████| 489/489 [01:03<00:00,  7.67it/s]"
     ]
    },
    {
     "name": "stdout",
     "output_type": "stream",
     "text": [
      "CPU times: user 57 s, sys: 6.44 s, total: 1min 3s\n",
      "Wall time: 1min 3s\n"
     ]
    },
    {
     "name": "stderr",
     "output_type": "stream",
     "text": [
      "\n"
     ]
    }
   ],
   "source": [
    "%%time\n",
    "from tqdm import tqdm\n",
    "\n",
    "window_size = 21\n",
    "\n",
    "for file in tqdm(traning_dir_list):\n",
    "    current_df = pd.read_csv(f\"data/csv/traning/{file}\", \n",
    "                             parse_dates=['Date'], \n",
    "                             index_col='Date').drop(columns=['Unnamed: 0'])\n",
    "    \n",
    "    imageMaker = OHLC(current_df, window_size)\n",
    "\n",
    "    output_directory = f\"data/images_OHCL/traning/20-day/{file[:-4]}\"\n",
    "    os.makedirs(output_directory, exist_ok=True)\n",
    "    \n",
    "    for i in range(window_size, len(current_df) - window_size, window_size):\n",
    "        start = i - window_size\n",
    "        end = i - 1\n",
    "        horizon_start = i\n",
    "        horizon_end = i - 1 + window_size\n",
    "        past_start = i - (window_size*2)\n",
    "        image_path_not_completed = f\"{output_directory}/{start}\"\n",
    "        imageMaker.plot_window(start, end, horizon_start, horizon_end, past_start, image_path_not_completed)\n",
    " \n",
    "    del imageMaker"
   ]
  },
  {
   "cell_type": "code",
   "execution_count": 7,
   "id": "34c67d82-9c6f-4733-8197-852f82abb750",
   "metadata": {},
   "outputs": [
    {
     "name": "stderr",
     "output_type": "stream",
     "text": [
      "100%|██████████| 489/489 [00:26<00:00, 18.34it/s]"
     ]
    },
    {
     "name": "stdout",
     "output_type": "stream",
     "text": [
      "CPU times: user 23.5 s, sys: 3.03 s, total: 26.5 s\n",
      "Wall time: 26.7 s\n"
     ]
    },
    {
     "name": "stderr",
     "output_type": "stream",
     "text": [
      "\n"
     ]
    }
   ],
   "source": [
    "%%time\n",
    "from tqdm import tqdm\n",
    "\n",
    "window_size = 21\n",
    "\n",
    "for file in tqdm(traning_dir_list):\n",
    "    current_df = pd.read_csv(f\"data/csv/out_of_sample/{file}\", \n",
    "                             parse_dates=['Date'], \n",
    "                             index_col='Date').drop(columns=['Unnamed: 0'])\n",
    "    \n",
    "    imageMaker = OHLC(current_df, window_size)\n",
    "\n",
    "    output_directory = f\"data/images_OHCL/out_of_sample/20-day/{file[:-4]}\"\n",
    "    os.makedirs(output_directory, exist_ok=True)\n",
    "    \n",
    "    for i in range(window_size, len(current_df) - window_size, window_size):\n",
    "        start = i - window_size\n",
    "        end = i - 1\n",
    "        horizon_start = i\n",
    "        horizon_end = i - 1 + window_size\n",
    "        past_start = i - (window_size*2)\n",
    "        image_path_not_completed = f\"{output_directory}/{start}\"\n",
    "        imageMaker.plot_window(start, end, horizon_start, horizon_end, past_start, image_path_not_completed)\n",
    " \n",
    "    del imageMaker"
   ]
  },
  {
   "cell_type": "markdown",
   "id": "ebc1a749-fe6b-452d-9041-d8d46b8655bc",
   "metadata": {},
   "source": [
    "# 60 Day Window"
   ]
  },
  {
   "cell_type": "code",
   "execution_count": null,
   "id": "cca757e0-3f34-402d-9aac-4a07539cd3e4",
   "metadata": {},
   "outputs": [],
   "source": [
    "%%time\n",
    "from tqdm import tqdm\n",
    "\n",
    "window_size = 61\n",
    "\n",
    "for file in dir_list[:5]:\n",
    "    current_df = pd.read_csv(f\"data/csv/{file}\", \n",
    "                             parse_dates=['Date'], \n",
    "                             index_col='Date').drop(columns=['Unnamed: 0'])\n",
    "    \n",
    "    imageMaker = OHLC(current_df, window_size)\n",
    "\n",
    "    output_directory = f\"data/images_OHCL/60-day/{file[:-4]}\"\n",
    "    os.makedirs(output_directory, exist_ok=True)\n",
    "    \n",
    "    for i in range(window_size, len(current_df) - window_size, window_size):\n",
    "        start = i - window_size\n",
    "        end = i - 1\n",
    "        horizon_start = i\n",
    "        horizon_end = i - 1 + window_size\n",
    "        past_start = i - (window_size*2)\n",
    "        image_path_not_completed = f\"{output_directory}/{start}\"\n",
    "        imageMaker.plot_window(start, end, horizon_start, horizon_end, past_start, image_path_not_completed)\n",
    " \n",
    "    del imageMaker\n",
    "    break"
   ]
  }
 ],
 "metadata": {
  "kernelspec": {
   "display_name": "Python 3 (ipykernel)",
   "language": "python",
   "name": "python3"
  },
  "language_info": {
   "codemirror_mode": {
    "name": "ipython",
    "version": 3
   },
   "file_extension": ".py",
   "mimetype": "text/x-python",
   "name": "python",
   "nbconvert_exporter": "python",
   "pygments_lexer": "ipython3",
   "version": "3.11.5"
  }
 },
 "nbformat": 4,
 "nbformat_minor": 5
}
