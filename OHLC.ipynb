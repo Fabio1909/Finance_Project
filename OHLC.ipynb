{
 "cells": [
  {
   "cell_type": "code",
   "execution_count": 1,
   "id": "8aa217a2-b5c0-4705-ae77-e7f8a9ccdffa",
   "metadata": {},
   "outputs": [],
   "source": [
    "import pandas as pd\n",
    "from utils.OHLC import OHLC\n",
    "import os"
   ]
  },
  {
   "cell_type": "code",
   "execution_count": 2,
   "id": "19892858-3e89-4fc0-b20e-5f29a6d6441f",
   "metadata": {},
   "outputs": [
    {
     "data": {
      "text/plain": [
       "501"
      ]
     },
     "execution_count": 2,
     "metadata": {},
     "output_type": "execute_result"
    }
   ],
   "source": [
    "dir_list = os.listdir(\"data/csv\")\n",
    "len(dir_list)"
   ]
  },
  {
   "cell_type": "code",
   "execution_count": 3,
   "id": "315baa02-6139-409e-8291-21a95e52d4fe",
   "metadata": {},
   "outputs": [
    {
     "name": "stderr",
     "output_type": "stream",
     "text": [
      "100%|██████████| 5/5 [00:01<00:00,  4.12it/s]"
     ]
    },
    {
     "name": "stdout",
     "output_type": "stream",
     "text": [
      "CPU times: user 1.05 s, sys: 167 ms, total: 1.22 s\n",
      "Wall time: 1.22 s\n"
     ]
    },
    {
     "name": "stderr",
     "output_type": "stream",
     "text": [
      "\n"
     ]
    }
   ],
   "source": [
    "%%time\n",
    "from tqdm import tqdm\n",
    "\n",
    "window_size = 10\n",
    "\n",
    "for file in tqdm(dir_list[:5]):\n",
    "    current_df = pd.read_csv(f\"data/csv/{file}\", \n",
    "                             parse_dates=['Date'], \n",
    "                             index_col='Date').drop(columns=['Unnamed: 0'])\n",
    "    \n",
    "    imageMaker = OHLC(current_df)\n",
    "\n",
    "    output_directory = f\"data/images_OHCL/{file[:-4]}\"\n",
    "    os.makedirs(output_directory, exist_ok=True)\n",
    "    \n",
    "    for i in range(window_size, len(current_df) - window_size, window_size):\n",
    "        start_date = current_df.index[i - window_size]\n",
    "        end_date = current_df.index[i - 1]\n",
    "        horizon_start = current_df.index[i]\n",
    "        horizon_end = current_df.index[i - 1 + window_size]\n",
    "        image_path_not_completed = f\"{output_directory}/{start_date.date()}\"\n",
    "        imageMaker.plot_window(start_date, end_date, horizon_start, horizon_end, image_path_not_completed)\n",
    " \n",
    "    del imageMaker"
   ]
  },
  {
   "cell_type": "code",
   "execution_count": null,
   "id": "40fbe842-a70d-4dfa-980c-98062aaff5b2",
   "metadata": {},
   "outputs": [],
   "source": []
  }
 ],
 "metadata": {
  "kernelspec": {
   "display_name": "Python 3 (ipykernel)",
   "language": "python",
   "name": "python3"
  },
  "language_info": {
   "codemirror_mode": {
    "name": "ipython",
    "version": 3
   },
   "file_extension": ".py",
   "mimetype": "text/x-python",
   "name": "python",
   "nbconvert_exporter": "python",
   "pygments_lexer": "ipython3",
   "version": "3.11.5"
  }
 },
 "nbformat": 4,
 "nbformat_minor": 5
}
