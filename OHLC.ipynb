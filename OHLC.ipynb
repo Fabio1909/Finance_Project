{
 "cells": [
  {
   "cell_type": "code",
   "execution_count": 1,
   "id": "8aa217a2-b5c0-4705-ae77-e7f8a9ccdffa",
   "metadata": {},
   "outputs": [],
   "source": [
    "import pandas as pd\n",
    "from utils.OHLC import OHLC\n",
    "import os"
   ]
  },
  {
   "cell_type": "code",
   "execution_count": 2,
   "id": "19892858-3e89-4fc0-b20e-5f29a6d6441f",
   "metadata": {},
   "outputs": [
    {
     "data": {
      "text/plain": [
       "501"
      ]
     },
     "execution_count": 2,
     "metadata": {},
     "output_type": "execute_result"
    }
   ],
   "source": [
    "dir_list = os.listdir(\"data/csv\")\n",
    "len(dir_list)"
   ]
  },
  {
   "cell_type": "code",
   "execution_count": null,
   "id": "315baa02-6139-409e-8291-21a95e52d4fe",
   "metadata": {},
   "outputs": [],
   "source": [
    "%%time\n",
    "from tqdm import tqdm\n",
    "\n",
    "window_size = 10\n",
    "\n",
    "for file in tqdm(dir_list[:5]):\n",
    "    current_df = pd.read_csv(f\"data/csv/{file}\", \n",
    "                             parse_dates=['Date'], \n",
    "                             index_col='Date').drop(columns=['Unnamed: 0'])\n",
    "    \n",
    "    imageMaker = OHLC(current_df)\n",
    "\n",
    "    output_directory = f\"data/images_OHCL/{file[:-4]}\"\n",
    "    os.makedirs(output_directory, exist_ok=True)\n",
    "    \n",
    "    for i in range(window_size, len(current_df) - window_size, window_size):\n",
    "        start_date = current_df.index[i - window_size]\n",
    "        end_date = current_df.index[i - 1]\n",
    "        horizon_start = current_df.index[i]\n",
    "        horizon_end = current_df.index[i - 1 + window_size]\n",
    "        image_path_not_completed = f\"{output_directory}/{start_date.date()}\"\n",
    "        imageMaker.plot_window(start_date, end_date, horizon_start, horizon_end, image_path_not_completed)\n",
    " \n",
    "    del imageMaker"
   ]
  },
  {
   "cell_type": "code",
   "execution_count": 10,
   "id": "1f90847c-4740-4227-859b-10561f015b8d",
   "metadata": {},
   "outputs": [
    {
     "ename": "SyntaxError",
     "evalue": "invalid syntax (<unknown>, line 20)",
     "output_type": "error",
     "traceback": [
      "Traceback \u001b[0;36m(most recent call last)\u001b[0m:\n",
      "\u001b[0m  File \u001b[1;32m~/anaconda3/lib/python3.11/site-packages/IPython/core/interactiveshell.py:3553\u001b[0m in \u001b[1;35mrun_code\u001b[0m\n    exec(code_obj, self.user_global_ns, self.user_ns)\u001b[0m\n",
      "\u001b[0m  Cell \u001b[1;32mIn[10], line 1\u001b[0m\n    get_ipython().run_cell_magic('time', '', 'from tqdm import tqdm\\n\\nwindow_size = 10\\n\\nfor file in dir_list[:5]:\\n    current_df = pd.read_csv(f\"data/csv/{file}\", \\n                             parse_dates=[\\'Date\\'], \\n                             index_col=\\'Date\\').drop(columns=[\\'Unnamed: 0\\'])\\n    \\n    imageMaker = OHLC(current_df)\\n\\n    output_directory = f\"data/images_OHCL/{file[:-4]}\"\\n    os.makedirs(output_directory, exist_ok=True)\\n    \\n    for i in range(window_size, len(current_df) - window_size, window_size):\\n        start = i - window_size\\n        end = i - 1\\n        horizon_start = i\\n        horizon_end = i - 1 + window_size\\n        past_start = \\n        image_path_not_completed = f\"{output_directory}/{start}\"\\n        imageMaker.plot_window(start, end, horizon_start, horizon_end, image_path_not_completed)\\n \\n    del imageMaker\\n')\u001b[0m\n",
      "\u001b[0m  File \u001b[1;32m~/anaconda3/lib/python3.11/site-packages/IPython/core/interactiveshell.py:2517\u001b[0m in \u001b[1;35mrun_cell_magic\u001b[0m\n    result = fn(*args, **kwargs)\u001b[0m\n",
      "\u001b[0m  File \u001b[1;32m~/anaconda3/lib/python3.11/site-packages/IPython/core/magics/execution.py:1296\u001b[0m in \u001b[1;35mtime\u001b[0m\n    expr_ast = self.shell.compile.ast_parse(expr)\u001b[0m\n",
      "\u001b[0;36m  File \u001b[0;32m~/anaconda3/lib/python3.11/site-packages/IPython/core/compilerop.py:86\u001b[0;36m in \u001b[0;35mast_parse\u001b[0;36m\n\u001b[0;31m    return compile(source, filename, symbol, self.flags | PyCF_ONLY_AST, 1)\u001b[0;36m\n",
      "\u001b[0;36m  File \u001b[0;32m<unknown>:20\u001b[0;36m\u001b[0m\n\u001b[0;31m    past_start =\u001b[0m\n\u001b[0m                 ^\u001b[0m\n\u001b[0;31mSyntaxError\u001b[0m\u001b[0;31m:\u001b[0m invalid syntax\n"
     ]
    }
   ],
   "source": [
    "%%time\n",
    "from tqdm import tqdm\n",
    "\n",
    "window_size = 10\n",
    "\n",
    "for file in dir_list[:5]:\n",
    "    current_df = pd.read_csv(f\"data/csv/{file}\", \n",
    "                             parse_dates=['Date'], \n",
    "                             index_col='Date').drop(columns=['Unnamed: 0'])\n",
    "    \n",
    "    imageMaker = OHLC(current_df, window_size)\n",
    "\n",
    "    output_directory = f\"data/images_OHCL/{file[:-4]}\"\n",
    "    os.makedirs(output_directory, exist_ok=True)\n",
    "    \n",
    "    for i in range(window_size, len(current_df) - window_size, window_size):\n",
    "        start = i - window_size\n",
    "        end = i - 1\n",
    "        horizon_start = i\n",
    "        horizon_end = i - 1 + window_size\n",
    "        past_start = i - (window_size*2)\n",
    "        image_path_not_completed = f\"{output_directory}/{start}\"\n",
    "        imageMaker.plot_window(start, end, horizon_start, horizon_end, past_start, image_path_not_completed)\n",
    " \n",
    "    del imageMaker"
   ]
  },
  {
   "cell_type": "code",
   "execution_count": null,
   "id": "5788ff2c-9c2a-4d5a-810f-516e50617a9a",
   "metadata": {},
   "outputs": [],
   "source": []
  }
 ],
 "metadata": {
  "kernelspec": {
   "display_name": "Python 3 (ipykernel)",
   "language": "python",
   "name": "python3"
  },
  "language_info": {
   "codemirror_mode": {
    "name": "ipython",
    "version": 3
   },
   "file_extension": ".py",
   "mimetype": "text/x-python",
   "name": "python",
   "nbconvert_exporter": "python",
   "pygments_lexer": "ipython3",
   "version": "3.11.5"
  }
 },
 "nbformat": 4,
 "nbformat_minor": 5
}
